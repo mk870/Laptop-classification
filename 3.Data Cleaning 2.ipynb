{
 "cells": [
  {
   "cell_type": "code",
   "execution_count": 1,
   "id": "fb7d03ed",
   "metadata": {},
   "outputs": [],
   "source": [
    "import pandas as pd\n",
    "import numpy as np"
   ]
  },
  {
   "cell_type": "code",
   "execution_count": 2,
   "id": "c3624593",
   "metadata": {},
   "outputs": [
    {
     "data": {
      "text/html": [
       "<div>\n",
       "<style scoped>\n",
       "    .dataframe tbody tr th:only-of-type {\n",
       "        vertical-align: middle;\n",
       "    }\n",
       "\n",
       "    .dataframe tbody tr th {\n",
       "        vertical-align: top;\n",
       "    }\n",
       "\n",
       "    .dataframe thead th {\n",
       "        text-align: right;\n",
       "    }\n",
       "</style>\n",
       "<table border=\"1\" class=\"dataframe\">\n",
       "  <thead>\n",
       "    <tr style=\"text-align: right;\">\n",
       "      <th></th>\n",
       "      <th>Ratings</th>\n",
       "      <th>No_of_ratings</th>\n",
       "      <th>Operating_system</th>\n",
       "      <th>Screen_size(inches)</th>\n",
       "      <th>Display_type</th>\n",
       "      <th>Touchscreen</th>\n",
       "      <th>Processor_speed(GHz)</th>\n",
       "      <th>Cache_memory(MBs)</th>\n",
       "      <th>RAM(Gig)</th>\n",
       "      <th>RAM_max</th>\n",
       "      <th>...</th>\n",
       "      <th>Width(mm)</th>\n",
       "      <th>Height(mm)</th>\n",
       "      <th>USB(2.0)</th>\n",
       "      <th>USB(2.0)_ports</th>\n",
       "      <th>Bluetooth_</th>\n",
       "      <th>Bluetooth_version</th>\n",
       "      <th>USB(typeC)</th>\n",
       "      <th>USB(typeC)_ports</th>\n",
       "      <th>Keyboard_backlit</th>\n",
       "      <th>Brand</th>\n",
       "    </tr>\n",
       "  </thead>\n",
       "  <tbody>\n",
       "    <tr>\n",
       "      <th>0</th>\n",
       "      <td>NaN</td>\n",
       "      <td>NaN</td>\n",
       "      <td>Windows</td>\n",
       "      <td>15.6</td>\n",
       "      <td>LED</td>\n",
       "      <td>No</td>\n",
       "      <td>1.1</td>\n",
       "      <td>4.0</td>\n",
       "      <td>4.0</td>\n",
       "      <td>NaN</td>\n",
       "      <td>...</td>\n",
       "      <td>253.40</td>\n",
       "      <td>19.9</td>\n",
       "      <td>Yes</td>\n",
       "      <td>1.0</td>\n",
       "      <td>Yes</td>\n",
       "      <td>5.0</td>\n",
       "      <td>NaN</td>\n",
       "      <td>NaN</td>\n",
       "      <td>NaN</td>\n",
       "      <td>Lenovo</td>\n",
       "    </tr>\n",
       "    <tr>\n",
       "      <th>1</th>\n",
       "      <td>NaN</td>\n",
       "      <td>NaN</td>\n",
       "      <td>Windows</td>\n",
       "      <td>14.0</td>\n",
       "      <td>LED</td>\n",
       "      <td>No</td>\n",
       "      <td>1.6</td>\n",
       "      <td>6.0</td>\n",
       "      <td>16.0</td>\n",
       "      <td>NaN</td>\n",
       "      <td>...</td>\n",
       "      <td>227.00</td>\n",
       "      <td>18.0</td>\n",
       "      <td>NaN</td>\n",
       "      <td>NaN</td>\n",
       "      <td>Yes</td>\n",
       "      <td>5.0</td>\n",
       "      <td>Yes</td>\n",
       "      <td>2.0</td>\n",
       "      <td>NaN</td>\n",
       "      <td>Lenovo</td>\n",
       "    </tr>\n",
       "    <tr>\n",
       "      <th>2</th>\n",
       "      <td>NaN</td>\n",
       "      <td>NaN</td>\n",
       "      <td>Windows</td>\n",
       "      <td>13.3</td>\n",
       "      <td>LED</td>\n",
       "      <td>No</td>\n",
       "      <td>1.3</td>\n",
       "      <td>4.0</td>\n",
       "      <td>8.0</td>\n",
       "      <td>NaN</td>\n",
       "      <td>...</td>\n",
       "      <td>229.61</td>\n",
       "      <td>9.9</td>\n",
       "      <td>Yes</td>\n",
       "      <td>2.0</td>\n",
       "      <td>Yes</td>\n",
       "      <td>4.1</td>\n",
       "      <td>No</td>\n",
       "      <td>NaN</td>\n",
       "      <td>NaN</td>\n",
       "      <td>Acer</td>\n",
       "    </tr>\n",
       "    <tr>\n",
       "      <th>3</th>\n",
       "      <td>NaN</td>\n",
       "      <td>NaN</td>\n",
       "      <td>Windows</td>\n",
       "      <td>14.0</td>\n",
       "      <td>LED</td>\n",
       "      <td>No</td>\n",
       "      <td>1.6</td>\n",
       "      <td>6.0</td>\n",
       "      <td>2.0</td>\n",
       "      <td>16.0</td>\n",
       "      <td>...</td>\n",
       "      <td>NaN</td>\n",
       "      <td>NaN</td>\n",
       "      <td>Yes</td>\n",
       "      <td>1.0</td>\n",
       "      <td>Yes</td>\n",
       "      <td>4.1</td>\n",
       "      <td>No</td>\n",
       "      <td>NaN</td>\n",
       "      <td>NaN</td>\n",
       "      <td>Lenovo</td>\n",
       "    </tr>\n",
       "    <tr>\n",
       "      <th>4</th>\n",
       "      <td>4.5</td>\n",
       "      <td>1977.0</td>\n",
       "      <td>Windows</td>\n",
       "      <td>14.0</td>\n",
       "      <td>LED</td>\n",
       "      <td>No</td>\n",
       "      <td>2.1</td>\n",
       "      <td>6.0</td>\n",
       "      <td>8.0</td>\n",
       "      <td>NaN</td>\n",
       "      <td>...</td>\n",
       "      <td>225.00</td>\n",
       "      <td>19.9</td>\n",
       "      <td>NaN</td>\n",
       "      <td>NaN</td>\n",
       "      <td>Yes</td>\n",
       "      <td>4.2</td>\n",
       "      <td>Yes</td>\n",
       "      <td>1.0</td>\n",
       "      <td>NaN</td>\n",
       "      <td>HP</td>\n",
       "    </tr>\n",
       "  </tbody>\n",
       "</table>\n",
       "<p>5 rows × 38 columns</p>\n",
       "</div>"
      ],
      "text/plain": [
       "   Ratings  No_of_ratings Operating_system  Screen_size(inches) Display_type  \\\n",
       "0      NaN            NaN          Windows                 15.6         LED    \n",
       "1      NaN            NaN          Windows                 14.0         LED    \n",
       "2      NaN            NaN          Windows                 13.3         LED    \n",
       "3      NaN            NaN          Windows                 14.0         LED    \n",
       "4      4.5         1977.0          Windows                 14.0         LED    \n",
       "\n",
       "  Touchscreen  Processor_speed(GHz)  Cache_memory(MBs)  RAM(Gig)  RAM_max  \\\n",
       "0         No                    1.1                4.0       4.0      NaN   \n",
       "1         No                    1.6                6.0      16.0      NaN   \n",
       "2         No                    1.3                4.0       8.0      NaN   \n",
       "3         No                    1.6                6.0       2.0     16.0   \n",
       "4         No                    2.1                6.0       8.0      NaN   \n",
       "\n",
       "   ...  Width(mm)  Height(mm) USB(2.0)  USB(2.0)_ports  Bluetooth_  \\\n",
       "0  ...     253.40        19.9      Yes             1.0         Yes   \n",
       "1  ...     227.00        18.0      NaN             NaN         Yes   \n",
       "2  ...     229.61         9.9      Yes             2.0         Yes   \n",
       "3  ...        NaN         NaN      Yes             1.0         Yes   \n",
       "4  ...     225.00        19.9      NaN             NaN         Yes   \n",
       "\n",
       "   Bluetooth_version USB(typeC)  USB(typeC)_ports  Keyboard_backlit   Brand  \n",
       "0                5.0        NaN               NaN               NaN  Lenovo  \n",
       "1                5.0        Yes               2.0               NaN  Lenovo  \n",
       "2                4.1         No               NaN               NaN    Acer  \n",
       "3                4.1         No               NaN               NaN  Lenovo  \n",
       "4                4.2        Yes               1.0               NaN      HP  \n",
       "\n",
       "[5 rows x 38 columns]"
      ]
     },
     "execution_count": 2,
     "metadata": {},
     "output_type": "execute_result"
    }
   ],
   "source": [
    "data = pd.read_csv('Train_data.csv')\n",
    "data.head()"
   ]
  },
  {
   "cell_type": "markdown",
   "id": "0a96fbcd",
   "metadata": {},
   "source": [
    "## Outlier detection"
   ]
  },
  {
   "cell_type": "code",
   "execution_count": 3,
   "id": "7e35b287",
   "metadata": {},
   "outputs": [
    {
     "data": {
      "text/html": [
       "<div>\n",
       "<style scoped>\n",
       "    .dataframe tbody tr th:only-of-type {\n",
       "        vertical-align: middle;\n",
       "    }\n",
       "\n",
       "    .dataframe tbody tr th {\n",
       "        vertical-align: top;\n",
       "    }\n",
       "\n",
       "    .dataframe thead th {\n",
       "        text-align: right;\n",
       "    }\n",
       "</style>\n",
       "<table border=\"1\" class=\"dataframe\">\n",
       "  <thead>\n",
       "    <tr style=\"text-align: right;\">\n",
       "      <th></th>\n",
       "      <th>Ratings</th>\n",
       "      <th>No_of_ratings</th>\n",
       "      <th>Screen_size(inches)</th>\n",
       "      <th>Processor_speed(GHz)</th>\n",
       "      <th>Cache_memory(MBs)</th>\n",
       "      <th>RAM(Gig)</th>\n",
       "      <th>RAM_max</th>\n",
       "      <th>Memory_slots</th>\n",
       "      <th>RAM_speed(MHz)</th>\n",
       "      <th>Harddrive_capacity(Gig)</th>\n",
       "      <th>...</th>\n",
       "      <th>Battery_life(Hrs)</th>\n",
       "      <th>Screen_pixel_density(width)</th>\n",
       "      <th>Screen_pixel_density(height)</th>\n",
       "      <th>Processor_cores</th>\n",
       "      <th>Length(mm)</th>\n",
       "      <th>Width(mm)</th>\n",
       "      <th>Height(mm)</th>\n",
       "      <th>USB(2.0)_ports</th>\n",
       "      <th>Bluetooth_version</th>\n",
       "      <th>USB(typeC)_ports</th>\n",
       "    </tr>\n",
       "  </thead>\n",
       "  <tbody>\n",
       "    <tr>\n",
       "      <th>count</th>\n",
       "      <td>596.000000</td>\n",
       "      <td>645.000000</td>\n",
       "      <td>1036.000000</td>\n",
       "      <td>951.000000</td>\n",
       "      <td>1007.000000</td>\n",
       "      <td>1034.000000</td>\n",
       "      <td>548.000000</td>\n",
       "      <td>1025.000000</td>\n",
       "      <td>720.000000</td>\n",
       "      <td>1035.000000</td>\n",
       "      <td>...</td>\n",
       "      <td>229.000000</td>\n",
       "      <td>1036.000000</td>\n",
       "      <td>1036.000000</td>\n",
       "      <td>978.000000</td>\n",
       "      <td>984.000000</td>\n",
       "      <td>984.000000</td>\n",
       "      <td>984.000000</td>\n",
       "      <td>784.000000</td>\n",
       "      <td>1025.000000</td>\n",
       "      <td>605.000000</td>\n",
       "    </tr>\n",
       "    <tr>\n",
       "      <th>mean</th>\n",
       "      <td>4.161074</td>\n",
       "      <td>518.493023</td>\n",
       "      <td>14.849324</td>\n",
       "      <td>2.197266</td>\n",
       "      <td>10.343793</td>\n",
       "      <td>6.449710</td>\n",
       "      <td>18.021898</td>\n",
       "      <td>1.183415</td>\n",
       "      <td>2637.740278</td>\n",
       "      <td>719.601932</td>\n",
       "      <td>...</td>\n",
       "      <td>9.353275</td>\n",
       "      <td>1898.698842</td>\n",
       "      <td>1075.389961</td>\n",
       "      <td>5.329243</td>\n",
       "      <td>347.060878</td>\n",
       "      <td>238.393596</td>\n",
       "      <td>20.371484</td>\n",
       "      <td>1.465561</td>\n",
       "      <td>4.659317</td>\n",
       "      <td>1.147107</td>\n",
       "    </tr>\n",
       "    <tr>\n",
       "      <th>std</th>\n",
       "      <td>0.369003</td>\n",
       "      <td>1440.805097</td>\n",
       "      <td>1.136445</td>\n",
       "      <td>0.740379</td>\n",
       "      <td>100.692125</td>\n",
       "      <td>3.725827</td>\n",
       "      <td>10.552536</td>\n",
       "      <td>0.387195</td>\n",
       "      <td>478.900384</td>\n",
       "      <td>340.680960</td>\n",
       "      <td>...</td>\n",
       "      <td>3.351531</td>\n",
       "      <td>369.290656</td>\n",
       "      <td>226.976017</td>\n",
       "      <td>1.902426</td>\n",
       "      <td>27.395521</td>\n",
       "      <td>27.508527</td>\n",
       "      <td>4.191133</td>\n",
       "      <td>0.622144</td>\n",
       "      <td>0.454699</td>\n",
       "      <td>0.406706</td>\n",
       "    </tr>\n",
       "    <tr>\n",
       "      <th>min</th>\n",
       "      <td>3.300000</td>\n",
       "      <td>1.000000</td>\n",
       "      <td>10.100000</td>\n",
       "      <td>1.000000</td>\n",
       "      <td>1.000000</td>\n",
       "      <td>2.000000</td>\n",
       "      <td>4.000000</td>\n",
       "      <td>1.000000</td>\n",
       "      <td>1600.000000</td>\n",
       "      <td>16.000000</td>\n",
       "      <td>...</td>\n",
       "      <td>3.500000</td>\n",
       "      <td>1366.000000</td>\n",
       "      <td>768.000000</td>\n",
       "      <td>2.000000</td>\n",
       "      <td>212.000000</td>\n",
       "      <td>19.280000</td>\n",
       "      <td>8.380000</td>\n",
       "      <td>1.000000</td>\n",
       "      <td>4.000000</td>\n",
       "      <td>1.000000</td>\n",
       "    </tr>\n",
       "    <tr>\n",
       "      <th>25%</th>\n",
       "      <td>4.000000</td>\n",
       "      <td>13.000000</td>\n",
       "      <td>14.000000</td>\n",
       "      <td>1.600000</td>\n",
       "      <td>4.000000</td>\n",
       "      <td>4.000000</td>\n",
       "      <td>8.000000</td>\n",
       "      <td>1.000000</td>\n",
       "      <td>2400.000000</td>\n",
       "      <td>512.000000</td>\n",
       "      <td>...</td>\n",
       "      <td>7.000000</td>\n",
       "      <td>1920.000000</td>\n",
       "      <td>1080.000000</td>\n",
       "      <td>4.000000</td>\n",
       "      <td>324.000000</td>\n",
       "      <td>222.975000</td>\n",
       "      <td>17.900000</td>\n",
       "      <td>1.000000</td>\n",
       "      <td>4.200000</td>\n",
       "      <td>1.000000</td>\n",
       "    </tr>\n",
       "    <tr>\n",
       "      <th>50%</th>\n",
       "      <td>4.200000</td>\n",
       "      <td>79.000000</td>\n",
       "      <td>15.600000</td>\n",
       "      <td>2.300000</td>\n",
       "      <td>6.000000</td>\n",
       "      <td>5.000000</td>\n",
       "      <td>16.000000</td>\n",
       "      <td>1.000000</td>\n",
       "      <td>2666.000000</td>\n",
       "      <td>1000.000000</td>\n",
       "      <td>...</td>\n",
       "      <td>9.000000</td>\n",
       "      <td>1920.000000</td>\n",
       "      <td>1080.000000</td>\n",
       "      <td>6.000000</td>\n",
       "      <td>358.500000</td>\n",
       "      <td>241.250000</td>\n",
       "      <td>19.900000</td>\n",
       "      <td>1.000000</td>\n",
       "      <td>5.000000</td>\n",
       "      <td>1.000000</td>\n",
       "    </tr>\n",
       "    <tr>\n",
       "      <th>75%</th>\n",
       "      <td>4.400000</td>\n",
       "      <td>356.000000</td>\n",
       "      <td>15.600000</td>\n",
       "      <td>2.600000</td>\n",
       "      <td>8.000000</td>\n",
       "      <td>8.000000</td>\n",
       "      <td>32.000000</td>\n",
       "      <td>1.000000</td>\n",
       "      <td>2933.000000</td>\n",
       "      <td>1000.000000</td>\n",
       "      <td>...</td>\n",
       "      <td>11.000000</td>\n",
       "      <td>1920.000000</td>\n",
       "      <td>1080.000000</td>\n",
       "      <td>6.000000</td>\n",
       "      <td>363.000000</td>\n",
       "      <td>255.000000</td>\n",
       "      <td>22.900000</td>\n",
       "      <td>2.000000</td>\n",
       "      <td>5.000000</td>\n",
       "      <td>1.000000</td>\n",
       "    </tr>\n",
       "    <tr>\n",
       "      <th>max</th>\n",
       "      <td>5.000000</td>\n",
       "      <td>13249.000000</td>\n",
       "      <td>17.300000</td>\n",
       "      <td>4.800000</td>\n",
       "      <td>3200.000000</td>\n",
       "      <td>32.000000</td>\n",
       "      <td>64.000000</td>\n",
       "      <td>2.000000</td>\n",
       "      <td>4267.000000</td>\n",
       "      <td>2000.000000</td>\n",
       "      <td>...</td>\n",
       "      <td>22.000000</td>\n",
       "      <td>3840.000000</td>\n",
       "      <td>2400.000000</td>\n",
       "      <td>10.000000</td>\n",
       "      <td>490.000000</td>\n",
       "      <td>471.000000</td>\n",
       "      <td>80.000000</td>\n",
       "      <td>4.000000</td>\n",
       "      <td>6.000000</td>\n",
       "      <td>4.000000</td>\n",
       "    </tr>\n",
       "  </tbody>\n",
       "</table>\n",
       "<p>8 rows × 24 columns</p>\n",
       "</div>"
      ],
      "text/plain": [
       "          Ratings  No_of_ratings  Screen_size(inches)  Processor_speed(GHz)  \\\n",
       "count  596.000000     645.000000          1036.000000            951.000000   \n",
       "mean     4.161074     518.493023            14.849324              2.197266   \n",
       "std      0.369003    1440.805097             1.136445              0.740379   \n",
       "min      3.300000       1.000000            10.100000              1.000000   \n",
       "25%      4.000000      13.000000            14.000000              1.600000   \n",
       "50%      4.200000      79.000000            15.600000              2.300000   \n",
       "75%      4.400000     356.000000            15.600000              2.600000   \n",
       "max      5.000000   13249.000000            17.300000              4.800000   \n",
       "\n",
       "       Cache_memory(MBs)     RAM(Gig)     RAM_max  Memory_slots  \\\n",
       "count        1007.000000  1034.000000  548.000000   1025.000000   \n",
       "mean           10.343793     6.449710   18.021898      1.183415   \n",
       "std           100.692125     3.725827   10.552536      0.387195   \n",
       "min             1.000000     2.000000    4.000000      1.000000   \n",
       "25%             4.000000     4.000000    8.000000      1.000000   \n",
       "50%             6.000000     5.000000   16.000000      1.000000   \n",
       "75%             8.000000     8.000000   32.000000      1.000000   \n",
       "max          3200.000000    32.000000   64.000000      2.000000   \n",
       "\n",
       "       RAM_speed(MHz)  Harddrive_capacity(Gig)  ...  Battery_life(Hrs)  \\\n",
       "count      720.000000              1035.000000  ...         229.000000   \n",
       "mean      2637.740278               719.601932  ...           9.353275   \n",
       "std        478.900384               340.680960  ...           3.351531   \n",
       "min       1600.000000                16.000000  ...           3.500000   \n",
       "25%       2400.000000               512.000000  ...           7.000000   \n",
       "50%       2666.000000              1000.000000  ...           9.000000   \n",
       "75%       2933.000000              1000.000000  ...          11.000000   \n",
       "max       4267.000000              2000.000000  ...          22.000000   \n",
       "\n",
       "       Screen_pixel_density(width)  Screen_pixel_density(height)  \\\n",
       "count                  1036.000000                   1036.000000   \n",
       "mean                   1898.698842                   1075.389961   \n",
       "std                     369.290656                    226.976017   \n",
       "min                    1366.000000                    768.000000   \n",
       "25%                    1920.000000                   1080.000000   \n",
       "50%                    1920.000000                   1080.000000   \n",
       "75%                    1920.000000                   1080.000000   \n",
       "max                    3840.000000                   2400.000000   \n",
       "\n",
       "       Processor_cores  Length(mm)   Width(mm)  Height(mm)  USB(2.0)_ports  \\\n",
       "count       978.000000  984.000000  984.000000  984.000000      784.000000   \n",
       "mean          5.329243  347.060878  238.393596   20.371484        1.465561   \n",
       "std           1.902426   27.395521   27.508527    4.191133        0.622144   \n",
       "min           2.000000  212.000000   19.280000    8.380000        1.000000   \n",
       "25%           4.000000  324.000000  222.975000   17.900000        1.000000   \n",
       "50%           6.000000  358.500000  241.250000   19.900000        1.000000   \n",
       "75%           6.000000  363.000000  255.000000   22.900000        2.000000   \n",
       "max          10.000000  490.000000  471.000000   80.000000        4.000000   \n",
       "\n",
       "       Bluetooth_version  USB(typeC)_ports  \n",
       "count        1025.000000        605.000000  \n",
       "mean            4.659317          1.147107  \n",
       "std             0.454699          0.406706  \n",
       "min             4.000000          1.000000  \n",
       "25%             4.200000          1.000000  \n",
       "50%             5.000000          1.000000  \n",
       "75%             5.000000          1.000000  \n",
       "max             6.000000          4.000000  \n",
       "\n",
       "[8 rows x 24 columns]"
      ]
     },
     "execution_count": 3,
     "metadata": {},
     "output_type": "execute_result"
    }
   ],
   "source": [
    "#checking for outliers\n",
    "data.describe()"
   ]
  },
  {
   "cell_type": "code",
   "execution_count": 4,
   "id": "eb36f1c3",
   "metadata": {},
   "outputs": [
    {
     "data": {
      "text/plain": [
       "Index(['Ratings', 'No_of_ratings', 'Operating_system', 'Screen_size(inches)',\n",
       "       'Display_type', 'Touchscreen', 'Processor_speed(GHz)',\n",
       "       'Cache_memory(MBs)', 'RAM(Gig)', 'RAM_max', 'Memory_slots',\n",
       "       'RAM_speed(MHz)', 'Harddrive_type', 'Harddrive_capacity(Gig)',\n",
       "       'Weight(kg)', 'Warranty', 'Optical_Drive', 'Adapter(watts)',\n",
       "       'Battery_cells', 'Battery_type', 'Battery_life(Hrs)', 'Fingerprint',\n",
       "       'Screen_pixel_density(width)', 'Screen_pixel_density(height)',\n",
       "       'Processor_brand', 'Processor_cores', 'Graphics_brand', 'Length(mm)',\n",
       "       'Width(mm)', 'Height(mm)', 'USB(2.0)', 'USB(2.0)_ports', 'Bluetooth_',\n",
       "       'Bluetooth_version', 'USB(typeC)', 'USB(typeC)_ports',\n",
       "       'Keyboard_backlit', 'Brand'],\n",
       "      dtype='object')"
      ]
     },
     "execution_count": 4,
     "metadata": {},
     "output_type": "execute_result"
    }
   ],
   "source": [
    "data.columns"
   ]
  },
  {
   "cell_type": "code",
   "execution_count": 5,
   "id": "504ebf21",
   "metadata": {},
   "outputs": [],
   "source": [
    "numeric_features = ['Ratings', 'No_of_ratings', 'Screen_size(inches)', 'Processor_speed(GHz)',\n",
    "       'Cache_memory(MBs)', 'RAM(Gig)', 'RAM_max', 'Memory_slots',\n",
    "       'RAM_speed(MHz)', 'Harddrive_capacity(Gig)',\n",
    "       'Weight(kg)', 'Warranty', 'Adapter(watts)',\n",
    "       'Battery_cells', 'Battery_life(Hrs)',\n",
    "       'Screen_pixel_density(width)', 'Screen_pixel_density(height)', 'Processor_cores', 'Length(mm)',\n",
    "       'Width(mm)', 'Height(mm)', 'USB(2.0)_ports',\n",
    "       'Bluetooth_version', 'USB(typeC)_ports']"
   ]
  },
  {
   "cell_type": "code",
   "execution_count": 6,
   "id": "7a9ebc05",
   "metadata": {},
   "outputs": [
    {
     "name": "stdout",
     "output_type": "stream",
     "text": [
      "Ratings max is 5.0\n",
      "Ratings min is 3.3\n",
      "No_of_ratings max is 13249.0\n",
      "No_of_ratings min is 1.0\n",
      "Screen_size(inches) max is 17.3\n",
      "Screen_size(inches) min is 10.1\n",
      "Processor_speed(GHz) max is 4.8\n",
      "Processor_speed(GHz) min is 1.0\n",
      "Cache_memory(MBs) max is 3200.0\n",
      "Cache_memory(MBs) min is 1.0\n",
      "RAM(Gig) max is 32.0\n",
      "RAM(Gig) min is 2.0\n",
      "RAM_max max is 64.0\n",
      "RAM_max min is 4.0\n",
      "Memory_slots max is 2.0\n",
      "Memory_slots min is 1.0\n",
      "RAM_speed(MHz) max is 4267.0\n",
      "RAM_speed(MHz) min is 1600.0\n",
      "Harddrive_capacity(Gig) max is 2000.0\n",
      "Harddrive_capacity(Gig) min is 16.0\n",
      "Weight(kg) max is 5.0\n",
      "Weight(kg) min is 0.54\n",
      "Warranty max is 3.0\n",
      "Warranty min is 1.0\n",
      "Adapter(watts) max is 280.0\n",
      "Adapter(watts) min is 24.0\n",
      "Battery_cells max is 8.0\n",
      "Battery_cells min is 2.0\n",
      "Battery_life(Hrs) max is 22.0\n",
      "Battery_life(Hrs) min is 3.5\n",
      "Screen_pixel_density(width) max is 3840\n",
      "Screen_pixel_density(width) min is 1366\n",
      "Screen_pixel_density(height) max is 2400\n",
      "Screen_pixel_density(height) min is 768\n",
      "Processor_cores max is 10.0\n",
      "Processor_cores min is 2.0\n",
      "Length(mm) max is 490.0\n",
      "Length(mm) min is 212.0\n",
      "Width(mm) max is 471.0\n",
      "Width(mm) min is 19.28\n",
      "Height(mm) max is 80.0\n",
      "Height(mm) min is 8.38\n",
      "USB(2.0)_ports max is 4.0\n",
      "USB(2.0)_ports min is 1.0\n",
      "Bluetooth_version max is 6.0\n",
      "Bluetooth_version min is 4.0\n",
      "USB(typeC)_ports max is 4.0\n",
      "USB(typeC)_ports min is 1.0\n"
     ]
    }
   ],
   "source": [
    "#Checking the minimum and maximum of each numeric feature\n",
    "for i in numeric_features:\n",
    "    maximum = data[i].max()\n",
    "    minimum = data[i].min()\n",
    "    print(f'{i} max is {maximum}')\n",
    "    print(f'{i} min is {minimum}')"
   ]
  },
  {
   "cell_type": "code",
   "execution_count": 7,
   "id": "074189fb",
   "metadata": {},
   "outputs": [
    {
     "data": {
      "text/html": [
       "<div>\n",
       "<style scoped>\n",
       "    .dataframe tbody tr th:only-of-type {\n",
       "        vertical-align: middle;\n",
       "    }\n",
       "\n",
       "    .dataframe tbody tr th {\n",
       "        vertical-align: top;\n",
       "    }\n",
       "\n",
       "    .dataframe thead th {\n",
       "        text-align: right;\n",
       "    }\n",
       "</style>\n",
       "<table border=\"1\" class=\"dataframe\">\n",
       "  <thead>\n",
       "    <tr style=\"text-align: right;\">\n",
       "      <th></th>\n",
       "      <th>Ratings</th>\n",
       "      <th>No_of_ratings</th>\n",
       "      <th>Operating_system</th>\n",
       "      <th>Screen_size(inches)</th>\n",
       "      <th>Display_type</th>\n",
       "      <th>Touchscreen</th>\n",
       "      <th>Processor_speed(GHz)</th>\n",
       "      <th>Cache_memory(MBs)</th>\n",
       "      <th>RAM(Gig)</th>\n",
       "      <th>RAM_max</th>\n",
       "      <th>...</th>\n",
       "      <th>Width(mm)</th>\n",
       "      <th>Height(mm)</th>\n",
       "      <th>USB(2.0)</th>\n",
       "      <th>USB(2.0)_ports</th>\n",
       "      <th>Bluetooth_</th>\n",
       "      <th>Bluetooth_version</th>\n",
       "      <th>USB(typeC)</th>\n",
       "      <th>USB(typeC)_ports</th>\n",
       "      <th>Keyboard_backlit</th>\n",
       "      <th>Brand</th>\n",
       "    </tr>\n",
       "  </thead>\n",
       "  <tbody>\n",
       "    <tr>\n",
       "      <th>637</th>\n",
       "      <td>4.3</td>\n",
       "      <td>100.0</td>\n",
       "      <td>Windows</td>\n",
       "      <td>13.3</td>\n",
       "      <td>LED</td>\n",
       "      <td>No</td>\n",
       "      <td>2.8</td>\n",
       "      <td>3200.0</td>\n",
       "      <td>16.0</td>\n",
       "      <td>NaN</td>\n",
       "      <td>...</td>\n",
       "      <td>208.5</td>\n",
       "      <td>15.9</td>\n",
       "      <td>Yes</td>\n",
       "      <td>1.0</td>\n",
       "      <td>Yes</td>\n",
       "      <td>5.1</td>\n",
       "      <td>Yes</td>\n",
       "      <td>1.0</td>\n",
       "      <td>yes</td>\n",
       "      <td>Lenovo</td>\n",
       "    </tr>\n",
       "  </tbody>\n",
       "</table>\n",
       "<p>1 rows × 38 columns</p>\n",
       "</div>"
      ],
      "text/plain": [
       "     Ratings  No_of_ratings Operating_system  Screen_size(inches)  \\\n",
       "637      4.3          100.0          Windows                 13.3   \n",
       "\n",
       "    Display_type Touchscreen  Processor_speed(GHz)  Cache_memory(MBs)  \\\n",
       "637         LED          No                    2.8             3200.0   \n",
       "\n",
       "     RAM(Gig)  RAM_max  ...  Width(mm)  Height(mm) USB(2.0)  USB(2.0)_ports  \\\n",
       "637      16.0      NaN  ...      208.5        15.9      Yes             1.0   \n",
       "\n",
       "     Bluetooth_  Bluetooth_version USB(typeC)  USB(typeC)_ports  \\\n",
       "637         Yes                5.1        Yes               1.0   \n",
       "\n",
       "     Keyboard_backlit   Brand  \n",
       "637               yes  Lenovo  \n",
       "\n",
       "[1 rows x 38 columns]"
      ]
     },
     "execution_count": 7,
     "metadata": {},
     "output_type": "execute_result"
    }
   ],
   "source": [
    "data[data['Cache_memory(MBs)'] > 24]"
   ]
  },
  {
   "cell_type": "code",
   "execution_count": 8,
   "id": "dfbcf161",
   "metadata": {},
   "outputs": [],
   "source": [
    "#Cache memory theoratically cannot be greater then 2GB and here it is only one datapoint with 3.2GB which is absurd\n",
    "#so the next biggest cache memory in the column is 24mb, i will use that as the ceiling\n",
    "def cache_outlier_fixer(info):\n",
    "    '''This function returns 24 to datapoints greater than 24 '''\n",
    "    if info > 24:\n",
    "        return 24\n",
    "    else:\n",
    "        return info"
   ]
  },
  {
   "cell_type": "code",
   "execution_count": 9,
   "id": "86b294a0",
   "metadata": {},
   "outputs": [],
   "source": [
    "data['Cache_memory(MBs)'] = data['Cache_memory(MBs)'].apply(cache_outlier_fixer)"
   ]
  },
  {
   "cell_type": "code",
   "execution_count": 10,
   "id": "e0de60cc",
   "metadata": {},
   "outputs": [
    {
     "data": {
      "text/plain": [
       "24.0"
      ]
     },
     "execution_count": 10,
     "metadata": {},
     "output_type": "execute_result"
    }
   ],
   "source": [
    "data['Cache_memory(MBs)'].max()"
   ]
  },
  {
   "cell_type": "code",
   "execution_count": 11,
   "id": "0416d8ad",
   "metadata": {},
   "outputs": [
    {
     "data": {
      "text/html": [
       "<div>\n",
       "<style scoped>\n",
       "    .dataframe tbody tr th:only-of-type {\n",
       "        vertical-align: middle;\n",
       "    }\n",
       "\n",
       "    .dataframe tbody tr th {\n",
       "        vertical-align: top;\n",
       "    }\n",
       "\n",
       "    .dataframe thead th {\n",
       "        text-align: right;\n",
       "    }\n",
       "</style>\n",
       "<table border=\"1\" class=\"dataframe\">\n",
       "  <thead>\n",
       "    <tr style=\"text-align: right;\">\n",
       "      <th></th>\n",
       "      <th>Adapter(watts)</th>\n",
       "      <th>Brand</th>\n",
       "    </tr>\n",
       "  </thead>\n",
       "  <tbody>\n",
       "    <tr>\n",
       "      <th>418</th>\n",
       "      <td>28.0</td>\n",
       "      <td>Avita</td>\n",
       "    </tr>\n",
       "    <tr>\n",
       "      <th>430</th>\n",
       "      <td>24.0</td>\n",
       "      <td>Lenovo</td>\n",
       "    </tr>\n",
       "    <tr>\n",
       "      <th>616</th>\n",
       "      <td>26.0</td>\n",
       "      <td>Samsung</td>\n",
       "    </tr>\n",
       "  </tbody>\n",
       "</table>\n",
       "</div>"
      ],
      "text/plain": [
       "     Adapter(watts)    Brand\n",
       "418            28.0    Avita\n",
       "430            24.0   Lenovo\n",
       "616            26.0  Samsung"
      ]
     },
     "execution_count": 11,
     "metadata": {},
     "output_type": "execute_result"
    }
   ],
   "source": [
    "# 30 watts is the lowest wattage a modern laptop can use to charge so will use 30 as the minimum cap\n",
    "data[data['Adapter(watts)'] < 30][['Adapter(watts)','Brand']]"
   ]
  },
  {
   "cell_type": "code",
   "execution_count": 12,
   "id": "442d3e9d",
   "metadata": {},
   "outputs": [],
   "source": [
    "def wattage_outlier_fixer(info):\n",
    "    '''This function returns 30 to datapoints less than 30 '''\n",
    "    if info < 30:\n",
    "        return 30\n",
    "    else:\n",
    "        return info"
   ]
  },
  {
   "cell_type": "code",
   "execution_count": 13,
   "id": "1ceaab07",
   "metadata": {},
   "outputs": [],
   "source": [
    "data['Adapter(watts)'] = data['Adapter(watts)'].apply(wattage_outlier_fixer)"
   ]
  },
  {
   "cell_type": "code",
   "execution_count": 14,
   "id": "076be092",
   "metadata": {},
   "outputs": [
    {
     "data": {
      "text/plain": [
       "30.0"
      ]
     },
     "execution_count": 14,
     "metadata": {},
     "output_type": "execute_result"
    }
   ],
   "source": [
    "data['Adapter(watts)'].min()"
   ]
  },
  {
   "cell_type": "markdown",
   "id": "950a040a",
   "metadata": {},
   "source": [
    "## Handling missing values"
   ]
  },
  {
   "cell_type": "code",
   "execution_count": 15,
   "id": "db82307b",
   "metadata": {},
   "outputs": [],
   "source": [
    "features = ['Ratings', 'No_of_ratings', 'Operating_system', 'Screen_size(inches)',\n",
    "       'Display_type', 'Touchscreen', 'Processor_speed(GHz)',\n",
    "       'Cache_memory(MBs)', 'RAM(Gig)', 'RAM_max', 'Memory_slots',\n",
    "       'RAM_speed(MHz)', 'Harddrive_type', 'Harddrive_capacity(Gig)',\n",
    "       'Weight(kg)', 'Warranty', 'Optical_Drive', 'Adapter(watts)',\n",
    "       'Battery_cells', 'Battery_type', 'Battery_life(Hrs)', 'Fingerprint',\n",
    "       'Screen_pixel_density(width)', 'Screen_pixel_density(height)',\n",
    "       'Processor_brand', 'Processor_cores', 'Graphics_brand', 'Length(mm)',\n",
    "       'Width(mm)', 'Height(mm)', 'USB(2.0)', 'USB(2.0)_ports', 'Bluetooth_',\n",
    "       'Bluetooth_version', 'USB(typeC)', 'USB(typeC)_ports',\n",
    "       'Keyboard_backlit', 'Brand']"
   ]
  },
  {
   "cell_type": "code",
   "execution_count": 16,
   "id": "7c2e811b",
   "metadata": {},
   "outputs": [
    {
     "name": "stdout",
     "output_type": "stream",
     "text": [
      "Ratings misses 440 datapoints, 42.5%\n",
      "No_of_ratings misses 391 datapoints, 37.7%\n",
      "Operating_system misses 0 datapoints, 0.0%\n",
      "Screen_size(inches) misses 0 datapoints, 0.0%\n",
      "Display_type misses 0 datapoints, 0.0%\n",
      "Touchscreen misses 3 datapoints, 0.3%\n",
      "Processor_speed(GHz) misses 85 datapoints, 8.2%\n",
      "Cache_memory(MBs) misses 29 datapoints, 2.8%\n",
      "RAM(Gig) misses 2 datapoints, 0.2%\n",
      "RAM_max misses 488 datapoints, 47.1%\n",
      "Memory_slots misses 11 datapoints, 1.1%\n",
      "RAM_speed(MHz) misses 316 datapoints, 30.5%\n",
      "Harddrive_type misses 590 datapoints, 56.9%\n",
      "Harddrive_capacity(Gig) misses 1 datapoints, 0.1%\n",
      "Weight(kg) misses 8 datapoints, 0.8%\n",
      "Warranty misses 11 datapoints, 1.1%\n",
      "Optical_Drive misses 125 datapoints, 12.1%\n",
      "Adapter(watts) misses 204 datapoints, 19.7%\n",
      "Battery_cells misses 136 datapoints, 13.1%\n",
      "Battery_type misses 14 datapoints, 1.4%\n",
      "Battery_life(Hrs) misses 807 datapoints, 77.9%\n",
      "Fingerprint misses 168 datapoints, 16.2%\n",
      "Screen_pixel_density(width) misses 0 datapoints, 0.0%\n",
      "Screen_pixel_density(height) misses 0 datapoints, 0.0%\n",
      "Processor_brand misses 8 datapoints, 0.8%\n",
      "Processor_cores misses 58 datapoints, 5.6%\n",
      "Graphics_brand misses 4 datapoints, 0.4%\n",
      "Length(mm) misses 52 datapoints, 5.0%\n",
      "Width(mm) misses 52 datapoints, 5.0%\n",
      "Height(mm) misses 52 datapoints, 5.0%\n",
      "USB(2.0) misses 252 datapoints, 24.3%\n",
      "USB(2.0)_ports misses 252 datapoints, 24.3%\n",
      "Bluetooth_ misses 3 datapoints, 0.3%\n",
      "Bluetooth_version misses 11 datapoints, 1.1%\n",
      "USB(typeC) misses 304 datapoints, 29.3%\n",
      "USB(typeC)_ports misses 431 datapoints, 41.6%\n",
      "Keyboard_backlit misses 570 datapoints, 55.0%\n",
      "Brand misses 0 datapoints, 0.0%\n"
     ]
    }
   ],
   "source": [
    "#Checking for missing values\n",
    "for i in features:\n",
    "    missing = data[i].isnull().sum()\n",
    "    percentage_missing = round((missing/1036)*100,1)\n",
    "    print(f'{i} misses {missing} datapoints, {percentage_missing}%')"
   ]
  },
  {
   "cell_type": "code",
   "execution_count": 17,
   "id": "74c31037",
   "metadata": {},
   "outputs": [],
   "source": [
    "#battery life has over 70% missing data so I will drop the column from the dataframe\n",
    "data_preprocessing = data.drop('Battery_life(Hrs)',axis = 1)"
   ]
  },
  {
   "cell_type": "markdown",
   "id": "2e9527f5",
   "metadata": {},
   "source": [
    "## Filling missing numeric data"
   ]
  },
  {
   "cell_type": "code",
   "execution_count": 18,
   "id": "622d72a5",
   "metadata": {},
   "outputs": [],
   "source": [
    "#To fill the missing values, I will use a machine learning model imputer(Iterative imputer)\n",
    "from sklearn.experimental import enable_iterative_imputer\n",
    "from sklearn.impute import IterativeImputer\n",
    "# will use extratrees model given that my data is not standardized and have no idea of the distribution of each feature\n",
    "from sklearn.ensemble import ExtraTreesRegressor"
   ]
  },
  {
   "cell_type": "code",
   "execution_count": 19,
   "id": "624f11f8",
   "metadata": {},
   "outputs": [],
   "source": [
    "#since iterative imputer works on numerical data, i will only take the numerical parts of the data\n",
    "data_numeric = data_preprocessing[['Ratings', 'No_of_ratings', 'Screen_size(inches)', 'Processor_speed(GHz)',\n",
    "       'Cache_memory(MBs)', 'RAM(Gig)', 'RAM_max', 'Memory_slots',\n",
    "       'RAM_speed(MHz)', 'Harddrive_capacity(Gig)',\n",
    "       'Weight(kg)', 'Warranty', 'Adapter(watts)',\n",
    "       'Battery_cells',\n",
    "       'Screen_pixel_density(width)', 'Screen_pixel_density(height)', 'Processor_cores', 'Length(mm)',\n",
    "       'Width(mm)', 'Height(mm)', 'USB(2.0)_ports',\n",
    "       'Bluetooth_version', 'USB(typeC)_ports']]"
   ]
  },
  {
   "cell_type": "code",
   "execution_count": 20,
   "id": "0aec03b4",
   "metadata": {},
   "outputs": [],
   "source": [
    "import warnings\n",
    "warnings.simplefilter(action='ignore', category=FutureWarning)"
   ]
  },
  {
   "cell_type": "code",
   "execution_count": 21,
   "id": "044ded83",
   "metadata": {},
   "outputs": [
    {
     "name": "stderr",
     "output_type": "stream",
     "text": [
      "C:\\Users\\pc\\anaconda3\\envs\\laptopclassifier\\lib\\site-packages\\sklearn\\impute\\_iterative.py:699: ConvergenceWarning: [IterativeImputer] Early stopping criterion not reached.\n",
      "  warnings.warn(\n"
     ]
    }
   ],
   "source": [
    "#fitting the imputer\n",
    "imputer1 = IterativeImputer(estimator=ExtraTreesRegressor(n_estimators=10,random_state=0),max_iter=10)\n",
    "array_imputed = imputer1.fit_transform(data_numeric)"
   ]
  },
  {
   "cell_type": "code",
   "execution_count": 22,
   "id": "b38425d7",
   "metadata": {},
   "outputs": [
    {
     "data": {
      "text/plain": [
       "array([[  3.98, 553.85,  15.6 , ...,   1.  ,   5.  ,   1.1 ],\n",
       "       [  4.34, 345.6 ,  14.  , ...,   1.9 ,   5.  ,   2.  ],\n",
       "       [  4.5 ,  54.8 ,  13.3 , ...,   2.  ,   4.1 ,   1.9 ],\n",
       "       ...,\n",
       "       [  3.92,   2.9 ,  15.6 , ...,   2.  ,   4.  ,   1.  ],\n",
       "       [  4.29, 169.5 ,  14.  , ...,   3.  ,   5.  ,   2.  ],\n",
       "       [  3.97,   4.  ,  15.6 , ...,   2.  ,   4.  ,   1.  ]])"
      ]
     },
     "execution_count": 22,
     "metadata": {},
     "output_type": "execute_result"
    }
   ],
   "source": [
    "array_imputed"
   ]
  },
  {
   "cell_type": "code",
   "execution_count": 23,
   "id": "5301cde7",
   "metadata": {},
   "outputs": [],
   "source": [
    "columns = ['Ratings', 'No_of_ratings', 'Screen_size(inches)', 'Processor_speed(GHz)',\n",
    "       'Cache_memory(MBs)', 'RAM(Gig)', 'RAM_max', 'Memory_slots',\n",
    "       'RAM_speed(MHz)', 'Harddrive_capacity(Gig)',\n",
    "       'Weight(kg)', 'Warranty', 'Adapter(watts)',\n",
    "       'Battery_cells',\n",
    "       'Screen_pixel_density(width)', 'Screen_pixel_density(height)', 'Processor_cores', 'Length(mm)',\n",
    "       'Width(mm)', 'Height(mm)', 'USB(2.0)_ports',\n",
    "       'Bluetooth_version', 'USB(typeC)_ports']"
   ]
  },
  {
   "cell_type": "code",
   "execution_count": 24,
   "id": "34358e4c",
   "metadata": {},
   "outputs": [],
   "source": [
    "#Converting the imputer result array to a dataframe\n",
    "data_imputed =pd.DataFrame(array_imputed,columns=columns)"
   ]
  },
  {
   "cell_type": "code",
   "execution_count": 25,
   "id": "9c846b5e",
   "metadata": {},
   "outputs": [
    {
     "data": {
      "text/plain": [
       "Ratings                         0\n",
       "No_of_ratings                   0\n",
       "Screen_size(inches)             0\n",
       "Processor_speed(GHz)            0\n",
       "Cache_memory(MBs)               0\n",
       "RAM(Gig)                        0\n",
       "RAM_max                         0\n",
       "Memory_slots                    0\n",
       "RAM_speed(MHz)                  0\n",
       "Harddrive_capacity(Gig)         0\n",
       "Weight(kg)                      0\n",
       "Warranty                        0\n",
       "Adapter(watts)                  0\n",
       "Battery_cells                   0\n",
       "Screen_pixel_density(width)     0\n",
       "Screen_pixel_density(height)    0\n",
       "Processor_cores                 0\n",
       "Length(mm)                      0\n",
       "Width(mm)                       0\n",
       "Height(mm)                      0\n",
       "USB(2.0)_ports                  0\n",
       "Bluetooth_version               0\n",
       "USB(typeC)_ports                0\n",
       "dtype: int64"
      ]
     },
     "execution_count": 25,
     "metadata": {},
     "output_type": "execute_result"
    }
   ],
   "source": [
    "#checking if all missing values have been filled\n",
    "data_imputed.isnull().sum()"
   ]
  },
  {
   "cell_type": "code",
   "execution_count": 26,
   "id": "964e6dd5",
   "metadata": {},
   "outputs": [],
   "source": [
    "#Rounding of features that dont have decimals and converting them to integer datatype\n",
    "def rounder(info):\n",
    "    return int(round(info,0))"
   ]
  },
  {
   "cell_type": "code",
   "execution_count": 27,
   "id": "f259f7a4",
   "metadata": {},
   "outputs": [],
   "source": [
    "#Appying the function to the features\n",
    "data_imputed['No_of_ratings'] = data_imputed['No_of_ratings'].apply(rounder)\n",
    "data_imputed['Cache_memory(MBs)'] = data_imputed['Cache_memory(MBs)'].apply(rounder)\n",
    "data_imputed['RAM(Gig)'] = data_imputed['RAM(Gig)'].apply(rounder)\n",
    "data_imputed['RAM_max'] = data_imputed['RAM_max'].apply(rounder)\n",
    "data_imputed['Memory_slots'] = data_imputed['Memory_slots'].apply(rounder)\n",
    "data_imputed['RAM_speed(MHz)'] = data_imputed['RAM_speed(MHz)'].apply(rounder)\n",
    "data_imputed['Harddrive_capacity(Gig)'] = data_imputed['Harddrive_capacity(Gig)'].apply(rounder)\n",
    "data_imputed['Adapter(watts)'] = data_imputed['Adapter(watts)'].apply(rounder)\n",
    "data_imputed['Battery_cells'] = data_imputed['Battery_cells'].apply(rounder)\n",
    "data_imputed['Screen_pixel_density(height)'] = data_imputed['Screen_pixel_density(height)'].apply(rounder)\n",
    "data_imputed['Screen_pixel_density(width)'] = data_imputed['Screen_pixel_density(width)'].apply(rounder)\n",
    "data_imputed['Processor_cores'] = data_imputed['Processor_cores'].apply(rounder)\n",
    "data_imputed['USB(2.0)_ports'] = data_imputed['USB(2.0)_ports'].apply(rounder)\n",
    "data_imputed['USB(typeC)_ports'] = data_imputed['USB(typeC)_ports'].apply(rounder)"
   ]
  },
  {
   "cell_type": "code",
   "execution_count": 28,
   "id": "c3cddf24",
   "metadata": {},
   "outputs": [
    {
     "data": {
      "text/html": [
       "<div>\n",
       "<style scoped>\n",
       "    .dataframe tbody tr th:only-of-type {\n",
       "        vertical-align: middle;\n",
       "    }\n",
       "\n",
       "    .dataframe tbody tr th {\n",
       "        vertical-align: top;\n",
       "    }\n",
       "\n",
       "    .dataframe thead th {\n",
       "        text-align: right;\n",
       "    }\n",
       "</style>\n",
       "<table border=\"1\" class=\"dataframe\">\n",
       "  <thead>\n",
       "    <tr style=\"text-align: right;\">\n",
       "      <th></th>\n",
       "      <th>Ratings</th>\n",
       "      <th>No_of_ratings</th>\n",
       "      <th>Screen_size(inches)</th>\n",
       "      <th>Processor_speed(GHz)</th>\n",
       "      <th>Cache_memory(MBs)</th>\n",
       "      <th>RAM(Gig)</th>\n",
       "      <th>RAM_max</th>\n",
       "      <th>Memory_slots</th>\n",
       "      <th>RAM_speed(MHz)</th>\n",
       "      <th>Harddrive_capacity(Gig)</th>\n",
       "      <th>...</th>\n",
       "      <th>Battery_cells</th>\n",
       "      <th>Screen_pixel_density(width)</th>\n",
       "      <th>Screen_pixel_density(height)</th>\n",
       "      <th>Processor_cores</th>\n",
       "      <th>Length(mm)</th>\n",
       "      <th>Width(mm)</th>\n",
       "      <th>Height(mm)</th>\n",
       "      <th>USB(2.0)_ports</th>\n",
       "      <th>Bluetooth_version</th>\n",
       "      <th>USB(typeC)_ports</th>\n",
       "    </tr>\n",
       "  </thead>\n",
       "  <tbody>\n",
       "    <tr>\n",
       "      <th>0</th>\n",
       "      <td>3.98</td>\n",
       "      <td>554</td>\n",
       "      <td>15.6</td>\n",
       "      <td>1.1</td>\n",
       "      <td>4</td>\n",
       "      <td>4</td>\n",
       "      <td>12</td>\n",
       "      <td>1</td>\n",
       "      <td>2400</td>\n",
       "      <td>256</td>\n",
       "      <td>...</td>\n",
       "      <td>2</td>\n",
       "      <td>1366</td>\n",
       "      <td>768</td>\n",
       "      <td>2</td>\n",
       "      <td>362.200</td>\n",
       "      <td>253.40</td>\n",
       "      <td>19.90</td>\n",
       "      <td>1</td>\n",
       "      <td>5.0</td>\n",
       "      <td>1</td>\n",
       "    </tr>\n",
       "    <tr>\n",
       "      <th>1</th>\n",
       "      <td>4.34</td>\n",
       "      <td>346</td>\n",
       "      <td>14.0</td>\n",
       "      <td>1.6</td>\n",
       "      <td>6</td>\n",
       "      <td>16</td>\n",
       "      <td>27</td>\n",
       "      <td>2</td>\n",
       "      <td>3200</td>\n",
       "      <td>512</td>\n",
       "      <td>...</td>\n",
       "      <td>3</td>\n",
       "      <td>1920</td>\n",
       "      <td>1080</td>\n",
       "      <td>6</td>\n",
       "      <td>329.000</td>\n",
       "      <td>227.00</td>\n",
       "      <td>18.00</td>\n",
       "      <td>2</td>\n",
       "      <td>5.0</td>\n",
       "      <td>2</td>\n",
       "    </tr>\n",
       "    <tr>\n",
       "      <th>2</th>\n",
       "      <td>4.50</td>\n",
       "      <td>55</td>\n",
       "      <td>13.3</td>\n",
       "      <td>1.3</td>\n",
       "      <td>4</td>\n",
       "      <td>8</td>\n",
       "      <td>17</td>\n",
       "      <td>1</td>\n",
       "      <td>1866</td>\n",
       "      <td>512</td>\n",
       "      <td>...</td>\n",
       "      <td>4</td>\n",
       "      <td>1920</td>\n",
       "      <td>1080</td>\n",
       "      <td>4</td>\n",
       "      <td>324.610</td>\n",
       "      <td>229.61</td>\n",
       "      <td>9.90</td>\n",
       "      <td>2</td>\n",
       "      <td>4.1</td>\n",
       "      <td>2</td>\n",
       "    </tr>\n",
       "    <tr>\n",
       "      <th>3</th>\n",
       "      <td>4.07</td>\n",
       "      <td>86</td>\n",
       "      <td>14.0</td>\n",
       "      <td>1.6</td>\n",
       "      <td>6</td>\n",
       "      <td>2</td>\n",
       "      <td>16</td>\n",
       "      <td>1</td>\n",
       "      <td>2400</td>\n",
       "      <td>1000</td>\n",
       "      <td>...</td>\n",
       "      <td>3</td>\n",
       "      <td>1920</td>\n",
       "      <td>1080</td>\n",
       "      <td>6</td>\n",
       "      <td>323.752</td>\n",
       "      <td>228.18</td>\n",
       "      <td>19.17</td>\n",
       "      <td>1</td>\n",
       "      <td>4.1</td>\n",
       "      <td>1</td>\n",
       "    </tr>\n",
       "    <tr>\n",
       "      <th>4</th>\n",
       "      <td>4.50</td>\n",
       "      <td>1977</td>\n",
       "      <td>14.0</td>\n",
       "      <td>2.1</td>\n",
       "      <td>6</td>\n",
       "      <td>8</td>\n",
       "      <td>13</td>\n",
       "      <td>1</td>\n",
       "      <td>2400</td>\n",
       "      <td>1000</td>\n",
       "      <td>...</td>\n",
       "      <td>3</td>\n",
       "      <td>1920</td>\n",
       "      <td>1080</td>\n",
       "      <td>4</td>\n",
       "      <td>324.000</td>\n",
       "      <td>225.00</td>\n",
       "      <td>19.90</td>\n",
       "      <td>1</td>\n",
       "      <td>4.2</td>\n",
       "      <td>1</td>\n",
       "    </tr>\n",
       "  </tbody>\n",
       "</table>\n",
       "<p>5 rows × 23 columns</p>\n",
       "</div>"
      ],
      "text/plain": [
       "   Ratings  No_of_ratings  Screen_size(inches)  Processor_speed(GHz)  \\\n",
       "0     3.98            554                 15.6                   1.1   \n",
       "1     4.34            346                 14.0                   1.6   \n",
       "2     4.50             55                 13.3                   1.3   \n",
       "3     4.07             86                 14.0                   1.6   \n",
       "4     4.50           1977                 14.0                   2.1   \n",
       "\n",
       "   Cache_memory(MBs)  RAM(Gig)  RAM_max  Memory_slots  RAM_speed(MHz)  \\\n",
       "0                  4         4       12             1            2400   \n",
       "1                  6        16       27             2            3200   \n",
       "2                  4         8       17             1            1866   \n",
       "3                  6         2       16             1            2400   \n",
       "4                  6         8       13             1            2400   \n",
       "\n",
       "   Harddrive_capacity(Gig)  ...  Battery_cells  Screen_pixel_density(width)  \\\n",
       "0                      256  ...              2                         1366   \n",
       "1                      512  ...              3                         1920   \n",
       "2                      512  ...              4                         1920   \n",
       "3                     1000  ...              3                         1920   \n",
       "4                     1000  ...              3                         1920   \n",
       "\n",
       "   Screen_pixel_density(height)  Processor_cores  Length(mm)  Width(mm)  \\\n",
       "0                           768                2     362.200     253.40   \n",
       "1                          1080                6     329.000     227.00   \n",
       "2                          1080                4     324.610     229.61   \n",
       "3                          1080                6     323.752     228.18   \n",
       "4                          1080                4     324.000     225.00   \n",
       "\n",
       "   Height(mm)  USB(2.0)_ports  Bluetooth_version  USB(typeC)_ports  \n",
       "0       19.90               1                5.0                 1  \n",
       "1       18.00               2                5.0                 2  \n",
       "2        9.90               2                4.1                 2  \n",
       "3       19.17               1                4.1                 1  \n",
       "4       19.90               1                4.2                 1  \n",
       "\n",
       "[5 rows x 23 columns]"
      ]
     },
     "execution_count": 28,
     "metadata": {},
     "output_type": "execute_result"
    }
   ],
   "source": [
    "data_imputed.head()"
   ]
  },
  {
   "cell_type": "markdown",
   "id": "60c2af4c",
   "metadata": {},
   "source": [
    "## Filling missing categorical data"
   ]
  },
  {
   "cell_type": "code",
   "execution_count": 29,
   "id": "a3479d4e",
   "metadata": {},
   "outputs": [],
   "source": [
    "categorical_features = [ 'Operating_system','Display_type', 'Touchscreen', 'Harddrive_type', 'Optical_Drive',\n",
    "        'Battery_type', 'Fingerprint','Processor_brand', 'Graphics_brand', 'USB(2.0)', 'Bluetooth_', 'USB(typeC)',\n",
    "       'Keyboard_backlit', 'Brand']"
   ]
  },
  {
   "cell_type": "code",
   "execution_count": 30,
   "id": "305361e2",
   "metadata": {},
   "outputs": [
    {
     "name": "stdout",
     "output_type": "stream",
     "text": [
      "Operating_system misses 0 datapoints, 0.0%\n",
      "Display_type misses 0 datapoints, 0.0%\n",
      "Touchscreen misses 3 datapoints, 0.3%\n",
      "Harddrive_type misses 590 datapoints, 56.9%\n",
      "Optical_Drive misses 125 datapoints, 12.1%\n",
      "Battery_type misses 14 datapoints, 1.4%\n",
      "Fingerprint misses 168 datapoints, 16.2%\n",
      "Processor_brand misses 8 datapoints, 0.8%\n",
      "Graphics_brand misses 4 datapoints, 0.4%\n",
      "USB(2.0) misses 252 datapoints, 24.3%\n",
      "Bluetooth_ misses 3 datapoints, 0.3%\n",
      "USB(typeC) misses 304 datapoints, 29.3%\n",
      "Keyboard_backlit misses 570 datapoints, 55.0%\n",
      "Brand misses 0 datapoints, 0.0%\n"
     ]
    }
   ],
   "source": [
    "#checking for missing values in the categorical data\n",
    "for i in categorical_features:\n",
    "    missing = data[i].isnull().sum()\n",
    "    percentage_missing = round((missing/1036)*100,1)\n",
    "    print(f'{i} misses {missing} datapoints, {percentage_missing}%')"
   ]
  },
  {
   "cell_type": "code",
   "execution_count": 31,
   "id": "b1bbefdc",
   "metadata": {},
   "outputs": [],
   "source": [
    "data_categorical = data_preprocessing[[ 'Operating_system','Display_type', 'Touchscreen', 'Harddrive_type', 'Optical_Drive',\n",
    "        'Battery_type', 'Fingerprint','Processor_brand', 'Graphics_brand', 'USB(2.0)', 'Bluetooth_', 'USB(typeC)',\n",
    "       'Keyboard_backlit', 'Brand']]"
   ]
  },
  {
   "cell_type": "code",
   "execution_count": 32,
   "id": "f384f3b5",
   "metadata": {},
   "outputs": [
    {
     "data": {
      "text/plain": [
       "array(['Yes', nan, 'No'], dtype=object)"
      ]
     },
     "execution_count": 32,
     "metadata": {},
     "output_type": "execute_result"
    }
   ],
   "source": [
    "data_categorical['Bluetooth_'].unique()"
   ]
  },
  {
   "cell_type": "code",
   "execution_count": 33,
   "id": "1813eb76",
   "metadata": {},
   "outputs": [],
   "source": [
    "#bluetooth,touchscreen,batterytype,processor_brand,graphics_brand,brand,display_type and operating system have 0 or less\n",
    "#than 20 missing values, so will use categorical imputer to fill them\n",
    "from feature_engine.imputation import CategoricalImputer"
   ]
  },
  {
   "cell_type": "code",
   "execution_count": 34,
   "id": "c80dd0ad",
   "metadata": {},
   "outputs": [],
   "source": [
    "imputer2 = CategoricalImputer(imputation_method='frequent' ,variables=['Bluetooth_','Graphics_brand','Processor_brand',\n",
    "                                                                     'Touchscreen','Battery_type'])"
   ]
  },
  {
   "cell_type": "code",
   "execution_count": 35,
   "id": "876b5637",
   "metadata": {},
   "outputs": [
    {
     "data": {
      "text/html": [
       "<div>\n",
       "<style scoped>\n",
       "    .dataframe tbody tr th:only-of-type {\n",
       "        vertical-align: middle;\n",
       "    }\n",
       "\n",
       "    .dataframe tbody tr th {\n",
       "        vertical-align: top;\n",
       "    }\n",
       "\n",
       "    .dataframe thead th {\n",
       "        text-align: right;\n",
       "    }\n",
       "</style>\n",
       "<table border=\"1\" class=\"dataframe\">\n",
       "  <thead>\n",
       "    <tr style=\"text-align: right;\">\n",
       "      <th></th>\n",
       "      <th>Operating_system</th>\n",
       "      <th>Display_type</th>\n",
       "      <th>Touchscreen</th>\n",
       "      <th>Harddrive_type</th>\n",
       "      <th>Optical_Drive</th>\n",
       "      <th>Battery_type</th>\n",
       "      <th>Fingerprint</th>\n",
       "      <th>Processor_brand</th>\n",
       "      <th>Graphics_brand</th>\n",
       "      <th>USB(2.0)</th>\n",
       "      <th>Bluetooth_</th>\n",
       "      <th>USB(typeC)</th>\n",
       "      <th>Keyboard_backlit</th>\n",
       "      <th>Brand</th>\n",
       "    </tr>\n",
       "  </thead>\n",
       "  <tbody>\n",
       "    <tr>\n",
       "      <th>0</th>\n",
       "      <td>Windows</td>\n",
       "      <td>LED</td>\n",
       "      <td>No</td>\n",
       "      <td>NaN</td>\n",
       "      <td>No</td>\n",
       "      <td>Li-Ion</td>\n",
       "      <td>No</td>\n",
       "      <td>Intel</td>\n",
       "      <td>Intel Graphics</td>\n",
       "      <td>Yes</td>\n",
       "      <td>Yes</td>\n",
       "      <td>NaN</td>\n",
       "      <td>NaN</td>\n",
       "      <td>Lenovo</td>\n",
       "    </tr>\n",
       "    <tr>\n",
       "      <th>1</th>\n",
       "      <td>Windows</td>\n",
       "      <td>LED</td>\n",
       "      <td>No</td>\n",
       "      <td>NaN</td>\n",
       "      <td>No</td>\n",
       "      <td>Li-Po</td>\n",
       "      <td>No</td>\n",
       "      <td>Intel</td>\n",
       "      <td>Intel Graphics</td>\n",
       "      <td>NaN</td>\n",
       "      <td>Yes</td>\n",
       "      <td>Yes</td>\n",
       "      <td>NaN</td>\n",
       "      <td>Lenovo</td>\n",
       "    </tr>\n",
       "    <tr>\n",
       "      <th>2</th>\n",
       "      <td>Windows</td>\n",
       "      <td>LED</td>\n",
       "      <td>No</td>\n",
       "      <td>NaN</td>\n",
       "      <td>Yes</td>\n",
       "      <td>Li-Ion</td>\n",
       "      <td>No</td>\n",
       "      <td>Intel</td>\n",
       "      <td>Intel Graphics</td>\n",
       "      <td>Yes</td>\n",
       "      <td>Yes</td>\n",
       "      <td>No</td>\n",
       "      <td>NaN</td>\n",
       "      <td>Acer</td>\n",
       "    </tr>\n",
       "    <tr>\n",
       "      <th>3</th>\n",
       "      <td>Windows</td>\n",
       "      <td>LED</td>\n",
       "      <td>No</td>\n",
       "      <td>HDD</td>\n",
       "      <td>Yes</td>\n",
       "      <td>Li-Ion</td>\n",
       "      <td>Yes</td>\n",
       "      <td>Intel</td>\n",
       "      <td>NVIDIA</td>\n",
       "      <td>Yes</td>\n",
       "      <td>Yes</td>\n",
       "      <td>No</td>\n",
       "      <td>NaN</td>\n",
       "      <td>Lenovo</td>\n",
       "    </tr>\n",
       "    <tr>\n",
       "      <th>4</th>\n",
       "      <td>Windows</td>\n",
       "      <td>LED</td>\n",
       "      <td>No</td>\n",
       "      <td>HDD</td>\n",
       "      <td>No</td>\n",
       "      <td>Li-Ion</td>\n",
       "      <td>No</td>\n",
       "      <td>AMD</td>\n",
       "      <td>AMD Graphics</td>\n",
       "      <td>NaN</td>\n",
       "      <td>Yes</td>\n",
       "      <td>Yes</td>\n",
       "      <td>NaN</td>\n",
       "      <td>HP</td>\n",
       "    </tr>\n",
       "  </tbody>\n",
       "</table>\n",
       "</div>"
      ],
      "text/plain": [
       "  Operating_system Display_type Touchscreen Harddrive_type Optical_Drive  \\\n",
       "0          Windows         LED          No             NaN            No   \n",
       "1          Windows         LED          No             NaN            No   \n",
       "2          Windows         LED          No             NaN           Yes   \n",
       "3          Windows         LED          No             HDD           Yes   \n",
       "4          Windows         LED          No             HDD            No   \n",
       "\n",
       "  Battery_type Fingerprint Processor_brand  Graphics_brand USB(2.0)  \\\n",
       "0       Li-Ion          No           Intel  Intel Graphics      Yes   \n",
       "1        Li-Po          No           Intel  Intel Graphics      NaN   \n",
       "2       Li-Ion          No           Intel  Intel Graphics      Yes   \n",
       "3       Li-Ion         Yes           Intel          NVIDIA      Yes   \n",
       "4       Li-Ion          No             AMD    AMD Graphics      NaN   \n",
       "\n",
       "  Bluetooth_ USB(typeC) Keyboard_backlit   Brand  \n",
       "0        Yes        NaN              NaN  Lenovo  \n",
       "1        Yes        Yes              NaN  Lenovo  \n",
       "2        Yes         No              NaN    Acer  \n",
       "3        Yes         No              NaN  Lenovo  \n",
       "4        Yes        Yes              NaN      HP  "
      ]
     },
     "execution_count": 35,
     "metadata": {},
     "output_type": "execute_result"
    }
   ],
   "source": [
    "#fitting the imputer\n",
    "data_imputed2 = imputer2.fit_transform(data_categorical)\n",
    "data_imputed2.head()"
   ]
  },
  {
   "cell_type": "code",
   "execution_count": 36,
   "id": "b79a128c",
   "metadata": {},
   "outputs": [
    {
     "name": "stdout",
     "output_type": "stream",
     "text": [
      "Operating_system misses 0 datapoints, 0.0%\n",
      "Display_type misses 0 datapoints, 0.0%\n",
      "Touchscreen misses 0 datapoints, 0.0%\n",
      "Harddrive_type misses 590 datapoints, 56.9%\n",
      "Optical_Drive misses 125 datapoints, 12.1%\n",
      "Battery_type misses 0 datapoints, 0.0%\n",
      "Fingerprint misses 168 datapoints, 16.2%\n",
      "Processor_brand misses 0 datapoints, 0.0%\n",
      "Graphics_brand misses 0 datapoints, 0.0%\n",
      "USB(2.0) misses 252 datapoints, 24.3%\n",
      "Bluetooth_ misses 0 datapoints, 0.0%\n",
      "USB(typeC) misses 304 datapoints, 29.3%\n",
      "Keyboard_backlit misses 570 datapoints, 55.0%\n",
      "Brand misses 0 datapoints, 0.0%\n"
     ]
    }
   ],
   "source": [
    "#checking if selected variables were imputed correctly\n",
    "for i in categorical_features:\n",
    "    missing = data_imputed2[i].isnull().sum()\n",
    "    percentage_missing = round((missing/1036)*100,1)\n",
    "    print(f'{i} misses {missing} datapoints, {percentage_missing}%')"
   ]
  },
  {
   "cell_type": "code",
   "execution_count": 37,
   "id": "4bd3430b",
   "metadata": {},
   "outputs": [
    {
     "data": {
      "text/html": [
       "<div>\n",
       "<style scoped>\n",
       "    .dataframe tbody tr th:only-of-type {\n",
       "        vertical-align: middle;\n",
       "    }\n",
       "\n",
       "    .dataframe tbody tr th {\n",
       "        vertical-align: top;\n",
       "    }\n",
       "\n",
       "    .dataframe thead th {\n",
       "        text-align: right;\n",
       "    }\n",
       "</style>\n",
       "<table border=\"1\" class=\"dataframe\">\n",
       "  <thead>\n",
       "    <tr style=\"text-align: right;\">\n",
       "      <th></th>\n",
       "      <th>Ratings</th>\n",
       "      <th>No_of_ratings</th>\n",
       "      <th>Screen_size(inches)</th>\n",
       "      <th>Processor_speed(GHz)</th>\n",
       "      <th>Cache_memory(MBs)</th>\n",
       "      <th>RAM(Gig)</th>\n",
       "      <th>RAM_max</th>\n",
       "      <th>Memory_slots</th>\n",
       "      <th>RAM_speed(MHz)</th>\n",
       "      <th>Harddrive_capacity(Gig)</th>\n",
       "      <th>...</th>\n",
       "      <th>Optical_Drive</th>\n",
       "      <th>Battery_type</th>\n",
       "      <th>Fingerprint</th>\n",
       "      <th>Processor_brand</th>\n",
       "      <th>Graphics_brand</th>\n",
       "      <th>USB(2.0)</th>\n",
       "      <th>Bluetooth_</th>\n",
       "      <th>USB(typeC)</th>\n",
       "      <th>Keyboard_backlit</th>\n",
       "      <th>Brand</th>\n",
       "    </tr>\n",
       "  </thead>\n",
       "  <tbody>\n",
       "    <tr>\n",
       "      <th>0</th>\n",
       "      <td>3.98</td>\n",
       "      <td>554</td>\n",
       "      <td>15.6</td>\n",
       "      <td>1.1</td>\n",
       "      <td>4</td>\n",
       "      <td>4</td>\n",
       "      <td>12</td>\n",
       "      <td>1</td>\n",
       "      <td>2400</td>\n",
       "      <td>256</td>\n",
       "      <td>...</td>\n",
       "      <td>No</td>\n",
       "      <td>Li-Ion</td>\n",
       "      <td>No</td>\n",
       "      <td>Intel</td>\n",
       "      <td>Intel Graphics</td>\n",
       "      <td>Yes</td>\n",
       "      <td>Yes</td>\n",
       "      <td>NaN</td>\n",
       "      <td>NaN</td>\n",
       "      <td>Lenovo</td>\n",
       "    </tr>\n",
       "    <tr>\n",
       "      <th>1</th>\n",
       "      <td>4.34</td>\n",
       "      <td>346</td>\n",
       "      <td>14.0</td>\n",
       "      <td>1.6</td>\n",
       "      <td>6</td>\n",
       "      <td>16</td>\n",
       "      <td>27</td>\n",
       "      <td>2</td>\n",
       "      <td>3200</td>\n",
       "      <td>512</td>\n",
       "      <td>...</td>\n",
       "      <td>No</td>\n",
       "      <td>Li-Po</td>\n",
       "      <td>No</td>\n",
       "      <td>Intel</td>\n",
       "      <td>Intel Graphics</td>\n",
       "      <td>NaN</td>\n",
       "      <td>Yes</td>\n",
       "      <td>Yes</td>\n",
       "      <td>NaN</td>\n",
       "      <td>Lenovo</td>\n",
       "    </tr>\n",
       "    <tr>\n",
       "      <th>2</th>\n",
       "      <td>4.50</td>\n",
       "      <td>55</td>\n",
       "      <td>13.3</td>\n",
       "      <td>1.3</td>\n",
       "      <td>4</td>\n",
       "      <td>8</td>\n",
       "      <td>17</td>\n",
       "      <td>1</td>\n",
       "      <td>1866</td>\n",
       "      <td>512</td>\n",
       "      <td>...</td>\n",
       "      <td>Yes</td>\n",
       "      <td>Li-Ion</td>\n",
       "      <td>No</td>\n",
       "      <td>Intel</td>\n",
       "      <td>Intel Graphics</td>\n",
       "      <td>Yes</td>\n",
       "      <td>Yes</td>\n",
       "      <td>No</td>\n",
       "      <td>NaN</td>\n",
       "      <td>Acer</td>\n",
       "    </tr>\n",
       "    <tr>\n",
       "      <th>3</th>\n",
       "      <td>4.07</td>\n",
       "      <td>86</td>\n",
       "      <td>14.0</td>\n",
       "      <td>1.6</td>\n",
       "      <td>6</td>\n",
       "      <td>2</td>\n",
       "      <td>16</td>\n",
       "      <td>1</td>\n",
       "      <td>2400</td>\n",
       "      <td>1000</td>\n",
       "      <td>...</td>\n",
       "      <td>Yes</td>\n",
       "      <td>Li-Ion</td>\n",
       "      <td>Yes</td>\n",
       "      <td>Intel</td>\n",
       "      <td>NVIDIA</td>\n",
       "      <td>Yes</td>\n",
       "      <td>Yes</td>\n",
       "      <td>No</td>\n",
       "      <td>NaN</td>\n",
       "      <td>Lenovo</td>\n",
       "    </tr>\n",
       "    <tr>\n",
       "      <th>4</th>\n",
       "      <td>4.50</td>\n",
       "      <td>1977</td>\n",
       "      <td>14.0</td>\n",
       "      <td>2.1</td>\n",
       "      <td>6</td>\n",
       "      <td>8</td>\n",
       "      <td>13</td>\n",
       "      <td>1</td>\n",
       "      <td>2400</td>\n",
       "      <td>1000</td>\n",
       "      <td>...</td>\n",
       "      <td>No</td>\n",
       "      <td>Li-Ion</td>\n",
       "      <td>No</td>\n",
       "      <td>AMD</td>\n",
       "      <td>AMD Graphics</td>\n",
       "      <td>NaN</td>\n",
       "      <td>Yes</td>\n",
       "      <td>Yes</td>\n",
       "      <td>NaN</td>\n",
       "      <td>HP</td>\n",
       "    </tr>\n",
       "  </tbody>\n",
       "</table>\n",
       "<p>5 rows × 37 columns</p>\n",
       "</div>"
      ],
      "text/plain": [
       "   Ratings  No_of_ratings  Screen_size(inches)  Processor_speed(GHz)  \\\n",
       "0     3.98            554                 15.6                   1.1   \n",
       "1     4.34            346                 14.0                   1.6   \n",
       "2     4.50             55                 13.3                   1.3   \n",
       "3     4.07             86                 14.0                   1.6   \n",
       "4     4.50           1977                 14.0                   2.1   \n",
       "\n",
       "   Cache_memory(MBs)  RAM(Gig)  RAM_max  Memory_slots  RAM_speed(MHz)  \\\n",
       "0                  4         4       12             1            2400   \n",
       "1                  6        16       27             2            3200   \n",
       "2                  4         8       17             1            1866   \n",
       "3                  6         2       16             1            2400   \n",
       "4                  6         8       13             1            2400   \n",
       "\n",
       "   Harddrive_capacity(Gig)  ...  Optical_Drive  Battery_type  Fingerprint  \\\n",
       "0                      256  ...             No        Li-Ion           No   \n",
       "1                      512  ...             No         Li-Po           No   \n",
       "2                      512  ...            Yes        Li-Ion           No   \n",
       "3                     1000  ...            Yes        Li-Ion          Yes   \n",
       "4                     1000  ...             No        Li-Ion           No   \n",
       "\n",
       "   Processor_brand  Graphics_brand  USB(2.0)  Bluetooth_  USB(typeC)  \\\n",
       "0            Intel  Intel Graphics       Yes         Yes         NaN   \n",
       "1            Intel  Intel Graphics       NaN         Yes         Yes   \n",
       "2            Intel  Intel Graphics       Yes         Yes          No   \n",
       "3            Intel          NVIDIA       Yes         Yes          No   \n",
       "4              AMD    AMD Graphics       NaN         Yes         Yes   \n",
       "\n",
       "   Keyboard_backlit   Brand  \n",
       "0               NaN  Lenovo  \n",
       "1               NaN  Lenovo  \n",
       "2               NaN    Acer  \n",
       "3               NaN  Lenovo  \n",
       "4               NaN      HP  \n",
       "\n",
       "[5 rows x 37 columns]"
      ]
     },
     "execution_count": 37,
     "metadata": {},
     "output_type": "execute_result"
    }
   ],
   "source": [
    "# Joining both numerical and categorical imputed datasets\n",
    "total_data = data_imputed.join(data_imputed2)\n",
    "total_data.head()"
   ]
  },
  {
   "cell_type": "code",
   "execution_count": 38,
   "id": "a50bc896",
   "metadata": {},
   "outputs": [
    {
     "data": {
      "text/plain": [
       "array(['Yes', nan], dtype=object)"
      ]
     },
     "execution_count": 38,
     "metadata": {},
     "output_type": "execute_result"
    }
   ],
   "source": [
    "total_data['USB(2.0)'].unique()"
   ]
  },
  {
   "cell_type": "code",
   "execution_count": 39,
   "id": "c3329008",
   "metadata": {},
   "outputs": [],
   "source": [
    "#given that most modern laptops have USB 2.0 ports and that our data has no laptop without this port then we can assume that\n",
    "#the missing values are 'Yes'\n",
    "total_data['USB(2.0)'] = total_data['USB(2.0)'].fillna('Yes')"
   ]
  },
  {
   "cell_type": "code",
   "execution_count": 40,
   "id": "520c0bc1",
   "metadata": {},
   "outputs": [],
   "source": [
    "#Given that the keyboard features from the raw data did not specify whether the keyboard was backlit or not when clearly those\n",
    "#backlit and not backlit were specified,so I presumed that they are not backlit hence 'no'\n",
    "total_data['Keyboard_backlit'] = total_data['Keyboard_backlit'].fillna('no')"
   ]
  },
  {
   "cell_type": "markdown",
   "id": "42b772f0",
   "metadata": {},
   "source": [
    "## Model for filling missing values in harddrive_type column"
   ]
  },
  {
   "cell_type": "code",
   "execution_count": 41,
   "id": "9c9707a0",
   "metadata": {},
   "outputs": [],
   "source": [
    "#Now to fill in the rest of the missing values, im going to use machine learning to predict the missing values\n",
    "# Will use the XGBoost classifier(tree based model,so no need for standardizing the data)\n",
    "from xgboost import XGBClassifier\n",
    "#Classifier for harddrive column\n",
    "\n",
    "xg_harddrive_type = XGBClassifier()"
   ]
  },
  {
   "cell_type": "code",
   "execution_count": 42,
   "id": "0103f307",
   "metadata": {},
   "outputs": [],
   "source": [
    "#removing our true target to prevent data leakage\n",
    "df = total_data.drop('Brand',axis=1)"
   ]
  },
  {
   "cell_type": "code",
   "execution_count": 43,
   "id": "c4d01ecc",
   "metadata": {},
   "outputs": [],
   "source": [
    "#Removing harddrive_type our target and filling in the missing values of other features with unknown\n",
    "harddrive_inputs_with_missingData = df.drop('Harddrive_type',axis=1)\n",
    "harddrive_inputs = harddrive_inputs_with_missingData.fillna('unknown')"
   ]
  },
  {
   "cell_type": "code",
   "execution_count": 44,
   "id": "fe2f8f85",
   "metadata": {},
   "outputs": [],
   "source": [
    "#joining the inputs and targets then creating the dataframe to be predicted\n",
    "harddrive_fulldata = harddrive_inputs.join(df['Harddrive_type'])\n",
    "#data to be predicted\n",
    "harddrive_missing = harddrive_fulldata[harddrive_fulldata.isnull().any(axis=1)].drop('Harddrive_type',axis=1)\n",
    " "
   ]
  },
  {
   "cell_type": "code",
   "execution_count": 45,
   "id": "b1c087a7",
   "metadata": {},
   "outputs": [],
   "source": [
    "#training data\n",
    "harddrive_train = harddrive_fulldata.dropna()"
   ]
  },
  {
   "cell_type": "code",
   "execution_count": 46,
   "id": "df355644",
   "metadata": {},
   "outputs": [],
   "source": [
    "x = harddrive_train.drop('Harddrive_type',axis=1)\n",
    "y = harddrive_train['Harddrive_type']"
   ]
  },
  {
   "cell_type": "code",
   "execution_count": 47,
   "id": "b90b7977",
   "metadata": {},
   "outputs": [],
   "source": [
    "#creating dummy variables for the training and harddrive_missing data\n",
    "final_x = pd.get_dummies(x)\n",
    "harddrive_missing_withdummies = pd.get_dummies(harddrive_missing)"
   ]
  },
  {
   "cell_type": "code",
   "execution_count": 48,
   "id": "a24aab8d",
   "metadata": {},
   "outputs": [
    {
     "data": {
      "text/plain": [
       "60"
      ]
     },
     "execution_count": 48,
     "metadata": {},
     "output_type": "execute_result"
    }
   ],
   "source": [
    "#Checking if both datasets have the same columns after getting dummies\n",
    "len(harddrive_missing_withdummies.columns)"
   ]
  },
  {
   "cell_type": "code",
   "execution_count": 49,
   "id": "4d89c922",
   "metadata": {},
   "outputs": [
    {
     "data": {
      "text/plain": [
       "51"
      ]
     },
     "execution_count": 49,
     "metadata": {},
     "output_type": "execute_result"
    }
   ],
   "source": [
    "len(final_x.columns)"
   ]
  },
  {
   "cell_type": "code",
   "execution_count": 50,
   "id": "f4257d8f",
   "metadata": {},
   "outputs": [
    {
     "name": "stdout",
     "output_type": "stream",
     "text": [
      "Operating_system_ Google Chrome \n",
      "Operating_system_MAC\n",
      "Display_type_ AMOLED \n",
      "Display_type_ LCD \n",
      "Display_type_ QLED \n",
      "Processor_brand_Apple\n",
      "Processor_brand_MediaTek\n",
      "Graphics_brand_ARM Graphics\n",
      "Graphics_brand_MediaTek Graphics\n",
      "Graphics_brand_PowerVR Graphics\n",
      "Bluetooth__No\n"
     ]
    }
   ],
   "source": [
    "#retriving the dummies not found in final_x dataframe\n",
    "a = harddrive_missing_withdummies.columns\n",
    "b = final_x.columns\n",
    "for i in a:\n",
    "    if i not in b:\n",
    "        print(i)\n",
    "    "
   ]
  },
  {
   "cell_type": "code",
   "execution_count": 51,
   "id": "32f45cb3",
   "metadata": {},
   "outputs": [
    {
     "name": "stdout",
     "output_type": "stream",
     "text": [
      "Operating_system_ Linux \n",
      "Operating_system_ Ubuntu \n"
     ]
    }
   ],
   "source": [
    "#retriving the dummies not found in the hardrive_missing data\n",
    "a = harddrive_missing_withdummies.columns\n",
    "b = final_x.columns\n",
    "for i in b:\n",
    "    if i not in a:\n",
    "        print(i)"
   ]
  },
  {
   "cell_type": "code",
   "execution_count": 52,
   "id": "6388a74c",
   "metadata": {},
   "outputs": [],
   "source": [
    "#Clearly the data was imbalanced as these data entries were on present in each dataframe subset\n",
    "# so will add all missing dummies to each corresponding dataframe that they are not found in, but with value 0\n",
    "feature_list = ['Operating_system_ Google Chrome ', \n",
    "'Operating_system_MAC',\n",
    "'Display_type_ AMOLED ', \n",
    "'Display_type_ LCD ', \n",
    "'Display_type_ QLED ', \n",
    "'Processor_brand_Apple',\n",
    "'Processor_brand_MediaTek',\n",
    "'Graphics_brand_ARM Graphics',\n",
    "'Graphics_brand_MediaTek Graphics',\n",
    "'Graphics_brand_PowerVR Graphics',\n",
    "'Bluetooth__No']\n",
    "for i in feature_list:\n",
    "    final_x[i] = 0"
   ]
  },
  {
   "cell_type": "code",
   "execution_count": 53,
   "id": "e5a06c11",
   "metadata": {},
   "outputs": [
    {
     "data": {
      "text/plain": [
       "62"
      ]
     },
     "execution_count": 53,
     "metadata": {},
     "output_type": "execute_result"
    }
   ],
   "source": [
    "len(final_x.columns)"
   ]
  },
  {
   "cell_type": "code",
   "execution_count": 54,
   "id": "6da8d8ac",
   "metadata": {},
   "outputs": [],
   "source": [
    "feature_list2 = ['Operating_system_ Linux ',\n",
    "'Operating_system_ Ubuntu ']\n",
    "for i in feature_list2:\n",
    "    harddrive_missing_withdummies[i] = 0"
   ]
  },
  {
   "cell_type": "code",
   "execution_count": 55,
   "id": "c09445be",
   "metadata": {},
   "outputs": [
    {
     "data": {
      "text/plain": [
       "62"
      ]
     },
     "execution_count": 55,
     "metadata": {},
     "output_type": "execute_result"
    }
   ],
   "source": [
    "len(harddrive_missing_withdummies.columns)"
   ]
  },
  {
   "cell_type": "code",
   "execution_count": 56,
   "id": "396b490f",
   "metadata": {},
   "outputs": [
    {
     "data": {
      "text/plain": [
       "411"
      ]
     },
     "execution_count": 56,
     "metadata": {},
     "output_type": "execute_result"
    }
   ],
   "source": [
    "#Checking if data is balanced or not\n",
    "(y == 'HDD').sum()"
   ]
  },
  {
   "cell_type": "code",
   "execution_count": 57,
   "id": "77a604a9",
   "metadata": {},
   "outputs": [
    {
     "data": {
      "text/plain": [
       "35"
      ]
     },
     "execution_count": 57,
     "metadata": {},
     "output_type": "execute_result"
    }
   ],
   "source": [
    "#Checking if data is balanced or not\n",
    "(y == 'SSD').sum()"
   ]
  },
  {
   "cell_type": "code",
   "execution_count": 58,
   "id": "5e2eeab3",
   "metadata": {},
   "outputs": [],
   "source": [
    "#since data is not balanced I will use SMOTE\n",
    "from imblearn.over_sampling import SMOTE\n",
    "from collections import Counter\n",
    "smote = SMOTE()"
   ]
  },
  {
   "cell_type": "code",
   "execution_count": 59,
   "id": "56113019",
   "metadata": {},
   "outputs": [],
   "source": [
    "#Applying smote\n",
    "x_smote,y_smote = smote.fit_resample(final_x,y)"
   ]
  },
  {
   "cell_type": "code",
   "execution_count": 60,
   "id": "41907f34",
   "metadata": {},
   "outputs": [
    {
     "name": "stdout",
     "output_type": "stream",
     "text": [
      "Before smote : Counter({'HDD': 411, 'SSD': 35})\n",
      "After smote : Counter({'HDD': 411, 'SSD': 411})\n"
     ]
    }
   ],
   "source": [
    "#Checking if smote was applied correctly\n",
    "print('Before smote :',Counter(y))\n",
    "print('After smote :',Counter(y_smote))"
   ]
  },
  {
   "cell_type": "code",
   "execution_count": 61,
   "id": "cc4dfd1f",
   "metadata": {},
   "outputs": [
    {
     "name": "stderr",
     "output_type": "stream",
     "text": [
      "C:\\Users\\pc\\anaconda3\\envs\\laptopclassifier\\lib\\site-packages\\xgboost\\sklearn.py:1146: UserWarning: The use of label encoder in XGBClassifier is deprecated and will be removed in a future release. To remove this warning, do the following: 1) Pass option use_label_encoder=False when constructing XGBClassifier object; and 2) Encode your labels (y) as integers starting with 0, i.e. 0, 1, 2, ..., [num_class - 1].\n",
      "  warnings.warn(label_encoder_deprecation_msg, UserWarning)\n"
     ]
    },
    {
     "name": "stdout",
     "output_type": "stream",
     "text": [
      "[00:37:06] WARNING: C:/Users/Administrator/workspace/xgboost-win64_release_1.4.0/src/learner.cc:1095: Starting in XGBoost 1.3.0, the default evaluation metric used with the objective 'binary:logistic' was changed from 'error' to 'logloss'. Explicitly set eval_metric if you'd like to restore the old behavior.\n"
     ]
    }
   ],
   "source": [
    "#Fitting,training and predicting\n",
    "xg_harddrive_type.fit(x_smote,y_smote)\n",
    "\n",
    "y_predict = xg_harddrive_type.predict(harddrive_missing_withdummies)"
   ]
  },
  {
   "cell_type": "code",
   "execution_count": 62,
   "id": "32695d1b",
   "metadata": {},
   "outputs": [
    {
     "data": {
      "text/plain": [
       "0"
      ]
     },
     "execution_count": 62,
     "metadata": {},
     "output_type": "execute_result"
    }
   ],
   "source": [
    "#setting the index to be the same\n",
    "index = harddrive_missing_withdummies.index\n",
    "\n",
    "#converting the predictions to a dataframe and adding it to the harddrive_missing dataframe\n",
    "harddrive_missing['Harddrive_type'] = pd.DataFrame(y_predict,index = index)\n",
    "\n",
    "#concating the dataframes to create a combined dataframe with filled in missing values\n",
    "filled_data1 = pd.concat([harddrive_train,harddrive_missing])\n",
    "\n",
    "#Cross checking if there are no missing values\n",
    "filled_data1['Harddrive_type'].isnull().sum()"
   ]
  },
  {
   "cell_type": "markdown",
   "id": "35b7202d",
   "metadata": {},
   "source": [
    "## Model for filing Optical_drive column"
   ]
  },
  {
   "cell_type": "code",
   "execution_count": 63,
   "id": "951390b2",
   "metadata": {},
   "outputs": [],
   "source": [
    "from xgboost import XGBClassifier\n",
    "#Classifier for optical drive column\n",
    "\n",
    "xg_Optical_drive = XGBClassifier()"
   ]
  },
  {
   "cell_type": "code",
   "execution_count": 64,
   "id": "7456cc67",
   "metadata": {},
   "outputs": [],
   "source": [
    "#Seperating training data and data to be used for prediction\n",
    "optical = filled_data1[filled_data1['Optical_Drive'] == 'unknown']\n",
    "optical_missing = optical.drop('Optical_Drive',axis = 1)\n",
    "optical_train = filled_data1[filled_data1['Optical_Drive'] != 'unknown']"
   ]
  },
  {
   "cell_type": "code",
   "execution_count": 65,
   "id": "c809beac",
   "metadata": {},
   "outputs": [],
   "source": [
    "x = optical_train.drop('Optical_Drive',axis=1)\n",
    "y = optical_train['Optical_Drive']"
   ]
  },
  {
   "cell_type": "code",
   "execution_count": 66,
   "id": "65c1dfbd",
   "metadata": {},
   "outputs": [],
   "source": [
    "#creating dummy variables for the training and optical_missing data\n",
    "final_x = pd.get_dummies(x)\n",
    "optical_missing_withdummies = pd.get_dummies(optical_missing)"
   ]
  },
  {
   "cell_type": "code",
   "execution_count": 67,
   "id": "a9c4692f",
   "metadata": {},
   "outputs": [
    {
     "data": {
      "text/plain": [
       "52"
      ]
     },
     "execution_count": 67,
     "metadata": {},
     "output_type": "execute_result"
    }
   ],
   "source": [
    "#Checking if both datasets have the same columns after getting the dummy variables\n",
    "len(optical_missing_withdummies.columns)"
   ]
  },
  {
   "cell_type": "code",
   "execution_count": 68,
   "id": "fb354a86",
   "metadata": {},
   "outputs": [
    {
     "data": {
      "text/plain": [
       "60"
      ]
     },
     "execution_count": 68,
     "metadata": {},
     "output_type": "execute_result"
    }
   ],
   "source": [
    "len(final_x.columns)"
   ]
  },
  {
   "cell_type": "code",
   "execution_count": 69,
   "id": "300d486f",
   "metadata": {},
   "outputs": [
    {
     "name": "stdout",
     "output_type": "stream",
     "text": [
      "Bluetooth__No\n"
     ]
    }
   ],
   "source": [
    "#retrieving columns not found in final_x dataframe\n",
    "a = optical_missing_withdummies.columns\n",
    "b = final_x.columns\n",
    "for i in a:\n",
    "    if i not in b:\n",
    "        print(i)"
   ]
  },
  {
   "cell_type": "code",
   "execution_count": 70,
   "id": "90c01d11",
   "metadata": {},
   "outputs": [
    {
     "name": "stdout",
     "output_type": "stream",
     "text": [
      "Operating_system_ Linux \n",
      "Display_type_ AMOLED \n",
      "Display_type_ OLED \n",
      "Display_type_ QLED \n",
      "Processor_brand_Apple\n",
      "Processor_brand_MediaTek\n",
      "Graphics_brand_ARM Graphics\n",
      "Graphics_brand_MediaTek Graphics\n",
      "Graphics_brand_PowerVR Graphics\n"
     ]
    }
   ],
   "source": [
    "#retrieving dummies not found in the optical_missing data\n",
    "a = optical_missing_withdummies.columns\n",
    "b = final_x.columns\n",
    "for i in b:\n",
    "    if i not in a:\n",
    "        print(i)"
   ]
  },
  {
   "cell_type": "code",
   "execution_count": 71,
   "id": "f0544d4b",
   "metadata": {},
   "outputs": [],
   "source": [
    "#Clearly the data was imbalanced as these data entries were on present in each dataframe subset\n",
    "# so will add all missing dummies to each corresponding dataframe that they are not found in, but with value 0\n",
    "feature_list = ['Operating_system_ Linux ', \n",
    "'Display_type_ AMOLED ', \n",
    "'Display_type_ OLED ',\n",
    "'Display_type_ QLED ',\n",
    "'Processor_brand_Apple',\n",
    "'Processor_brand_MediaTek',\n",
    "'Graphics_brand_ARM Graphics',\n",
    "'Graphics_brand_MediaTek Graphics',\n",
    "'Graphics_brand_PowerVR Graphics']\n",
    "for i in feature_list:\n",
    "    optical_missing_withdummies[i] = 0"
   ]
  },
  {
   "cell_type": "code",
   "execution_count": 72,
   "id": "77328543",
   "metadata": {},
   "outputs": [
    {
     "data": {
      "text/plain": [
       "61"
      ]
     },
     "execution_count": 72,
     "metadata": {},
     "output_type": "execute_result"
    }
   ],
   "source": [
    "len(optical_missing_withdummies.columns)"
   ]
  },
  {
   "cell_type": "code",
   "execution_count": 73,
   "id": "70dd3d02",
   "metadata": {},
   "outputs": [],
   "source": [
    "final_x['Bluetooth__No']=0"
   ]
  },
  {
   "cell_type": "code",
   "execution_count": 74,
   "id": "bf373609",
   "metadata": {},
   "outputs": [
    {
     "data": {
      "text/plain": [
       "61"
      ]
     },
     "execution_count": 74,
     "metadata": {},
     "output_type": "execute_result"
    }
   ],
   "source": [
    "len(final_x.columns)"
   ]
  },
  {
   "cell_type": "code",
   "execution_count": 75,
   "id": "a1be2706",
   "metadata": {},
   "outputs": [
    {
     "data": {
      "text/plain": [
       "65"
      ]
     },
     "execution_count": 75,
     "metadata": {},
     "output_type": "execute_result"
    }
   ],
   "source": [
    "#Checking if data is balanced or not\n",
    "(y =='Yes').sum()"
   ]
  },
  {
   "cell_type": "code",
   "execution_count": 76,
   "id": "2edbbf96",
   "metadata": {},
   "outputs": [
    {
     "data": {
      "text/plain": [
       "846"
      ]
     },
     "execution_count": 76,
     "metadata": {},
     "output_type": "execute_result"
    }
   ],
   "source": [
    "#Checking if data is balanced or not\n",
    "(y =='No').sum()"
   ]
  },
  {
   "cell_type": "code",
   "execution_count": 77,
   "id": "8e2580d2",
   "metadata": {},
   "outputs": [],
   "source": [
    "#since data is not balanced I will use SMOTE\n",
    "from imblearn.over_sampling import SMOTE\n",
    "from collections import Counter\n",
    "smote = SMOTE()"
   ]
  },
  {
   "cell_type": "code",
   "execution_count": 78,
   "id": "ee1a7e74",
   "metadata": {},
   "outputs": [
    {
     "name": "stdout",
     "output_type": "stream",
     "text": [
      "Before smote : Counter({'No': 846, 'Yes': 65})\n",
      "After smote : Counter({'Yes': 846, 'No': 846})\n"
     ]
    }
   ],
   "source": [
    "#Applying smote\n",
    "x_smote,y_smote = smote.fit_resample(final_x,y)\n",
    "#Checking if smote was applied correctly\n",
    "print('Before smote :',Counter(y))\n",
    "print('After smote :',Counter(y_smote))"
   ]
  },
  {
   "cell_type": "code",
   "execution_count": 79,
   "id": "3bc79393",
   "metadata": {},
   "outputs": [
    {
     "name": "stderr",
     "output_type": "stream",
     "text": [
      "C:\\Users\\pc\\anaconda3\\envs\\laptopclassifier\\lib\\site-packages\\xgboost\\sklearn.py:1146: UserWarning: The use of label encoder in XGBClassifier is deprecated and will be removed in a future release. To remove this warning, do the following: 1) Pass option use_label_encoder=False when constructing XGBClassifier object; and 2) Encode your labels (y) as integers starting with 0, i.e. 0, 1, 2, ..., [num_class - 1].\n",
      "  warnings.warn(label_encoder_deprecation_msg, UserWarning)\n"
     ]
    },
    {
     "name": "stdout",
     "output_type": "stream",
     "text": [
      "[00:37:42] WARNING: C:/Users/Administrator/workspace/xgboost-win64_release_1.4.0/src/learner.cc:1095: Starting in XGBoost 1.3.0, the default evaluation metric used with the objective 'binary:logistic' was changed from 'error' to 'logloss'. Explicitly set eval_metric if you'd like to restore the old behavior.\n"
     ]
    }
   ],
   "source": [
    "#Fitting,training and predicting\n",
    "xg_Optical_drive.fit(x_smote,y_smote)\n",
    "\n",
    "y_predict = xg_Optical_drive.predict(optical_missing_withdummies)"
   ]
  },
  {
   "cell_type": "code",
   "execution_count": 80,
   "id": "d1b71d44",
   "metadata": {},
   "outputs": [
    {
     "data": {
      "text/plain": [
       "0"
      ]
     },
     "execution_count": 80,
     "metadata": {},
     "output_type": "execute_result"
    }
   ],
   "source": [
    "#setting the index to be the same\n",
    "index = optical_missing_withdummies.index\n",
    "\n",
    "#converting the predictions to a dataframe and adding it to the optical_missing dataframe\n",
    "optical_missing['Optical_Drive'] = pd.DataFrame(y_predict,index = index)\n",
    "\n",
    "#concating the dataframes to create a combined dataframe with filled missing values\n",
    "filled_data2 = pd.concat([optical_train,optical_missing])\n",
    "\n",
    "#Cross checking if there are no missing values\n",
    "filled_data2['Optical_Drive'].isnull().sum()"
   ]
  },
  {
   "cell_type": "markdown",
   "id": "d1194e11",
   "metadata": {},
   "source": [
    "## Model for filling Fingerprint column"
   ]
  },
  {
   "cell_type": "code",
   "execution_count": 81,
   "id": "541338e0",
   "metadata": {},
   "outputs": [],
   "source": [
    "from xgboost import XGBClassifier\n",
    "#Classifier for fingerprint column\n",
    "\n",
    "xg_Fingerprint = XGBClassifier()"
   ]
  },
  {
   "cell_type": "code",
   "execution_count": 82,
   "id": "8bf6e43d",
   "metadata": {},
   "outputs": [],
   "source": [
    "#Seperating training data and data to be used for prediction\n",
    "fingerprint = filled_data2[filled_data2['Fingerprint'] == 'unknown']\n",
    "fingerprint_missing = fingerprint.drop('Fingerprint',axis = 1)\n",
    "fingerprint_train = filled_data2[filled_data2['Fingerprint'] != 'unknown']"
   ]
  },
  {
   "cell_type": "code",
   "execution_count": 83,
   "id": "c6f2cbc6",
   "metadata": {},
   "outputs": [],
   "source": [
    "x = fingerprint_train.drop('Fingerprint',axis=1)\n",
    "y = fingerprint_train['Fingerprint']\n",
    "\n",
    "#creating dummy variables for the training and fingerprint_missing data\n",
    "final_x = pd.get_dummies(x)\n",
    "fingerprint_missing_withdummies = pd.get_dummies(fingerprint_missing)"
   ]
  },
  {
   "cell_type": "code",
   "execution_count": 84,
   "id": "f633f345",
   "metadata": {},
   "outputs": [
    {
     "data": {
      "text/plain": [
       "52"
      ]
     },
     "execution_count": 84,
     "metadata": {},
     "output_type": "execute_result"
    }
   ],
   "source": [
    "#Checking if both datasets had the same columns after getting dummy variables\n",
    "len(fingerprint_missing_withdummies.columns)"
   ]
  },
  {
   "cell_type": "code",
   "execution_count": 85,
   "id": "71f2d390",
   "metadata": {},
   "outputs": [
    {
     "data": {
      "text/plain": [
       "59"
      ]
     },
     "execution_count": 85,
     "metadata": {},
     "output_type": "execute_result"
    }
   ],
   "source": [
    "len(final_x.columns)"
   ]
  },
  {
   "cell_type": "code",
   "execution_count": 86,
   "id": "00d88b9a",
   "metadata": {},
   "outputs": [
    {
     "name": "stdout",
     "output_type": "stream",
     "text": [
      "Processor_brand_Apple\n"
     ]
    }
   ],
   "source": [
    "#retriving the dummies not found in final_x dataframe\n",
    "a = fingerprint_missing_withdummies.columns\n",
    "b = final_x.columns\n",
    "for i in a:\n",
    "    if i not in b:\n",
    "        print(i)"
   ]
  },
  {
   "cell_type": "code",
   "execution_count": 87,
   "id": "e830fcf1",
   "metadata": {},
   "outputs": [
    {
     "name": "stdout",
     "output_type": "stream",
     "text": [
      "Operating_system_ Linux \n",
      "Operating_system_ Ubuntu \n",
      "Display_type_ QLED \n",
      "Processor_brand_MediaTek\n",
      "Graphics_brand_ARM Graphics\n",
      "Graphics_brand_MediaTek Graphics\n",
      "Graphics_brand_PowerVR Graphics\n",
      "Bluetooth__No\n"
     ]
    }
   ],
   "source": [
    "#retriving the dummies not found in the fingerprint_missing data\n",
    "a = fingerprint_missing_withdummies.columns\n",
    "b = final_x.columns\n",
    "for i in b:\n",
    "    if i not in a:\n",
    "        print(i)"
   ]
  },
  {
   "cell_type": "code",
   "execution_count": 88,
   "id": "2787c241",
   "metadata": {},
   "outputs": [],
   "source": [
    "#Clearly the data was imbalanced as these data entries were on present in each dataframe subset\n",
    "# so will add all missing dummies to each corresponding dataframe that they are not found in, but with value 0\n",
    "feature_list = ['Operating_system_ Linux',\n",
    "'Operating_system_ Ubuntu',\n",
    "'Display_type_ QLED ',\n",
    "'Processor_brand_MediaTek',\n",
    "'Graphics_brand_ARM Graphics',\n",
    "'Graphics_brand_MediaTek Graphics',\n",
    "'Graphics_brand_PowerVR Graphics',\n",
    "'Bluetooth__No']\n",
    "for i in feature_list:\n",
    "    fingerprint_missing_withdummies[i] = 0"
   ]
  },
  {
   "cell_type": "code",
   "execution_count": 89,
   "id": "7ff98a5a",
   "metadata": {},
   "outputs": [],
   "source": [
    "final_x['Processor_brand_Apple'] = 0"
   ]
  },
  {
   "cell_type": "code",
   "execution_count": 90,
   "id": "fd7031d6",
   "metadata": {},
   "outputs": [
    {
     "data": {
      "text/plain": [
       "60"
      ]
     },
     "execution_count": 90,
     "metadata": {},
     "output_type": "execute_result"
    }
   ],
   "source": [
    "len(fingerprint_missing_withdummies.columns)"
   ]
  },
  {
   "cell_type": "code",
   "execution_count": 91,
   "id": "1c9079a4",
   "metadata": {},
   "outputs": [
    {
     "data": {
      "text/plain": [
       "60"
      ]
     },
     "execution_count": 91,
     "metadata": {},
     "output_type": "execute_result"
    }
   ],
   "source": [
    "len(final_x.columns)"
   ]
  },
  {
   "cell_type": "code",
   "execution_count": 92,
   "id": "0b3a6599",
   "metadata": {},
   "outputs": [
    {
     "data": {
      "text/plain": [
       "139"
      ]
     },
     "execution_count": 92,
     "metadata": {},
     "output_type": "execute_result"
    }
   ],
   "source": [
    "#Checking if data is balanced or not\n",
    "(y =='Yes').sum()"
   ]
  },
  {
   "cell_type": "code",
   "execution_count": 93,
   "id": "628a4d17",
   "metadata": {},
   "outputs": [
    {
     "data": {
      "text/plain": [
       "729"
      ]
     },
     "execution_count": 93,
     "metadata": {},
     "output_type": "execute_result"
    }
   ],
   "source": [
    "#Checking if data is balanced or not\n",
    "(y =='No').sum()"
   ]
  },
  {
   "cell_type": "code",
   "execution_count": 94,
   "id": "85cf9602",
   "metadata": {},
   "outputs": [],
   "source": [
    "#since data is not balanced I will use SMOTE\n",
    "from imblearn.over_sampling import SMOTE\n",
    "from collections import Counter\n",
    "smote = SMOTE()"
   ]
  },
  {
   "cell_type": "code",
   "execution_count": 95,
   "id": "7ad77478",
   "metadata": {},
   "outputs": [
    {
     "name": "stdout",
     "output_type": "stream",
     "text": [
      "Before smote : Counter({'No': 729, 'Yes': 139})\n",
      "After smote : Counter({'Yes': 729, 'No': 729})\n"
     ]
    }
   ],
   "source": [
    "#Applying smote\n",
    "x_smote,y_smote = smote.fit_resample(final_x,y)\n",
    "\n",
    "#Checking if smote was applied correctly\n",
    "print('Before smote :',Counter(y))\n",
    "print('After smote :',Counter(y_smote))"
   ]
  },
  {
   "cell_type": "code",
   "execution_count": 96,
   "id": "1aed0144",
   "metadata": {},
   "outputs": [
    {
     "name": "stderr",
     "output_type": "stream",
     "text": [
      "C:\\Users\\pc\\anaconda3\\envs\\laptopclassifier\\lib\\site-packages\\xgboost\\sklearn.py:1146: UserWarning: The use of label encoder in XGBClassifier is deprecated and will be removed in a future release. To remove this warning, do the following: 1) Pass option use_label_encoder=False when constructing XGBClassifier object; and 2) Encode your labels (y) as integers starting with 0, i.e. 0, 1, 2, ..., [num_class - 1].\n",
      "  warnings.warn(label_encoder_deprecation_msg, UserWarning)\n"
     ]
    },
    {
     "name": "stdout",
     "output_type": "stream",
     "text": [
      "[00:39:09] WARNING: C:/Users/Administrator/workspace/xgboost-win64_release_1.4.0/src/learner.cc:1095: Starting in XGBoost 1.3.0, the default evaluation metric used with the objective 'binary:logistic' was changed from 'error' to 'logloss'. Explicitly set eval_metric if you'd like to restore the old behavior.\n"
     ]
    }
   ],
   "source": [
    "#Fitting,training and predicting\n",
    "xg_Fingerprint.fit(x_smote,y_smote)\n",
    "\n",
    "y_predict = xg_Fingerprint.predict(fingerprint_missing_withdummies)"
   ]
  },
  {
   "cell_type": "code",
   "execution_count": 97,
   "id": "7f815219",
   "metadata": {},
   "outputs": [
    {
     "data": {
      "text/plain": [
       "0"
      ]
     },
     "execution_count": 97,
     "metadata": {},
     "output_type": "execute_result"
    }
   ],
   "source": [
    "#setting the index to be the same\n",
    "index = fingerprint_missing_withdummies.index\n",
    "\n",
    "#converting the predictions to a dataframe and adding it to the fingerprint_missing dataframe\n",
    "fingerprint_missing['Fingerprint'] = pd.DataFrame(y_predict,index = index)\n",
    "\n",
    "#concating the dataframes to create a combined dataframe with filled missing values\n",
    "filled_data3 = pd.concat([fingerprint_train,fingerprint_missing])\n",
    "\n",
    "#Cross checking if there are no missing values\n",
    "filled_data3['Fingerprint'].isnull().sum()"
   ]
  },
  {
   "cell_type": "markdown",
   "id": "31b14ec5",
   "metadata": {},
   "source": [
    "## Model for filling missing values on USB(typeC) column"
   ]
  },
  {
   "cell_type": "code",
   "execution_count": 98,
   "id": "698f9476",
   "metadata": {},
   "outputs": [],
   "source": [
    "from xgboost import XGBClassifier\n",
    "#Classifier for USB(typeC) column\n",
    "\n",
    "xg_USB = XGBClassifier()"
   ]
  },
  {
   "cell_type": "code",
   "execution_count": 99,
   "id": "f240f546",
   "metadata": {},
   "outputs": [],
   "source": [
    "#Seperating the training data from the data to be used for prediction\n",
    "USB = filled_data3[filled_data3['USB(typeC)'] == 'unknown']\n",
    "USB_missing = USB.drop('USB(typeC)',axis = 1)\n",
    "USB_train = filled_data3[filled_data3['USB(typeC)'] != 'unknown']"
   ]
  },
  {
   "cell_type": "code",
   "execution_count": 100,
   "id": "04220b88",
   "metadata": {},
   "outputs": [],
   "source": [
    "x = USB_train.drop('USB(typeC)',axis=1)\n",
    "y = USB_train['USB(typeC)']\n",
    "\n",
    "#creating dummy variables for the training and USB_missing data\n",
    "final_x = pd.get_dummies(x)\n",
    "USB_missing_withdummies = pd.get_dummies(USB_missing)"
   ]
  },
  {
   "cell_type": "code",
   "execution_count": 101,
   "id": "9405ff01",
   "metadata": {},
   "outputs": [
    {
     "data": {
      "text/plain": [
       "54"
      ]
     },
     "execution_count": 101,
     "metadata": {},
     "output_type": "execute_result"
    }
   ],
   "source": [
    "#Checking if both datasets have the same columns after creating dummy variables\n",
    "len(USB_missing_withdummies.columns)"
   ]
  },
  {
   "cell_type": "code",
   "execution_count": 102,
   "id": "b69e306d",
   "metadata": {},
   "outputs": [
    {
     "data": {
      "text/plain": [
       "58"
      ]
     },
     "execution_count": 102,
     "metadata": {},
     "output_type": "execute_result"
    }
   ],
   "source": [
    "#Checking if both datasets have the same columns after creating dummy variables\n",
    "len(final_x.columns)"
   ]
  },
  {
   "cell_type": "code",
   "execution_count": 103,
   "id": "821f564a",
   "metadata": {},
   "outputs": [
    {
     "name": "stdout",
     "output_type": "stream",
     "text": [
      "Graphics_brand_PowerVR Graphics\n"
     ]
    }
   ],
   "source": [
    "#retriving the dummies not found in final_x dataframe\n",
    "a = USB_missing_withdummies.columns\n",
    "b = final_x.columns\n",
    "for i in a:\n",
    "    if i not in b:\n",
    "        print(i)"
   ]
  },
  {
   "cell_type": "code",
   "execution_count": 104,
   "id": "7ecd2374",
   "metadata": {},
   "outputs": [
    {
     "name": "stdout",
     "output_type": "stream",
     "text": [
      "Operating_system_ Linux \n",
      "Display_type_ QLED \n",
      "Processor_brand_Apple\n",
      "Graphics_brand_ARM Graphics\n",
      "Bluetooth__No\n"
     ]
    }
   ],
   "source": [
    "#retriving the dummies not found in the USB_missing data\n",
    "a = USB_missing_withdummies.columns\n",
    "b = final_x.columns\n",
    "for i in b:\n",
    "    if i not in a:\n",
    "        print(i)"
   ]
  },
  {
   "cell_type": "code",
   "execution_count": 105,
   "id": "8cd35fd1",
   "metadata": {},
   "outputs": [],
   "source": [
    "#Clearly the data was imbalanced as these data entries were on present in each dataframe subset\n",
    "# so will add all missing dummies to each corresponding dataframe that they are not found in, but with value 0\n",
    "feature_list = ['Operating_system_ Linux',\n",
    "'Display_type_ QLED ',\n",
    "'Processor_brand_Apple',\n",
    "'Graphics_brand_ARM Graphics',\n",
    "'Bluetooth__No']\n",
    "for i in feature_list:\n",
    "    USB_missing_withdummies[i] = 0"
   ]
  },
  {
   "cell_type": "code",
   "execution_count": 106,
   "id": "92715393",
   "metadata": {},
   "outputs": [],
   "source": [
    "final_x['Graphics_brand_PowerVR Graphics'] = 0"
   ]
  },
  {
   "cell_type": "code",
   "execution_count": 107,
   "id": "916a1d1b",
   "metadata": {},
   "outputs": [
    {
     "data": {
      "text/plain": [
       "59"
      ]
     },
     "execution_count": 107,
     "metadata": {},
     "output_type": "execute_result"
    }
   ],
   "source": [
    "len(USB_missing_withdummies.columns)"
   ]
  },
  {
   "cell_type": "code",
   "execution_count": 108,
   "id": "29ada477",
   "metadata": {},
   "outputs": [
    {
     "data": {
      "text/plain": [
       "59"
      ]
     },
     "execution_count": 108,
     "metadata": {},
     "output_type": "execute_result"
    }
   ],
   "source": [
    "len(final_x.columns)"
   ]
  },
  {
   "cell_type": "code",
   "execution_count": 109,
   "id": "ef6fc007",
   "metadata": {},
   "outputs": [
    {
     "data": {
      "text/plain": [
       "653"
      ]
     },
     "execution_count": 109,
     "metadata": {},
     "output_type": "execute_result"
    }
   ],
   "source": [
    "#Checking if data is balanced or not\n",
    "(y =='Yes').sum()"
   ]
  },
  {
   "cell_type": "code",
   "execution_count": 110,
   "id": "d898604c",
   "metadata": {},
   "outputs": [
    {
     "data": {
      "text/plain": [
       "79"
      ]
     },
     "execution_count": 110,
     "metadata": {},
     "output_type": "execute_result"
    }
   ],
   "source": [
    "#Checking if data is balanced or not\n",
    "(y =='No').sum()"
   ]
  },
  {
   "cell_type": "code",
   "execution_count": 111,
   "id": "e06ac6df",
   "metadata": {},
   "outputs": [],
   "source": [
    "#since data is not balanced I will use SMOTE\n",
    "from imblearn.over_sampling import SMOTE\n",
    "from collections import Counter\n",
    "smote = SMOTE()"
   ]
  },
  {
   "cell_type": "code",
   "execution_count": 112,
   "id": "f6d8865a",
   "metadata": {},
   "outputs": [
    {
     "name": "stdout",
     "output_type": "stream",
     "text": [
      "Before smote : Counter({'Yes': 653, 'No': 79})\n",
      "After smote : Counter({'No': 653, 'Yes': 653})\n"
     ]
    }
   ],
   "source": [
    "#Applying smote\n",
    "x_smote,y_smote = smote.fit_resample(final_x,y)\n",
    "\n",
    "#Checking if smote was applied correctly\n",
    "print('Before smote :',Counter(y))\n",
    "print('After smote :',Counter(y_smote))"
   ]
  },
  {
   "cell_type": "code",
   "execution_count": 113,
   "id": "9cb6e53f",
   "metadata": {},
   "outputs": [
    {
     "name": "stderr",
     "output_type": "stream",
     "text": [
      "C:\\Users\\pc\\anaconda3\\envs\\laptopclassifier\\lib\\site-packages\\xgboost\\sklearn.py:1146: UserWarning: The use of label encoder in XGBClassifier is deprecated and will be removed in a future release. To remove this warning, do the following: 1) Pass option use_label_encoder=False when constructing XGBClassifier object; and 2) Encode your labels (y) as integers starting with 0, i.e. 0, 1, 2, ..., [num_class - 1].\n",
      "  warnings.warn(label_encoder_deprecation_msg, UserWarning)\n"
     ]
    },
    {
     "name": "stdout",
     "output_type": "stream",
     "text": [
      "[00:39:41] WARNING: C:/Users/Administrator/workspace/xgboost-win64_release_1.4.0/src/learner.cc:1095: Starting in XGBoost 1.3.0, the default evaluation metric used with the objective 'binary:logistic' was changed from 'error' to 'logloss'. Explicitly set eval_metric if you'd like to restore the old behavior.\n"
     ]
    }
   ],
   "source": [
    "#Fitting,training and predicting\n",
    "xg_USB.fit(x_smote,y_smote)\n",
    "\n",
    "y_predict = xg_USB.predict(USB_missing_withdummies)"
   ]
  },
  {
   "cell_type": "code",
   "execution_count": 114,
   "id": "ad2711ec",
   "metadata": {},
   "outputs": [
    {
     "data": {
      "text/plain": [
       "0"
      ]
     },
     "execution_count": 114,
     "metadata": {},
     "output_type": "execute_result"
    }
   ],
   "source": [
    "#setting the index to be the same\n",
    "index = USB_missing_withdummies.index\n",
    "\n",
    "#converting the predictions to a dataframe and adding it to the USB_missing dataframe\n",
    "USB_missing['USB(typeC)'] = pd.DataFrame(y_predict,index = index)\n",
    "\n",
    "#concating the dataframes to create a combined dataframe with filled missing values\n",
    "filled_data4 = pd.concat([USB_train,USB_missing])\n",
    "\n",
    "#Cross checking if there are no missing values\n",
    "filled_data4['USB(typeC)'].isnull().sum()"
   ]
  },
  {
   "cell_type": "code",
   "execution_count": 115,
   "id": "c327639a",
   "metadata": {},
   "outputs": [
    {
     "data": {
      "text/plain": [
       "Ratings                         0\n",
       "No_of_ratings                   0\n",
       "Screen_size(inches)             0\n",
       "Processor_speed(GHz)            0\n",
       "Cache_memory(MBs)               0\n",
       "RAM(Gig)                        0\n",
       "RAM_max                         0\n",
       "Memory_slots                    0\n",
       "RAM_speed(MHz)                  0\n",
       "Harddrive_capacity(Gig)         0\n",
       "Weight(kg)                      0\n",
       "Warranty                        0\n",
       "Adapter(watts)                  0\n",
       "Battery_cells                   0\n",
       "Screen_pixel_density(width)     0\n",
       "Screen_pixel_density(height)    0\n",
       "Processor_cores                 0\n",
       "Length(mm)                      0\n",
       "Width(mm)                       0\n",
       "Height(mm)                      0\n",
       "USB(2.0)_ports                  0\n",
       "Bluetooth_version               0\n",
       "USB(typeC)_ports                0\n",
       "Operating_system                0\n",
       "Display_type                    0\n",
       "Touchscreen                     0\n",
       "Optical_Drive                   0\n",
       "Battery_type                    0\n",
       "Fingerprint                     0\n",
       "Processor_brand                 0\n",
       "Graphics_brand                  0\n",
       "USB(2.0)                        0\n",
       "Bluetooth_                      0\n",
       "USB(typeC)                      0\n",
       "Keyboard_backlit                0\n",
       "Harddrive_type                  0\n",
       "dtype: int64"
      ]
     },
     "execution_count": 115,
     "metadata": {},
     "output_type": "execute_result"
    }
   ],
   "source": [
    "#Checking if every column has no missing value\n",
    "filled_data4.isnull().sum()"
   ]
  },
  {
   "cell_type": "code",
   "execution_count": 116,
   "id": "88ea1612",
   "metadata": {},
   "outputs": [],
   "source": [
    "total_filled_data = filled_data4.copy()"
   ]
  },
  {
   "cell_type": "code",
   "execution_count": 117,
   "id": "1b8a0290",
   "metadata": {},
   "outputs": [],
   "source": [
    "#sorting the index of the dataframe\n",
    "total_filled_data.sort_index(inplace=True)"
   ]
  },
  {
   "cell_type": "code",
   "execution_count": 118,
   "id": "e2a3a6be",
   "metadata": {},
   "outputs": [],
   "source": [
    "#Joining Brand with the dataframe which i removed to prevent data leakage\n",
    "clean_train_data = total_filled_data.join(total_data['Brand'])"
   ]
  },
  {
   "cell_type": "markdown",
   "id": "8dd3cbc0",
   "metadata": {},
   "source": [
    "## Applying the exact same cleaning procedures used in the training data to the holdoutset data"
   ]
  },
  {
   "cell_type": "code",
   "execution_count": 119,
   "id": "c0d21571",
   "metadata": {},
   "outputs": [
    {
     "data": {
      "text/plain": [
       "Ratings                         212\n",
       "No_of_ratings                   196\n",
       "Operating_system                  0\n",
       "Screen_size(inches)               0\n",
       "Display_type                      0\n",
       "Touchscreen                       1\n",
       "Processor_speed(GHz)             29\n",
       "Cache_memory(MBs)                13\n",
       "RAM(Gig)                          1\n",
       "RAM_max                         226\n",
       "Memory_slots                      3\n",
       "RAM_speed(MHz)                  126\n",
       "Harddrive_type                  269\n",
       "Harddrive_capacity(Gig)           0\n",
       "Weight(kg)                        2\n",
       "Warranty                          8\n",
       "Optical_Drive                    61\n",
       "Adapter(watts)                   76\n",
       "Battery_cells                    63\n",
       "Battery_type                      5\n",
       "Battery_life(Hrs)               341\n",
       "Fingerprint                      59\n",
       "Screen_pixel_density(width)       0\n",
       "Screen_pixel_density(height)      0\n",
       "Processor_brand                   4\n",
       "Processor_cores                  31\n",
       "Graphics_brand                    1\n",
       "Length(mm)                       24\n",
       "Width(mm)                        24\n",
       "Height(mm)                       24\n",
       "USB(2.0)                         97\n",
       "USB(2.0)_ports                   97\n",
       "Bluetooth_                        2\n",
       "Bluetooth_version                 6\n",
       "USB(typeC)                      125\n",
       "USB(typeC)_ports                180\n",
       "Keyboard_backlit                247\n",
       "Brand                             0\n",
       "dtype: int64"
      ]
     },
     "execution_count": 119,
     "metadata": {},
     "output_type": "execute_result"
    }
   ],
   "source": [
    "holdout_set = pd.read_csv('Holdout_dataset.csv')\n",
    "holdout_set.isnull().sum()"
   ]
  },
  {
   "cell_type": "code",
   "execution_count": 120,
   "id": "7406810c",
   "metadata": {},
   "outputs": [],
   "source": [
    "#outlier removal\n",
    "unprocessed_holdout_set = holdout_set.copy()\n",
    "unprocessed_holdout_set['Cache_memory(MBs)'] = unprocessed_holdout_set['Cache_memory(MBs)'].apply(cache_outlier_fixer)\n",
    "unprocessed_holdout_set['Adapter(watts)'] = unprocessed_holdout_set['Adapter(watts)'].apply(wattage_outlier_fixer)\n",
    "\n",
    "#Removal of column with more than 70% missing data\n",
    "unprocessed_holdout_set = unprocessed_holdout_set.drop('Battery_life(Hrs)',axis = 1)"
   ]
  },
  {
   "cell_type": "code",
   "execution_count": 121,
   "id": "9d05ffb0",
   "metadata": {},
   "outputs": [],
   "source": [
    "#Filling missing values of numeric data\n",
    "holdout_set_numeric = unprocessed_holdout_set[['Ratings', 'No_of_ratings', 'Screen_size(inches)', 'Processor_speed(GHz)',\n",
    "       'Cache_memory(MBs)', 'RAM(Gig)', 'RAM_max', 'Memory_slots',\n",
    "       'RAM_speed(MHz)', 'Harddrive_capacity(Gig)',\n",
    "       'Weight(kg)', 'Warranty', 'Adapter(watts)',\n",
    "       'Battery_cells',\n",
    "       'Screen_pixel_density(width)', 'Screen_pixel_density(height)', 'Processor_cores', 'Length(mm)',\n",
    "       'Width(mm)', 'Height(mm)', 'USB(2.0)_ports',\n",
    "       'Bluetooth_version', 'USB(typeC)_ports']]\n",
    "\n",
    "holdout_set_array_imputed = imputer1.transform(holdout_set_numeric)\n",
    "holdout_set_imputed = pd.DataFrame(holdout_set_array_imputed,columns=columns)"
   ]
  },
  {
   "cell_type": "code",
   "execution_count": 122,
   "id": "0aafd698",
   "metadata": {},
   "outputs": [],
   "source": [
    "#Appying the same function to the numeric features to roundoff the figures\n",
    "holdout_set_imputed['No_of_ratings'] = holdout_set_imputed['No_of_ratings'].apply(rounder)\n",
    "holdout_set_imputed['Cache_memory(MBs)'] = holdout_set_imputed['Cache_memory(MBs)'].apply(rounder)\n",
    "holdout_set_imputed['RAM(Gig)'] = holdout_set_imputed['RAM(Gig)'].apply(rounder)\n",
    "holdout_set_imputed['RAM_max'] = holdout_set_imputed['RAM_max'].apply(rounder)\n",
    "holdout_set_imputed['Memory_slots'] = holdout_set_imputed['Memory_slots'].apply(rounder)\n",
    "holdout_set_imputed['RAM_speed(MHz)'] = holdout_set_imputed['RAM_speed(MHz)'].apply(rounder)\n",
    "holdout_set_imputed['Harddrive_capacity(Gig)'] = holdout_set_imputed['Harddrive_capacity(Gig)'].apply(rounder)\n",
    "holdout_set_imputed['Adapter(watts)'] = holdout_set_imputed['Adapter(watts)'].apply(rounder)\n",
    "holdout_set_imputed['Battery_cells'] = holdout_set_imputed['Battery_cells'].apply(rounder)\n",
    "holdout_set_imputed['Screen_pixel_density(height)'] = holdout_set_imputed['Screen_pixel_density(height)'].apply(rounder)\n",
    "holdout_set_imputed['Screen_pixel_density(width)'] = holdout_set_imputed['Screen_pixel_density(width)'].apply(rounder)\n",
    "holdout_set_imputed['Processor_cores'] = holdout_set_imputed['Processor_cores'].apply(rounder)\n",
    "holdout_set_imputed['USB(2.0)_ports'] = holdout_set_imputed['USB(2.0)_ports'].apply(rounder)\n",
    "holdout_set_imputed['USB(typeC)_ports'] = holdout_set_imputed['USB(typeC)_ports'].apply(rounder)"
   ]
  },
  {
   "cell_type": "code",
   "execution_count": 123,
   "id": "d404d92a",
   "metadata": {},
   "outputs": [],
   "source": [
    "#Using the same imputer to fill in categorical features\n",
    "holdout_set_categorical = unprocessed_holdout_set[[ 'Operating_system','Display_type', 'Touchscreen', 'Harddrive_type', 'Optical_Drive',\n",
    "        'Battery_type', 'Fingerprint','Processor_brand', 'Graphics_brand', 'USB(2.0)', 'Bluetooth_', 'USB(typeC)',\n",
    "       'Keyboard_backlit', 'Brand']]\n",
    "holdout_set_imputed2 = imputer2.transform(holdout_set_categorical)\n",
    "\n",
    "# Joining both numerical and categorical imputed datasets\n",
    "holdout_set_total_data = holdout_set_imputed.join(holdout_set_imputed2)\n",
    "\n",
    "#Filling in missing data on USB2.0 and Keybordbacklit columns\n",
    "holdout_set_total_data['USB(2.0)'] = holdout_set_total_data['USB(2.0)'].fillna('Yes')\n",
    "holdout_set_total_data['Keyboard_backlit'] = holdout_set_total_data['Keyboard_backlit'].fillna('no')"
   ]
  },
  {
   "cell_type": "markdown",
   "id": "7e6ec36e",
   "metadata": {},
   "source": [
    "## Applying the same models to predict the missing values of harddrive_type,optical_drive,Fingerprint andUSBtypeC columns"
   ]
  },
  {
   "cell_type": "markdown",
   "id": "63ce3bcf",
   "metadata": {},
   "source": [
    "## Predicting Hold-out hardrive_type missing values"
   ]
  },
  {
   "cell_type": "code",
   "execution_count": 124,
   "id": "b4012a84",
   "metadata": {},
   "outputs": [],
   "source": [
    "#Dropping the true target to prevent data leakage\n",
    "holdout_df = holdout_set_total_data.drop('Brand',axis=1)\n",
    "\n",
    "#filling in missing data on other features with unknown \n",
    "holdout_harddrive_inputs_with_missingData = holdout_df.drop('Harddrive_type',axis=1)\n",
    "holdout_harddrive_inputs = holdout_harddrive_inputs_with_missingData.fillna('unknown')\n",
    "holdout_harddrive_fulldata = holdout_harddrive_inputs.join(df['Harddrive_type'])\n",
    "\n",
    "#Separating dataframe with missing hardrive_type values\n",
    "holdout_harddrive_missing = holdout_harddrive_fulldata[holdout_harddrive_fulldata.isnull().any(axis=1)].drop('Harddrive_type',axis=1)\n",
    "holdout_harddrive_noMissing = holdout_harddrive_fulldata.dropna()\n",
    "\n",
    "#creating dummy variables on the missing values dataset for prediction\n",
    "holdout_harddrive_missing_withdummies = pd.get_dummies(holdout_harddrive_missing)\n"
   ]
  },
  {
   "cell_type": "code",
   "execution_count": 125,
   "id": "ebc27d5c",
   "metadata": {},
   "outputs": [],
   "source": [
    "#Due to data splitting (between training data and holdout data) some dummies on the training data may not be found on the\n",
    "#corresponding holdoutset columns"
   ]
  },
  {
   "cell_type": "code",
   "execution_count": 126,
   "id": "813abec9",
   "metadata": {},
   "outputs": [
    {
     "data": {
      "text/plain": [
       "57"
      ]
     },
     "execution_count": 126,
     "metadata": {},
     "output_type": "execute_result"
    }
   ],
   "source": [
    "#Checking if both datasets have the same columns\n",
    "len(holdout_harddrive_missing_withdummies.columns)"
   ]
  },
  {
   "cell_type": "code",
   "execution_count": 127,
   "id": "52aae453",
   "metadata": {},
   "outputs": [
    {
     "data": {
      "text/plain": [
       "62"
      ]
     },
     "execution_count": 127,
     "metadata": {},
     "output_type": "execute_result"
    }
   ],
   "source": [
    "#Checking if both datasets have the same columns\n",
    "len(harddrive_missing_withdummies.columns)"
   ]
  },
  {
   "cell_type": "code",
   "execution_count": 128,
   "id": "73588ce8",
   "metadata": {},
   "outputs": [
    {
     "name": "stdout",
     "output_type": "stream",
     "text": [
      "Display_type_ LCD \n",
      "Display_type_ QLED \n",
      "Processor_brand_Apple\n",
      "Graphics_brand_MediaTek Graphics\n",
      "Graphics_brand_PowerVR Graphics\n"
     ]
    }
   ],
   "source": [
    "#retriving the dummies not found in holdoutset dataframe\n",
    "a = harddrive_missing_withdummies.columns\n",
    "b = holdout_harddrive_missing_withdummies.columns\n",
    "for i in a:\n",
    "    if i not in b:\n",
    "        print(i)"
   ]
  },
  {
   "cell_type": "code",
   "execution_count": 129,
   "id": "a978dd04",
   "metadata": {},
   "outputs": [],
   "source": [
    "#adding the missing dummies\n",
    "holdout_featurelist = ['Display_type_ LCD ',\n",
    "'Display_type_ QLED ',\n",
    "'Processor_brand_Apple',\n",
    "'Graphics_brand_MediaTek Graphics',\n",
    "'Graphics_brand_PowerVR Graphics']\n",
    "for i in holdout_featurelist:\n",
    "    holdout_harddrive_missing_withdummies[i] = 0"
   ]
  },
  {
   "cell_type": "code",
   "execution_count": 130,
   "id": "020c649d",
   "metadata": {},
   "outputs": [
    {
     "data": {
      "text/plain": [
       "0"
      ]
     },
     "execution_count": 130,
     "metadata": {},
     "output_type": "execute_result"
    }
   ],
   "source": [
    "#predicting the missing values with the same model used on the training set\n",
    "holdout_y_predict = xg_harddrive_type.predict(holdout_harddrive_missing_withdummies)\n",
    "\n",
    "#setting the index to be the same\n",
    "index = holdout_harddrive_missing_withdummies.index\n",
    "\n",
    "#converting the predictions to a dataframe and adding it to the holdout_harddrive_missing dataframe\n",
    "holdout_harddrive_missing['Harddrive_type'] = pd.DataFrame(holdout_y_predict,index = index)\n",
    "\n",
    "#concating the dataframes to create a combined dataframe with filled missing values\n",
    "holdout_filled_data1 = pd.concat([holdout_harddrive_noMissing,holdout_harddrive_missing])\n",
    "\n",
    "#Cross checking if there are no missing values\n",
    "holdout_filled_data1['Harddrive_type'].isnull().sum()"
   ]
  },
  {
   "cell_type": "markdown",
   "id": "b4bc2e79",
   "metadata": {},
   "source": [
    "## Predicting hold-out optical-drive missing values"
   ]
  },
  {
   "cell_type": "code",
   "execution_count": 131,
   "id": "bc980df3",
   "metadata": {},
   "outputs": [],
   "source": [
    "#separating data with missing optical values from the one without\n",
    "holdout_optical = holdout_filled_data1[holdout_filled_data1['Optical_Drive'] == 'unknown']\n",
    "holdout_optical_missing = holdout_optical.drop('Optical_Drive',axis = 1)\n",
    "holdout_optical_noMissing = holdout_filled_data1[holdout_filled_data1['Optical_Drive'] != 'unknown']\n",
    "\n",
    "#creating dummy variables on the missing values dataset for prediction\n",
    "holdout_optical_missing_withdummies = pd.get_dummies(holdout_optical_missing)"
   ]
  },
  {
   "cell_type": "code",
   "execution_count": 132,
   "id": "6a8978f7",
   "metadata": {},
   "outputs": [],
   "source": [
    "#Due to data splitting some dummies on the training data may not be found on the corresponding holdoutset columns"
   ]
  },
  {
   "cell_type": "code",
   "execution_count": 133,
   "id": "83ce5b6d",
   "metadata": {},
   "outputs": [
    {
     "data": {
      "text/plain": [
       "49"
      ]
     },
     "execution_count": 133,
     "metadata": {},
     "output_type": "execute_result"
    }
   ],
   "source": [
    "#Checking if both datasets have the same dummies\n",
    "len(holdout_optical_missing_withdummies.columns)"
   ]
  },
  {
   "cell_type": "code",
   "execution_count": 134,
   "id": "34e29469",
   "metadata": {},
   "outputs": [
    {
     "data": {
      "text/plain": [
       "61"
      ]
     },
     "execution_count": 134,
     "metadata": {},
     "output_type": "execute_result"
    }
   ],
   "source": [
    "len(optical_missing_withdummies.columns)"
   ]
  },
  {
   "cell_type": "code",
   "execution_count": 135,
   "id": "65f662d8",
   "metadata": {},
   "outputs": [
    {
     "name": "stdout",
     "output_type": "stream",
     "text": [
      "Operating_system_ Ubuntu \n",
      "Operating_system_MAC\n",
      "Display_type_ LCD \n",
      "Operating_system_ Linux \n",
      "Display_type_ AMOLED \n",
      "Display_type_ OLED \n",
      "Display_type_ QLED \n",
      "Processor_brand_Apple\n",
      "Processor_brand_MediaTek\n",
      "Graphics_brand_ARM Graphics\n",
      "Graphics_brand_MediaTek Graphics\n",
      "Graphics_brand_PowerVR Graphics\n"
     ]
    }
   ],
   "source": [
    "#retriving the dummies not found in holdout dataframe\n",
    "a = optical_missing_withdummies.columns\n",
    "b = holdout_optical_missing_withdummies.columns\n",
    "for i in a:\n",
    "    if i not in b:\n",
    "        print(i)"
   ]
  },
  {
   "cell_type": "code",
   "execution_count": 136,
   "id": "a6a1623b",
   "metadata": {},
   "outputs": [],
   "source": [
    "#adding the missing dummies\n",
    "holdout_featurelist2 = ['Operating_system_ Ubuntu',\n",
    "'Operating_system_MAC',\n",
    "'Display_type_ LCD ',\n",
    "'Operating_system_ Linux', \n",
    "'Display_type_ AMOLED ',\n",
    "'Display_type_ OLED ',\n",
    "'Display_type_ QLED ',\n",
    "'Processor_brand_Apple',\n",
    "'Processor_brand_MediaTek',\n",
    "'Graphics_brand_ARM Graphics',\n",
    "'Graphics_brand_MediaTek Graphics',\n",
    "'Graphics_brand_PowerVR Graphics']\n",
    "for i in holdout_featurelist2:\n",
    "    holdout_optical_missing_withdummies[i] = 0"
   ]
  },
  {
   "cell_type": "code",
   "execution_count": 137,
   "id": "68d44a27",
   "metadata": {},
   "outputs": [
    {
     "data": {
      "text/plain": [
       "61"
      ]
     },
     "execution_count": 137,
     "metadata": {},
     "output_type": "execute_result"
    }
   ],
   "source": [
    "len(holdout_optical_missing_withdummies)"
   ]
  },
  {
   "cell_type": "code",
   "execution_count": 138,
   "id": "3c43e1c6",
   "metadata": {},
   "outputs": [
    {
     "data": {
      "text/plain": [
       "0"
      ]
     },
     "execution_count": 138,
     "metadata": {},
     "output_type": "execute_result"
    }
   ],
   "source": [
    "#predicting the missing values with the same model used on the training set\n",
    "holdout_y_predict = xg_Optical_drive.predict(holdout_optical_missing_withdummies)\n",
    "\n",
    "#setting the index to be the same\n",
    "index = holdout_optical_missing_withdummies.index\n",
    "\n",
    "#converting the predictions to a dataframe and adding it to the holdout_optical_missing dataframe\n",
    "holdout_optical_missing['Optical_Drive'] = pd.DataFrame(holdout_y_predict,index = index)\n",
    "\n",
    "#concating the dataframes to create a combined dataframe with filled missing values\n",
    "holdout_filled_data2 = pd.concat([holdout_optical_noMissing,holdout_optical_missing])\n",
    "\n",
    "#Cross checking if there are no missing values\n",
    "holdout_filled_data2['Optical_Drive'].isnull().sum()"
   ]
  },
  {
   "cell_type": "markdown",
   "id": "9ea01cec",
   "metadata": {},
   "source": [
    "## Predicting hold-out Fingerprint missing values"
   ]
  },
  {
   "cell_type": "code",
   "execution_count": 139,
   "id": "49563dcc",
   "metadata": {},
   "outputs": [],
   "source": [
    "#separating data with missing fingerprint values from the one without\n",
    "holdout_fingerprint = holdout_filled_data2[holdout_filled_data2['Fingerprint'] == 'unknown']\n",
    "holdout_fingerprint_missing = holdout_fingerprint.drop('Fingerprint',axis = 1)\n",
    "holdout_fingerprint_noMissing = holdout_filled_data2[holdout_filled_data2['Fingerprint'] != 'unknown']\n",
    "\n",
    "#creating dummy variables on the missing values dataset for prediction\n",
    "holdout_fingerprint_missing_withdummies = pd.get_dummies(holdout_fingerprint_missing)"
   ]
  },
  {
   "cell_type": "code",
   "execution_count": 140,
   "id": "fc609686",
   "metadata": {},
   "outputs": [],
   "source": [
    "#Due to data splitting some dummies on the training data may not be found on the corresponding holdoutset columns"
   ]
  },
  {
   "cell_type": "code",
   "execution_count": 141,
   "id": "4b6b613e",
   "metadata": {},
   "outputs": [
    {
     "data": {
      "text/plain": [
       "49"
      ]
     },
     "execution_count": 141,
     "metadata": {},
     "output_type": "execute_result"
    }
   ],
   "source": [
    "#Checking if both datasets have the same dummies\n",
    "len(holdout_fingerprint_missing_withdummies.columns)"
   ]
  },
  {
   "cell_type": "code",
   "execution_count": 142,
   "id": "b25b134f",
   "metadata": {},
   "outputs": [
    {
     "data": {
      "text/plain": [
       "60"
      ]
     },
     "execution_count": 142,
     "metadata": {},
     "output_type": "execute_result"
    }
   ],
   "source": [
    "len(fingerprint_missing_withdummies.columns)"
   ]
  },
  {
   "cell_type": "code",
   "execution_count": 143,
   "id": "a96ae659",
   "metadata": {},
   "outputs": [
    {
     "name": "stdout",
     "output_type": "stream",
     "text": [
      "Display_type_ LCD \n",
      "Display_type_ OLED \n",
      "Processor_brand_Apple\n",
      "Operating_system_ Linux\n",
      "Operating_system_ Ubuntu\n",
      "Display_type_ QLED \n",
      "Processor_brand_MediaTek\n",
      "Graphics_brand_ARM Graphics\n",
      "Graphics_brand_MediaTek Graphics\n",
      "Graphics_brand_PowerVR Graphics\n",
      "Bluetooth__No\n"
     ]
    }
   ],
   "source": [
    "#retriving the dummies not found in holdoutset dataframe\n",
    "a = fingerprint_missing_withdummies.columns\n",
    "b = holdout_fingerprint_missing_withdummies.columns\n",
    "for i in a:\n",
    "    if i not in b:\n",
    "        print(i)"
   ]
  },
  {
   "cell_type": "code",
   "execution_count": 144,
   "id": "4937d5fa",
   "metadata": {},
   "outputs": [],
   "source": [
    "#adding the missing dummies\n",
    "holdout_featurelist3 = ['Display_type_ LCD ',\n",
    "'Display_type_ OLED ',\n",
    "'Processor_brand_Apple',\n",
    "'Operating_system_ Linux',\n",
    "'Operating_system_ Ubuntu',\n",
    "'Display_type_ QLED ',\n",
    "'Processor_brand_MediaTek',\n",
    "'Graphics_brand_ARM Graphics',\n",
    "'Graphics_brand_MediaTek Graphics',\n",
    "'Graphics_brand_PowerVR Graphics',\n",
    "'Bluetooth__No']\n",
    "for i in holdout_featurelist3:\n",
    "    holdout_fingerprint_missing_withdummies[i] = 0"
   ]
  },
  {
   "cell_type": "code",
   "execution_count": 145,
   "id": "2a511256",
   "metadata": {},
   "outputs": [
    {
     "data": {
      "text/plain": [
       "60"
      ]
     },
     "execution_count": 145,
     "metadata": {},
     "output_type": "execute_result"
    }
   ],
   "source": [
    "len(holdout_fingerprint_missing_withdummies.columns)"
   ]
  },
  {
   "cell_type": "code",
   "execution_count": 146,
   "id": "25507bf3",
   "metadata": {},
   "outputs": [
    {
     "data": {
      "text/plain": [
       "0"
      ]
     },
     "execution_count": 146,
     "metadata": {},
     "output_type": "execute_result"
    }
   ],
   "source": [
    "#predicting the missing values with the same model used on the training set\n",
    "holdout_y_predict = xg_Fingerprint.predict(holdout_fingerprint_missing_withdummies)\n",
    "\n",
    "#setting the index to be the same\n",
    "index = holdout_fingerprint_missing_withdummies.index\n",
    "\n",
    "#converting the predictions to a dataframe and adding it to the holdout_fingerprint_missing dataframe\n",
    "holdout_fingerprint_missing['Fingerprint'] = pd.DataFrame(holdout_y_predict,index = index)\n",
    "\n",
    "#concating the dataframes to create a cobined dataframe with filled missing values\n",
    "holdout_filled_data3 = pd.concat([holdout_fingerprint_noMissing,holdout_fingerprint_missing])\n",
    "\n",
    "#Cross checking if there are no missing values\n",
    "holdout_filled_data3['Fingerprint'].isnull().sum()"
   ]
  },
  {
   "cell_type": "markdown",
   "id": "3f9609c6",
   "metadata": {},
   "source": [
    "## Predicting hold-out USB(typeC) missing values"
   ]
  },
  {
   "cell_type": "code",
   "execution_count": 147,
   "id": "bc815ad7",
   "metadata": {},
   "outputs": [],
   "source": [
    "#separating data with missing USB(typeC) values from the one without\n",
    "holdout_USB = holdout_filled_data3[holdout_filled_data3['USB(typeC)'] == 'unknown']\n",
    "holdout_USB_missing = holdout_USB.drop('USB(typeC)',axis = 1)\n",
    "holdout_USB_noMissing = holdout_filled_data3[holdout_filled_data3['USB(typeC)'] != 'unknown']\n",
    "\n",
    "#creating dummy variables on the missing values dataset for prediction\n",
    "holdout_USB_missing_withdummies = pd.get_dummies(holdout_USB_missing)"
   ]
  },
  {
   "cell_type": "code",
   "execution_count": 148,
   "id": "078173f2",
   "metadata": {},
   "outputs": [],
   "source": [
    "#Due to data splitting some dummies on the training data may not be found on the corresponding holdoutset columns"
   ]
  },
  {
   "cell_type": "code",
   "execution_count": 149,
   "id": "5b43eda2",
   "metadata": {},
   "outputs": [
    {
     "data": {
      "text/plain": [
       "49"
      ]
     },
     "execution_count": 149,
     "metadata": {},
     "output_type": "execute_result"
    }
   ],
   "source": [
    "#Checking if both datasets have the same dummies\n",
    "len(holdout_USB_missing_withdummies.columns)"
   ]
  },
  {
   "cell_type": "code",
   "execution_count": 150,
   "id": "e08dbe67",
   "metadata": {},
   "outputs": [
    {
     "data": {
      "text/plain": [
       "59"
      ]
     },
     "execution_count": 150,
     "metadata": {},
     "output_type": "execute_result"
    }
   ],
   "source": [
    "len(USB_missing_withdummies.columns)"
   ]
  },
  {
   "cell_type": "code",
   "execution_count": 151,
   "id": "bb3b9b2a",
   "metadata": {},
   "outputs": [
    {
     "name": "stdout",
     "output_type": "stream",
     "text": [
      "Operating_system_MAC\n",
      "Display_type_ AMOLED \n",
      "Display_type_ LCD \n",
      "Processor_brand_MediaTek\n",
      "Graphics_brand_MediaTek Graphics\n",
      "Graphics_brand_PowerVR Graphics\n",
      "Operating_system_ Linux\n",
      "Display_type_ QLED \n",
      "Processor_brand_Apple\n",
      "Graphics_brand_ARM Graphics\n",
      "Bluetooth__No\n"
     ]
    }
   ],
   "source": [
    "#retriving the dummies not found in holdoutset dataframe\n",
    "a = USB_missing_withdummies.columns\n",
    "b = holdout_USB_missing_withdummies.columns\n",
    "for i in a:\n",
    "    if i not in b:\n",
    "        print(i)"
   ]
  },
  {
   "cell_type": "code",
   "execution_count": 152,
   "id": "49d02d58",
   "metadata": {},
   "outputs": [],
   "source": [
    "#adding the missing dummies\n",
    "holdout_feature_list4 =['Operating_system_MAC',\n",
    "'Display_type_ AMOLED ',\n",
    "'Display_type_ LCD ',\n",
    "'Processor_brand_MediaTek',\n",
    "'Graphics_brand_MediaTek Graphics',\n",
    "'Graphics_brand_PowerVR Graphics',\n",
    "'Display_type_ QLED ',\n",
    "'Processor_brand_Apple',\n",
    "'Graphics_brand_ARM Graphics',\n",
    "'Bluetooth__No']\n",
    "for i in holdout_feature_list4:\n",
    "    holdout_USB_missing_withdummies[i] = 0"
   ]
  },
  {
   "cell_type": "code",
   "execution_count": 153,
   "id": "ca8b53dc",
   "metadata": {},
   "outputs": [
    {
     "data": {
      "text/plain": [
       "59"
      ]
     },
     "execution_count": 153,
     "metadata": {},
     "output_type": "execute_result"
    }
   ],
   "source": [
    "len(holdout_USB_missing_withdummies.columns)"
   ]
  },
  {
   "cell_type": "code",
   "execution_count": 154,
   "id": "dace4ec7",
   "metadata": {},
   "outputs": [
    {
     "data": {
      "text/plain": [
       "0"
      ]
     },
     "execution_count": 154,
     "metadata": {},
     "output_type": "execute_result"
    }
   ],
   "source": [
    "#predicting the missing values with the same model used on the training set\n",
    "holdout_y_predict = xg_USB.predict(holdout_USB_missing_withdummies)\n",
    "\n",
    "#setting the index to be the same\n",
    "index = holdout_USB_missing_withdummies.index\n",
    "\n",
    "#converting the predictions to a dataframe and adding it to the holdout_USB(typeC)_missing dataframe\n",
    "holdout_USB_missing['USB(typeC)'] = pd.DataFrame(holdout_y_predict,index = index)\n",
    "\n",
    "#concating the dataframes to create a combined dataframe with filled missing values\n",
    "holdout_filled_data4 = pd.concat([holdout_USB_noMissing,holdout_USB_missing])\n",
    "\n",
    "#Cross checking if there are no missing values\n",
    "holdout_filled_data4['USB(typeC)'].isnull().sum()"
   ]
  },
  {
   "cell_type": "code",
   "execution_count": 155,
   "id": "38ed2477",
   "metadata": {},
   "outputs": [],
   "source": [
    "holdout_total_filled_data = holdout_filled_data4.copy()\n",
    "\n",
    "#Sorting the index of the dataframe\n",
    "holdout_total_filled_data.sort_index(inplace=True)\n",
    "\n",
    "#Joining Brand with the dataframe which i removed to prevent data leakage\n",
    "holdout_clean_data = holdout_total_filled_data.join(holdout_set_total_data['Brand'])"
   ]
  },
  {
   "cell_type": "code",
   "execution_count": 156,
   "id": "f869d96d",
   "metadata": {},
   "outputs": [
    {
     "data": {
      "text/html": [
       "<div>\n",
       "<style scoped>\n",
       "    .dataframe tbody tr th:only-of-type {\n",
       "        vertical-align: middle;\n",
       "    }\n",
       "\n",
       "    .dataframe tbody tr th {\n",
       "        vertical-align: top;\n",
       "    }\n",
       "\n",
       "    .dataframe thead th {\n",
       "        text-align: right;\n",
       "    }\n",
       "</style>\n",
       "<table border=\"1\" class=\"dataframe\">\n",
       "  <thead>\n",
       "    <tr style=\"text-align: right;\">\n",
       "      <th></th>\n",
       "      <th>Ratings</th>\n",
       "      <th>No_of_ratings</th>\n",
       "      <th>Screen_size(inches)</th>\n",
       "      <th>Processor_speed(GHz)</th>\n",
       "      <th>Cache_memory(MBs)</th>\n",
       "      <th>RAM(Gig)</th>\n",
       "      <th>RAM_max</th>\n",
       "      <th>Memory_slots</th>\n",
       "      <th>RAM_speed(MHz)</th>\n",
       "      <th>Harddrive_capacity(Gig)</th>\n",
       "      <th>...</th>\n",
       "      <th>Battery_type</th>\n",
       "      <th>Fingerprint</th>\n",
       "      <th>Processor_brand</th>\n",
       "      <th>Graphics_brand</th>\n",
       "      <th>USB(2.0)</th>\n",
       "      <th>Bluetooth_</th>\n",
       "      <th>USB(typeC)</th>\n",
       "      <th>Keyboard_backlit</th>\n",
       "      <th>Harddrive_type</th>\n",
       "      <th>Brand</th>\n",
       "    </tr>\n",
       "  </thead>\n",
       "  <tbody>\n",
       "    <tr>\n",
       "      <th>0</th>\n",
       "      <td>4.10</td>\n",
       "      <td>31</td>\n",
       "      <td>14.0</td>\n",
       "      <td>2.20</td>\n",
       "      <td>4</td>\n",
       "      <td>4</td>\n",
       "      <td>15</td>\n",
       "      <td>1</td>\n",
       "      <td>2133</td>\n",
       "      <td>1000</td>\n",
       "      <td>...</td>\n",
       "      <td>Li-Ion</td>\n",
       "      <td>Yes</td>\n",
       "      <td>Intel</td>\n",
       "      <td>Intel Graphics</td>\n",
       "      <td>Yes</td>\n",
       "      <td>Yes</td>\n",
       "      <td>Yes</td>\n",
       "      <td>no</td>\n",
       "      <td>HDD</td>\n",
       "      <td>Lenovo</td>\n",
       "    </tr>\n",
       "    <tr>\n",
       "      <th>1</th>\n",
       "      <td>4.30</td>\n",
       "      <td>32</td>\n",
       "      <td>15.6</td>\n",
       "      <td>4.20</td>\n",
       "      <td>8</td>\n",
       "      <td>8</td>\n",
       "      <td>14</td>\n",
       "      <td>1</td>\n",
       "      <td>2960</td>\n",
       "      <td>512</td>\n",
       "      <td>...</td>\n",
       "      <td>Li-Ion</td>\n",
       "      <td>Yes</td>\n",
       "      <td>Intel</td>\n",
       "      <td>Intel Graphics</td>\n",
       "      <td>Yes</td>\n",
       "      <td>Yes</td>\n",
       "      <td>Yes</td>\n",
       "      <td>yes</td>\n",
       "      <td>SSD</td>\n",
       "      <td>Acer</td>\n",
       "    </tr>\n",
       "    <tr>\n",
       "      <th>2</th>\n",
       "      <td>3.80</td>\n",
       "      <td>3</td>\n",
       "      <td>14.0</td>\n",
       "      <td>3.00</td>\n",
       "      <td>8</td>\n",
       "      <td>16</td>\n",
       "      <td>29</td>\n",
       "      <td>1</td>\n",
       "      <td>4266</td>\n",
       "      <td>1000</td>\n",
       "      <td>...</td>\n",
       "      <td>Li-Ion</td>\n",
       "      <td>Yes</td>\n",
       "      <td>Intel</td>\n",
       "      <td>Intel Graphics</td>\n",
       "      <td>Yes</td>\n",
       "      <td>Yes</td>\n",
       "      <td>Yes</td>\n",
       "      <td>yes</td>\n",
       "      <td>HDD</td>\n",
       "      <td>Lenovo</td>\n",
       "    </tr>\n",
       "    <tr>\n",
       "      <th>3</th>\n",
       "      <td>4.31</td>\n",
       "      <td>79</td>\n",
       "      <td>15.6</td>\n",
       "      <td>2.27</td>\n",
       "      <td>4</td>\n",
       "      <td>6</td>\n",
       "      <td>16</td>\n",
       "      <td>1</td>\n",
       "      <td>3200</td>\n",
       "      <td>1000</td>\n",
       "      <td>...</td>\n",
       "      <td>Li-Ion</td>\n",
       "      <td>No</td>\n",
       "      <td>AMD</td>\n",
       "      <td>NVIDIA</td>\n",
       "      <td>Yes</td>\n",
       "      <td>Yes</td>\n",
       "      <td>Yes</td>\n",
       "      <td>yes</td>\n",
       "      <td>HDD</td>\n",
       "      <td>Lenovo</td>\n",
       "    </tr>\n",
       "    <tr>\n",
       "      <th>4</th>\n",
       "      <td>4.00</td>\n",
       "      <td>66</td>\n",
       "      <td>14.0</td>\n",
       "      <td>4.00</td>\n",
       "      <td>6</td>\n",
       "      <td>4</td>\n",
       "      <td>20</td>\n",
       "      <td>1</td>\n",
       "      <td>3200</td>\n",
       "      <td>256</td>\n",
       "      <td>...</td>\n",
       "      <td>Li-Ion</td>\n",
       "      <td>No</td>\n",
       "      <td>Intel</td>\n",
       "      <td>Intel Graphics</td>\n",
       "      <td>Yes</td>\n",
       "      <td>Yes</td>\n",
       "      <td>Yes</td>\n",
       "      <td>yes</td>\n",
       "      <td>HDD</td>\n",
       "      <td>Dell</td>\n",
       "    </tr>\n",
       "    <tr>\n",
       "      <th>...</th>\n",
       "      <td>...</td>\n",
       "      <td>...</td>\n",
       "      <td>...</td>\n",
       "      <td>...</td>\n",
       "      <td>...</td>\n",
       "      <td>...</td>\n",
       "      <td>...</td>\n",
       "      <td>...</td>\n",
       "      <td>...</td>\n",
       "      <td>...</td>\n",
       "      <td>...</td>\n",
       "      <td>...</td>\n",
       "      <td>...</td>\n",
       "      <td>...</td>\n",
       "      <td>...</td>\n",
       "      <td>...</td>\n",
       "      <td>...</td>\n",
       "      <td>...</td>\n",
       "      <td>...</td>\n",
       "      <td>...</td>\n",
       "      <td>...</td>\n",
       "    </tr>\n",
       "    <tr>\n",
       "      <th>439</th>\n",
       "      <td>3.70</td>\n",
       "      <td>17</td>\n",
       "      <td>14.0</td>\n",
       "      <td>1.60</td>\n",
       "      <td>6</td>\n",
       "      <td>8</td>\n",
       "      <td>12</td>\n",
       "      <td>1</td>\n",
       "      <td>2293</td>\n",
       "      <td>512</td>\n",
       "      <td>...</td>\n",
       "      <td>Li-Ion</td>\n",
       "      <td>No</td>\n",
       "      <td>Intel</td>\n",
       "      <td>NVIDIA</td>\n",
       "      <td>Yes</td>\n",
       "      <td>Yes</td>\n",
       "      <td>Yes</td>\n",
       "      <td>no</td>\n",
       "      <td>HDD</td>\n",
       "      <td>Acer</td>\n",
       "    </tr>\n",
       "    <tr>\n",
       "      <th>440</th>\n",
       "      <td>4.38</td>\n",
       "      <td>187</td>\n",
       "      <td>14.0</td>\n",
       "      <td>2.40</td>\n",
       "      <td>8</td>\n",
       "      <td>16</td>\n",
       "      <td>19</td>\n",
       "      <td>1</td>\n",
       "      <td>3200</td>\n",
       "      <td>512</td>\n",
       "      <td>...</td>\n",
       "      <td>Li-Ion</td>\n",
       "      <td>No</td>\n",
       "      <td>Intel</td>\n",
       "      <td>Intel Graphics</td>\n",
       "      <td>Yes</td>\n",
       "      <td>Yes</td>\n",
       "      <td>Yes</td>\n",
       "      <td>yes</td>\n",
       "      <td>SSD</td>\n",
       "      <td>Asus</td>\n",
       "    </tr>\n",
       "    <tr>\n",
       "      <th>441</th>\n",
       "      <td>4.00</td>\n",
       "      <td>43</td>\n",
       "      <td>14.0</td>\n",
       "      <td>1.60</td>\n",
       "      <td>6</td>\n",
       "      <td>8</td>\n",
       "      <td>14</td>\n",
       "      <td>1</td>\n",
       "      <td>2666</td>\n",
       "      <td>500</td>\n",
       "      <td>...</td>\n",
       "      <td>Li-Ion</td>\n",
       "      <td>No</td>\n",
       "      <td>Intel</td>\n",
       "      <td>Intel Graphics</td>\n",
       "      <td>Yes</td>\n",
       "      <td>Yes</td>\n",
       "      <td>Yes</td>\n",
       "      <td>no</td>\n",
       "      <td>HDD</td>\n",
       "      <td>Lenovo</td>\n",
       "    </tr>\n",
       "    <tr>\n",
       "      <th>442</th>\n",
       "      <td>4.31</td>\n",
       "      <td>511</td>\n",
       "      <td>14.0</td>\n",
       "      <td>3.41</td>\n",
       "      <td>9</td>\n",
       "      <td>8</td>\n",
       "      <td>16</td>\n",
       "      <td>1</td>\n",
       "      <td>3200</td>\n",
       "      <td>512</td>\n",
       "      <td>...</td>\n",
       "      <td>Li-Ion</td>\n",
       "      <td>No</td>\n",
       "      <td>AMD</td>\n",
       "      <td>AMD Graphics</td>\n",
       "      <td>Yes</td>\n",
       "      <td>Yes</td>\n",
       "      <td>Yes</td>\n",
       "      <td>yes</td>\n",
       "      <td>SSD</td>\n",
       "      <td>MSI</td>\n",
       "    </tr>\n",
       "    <tr>\n",
       "      <th>443</th>\n",
       "      <td>4.30</td>\n",
       "      <td>3</td>\n",
       "      <td>14.0</td>\n",
       "      <td>2.10</td>\n",
       "      <td>4</td>\n",
       "      <td>4</td>\n",
       "      <td>17</td>\n",
       "      <td>1</td>\n",
       "      <td>2400</td>\n",
       "      <td>1000</td>\n",
       "      <td>...</td>\n",
       "      <td>Li-Ion</td>\n",
       "      <td>No</td>\n",
       "      <td>Intel</td>\n",
       "      <td>Intel Graphics</td>\n",
       "      <td>Yes</td>\n",
       "      <td>Yes</td>\n",
       "      <td>Yes</td>\n",
       "      <td>no</td>\n",
       "      <td>HDD</td>\n",
       "      <td>Asus</td>\n",
       "    </tr>\n",
       "  </tbody>\n",
       "</table>\n",
       "<p>444 rows × 37 columns</p>\n",
       "</div>"
      ],
      "text/plain": [
       "     Ratings  No_of_ratings  Screen_size(inches)  Processor_speed(GHz)  \\\n",
       "0       4.10             31                 14.0                  2.20   \n",
       "1       4.30             32                 15.6                  4.20   \n",
       "2       3.80              3                 14.0                  3.00   \n",
       "3       4.31             79                 15.6                  2.27   \n",
       "4       4.00             66                 14.0                  4.00   \n",
       "..       ...            ...                  ...                   ...   \n",
       "439     3.70             17                 14.0                  1.60   \n",
       "440     4.38            187                 14.0                  2.40   \n",
       "441     4.00             43                 14.0                  1.60   \n",
       "442     4.31            511                 14.0                  3.41   \n",
       "443     4.30              3                 14.0                  2.10   \n",
       "\n",
       "     Cache_memory(MBs)  RAM(Gig)  RAM_max  Memory_slots  RAM_speed(MHz)  \\\n",
       "0                    4         4       15             1            2133   \n",
       "1                    8         8       14             1            2960   \n",
       "2                    8        16       29             1            4266   \n",
       "3                    4         6       16             1            3200   \n",
       "4                    6         4       20             1            3200   \n",
       "..                 ...       ...      ...           ...             ...   \n",
       "439                  6         8       12             1            2293   \n",
       "440                  8        16       19             1            3200   \n",
       "441                  6         8       14             1            2666   \n",
       "442                  9         8       16             1            3200   \n",
       "443                  4         4       17             1            2400   \n",
       "\n",
       "     Harddrive_capacity(Gig)  ...  Battery_type  Fingerprint  Processor_brand  \\\n",
       "0                       1000  ...        Li-Ion          Yes            Intel   \n",
       "1                        512  ...        Li-Ion          Yes            Intel   \n",
       "2                       1000  ...        Li-Ion          Yes            Intel   \n",
       "3                       1000  ...        Li-Ion           No              AMD   \n",
       "4                        256  ...        Li-Ion           No            Intel   \n",
       "..                       ...  ...           ...          ...              ...   \n",
       "439                      512  ...        Li-Ion           No            Intel   \n",
       "440                      512  ...        Li-Ion           No            Intel   \n",
       "441                      500  ...        Li-Ion           No            Intel   \n",
       "442                      512  ...        Li-Ion           No              AMD   \n",
       "443                     1000  ...        Li-Ion           No            Intel   \n",
       "\n",
       "     Graphics_brand  USB(2.0)  Bluetooth_  USB(typeC)  Keyboard_backlit  \\\n",
       "0    Intel Graphics       Yes         Yes         Yes                no   \n",
       "1    Intel Graphics       Yes         Yes         Yes               yes   \n",
       "2    Intel Graphics       Yes         Yes         Yes               yes   \n",
       "3            NVIDIA       Yes         Yes         Yes               yes   \n",
       "4    Intel Graphics       Yes         Yes         Yes               yes   \n",
       "..              ...       ...         ...         ...               ...   \n",
       "439          NVIDIA       Yes         Yes         Yes                no   \n",
       "440  Intel Graphics       Yes         Yes         Yes               yes   \n",
       "441  Intel Graphics       Yes         Yes         Yes                no   \n",
       "442    AMD Graphics       Yes         Yes         Yes               yes   \n",
       "443  Intel Graphics       Yes         Yes         Yes                no   \n",
       "\n",
       "     Harddrive_type   Brand  \n",
       "0               HDD  Lenovo  \n",
       "1               SSD    Acer  \n",
       "2               HDD  Lenovo  \n",
       "3               HDD  Lenovo  \n",
       "4               HDD    Dell  \n",
       "..              ...     ...  \n",
       "439             HDD    Acer  \n",
       "440             SSD    Asus  \n",
       "441             HDD  Lenovo  \n",
       "442             SSD     MSI  \n",
       "443             HDD    Asus  \n",
       "\n",
       "[444 rows x 37 columns]"
      ]
     },
     "execution_count": 156,
     "metadata": {},
     "output_type": "execute_result"
    }
   ],
   "source": [
    "holdout_clean_data"
   ]
  },
  {
   "cell_type": "code",
   "execution_count": 158,
   "id": "7c1cedfb",
   "metadata": {},
   "outputs": [],
   "source": [
    "#saving the train and holdout dataset\n",
    "clean_train_data.to_csv(r'D:\\xul\\laptops\\Clean_train_dataset.csv',index=False)\n",
    "holdout_clean_data.to_csv(r'D:\\xul\\laptops\\Clean_holdout_dataset.csv',index=False)"
   ]
  }
 ],
 "metadata": {
  "kernelspec": {
   "display_name": "Python 3 (ipykernel)",
   "language": "python",
   "name": "python3"
  },
  "language_info": {
   "codemirror_mode": {
    "name": "ipython",
    "version": 3
   },
   "file_extension": ".py",
   "mimetype": "text/x-python",
   "name": "python",
   "nbconvert_exporter": "python",
   "pygments_lexer": "ipython3",
   "version": "3.8.11"
  }
 },
 "nbformat": 4,
 "nbformat_minor": 5
}
