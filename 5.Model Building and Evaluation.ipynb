{
 "cells": [
  {
   "cell_type": "code",
   "execution_count": 1,
   "id": "221098d9",
   "metadata": {},
   "outputs": [],
   "source": [
    "import pandas as pd\n",
    "import numpy as np"
   ]
  },
  {
   "cell_type": "code",
   "execution_count": 2,
   "id": "6ab93c76",
   "metadata": {},
   "outputs": [
    {
     "data": {
      "text/html": [
       "<div>\n",
       "<style scoped>\n",
       "    .dataframe tbody tr th:only-of-type {\n",
       "        vertical-align: middle;\n",
       "    }\n",
       "\n",
       "    .dataframe tbody tr th {\n",
       "        vertical-align: top;\n",
       "    }\n",
       "\n",
       "    .dataframe thead th {\n",
       "        text-align: right;\n",
       "    }\n",
       "</style>\n",
       "<table border=\"1\" class=\"dataframe\">\n",
       "  <thead>\n",
       "    <tr style=\"text-align: right;\">\n",
       "      <th></th>\n",
       "      <th>Ratings</th>\n",
       "      <th>No_of_ratings</th>\n",
       "      <th>Screen_size(inches)</th>\n",
       "      <th>Processor_speed(GHz)</th>\n",
       "      <th>Cache_memory(MBs)</th>\n",
       "      <th>RAM(Gig)</th>\n",
       "      <th>RAM_max</th>\n",
       "      <th>Memory_slots</th>\n",
       "      <th>RAM_speed(MHz)</th>\n",
       "      <th>Harddrive_capacity(Gig)</th>\n",
       "      <th>...</th>\n",
       "      <th>Battery_type</th>\n",
       "      <th>Fingerprint</th>\n",
       "      <th>Processor_brand</th>\n",
       "      <th>Graphics_brand</th>\n",
       "      <th>USB(2.0)</th>\n",
       "      <th>Bluetooth_</th>\n",
       "      <th>USB(typeC)</th>\n",
       "      <th>Keyboard_backlit</th>\n",
       "      <th>Harddrive_type</th>\n",
       "      <th>Brand</th>\n",
       "    </tr>\n",
       "  </thead>\n",
       "  <tbody>\n",
       "    <tr>\n",
       "      <th>0</th>\n",
       "      <td>3.98</td>\n",
       "      <td>554</td>\n",
       "      <td>15.6</td>\n",
       "      <td>1.10</td>\n",
       "      <td>4</td>\n",
       "      <td>4</td>\n",
       "      <td>12</td>\n",
       "      <td>1</td>\n",
       "      <td>2400</td>\n",
       "      <td>256</td>\n",
       "      <td>...</td>\n",
       "      <td>Li-Ion</td>\n",
       "      <td>No</td>\n",
       "      <td>Intel</td>\n",
       "      <td>Intel Graphics</td>\n",
       "      <td>Yes</td>\n",
       "      <td>Yes</td>\n",
       "      <td>Yes</td>\n",
       "      <td>no</td>\n",
       "      <td>SSD</td>\n",
       "      <td>Lenovo</td>\n",
       "    </tr>\n",
       "    <tr>\n",
       "      <th>1</th>\n",
       "      <td>4.34</td>\n",
       "      <td>346</td>\n",
       "      <td>14.0</td>\n",
       "      <td>1.60</td>\n",
       "      <td>6</td>\n",
       "      <td>16</td>\n",
       "      <td>27</td>\n",
       "      <td>2</td>\n",
       "      <td>3200</td>\n",
       "      <td>512</td>\n",
       "      <td>...</td>\n",
       "      <td>Li-Po</td>\n",
       "      <td>No</td>\n",
       "      <td>Intel</td>\n",
       "      <td>Intel Graphics</td>\n",
       "      <td>Yes</td>\n",
       "      <td>Yes</td>\n",
       "      <td>Yes</td>\n",
       "      <td>no</td>\n",
       "      <td>SSD</td>\n",
       "      <td>Lenovo</td>\n",
       "    </tr>\n",
       "    <tr>\n",
       "      <th>2</th>\n",
       "      <td>4.50</td>\n",
       "      <td>55</td>\n",
       "      <td>13.3</td>\n",
       "      <td>1.30</td>\n",
       "      <td>4</td>\n",
       "      <td>8</td>\n",
       "      <td>17</td>\n",
       "      <td>1</td>\n",
       "      <td>1866</td>\n",
       "      <td>512</td>\n",
       "      <td>...</td>\n",
       "      <td>Li-Ion</td>\n",
       "      <td>No</td>\n",
       "      <td>Intel</td>\n",
       "      <td>Intel Graphics</td>\n",
       "      <td>Yes</td>\n",
       "      <td>Yes</td>\n",
       "      <td>No</td>\n",
       "      <td>no</td>\n",
       "      <td>HDD</td>\n",
       "      <td>Acer</td>\n",
       "    </tr>\n",
       "    <tr>\n",
       "      <th>3</th>\n",
       "      <td>4.07</td>\n",
       "      <td>86</td>\n",
       "      <td>14.0</td>\n",
       "      <td>1.60</td>\n",
       "      <td>6</td>\n",
       "      <td>2</td>\n",
       "      <td>16</td>\n",
       "      <td>1</td>\n",
       "      <td>2400</td>\n",
       "      <td>1000</td>\n",
       "      <td>...</td>\n",
       "      <td>Li-Ion</td>\n",
       "      <td>Yes</td>\n",
       "      <td>Intel</td>\n",
       "      <td>NVIDIA</td>\n",
       "      <td>Yes</td>\n",
       "      <td>Yes</td>\n",
       "      <td>No</td>\n",
       "      <td>no</td>\n",
       "      <td>HDD</td>\n",
       "      <td>Lenovo</td>\n",
       "    </tr>\n",
       "    <tr>\n",
       "      <th>4</th>\n",
       "      <td>4.50</td>\n",
       "      <td>1977</td>\n",
       "      <td>14.0</td>\n",
       "      <td>2.10</td>\n",
       "      <td>6</td>\n",
       "      <td>8</td>\n",
       "      <td>13</td>\n",
       "      <td>1</td>\n",
       "      <td>2400</td>\n",
       "      <td>1000</td>\n",
       "      <td>...</td>\n",
       "      <td>Li-Ion</td>\n",
       "      <td>No</td>\n",
       "      <td>AMD</td>\n",
       "      <td>AMD Graphics</td>\n",
       "      <td>Yes</td>\n",
       "      <td>Yes</td>\n",
       "      <td>Yes</td>\n",
       "      <td>no</td>\n",
       "      <td>HDD</td>\n",
       "      <td>HP</td>\n",
       "    </tr>\n",
       "    <tr>\n",
       "      <th>...</th>\n",
       "      <td>...</td>\n",
       "      <td>...</td>\n",
       "      <td>...</td>\n",
       "      <td>...</td>\n",
       "      <td>...</td>\n",
       "      <td>...</td>\n",
       "      <td>...</td>\n",
       "      <td>...</td>\n",
       "      <td>...</td>\n",
       "      <td>...</td>\n",
       "      <td>...</td>\n",
       "      <td>...</td>\n",
       "      <td>...</td>\n",
       "      <td>...</td>\n",
       "      <td>...</td>\n",
       "      <td>...</td>\n",
       "      <td>...</td>\n",
       "      <td>...</td>\n",
       "      <td>...</td>\n",
       "      <td>...</td>\n",
       "      <td>...</td>\n",
       "    </tr>\n",
       "    <tr>\n",
       "      <th>1031</th>\n",
       "      <td>4.40</td>\n",
       "      <td>40</td>\n",
       "      <td>15.6</td>\n",
       "      <td>2.80</td>\n",
       "      <td>12</td>\n",
       "      <td>2</td>\n",
       "      <td>16</td>\n",
       "      <td>1</td>\n",
       "      <td>3147</td>\n",
       "      <td>512</td>\n",
       "      <td>...</td>\n",
       "      <td>Li-Ion</td>\n",
       "      <td>No</td>\n",
       "      <td>Intel</td>\n",
       "      <td>NVIDIA</td>\n",
       "      <td>Yes</td>\n",
       "      <td>Yes</td>\n",
       "      <td>Yes</td>\n",
       "      <td>yes</td>\n",
       "      <td>SSD</td>\n",
       "      <td>Lenovo</td>\n",
       "    </tr>\n",
       "    <tr>\n",
       "      <th>1032</th>\n",
       "      <td>4.40</td>\n",
       "      <td>21</td>\n",
       "      <td>15.6</td>\n",
       "      <td>2.90</td>\n",
       "      <td>12</td>\n",
       "      <td>8</td>\n",
       "      <td>32</td>\n",
       "      <td>2</td>\n",
       "      <td>3200</td>\n",
       "      <td>1000</td>\n",
       "      <td>...</td>\n",
       "      <td>Li-Ion</td>\n",
       "      <td>No</td>\n",
       "      <td>AMD</td>\n",
       "      <td>NVIDIA</td>\n",
       "      <td>Yes</td>\n",
       "      <td>Yes</td>\n",
       "      <td>Yes</td>\n",
       "      <td>yes</td>\n",
       "      <td>HDD</td>\n",
       "      <td>Asus</td>\n",
       "    </tr>\n",
       "    <tr>\n",
       "      <th>1033</th>\n",
       "      <td>3.92</td>\n",
       "      <td>3</td>\n",
       "      <td>15.6</td>\n",
       "      <td>1.30</td>\n",
       "      <td>8</td>\n",
       "      <td>2</td>\n",
       "      <td>8</td>\n",
       "      <td>1</td>\n",
       "      <td>2533</td>\n",
       "      <td>512</td>\n",
       "      <td>...</td>\n",
       "      <td>Li-Ion</td>\n",
       "      <td>Yes</td>\n",
       "      <td>Intel</td>\n",
       "      <td>NVIDIA</td>\n",
       "      <td>Yes</td>\n",
       "      <td>Yes</td>\n",
       "      <td>Yes</td>\n",
       "      <td>no</td>\n",
       "      <td>SSD</td>\n",
       "      <td>Asus</td>\n",
       "    </tr>\n",
       "    <tr>\n",
       "      <th>1034</th>\n",
       "      <td>4.29</td>\n",
       "      <td>170</td>\n",
       "      <td>14.0</td>\n",
       "      <td>3.47</td>\n",
       "      <td>8</td>\n",
       "      <td>8</td>\n",
       "      <td>30</td>\n",
       "      <td>1</td>\n",
       "      <td>4266</td>\n",
       "      <td>512</td>\n",
       "      <td>...</td>\n",
       "      <td>Li-Ion</td>\n",
       "      <td>No</td>\n",
       "      <td>Intel</td>\n",
       "      <td>Intel Graphics</td>\n",
       "      <td>Yes</td>\n",
       "      <td>Yes</td>\n",
       "      <td>Yes</td>\n",
       "      <td>yes</td>\n",
       "      <td>SSD</td>\n",
       "      <td>Asus</td>\n",
       "    </tr>\n",
       "    <tr>\n",
       "      <th>1035</th>\n",
       "      <td>3.97</td>\n",
       "      <td>4</td>\n",
       "      <td>15.6</td>\n",
       "      <td>2.40</td>\n",
       "      <td>16</td>\n",
       "      <td>16</td>\n",
       "      <td>32</td>\n",
       "      <td>1</td>\n",
       "      <td>3200</td>\n",
       "      <td>1000</td>\n",
       "      <td>...</td>\n",
       "      <td>Li-Ion</td>\n",
       "      <td>No</td>\n",
       "      <td>Intel</td>\n",
       "      <td>NVIDIA</td>\n",
       "      <td>Yes</td>\n",
       "      <td>Yes</td>\n",
       "      <td>Yes</td>\n",
       "      <td>yes</td>\n",
       "      <td>HDD</td>\n",
       "      <td>Lenovo</td>\n",
       "    </tr>\n",
       "  </tbody>\n",
       "</table>\n",
       "<p>1036 rows × 37 columns</p>\n",
       "</div>"
      ],
      "text/plain": [
       "      Ratings  No_of_ratings  Screen_size(inches)  Processor_speed(GHz)  \\\n",
       "0        3.98            554                 15.6                  1.10   \n",
       "1        4.34            346                 14.0                  1.60   \n",
       "2        4.50             55                 13.3                  1.30   \n",
       "3        4.07             86                 14.0                  1.60   \n",
       "4        4.50           1977                 14.0                  2.10   \n",
       "...       ...            ...                  ...                   ...   \n",
       "1031     4.40             40                 15.6                  2.80   \n",
       "1032     4.40             21                 15.6                  2.90   \n",
       "1033     3.92              3                 15.6                  1.30   \n",
       "1034     4.29            170                 14.0                  3.47   \n",
       "1035     3.97              4                 15.6                  2.40   \n",
       "\n",
       "      Cache_memory(MBs)  RAM(Gig)  RAM_max  Memory_slots  RAM_speed(MHz)  \\\n",
       "0                     4         4       12             1            2400   \n",
       "1                     6        16       27             2            3200   \n",
       "2                     4         8       17             1            1866   \n",
       "3                     6         2       16             1            2400   \n",
       "4                     6         8       13             1            2400   \n",
       "...                 ...       ...      ...           ...             ...   \n",
       "1031                 12         2       16             1            3147   \n",
       "1032                 12         8       32             2            3200   \n",
       "1033                  8         2        8             1            2533   \n",
       "1034                  8         8       30             1            4266   \n",
       "1035                 16        16       32             1            3200   \n",
       "\n",
       "      Harddrive_capacity(Gig)  ...  Battery_type  Fingerprint  \\\n",
       "0                         256  ...        Li-Ion           No   \n",
       "1                         512  ...         Li-Po           No   \n",
       "2                         512  ...        Li-Ion           No   \n",
       "3                        1000  ...        Li-Ion          Yes   \n",
       "4                        1000  ...        Li-Ion           No   \n",
       "...                       ...  ...           ...          ...   \n",
       "1031                      512  ...        Li-Ion           No   \n",
       "1032                     1000  ...        Li-Ion           No   \n",
       "1033                      512  ...        Li-Ion          Yes   \n",
       "1034                      512  ...        Li-Ion           No   \n",
       "1035                     1000  ...        Li-Ion           No   \n",
       "\n",
       "      Processor_brand  Graphics_brand  USB(2.0)  Bluetooth_  USB(typeC)  \\\n",
       "0               Intel  Intel Graphics       Yes         Yes         Yes   \n",
       "1               Intel  Intel Graphics       Yes         Yes         Yes   \n",
       "2               Intel  Intel Graphics       Yes         Yes          No   \n",
       "3               Intel          NVIDIA       Yes         Yes          No   \n",
       "4                 AMD    AMD Graphics       Yes         Yes         Yes   \n",
       "...               ...             ...       ...         ...         ...   \n",
       "1031            Intel          NVIDIA       Yes         Yes         Yes   \n",
       "1032              AMD          NVIDIA       Yes         Yes         Yes   \n",
       "1033            Intel          NVIDIA       Yes         Yes         Yes   \n",
       "1034            Intel  Intel Graphics       Yes         Yes         Yes   \n",
       "1035            Intel          NVIDIA       Yes         Yes         Yes   \n",
       "\n",
       "      Keyboard_backlit  Harddrive_type   Brand  \n",
       "0                   no             SSD  Lenovo  \n",
       "1                   no             SSD  Lenovo  \n",
       "2                   no             HDD    Acer  \n",
       "3                   no             HDD  Lenovo  \n",
       "4                   no             HDD      HP  \n",
       "...                ...             ...     ...  \n",
       "1031               yes             SSD  Lenovo  \n",
       "1032               yes             HDD    Asus  \n",
       "1033                no             SSD    Asus  \n",
       "1034               yes             SSD    Asus  \n",
       "1035               yes             HDD  Lenovo  \n",
       "\n",
       "[1036 rows x 37 columns]"
      ]
     },
     "execution_count": 2,
     "metadata": {},
     "output_type": "execute_result"
    }
   ],
   "source": [
    "Train_data = pd.read_csv('Clean_train_dataset.csv')\n",
    "Train_data"
   ]
  },
  {
   "cell_type": "code",
   "execution_count": 3,
   "id": "56b7fdb7",
   "metadata": {},
   "outputs": [],
   "source": [
    "#declaring targets and inputs and creating dummy variables\n",
    "x_train = Train_data.drop('Brand',axis = 1)\n",
    "y_train = Train_data['Brand']\n",
    "x_train_final = pd.get_dummies(x_train)"
   ]
  },
  {
   "cell_type": "code",
   "execution_count": 4,
   "id": "d68bb617",
   "metadata": {},
   "outputs": [],
   "source": [
    "#Gettting the holdoutset and creating dummy variables\n",
    "test_data = pd.read_csv('Clean_holdout_dataset.csv')\n",
    "x_test = test_data.drop('Brand',axis = 1)\n",
    "y_test = test_data['Brand']\n",
    "x_test_final = pd.get_dummies(x_test)"
   ]
  },
  {
   "cell_type": "code",
   "execution_count": 5,
   "id": "d17c86b6",
   "metadata": {},
   "outputs": [
    {
     "name": "stdout",
     "output_type": "stream",
     "text": [
      "Display_type_ LCD \n",
      "Display_type_ QLED \n",
      "Processor_brand_Apple\n",
      "Graphics_brand_MediaTek Graphics\n",
      "Graphics_brand_PowerVR Graphics\n"
     ]
    }
   ],
   "source": [
    "#retriving the dummies not found in x_test due to imbalanced data\n",
    "a = x_train_final.columns\n",
    "b = x_test_final.columns\n",
    "for i in a:\n",
    "    if i not in b:\n",
    "        print(i)"
   ]
  },
  {
   "cell_type": "code",
   "execution_count": 6,
   "id": "beb26c99",
   "metadata": {},
   "outputs": [
    {
     "name": "stdout",
     "output_type": "stream",
     "text": [
      "Processor_brand_Qualcomm\n",
      "Graphics_brand_Qualcomm Graphics\n"
     ]
    }
   ],
   "source": [
    "#retriving the dummies not found in x_train due to imbalanced data\n",
    "a = x_train_final.columns\n",
    "b = x_test_final.columns\n",
    "for i in b:\n",
    "    if i not in a:\n",
    "        print(i)"
   ]
  },
  {
   "cell_type": "code",
   "execution_count": 7,
   "id": "efcecf56",
   "metadata": {},
   "outputs": [],
   "source": [
    "#Clearly the data was imbalanced as these data entries were on present in each data subset\n",
    "# so will add all missing dummies to each corresponding data set that they are not found in, but with value 0\n",
    "feature_list1 = ['Display_type_ LCD ', \n",
    "'Display_type_ QLED ',\n",
    "'Processor_brand_Apple',\n",
    "'Graphics_brand_MediaTek Graphics',\n",
    "'Graphics_brand_PowerVR Graphics']\n",
    "\n",
    "for i in feature_list1:\n",
    "    x_test_final[i] = 0"
   ]
  },
  {
   "cell_type": "code",
   "execution_count": 8,
   "id": "f13c3076",
   "metadata": {},
   "outputs": [],
   "source": [
    "feature_list2 = ['Processor_brand_Qualcomm',\n",
    "'Graphics_brand_Qualcomm Graphics']\n",
    "\n",
    "for i in feature_list2:\n",
    "    x_train_final[i] = 0"
   ]
  },
  {
   "cell_type": "code",
   "execution_count": 9,
   "id": "981e47ee",
   "metadata": {},
   "outputs": [],
   "source": [
    "#since data is not balanced I will use SMOTE\n",
    "from imblearn.over_sampling import SMOTE\n",
    "from collections import Counter\n",
    "smote = SMOTE()"
   ]
  },
  {
   "cell_type": "code",
   "execution_count": 10,
   "id": "46e24130",
   "metadata": {},
   "outputs": [
    {
     "name": "stdout",
     "output_type": "stream",
     "text": [
      "Before smote : Counter({'Asus': 283, 'Lenovo': 269, 'HP': 202, 'Acer': 105, 'Dell': 85, 'MSI': 50, 'Microsoft': 14, 'Apple': 11, 'Avita': 10, 'Samsung': 7})\n",
      "After smote : Counter({'Lenovo': 283, 'Acer': 283, 'HP': 283, 'Asus': 283, 'Apple': 283, 'MSI': 283, 'Dell': 283, 'Microsoft': 283, 'Samsung': 283, 'Avita': 283})\n"
     ]
    }
   ],
   "source": [
    "#Applying smote\n",
    "x_smote,y_smote = smote.fit_resample(x_train_final,y_train)\n",
    "\n",
    "#Checking if smote was applied correctly\n",
    "print('Before smote :',Counter(y_train))\n",
    "print('After smote :',Counter(y_smote))"
   ]
  },
  {
   "cell_type": "code",
   "execution_count": 11,
   "id": "07f928be",
   "metadata": {},
   "outputs": [],
   "source": [
    "#data scaling\n",
    "from sklearn.preprocessing import StandardScaler\n",
    "scaler=StandardScaler()\n",
    "scaled_x_train=scaler.fit_transform(x_smote)"
   ]
  },
  {
   "cell_type": "code",
   "execution_count": 12,
   "id": "075d8303",
   "metadata": {},
   "outputs": [
    {
     "data": {
      "text/plain": [
       "(2830, 63)"
      ]
     },
     "execution_count": 12,
     "metadata": {},
     "output_type": "execute_result"
    }
   ],
   "source": [
    "scaled_x_train.shape"
   ]
  },
  {
   "cell_type": "code",
   "execution_count": 13,
   "id": "aaf5696b",
   "metadata": {},
   "outputs": [],
   "source": [
    "#rearrenging the x_test_final columns to be in same order as x_train_final\n",
    "x_test_final2 = x_test_final[['Ratings', 'No_of_ratings', 'Screen_size(inches)',\n",
    "       'Processor_speed(GHz)', 'Cache_memory(MBs)', 'RAM(Gig)', 'RAM_max',\n",
    "       'Memory_slots', 'RAM_speed(MHz)', 'Harddrive_capacity(Gig)',\n",
    "       'Weight(kg)', 'Warranty', 'Adapter(watts)', 'Battery_cells',\n",
    "       'Screen_pixel_density(width)', 'Screen_pixel_density(height)',\n",
    "       'Processor_cores', 'Length(mm)', 'Width(mm)', 'Height(mm)',\n",
    "       'USB(2.0)_ports', 'Bluetooth_version', 'USB(typeC)_ports',\n",
    "       'Operating_system_ DOS ', 'Operating_system_ Google Chrome ',\n",
    "       'Operating_system_ Linux ', 'Operating_system_ Ubuntu ',\n",
    "       'Operating_system_MAC', 'Operating_system_Windows',\n",
    "       'Display_type_ AMOLED ', 'Display_type_ LCD ', 'Display_type_ LED ',\n",
    "       'Display_type_ OLED ', 'Display_type_ QLED ', 'Touchscreen_ No ',\n",
    "       'Touchscreen_ Yes ', 'Optical_Drive_No', 'Optical_Drive_Yes',\n",
    "       'Battery_type_Li-Ion', 'Battery_type_Li-Po', 'Fingerprint_No',\n",
    "       'Fingerprint_Yes', 'Processor_brand_AMD', 'Processor_brand_Apple',\n",
    "       'Processor_brand_Intel', 'Processor_brand_MediaTek',\n",
    "       'Graphics_brand_AMD Graphics', 'Graphics_brand_ARM Graphics',\n",
    "       'Graphics_brand_Intel Graphics', 'Graphics_brand_MediaTek Graphics',\n",
    "       'Graphics_brand_NVIDIA', 'Graphics_brand_PowerVR Graphics',\n",
    "       'USB(2.0)_Yes', 'Bluetooth__No', 'Bluetooth__Yes', 'USB(typeC)_No',\n",
    "       'USB(typeC)_Yes', 'Keyboard_backlit_no', 'Keyboard_backlit_yes',\n",
    "       'Harddrive_type_HDD', 'Harddrive_type_SSD', 'Processor_brand_Qualcomm',\n",
    "       'Graphics_brand_Qualcomm Graphics']]"
   ]
  },
  {
   "cell_type": "code",
   "execution_count": 14,
   "id": "9c5d8f84",
   "metadata": {},
   "outputs": [],
   "source": [
    "#transforming the test data\n",
    "scaled_x_test = scaler.transform(x_test_final2)"
   ]
  },
  {
   "cell_type": "code",
   "execution_count": 15,
   "id": "d2380e12",
   "metadata": {},
   "outputs": [
    {
     "data": {
      "text/plain": [
       "(444, 63)"
      ]
     },
     "execution_count": 15,
     "metadata": {},
     "output_type": "execute_result"
    }
   ],
   "source": [
    "scaled_x_test.shape"
   ]
  },
  {
   "cell_type": "code",
   "execution_count": 16,
   "id": "1cf5f279",
   "metadata": {},
   "outputs": [],
   "source": [
    "from sklearn.metrics import confusion_matrix,classification_report\n",
    "from sklearn.linear_model import LogisticRegression\n",
    "from sklearn.ensemble import RandomForestClassifier\n",
    "from xgboost import XGBClassifier\n",
    "from sklearn.model_selection import RandomizedSearchCV,GridSearchCV\n",
    "from sklearn.metrics import accuracy_score"
   ]
  },
  {
   "cell_type": "markdown",
   "id": "17500926",
   "metadata": {},
   "source": [
    "## Logistic Regression"
   ]
  },
  {
   "cell_type": "code",
   "execution_count": 17,
   "id": "2a9fbc80",
   "metadata": {},
   "outputs": [
    {
     "name": "stderr",
     "output_type": "stream",
     "text": [
      "C:\\Users\\pc\\anaconda3\\envs\\laptopclassifier\\lib\\site-packages\\sklearn\\linear_model\\_sag.py:352: ConvergenceWarning: The max_iter was reached which means the coef_ did not converge\n",
      "  warnings.warn(\n",
      "C:\\Users\\pc\\anaconda3\\envs\\laptopclassifier\\lib\\site-packages\\sklearn\\linear_model\\_sag.py:352: ConvergenceWarning: The max_iter was reached which means the coef_ did not converge\n",
      "  warnings.warn(\n",
      "C:\\Users\\pc\\anaconda3\\envs\\laptopclassifier\\lib\\site-packages\\sklearn\\linear_model\\_sag.py:352: ConvergenceWarning: The max_iter was reached which means the coef_ did not converge\n",
      "  warnings.warn(\n",
      "C:\\Users\\pc\\anaconda3\\envs\\laptopclassifier\\lib\\site-packages\\sklearn\\linear_model\\_sag.py:352: ConvergenceWarning: The max_iter was reached which means the coef_ did not converge\n",
      "  warnings.warn(\n",
      "C:\\Users\\pc\\anaconda3\\envs\\laptopclassifier\\lib\\site-packages\\sklearn\\linear_model\\_sag.py:352: ConvergenceWarning: The max_iter was reached which means the coef_ did not converge\n",
      "  warnings.warn(\n",
      "C:\\Users\\pc\\anaconda3\\envs\\laptopclassifier\\lib\\site-packages\\sklearn\\linear_model\\_sag.py:352: ConvergenceWarning: The max_iter was reached which means the coef_ did not converge\n",
      "  warnings.warn(\n",
      "C:\\Users\\pc\\anaconda3\\envs\\laptopclassifier\\lib\\site-packages\\sklearn\\linear_model\\_sag.py:352: ConvergenceWarning: The max_iter was reached which means the coef_ did not converge\n",
      "  warnings.warn(\n",
      "C:\\Users\\pc\\anaconda3\\envs\\laptopclassifier\\lib\\site-packages\\sklearn\\linear_model\\_sag.py:352: ConvergenceWarning: The max_iter was reached which means the coef_ did not converge\n",
      "  warnings.warn(\n",
      "C:\\Users\\pc\\anaconda3\\envs\\laptopclassifier\\lib\\site-packages\\sklearn\\linear_model\\_sag.py:352: ConvergenceWarning: The max_iter was reached which means the coef_ did not converge\n",
      "  warnings.warn(\n",
      "C:\\Users\\pc\\anaconda3\\envs\\laptopclassifier\\lib\\site-packages\\sklearn\\linear_model\\_sag.py:352: ConvergenceWarning: The max_iter was reached which means the coef_ did not converge\n",
      "  warnings.warn(\n",
      "C:\\Users\\pc\\anaconda3\\envs\\laptopclassifier\\lib\\site-packages\\sklearn\\linear_model\\_sag.py:352: ConvergenceWarning: The max_iter was reached which means the coef_ did not converge\n",
      "  warnings.warn(\n",
      "C:\\Users\\pc\\anaconda3\\envs\\laptopclassifier\\lib\\site-packages\\sklearn\\linear_model\\_sag.py:352: ConvergenceWarning: The max_iter was reached which means the coef_ did not converge\n",
      "  warnings.warn(\n",
      "C:\\Users\\pc\\anaconda3\\envs\\laptopclassifier\\lib\\site-packages\\sklearn\\linear_model\\_sag.py:352: ConvergenceWarning: The max_iter was reached which means the coef_ did not converge\n",
      "  warnings.warn(\n",
      "C:\\Users\\pc\\anaconda3\\envs\\laptopclassifier\\lib\\site-packages\\sklearn\\linear_model\\_sag.py:352: ConvergenceWarning: The max_iter was reached which means the coef_ did not converge\n",
      "  warnings.warn(\n",
      "C:\\Users\\pc\\anaconda3\\envs\\laptopclassifier\\lib\\site-packages\\sklearn\\linear_model\\_sag.py:352: ConvergenceWarning: The max_iter was reached which means the coef_ did not converge\n",
      "  warnings.warn(\n",
      "C:\\Users\\pc\\anaconda3\\envs\\laptopclassifier\\lib\\site-packages\\sklearn\\linear_model\\_sag.py:352: ConvergenceWarning: The max_iter was reached which means the coef_ did not converge\n",
      "  warnings.warn(\n",
      "C:\\Users\\pc\\anaconda3\\envs\\laptopclassifier\\lib\\site-packages\\sklearn\\linear_model\\_sag.py:352: ConvergenceWarning: The max_iter was reached which means the coef_ did not converge\n",
      "  warnings.warn(\n",
      "C:\\Users\\pc\\anaconda3\\envs\\laptopclassifier\\lib\\site-packages\\sklearn\\linear_model\\_sag.py:352: ConvergenceWarning: The max_iter was reached which means the coef_ did not converge\n",
      "  warnings.warn(\n",
      "C:\\Users\\pc\\anaconda3\\envs\\laptopclassifier\\lib\\site-packages\\sklearn\\linear_model\\_sag.py:352: ConvergenceWarning: The max_iter was reached which means the coef_ did not converge\n",
      "  warnings.warn(\n",
      "C:\\Users\\pc\\anaconda3\\envs\\laptopclassifier\\lib\\site-packages\\sklearn\\linear_model\\_sag.py:352: ConvergenceWarning: The max_iter was reached which means the coef_ did not converge\n",
      "  warnings.warn(\n",
      "C:\\Users\\pc\\anaconda3\\envs\\laptopclassifier\\lib\\site-packages\\sklearn\\linear_model\\_sag.py:352: ConvergenceWarning: The max_iter was reached which means the coef_ did not converge\n",
      "  warnings.warn(\n",
      "C:\\Users\\pc\\anaconda3\\envs\\laptopclassifier\\lib\\site-packages\\sklearn\\linear_model\\_sag.py:352: ConvergenceWarning: The max_iter was reached which means the coef_ did not converge\n",
      "  warnings.warn(\n",
      "C:\\Users\\pc\\anaconda3\\envs\\laptopclassifier\\lib\\site-packages\\sklearn\\linear_model\\_sag.py:352: ConvergenceWarning: The max_iter was reached which means the coef_ did not converge\n",
      "  warnings.warn(\n",
      "C:\\Users\\pc\\anaconda3\\envs\\laptopclassifier\\lib\\site-packages\\sklearn\\linear_model\\_sag.py:352: ConvergenceWarning: The max_iter was reached which means the coef_ did not converge\n",
      "  warnings.warn(\n",
      "C:\\Users\\pc\\anaconda3\\envs\\laptopclassifier\\lib\\site-packages\\sklearn\\linear_model\\_sag.py:352: ConvergenceWarning: The max_iter was reached which means the coef_ did not converge\n",
      "  warnings.warn(\n",
      "C:\\Users\\pc\\anaconda3\\envs\\laptopclassifier\\lib\\site-packages\\sklearn\\linear_model\\_sag.py:352: ConvergenceWarning: The max_iter was reached which means the coef_ did not converge\n",
      "  warnings.warn(\n",
      "C:\\Users\\pc\\anaconda3\\envs\\laptopclassifier\\lib\\site-packages\\sklearn\\linear_model\\_sag.py:352: ConvergenceWarning: The max_iter was reached which means the coef_ did not converge\n",
      "  warnings.warn(\n",
      "C:\\Users\\pc\\anaconda3\\envs\\laptopclassifier\\lib\\site-packages\\sklearn\\linear_model\\_sag.py:352: ConvergenceWarning: The max_iter was reached which means the coef_ did not converge\n",
      "  warnings.warn(\n",
      "C:\\Users\\pc\\anaconda3\\envs\\laptopclassifier\\lib\\site-packages\\sklearn\\linear_model\\_sag.py:352: ConvergenceWarning: The max_iter was reached which means the coef_ did not converge\n",
      "  warnings.warn(\n",
      "C:\\Users\\pc\\anaconda3\\envs\\laptopclassifier\\lib\\site-packages\\sklearn\\linear_model\\_sag.py:352: ConvergenceWarning: The max_iter was reached which means the coef_ did not converge\n",
      "  warnings.warn(\n",
      "C:\\Users\\pc\\anaconda3\\envs\\laptopclassifier\\lib\\site-packages\\sklearn\\linear_model\\_sag.py:352: ConvergenceWarning: The max_iter was reached which means the coef_ did not converge\n",
      "  warnings.warn(\n",
      "C:\\Users\\pc\\anaconda3\\envs\\laptopclassifier\\lib\\site-packages\\sklearn\\linear_model\\_sag.py:352: ConvergenceWarning: The max_iter was reached which means the coef_ did not converge\n",
      "  warnings.warn(\n",
      "C:\\Users\\pc\\anaconda3\\envs\\laptopclassifier\\lib\\site-packages\\sklearn\\linear_model\\_sag.py:352: ConvergenceWarning: The max_iter was reached which means the coef_ did not converge\n",
      "  warnings.warn(\n",
      "C:\\Users\\pc\\anaconda3\\envs\\laptopclassifier\\lib\\site-packages\\sklearn\\linear_model\\_sag.py:352: ConvergenceWarning: The max_iter was reached which means the coef_ did not converge\n",
      "  warnings.warn(\n",
      "C:\\Users\\pc\\anaconda3\\envs\\laptopclassifier\\lib\\site-packages\\sklearn\\linear_model\\_sag.py:352: ConvergenceWarning: The max_iter was reached which means the coef_ did not converge\n",
      "  warnings.warn(\n",
      "C:\\Users\\pc\\anaconda3\\envs\\laptopclassifier\\lib\\site-packages\\sklearn\\linear_model\\_sag.py:352: ConvergenceWarning: The max_iter was reached which means the coef_ did not converge\n",
      "  warnings.warn(\n",
      "C:\\Users\\pc\\anaconda3\\envs\\laptopclassifier\\lib\\site-packages\\sklearn\\linear_model\\_sag.py:352: ConvergenceWarning: The max_iter was reached which means the coef_ did not converge\n",
      "  warnings.warn(\n",
      "C:\\Users\\pc\\anaconda3\\envs\\laptopclassifier\\lib\\site-packages\\sklearn\\linear_model\\_sag.py:352: ConvergenceWarning: The max_iter was reached which means the coef_ did not converge\n",
      "  warnings.warn(\n",
      "C:\\Users\\pc\\anaconda3\\envs\\laptopclassifier\\lib\\site-packages\\sklearn\\linear_model\\_sag.py:352: ConvergenceWarning: The max_iter was reached which means the coef_ did not converge\n",
      "  warnings.warn(\n",
      "C:\\Users\\pc\\anaconda3\\envs\\laptopclassifier\\lib\\site-packages\\sklearn\\linear_model\\_sag.py:352: ConvergenceWarning: The max_iter was reached which means the coef_ did not converge\n",
      "  warnings.warn(\n",
      "C:\\Users\\pc\\anaconda3\\envs\\laptopclassifier\\lib\\site-packages\\sklearn\\linear_model\\_sag.py:352: ConvergenceWarning: The max_iter was reached which means the coef_ did not converge\n",
      "  warnings.warn(\n",
      "C:\\Users\\pc\\anaconda3\\envs\\laptopclassifier\\lib\\site-packages\\sklearn\\linear_model\\_sag.py:352: ConvergenceWarning: The max_iter was reached which means the coef_ did not converge\n",
      "  warnings.warn(\n"
     ]
    },
    {
     "name": "stderr",
     "output_type": "stream",
     "text": [
      "C:\\Users\\pc\\anaconda3\\envs\\laptopclassifier\\lib\\site-packages\\sklearn\\linear_model\\_sag.py:352: ConvergenceWarning: The max_iter was reached which means the coef_ did not converge\n",
      "  warnings.warn(\n",
      "C:\\Users\\pc\\anaconda3\\envs\\laptopclassifier\\lib\\site-packages\\sklearn\\linear_model\\_sag.py:352: ConvergenceWarning: The max_iter was reached which means the coef_ did not converge\n",
      "  warnings.warn(\n",
      "C:\\Users\\pc\\anaconda3\\envs\\laptopclassifier\\lib\\site-packages\\sklearn\\linear_model\\_sag.py:352: ConvergenceWarning: The max_iter was reached which means the coef_ did not converge\n",
      "  warnings.warn(\n",
      "C:\\Users\\pc\\anaconda3\\envs\\laptopclassifier\\lib\\site-packages\\sklearn\\linear_model\\_sag.py:352: ConvergenceWarning: The max_iter was reached which means the coef_ did not converge\n",
      "  warnings.warn(\n",
      "C:\\Users\\pc\\anaconda3\\envs\\laptopclassifier\\lib\\site-packages\\sklearn\\linear_model\\_sag.py:352: ConvergenceWarning: The max_iter was reached which means the coef_ did not converge\n",
      "  warnings.warn(\n",
      "C:\\Users\\pc\\anaconda3\\envs\\laptopclassifier\\lib\\site-packages\\sklearn\\linear_model\\_sag.py:352: ConvergenceWarning: The max_iter was reached which means the coef_ did not converge\n",
      "  warnings.warn(\n",
      "C:\\Users\\pc\\anaconda3\\envs\\laptopclassifier\\lib\\site-packages\\sklearn\\linear_model\\_sag.py:352: ConvergenceWarning: The max_iter was reached which means the coef_ did not converge\n",
      "  warnings.warn(\n",
      "C:\\Users\\pc\\anaconda3\\envs\\laptopclassifier\\lib\\site-packages\\sklearn\\linear_model\\_sag.py:352: ConvergenceWarning: The max_iter was reached which means the coef_ did not converge\n",
      "  warnings.warn(\n",
      "C:\\Users\\pc\\anaconda3\\envs\\laptopclassifier\\lib\\site-packages\\sklearn\\linear_model\\_sag.py:352: ConvergenceWarning: The max_iter was reached which means the coef_ did not converge\n",
      "  warnings.warn(\n",
      "C:\\Users\\pc\\anaconda3\\envs\\laptopclassifier\\lib\\site-packages\\sklearn\\linear_model\\_sag.py:352: ConvergenceWarning: The max_iter was reached which means the coef_ did not converge\n",
      "  warnings.warn(\n",
      "C:\\Users\\pc\\anaconda3\\envs\\laptopclassifier\\lib\\site-packages\\sklearn\\linear_model\\_sag.py:352: ConvergenceWarning: The max_iter was reached which means the coef_ did not converge\n",
      "  warnings.warn(\n",
      "C:\\Users\\pc\\anaconda3\\envs\\laptopclassifier\\lib\\site-packages\\sklearn\\linear_model\\_sag.py:352: ConvergenceWarning: The max_iter was reached which means the coef_ did not converge\n",
      "  warnings.warn(\n",
      "C:\\Users\\pc\\anaconda3\\envs\\laptopclassifier\\lib\\site-packages\\sklearn\\linear_model\\_sag.py:352: ConvergenceWarning: The max_iter was reached which means the coef_ did not converge\n",
      "  warnings.warn(\n",
      "C:\\Users\\pc\\anaconda3\\envs\\laptopclassifier\\lib\\site-packages\\sklearn\\linear_model\\_sag.py:352: ConvergenceWarning: The max_iter was reached which means the coef_ did not converge\n",
      "  warnings.warn(\n",
      "C:\\Users\\pc\\anaconda3\\envs\\laptopclassifier\\lib\\site-packages\\sklearn\\linear_model\\_sag.py:352: ConvergenceWarning: The max_iter was reached which means the coef_ did not converge\n",
      "  warnings.warn(\n",
      "C:\\Users\\pc\\anaconda3\\envs\\laptopclassifier\\lib\\site-packages\\sklearn\\linear_model\\_sag.py:352: ConvergenceWarning: The max_iter was reached which means the coef_ did not converge\n",
      "  warnings.warn(\n",
      "C:\\Users\\pc\\anaconda3\\envs\\laptopclassifier\\lib\\site-packages\\sklearn\\linear_model\\_sag.py:352: ConvergenceWarning: The max_iter was reached which means the coef_ did not converge\n",
      "  warnings.warn(\n",
      "C:\\Users\\pc\\anaconda3\\envs\\laptopclassifier\\lib\\site-packages\\sklearn\\linear_model\\_sag.py:352: ConvergenceWarning: The max_iter was reached which means the coef_ did not converge\n",
      "  warnings.warn(\n",
      "C:\\Users\\pc\\anaconda3\\envs\\laptopclassifier\\lib\\site-packages\\sklearn\\linear_model\\_sag.py:352: ConvergenceWarning: The max_iter was reached which means the coef_ did not converge\n",
      "  warnings.warn(\n",
      "C:\\Users\\pc\\anaconda3\\envs\\laptopclassifier\\lib\\site-packages\\sklearn\\linear_model\\_sag.py:352: ConvergenceWarning: The max_iter was reached which means the coef_ did not converge\n",
      "  warnings.warn(\n",
      "C:\\Users\\pc\\anaconda3\\envs\\laptopclassifier\\lib\\site-packages\\sklearn\\linear_model\\_sag.py:352: ConvergenceWarning: The max_iter was reached which means the coef_ did not converge\n",
      "  warnings.warn(\n",
      "C:\\Users\\pc\\anaconda3\\envs\\laptopclassifier\\lib\\site-packages\\sklearn\\linear_model\\_sag.py:352: ConvergenceWarning: The max_iter was reached which means the coef_ did not converge\n",
      "  warnings.warn(\n",
      "C:\\Users\\pc\\anaconda3\\envs\\laptopclassifier\\lib\\site-packages\\sklearn\\linear_model\\_sag.py:352: ConvergenceWarning: The max_iter was reached which means the coef_ did not converge\n",
      "  warnings.warn(\n",
      "C:\\Users\\pc\\anaconda3\\envs\\laptopclassifier\\lib\\site-packages\\sklearn\\linear_model\\_sag.py:352: ConvergenceWarning: The max_iter was reached which means the coef_ did not converge\n",
      "  warnings.warn(\n",
      "C:\\Users\\pc\\anaconda3\\envs\\laptopclassifier\\lib\\site-packages\\sklearn\\linear_model\\_sag.py:352: ConvergenceWarning: The max_iter was reached which means the coef_ did not converge\n",
      "  warnings.warn(\n",
      "C:\\Users\\pc\\anaconda3\\envs\\laptopclassifier\\lib\\site-packages\\sklearn\\linear_model\\_sag.py:352: ConvergenceWarning: The max_iter was reached which means the coef_ did not converge\n",
      "  warnings.warn(\n",
      "C:\\Users\\pc\\anaconda3\\envs\\laptopclassifier\\lib\\site-packages\\sklearn\\linear_model\\_sag.py:352: ConvergenceWarning: The max_iter was reached which means the coef_ did not converge\n",
      "  warnings.warn(\n",
      "C:\\Users\\pc\\anaconda3\\envs\\laptopclassifier\\lib\\site-packages\\sklearn\\linear_model\\_sag.py:352: ConvergenceWarning: The max_iter was reached which means the coef_ did not converge\n",
      "  warnings.warn(\n",
      "C:\\Users\\pc\\anaconda3\\envs\\laptopclassifier\\lib\\site-packages\\sklearn\\linear_model\\_sag.py:352: ConvergenceWarning: The max_iter was reached which means the coef_ did not converge\n",
      "  warnings.warn(\n",
      "C:\\Users\\pc\\anaconda3\\envs\\laptopclassifier\\lib\\site-packages\\sklearn\\linear_model\\_sag.py:352: ConvergenceWarning: The max_iter was reached which means the coef_ did not converge\n",
      "  warnings.warn(\n",
      "C:\\Users\\pc\\anaconda3\\envs\\laptopclassifier\\lib\\site-packages\\sklearn\\linear_model\\_sag.py:352: ConvergenceWarning: The max_iter was reached which means the coef_ did not converge\n",
      "  warnings.warn(\n",
      "C:\\Users\\pc\\anaconda3\\envs\\laptopclassifier\\lib\\site-packages\\sklearn\\linear_model\\_sag.py:352: ConvergenceWarning: The max_iter was reached which means the coef_ did not converge\n",
      "  warnings.warn(\n",
      "C:\\Users\\pc\\anaconda3\\envs\\laptopclassifier\\lib\\site-packages\\sklearn\\linear_model\\_sag.py:352: ConvergenceWarning: The max_iter was reached which means the coef_ did not converge\n",
      "  warnings.warn(\n",
      "C:\\Users\\pc\\anaconda3\\envs\\laptopclassifier\\lib\\site-packages\\sklearn\\linear_model\\_sag.py:352: ConvergenceWarning: The max_iter was reached which means the coef_ did not converge\n",
      "  warnings.warn(\n",
      "C:\\Users\\pc\\anaconda3\\envs\\laptopclassifier\\lib\\site-packages\\sklearn\\linear_model\\_sag.py:352: ConvergenceWarning: The max_iter was reached which means the coef_ did not converge\n",
      "  warnings.warn(\n",
      "C:\\Users\\pc\\anaconda3\\envs\\laptopclassifier\\lib\\site-packages\\sklearn\\linear_model\\_sag.py:352: ConvergenceWarning: The max_iter was reached which means the coef_ did not converge\n",
      "  warnings.warn(\n",
      "C:\\Users\\pc\\anaconda3\\envs\\laptopclassifier\\lib\\site-packages\\sklearn\\linear_model\\_sag.py:352: ConvergenceWarning: The max_iter was reached which means the coef_ did not converge\n",
      "  warnings.warn(\n",
      "C:\\Users\\pc\\anaconda3\\envs\\laptopclassifier\\lib\\site-packages\\sklearn\\linear_model\\_sag.py:352: ConvergenceWarning: The max_iter was reached which means the coef_ did not converge\n",
      "  warnings.warn(\n",
      "C:\\Users\\pc\\anaconda3\\envs\\laptopclassifier\\lib\\site-packages\\sklearn\\linear_model\\_sag.py:352: ConvergenceWarning: The max_iter was reached which means the coef_ did not converge\n",
      "  warnings.warn(\n",
      "C:\\Users\\pc\\anaconda3\\envs\\laptopclassifier\\lib\\site-packages\\sklearn\\linear_model\\_sag.py:352: ConvergenceWarning: The max_iter was reached which means the coef_ did not converge\n",
      "  warnings.warn(\n",
      "C:\\Users\\pc\\anaconda3\\envs\\laptopclassifier\\lib\\site-packages\\sklearn\\linear_model\\_sag.py:352: ConvergenceWarning: The max_iter was reached which means the coef_ did not converge\n",
      "  warnings.warn(\n",
      "C:\\Users\\pc\\anaconda3\\envs\\laptopclassifier\\lib\\site-packages\\sklearn\\linear_model\\_sag.py:352: ConvergenceWarning: The max_iter was reached which means the coef_ did not converge\n",
      "  warnings.warn(\n"
     ]
    },
    {
     "name": "stderr",
     "output_type": "stream",
     "text": [
      "C:\\Users\\pc\\anaconda3\\envs\\laptopclassifier\\lib\\site-packages\\sklearn\\linear_model\\_sag.py:352: ConvergenceWarning: The max_iter was reached which means the coef_ did not converge\n",
      "  warnings.warn(\n",
      "C:\\Users\\pc\\anaconda3\\envs\\laptopclassifier\\lib\\site-packages\\sklearn\\linear_model\\_sag.py:352: ConvergenceWarning: The max_iter was reached which means the coef_ did not converge\n",
      "  warnings.warn(\n",
      "C:\\Users\\pc\\anaconda3\\envs\\laptopclassifier\\lib\\site-packages\\sklearn\\linear_model\\_sag.py:352: ConvergenceWarning: The max_iter was reached which means the coef_ did not converge\n",
      "  warnings.warn(\n",
      "C:\\Users\\pc\\anaconda3\\envs\\laptopclassifier\\lib\\site-packages\\sklearn\\linear_model\\_sag.py:352: ConvergenceWarning: The max_iter was reached which means the coef_ did not converge\n",
      "  warnings.warn(\n",
      "C:\\Users\\pc\\anaconda3\\envs\\laptopclassifier\\lib\\site-packages\\sklearn\\linear_model\\_sag.py:352: ConvergenceWarning: The max_iter was reached which means the coef_ did not converge\n",
      "  warnings.warn(\n",
      "C:\\Users\\pc\\anaconda3\\envs\\laptopclassifier\\lib\\site-packages\\sklearn\\model_selection\\_validation.py:372: FitFailedWarning: \n",
      "30 fits failed out of a total of 100.\n",
      "The score on these train-test partitions for these parameters will be set to nan.\n",
      "If these failures are not expected, you can try to debug them by setting error_score='raise'.\n",
      "\n",
      "Below are more details about the failures:\n",
      "--------------------------------------------------------------------------------\n",
      "10 fits failed with the following error:\n",
      "Traceback (most recent call last):\n",
      "  File \"C:\\Users\\pc\\anaconda3\\envs\\laptopclassifier\\lib\\site-packages\\sklearn\\model_selection\\_validation.py\", line 681, in _fit_and_score\n",
      "    estimator.fit(X_train, y_train, **fit_params)\n",
      "  File \"C:\\Users\\pc\\anaconda3\\envs\\laptopclassifier\\lib\\site-packages\\sklearn\\linear_model\\_logistic.py\", line 1461, in fit\n",
      "    solver = _check_solver(self.solver, self.penalty, self.dual)\n",
      "  File \"C:\\Users\\pc\\anaconda3\\envs\\laptopclassifier\\lib\\site-packages\\sklearn\\linear_model\\_logistic.py\", line 447, in _check_solver\n",
      "    raise ValueError(\n",
      "ValueError: Solver lbfgs supports only 'l2' or 'none' penalties, got l1 penalty.\n",
      "\n",
      "--------------------------------------------------------------------------------\n",
      "20 fits failed with the following error:\n",
      "Traceback (most recent call last):\n",
      "  File \"C:\\Users\\pc\\anaconda3\\envs\\laptopclassifier\\lib\\site-packages\\sklearn\\model_selection\\_validation.py\", line 681, in _fit_and_score\n",
      "    estimator.fit(X_train, y_train, **fit_params)\n",
      "  File \"C:\\Users\\pc\\anaconda3\\envs\\laptopclassifier\\lib\\site-packages\\sklearn\\linear_model\\_logistic.py\", line 1519, in fit\n",
      "    multi_class = _check_multi_class(self.multi_class, solver, len(self.classes_))\n",
      "  File \"C:\\Users\\pc\\anaconda3\\envs\\laptopclassifier\\lib\\site-packages\\sklearn\\linear_model\\_logistic.py\", line 483, in _check_multi_class\n",
      "    raise ValueError(\"Solver %s does not support a multinomial backend.\" % solver)\n",
      "ValueError: Solver liblinear does not support a multinomial backend.\n",
      "\n",
      "  warnings.warn(some_fits_failed_message, FitFailedWarning)\n",
      "C:\\Users\\pc\\anaconda3\\envs\\laptopclassifier\\lib\\site-packages\\sklearn\\model_selection\\_search.py:969: UserWarning: One or more of the test scores are non-finite: [       nan 0.77809187 0.73003534 0.76996466 0.75971731 0.59363958\n",
      " 0.74381625        nan 0.74664311        nan]\n",
      "  warnings.warn(\n",
      "C:\\Users\\pc\\anaconda3\\envs\\laptopclassifier\\lib\\site-packages\\sklearn\\linear_model\\_sag.py:352: ConvergenceWarning: The max_iter was reached which means the coef_ did not converge\n",
      "  warnings.warn(\n"
     ]
    },
    {
     "data": {
      "text/plain": [
       "RandomizedSearchCV(cv=10,\n",
       "                   estimator=LogisticRegression(max_iter=400, random_state=1),\n",
       "                   param_distributions={'C': [0.01, 0.1, 1, 10, 100],\n",
       "                                        'multi_class': ['ovr', 'multinomial'],\n",
       "                                        'penalty': ['l1', 'l2', 'elasticnet'],\n",
       "                                        'solver': ['lbfgs', 'liblinear',\n",
       "                                                   'saga']},\n",
       "                   scoring='accuracy')"
      ]
     },
     "execution_count": 17,
     "metadata": {},
     "output_type": "execute_result"
    }
   ],
   "source": [
    "#hyper parameter tuning\n",
    "\n",
    "log=LogisticRegression(random_state=1,max_iter=400)\n",
    "params={'C':[0.01,0.1,1,10,100],\n",
    "        'penalty':['l1','l2','elasticnet'],\n",
    "        'multi_class':['ovr','multinomial'],\n",
    "        'solver':['lbfgs','liblinear','saga']}\n",
    "rand = RandomizedSearchCV(log,params,cv=10,scoring='accuracy')\n",
    "rand.fit(scaled_x_train,y_smote)"
   ]
  },
  {
   "cell_type": "code",
   "execution_count": 18,
   "id": "b6a26ce5",
   "metadata": {},
   "outputs": [
    {
     "data": {
      "text/plain": [
       "LogisticRegression(C=100, max_iter=400, multi_class='multinomial', penalty='l1',\n",
       "                   random_state=1, solver='saga')"
      ]
     },
     "execution_count": 18,
     "metadata": {},
     "output_type": "execute_result"
    }
   ],
   "source": [
    "rand.best_estimator_"
   ]
  },
  {
   "cell_type": "code",
   "execution_count": 19,
   "id": "31df6cda",
   "metadata": {},
   "outputs": [
    {
     "data": {
      "text/plain": [
       "0.7780918727915195"
      ]
     },
     "execution_count": 19,
     "metadata": {},
     "output_type": "execute_result"
    }
   ],
   "source": [
    "rand.best_score_"
   ]
  },
  {
   "cell_type": "code",
   "execution_count": 20,
   "id": "733ba7e5",
   "metadata": {},
   "outputs": [
    {
     "name": "stdout",
     "output_type": "stream",
     "text": [
      "[[ 8  0  9  0  7  8  9  2  1  1]\n",
      " [ 0  5  0  0  0  0  0  0  0  0]\n",
      " [16  0 58  3  7 10 19  8  0  0]\n",
      " [ 0  0  1  3  0  0  0  0  0  0]\n",
      " [ 3  0  1  0 19  3 11  0  0  0]\n",
      " [12  0  8  3  4 34 24  1  0  0]\n",
      " [ 5  0 12  1  4 18 74  2  0  0]\n",
      " [ 0  0  4  0  2  2  2 11  0  0]\n",
      " [ 0  0  0  0  0  0  0  0  6  0]\n",
      " [ 0  0  0  0  0  1  0  0  0  2]]\n",
      "              precision    recall  f1-score   support\n",
      "\n",
      "        Acer       0.18      0.18      0.18        45\n",
      "       Apple       1.00      1.00      1.00         5\n",
      "        Asus       0.62      0.48      0.54       121\n",
      "       Avita       0.30      0.75      0.43         4\n",
      "        Dell       0.44      0.51      0.48        37\n",
      "          HP       0.45      0.40      0.42        86\n",
      "      Lenovo       0.53      0.64      0.58       116\n",
      "         MSI       0.46      0.52      0.49        21\n",
      "   Microsoft       0.86      1.00      0.92         6\n",
      "     Samsung       0.67      0.67      0.67         3\n",
      "\n",
      "    accuracy                           0.50       444\n",
      "   macro avg       0.55      0.61      0.57       444\n",
      "weighted avg       0.50      0.50      0.49       444\n",
      "\n",
      "0.4954954954954955\n"
     ]
    },
    {
     "name": "stderr",
     "output_type": "stream",
     "text": [
      "C:\\Users\\pc\\anaconda3\\envs\\laptopclassifier\\lib\\site-packages\\sklearn\\linear_model\\_sag.py:352: ConvergenceWarning: The max_iter was reached which means the coef_ did not converge\n",
      "  warnings.warn(\n"
     ]
    }
   ],
   "source": [
    "#Model training\n",
    "log=LogisticRegression(C=100, max_iter=400, multi_class='multinomial', penalty='l1',\n",
    "                   random_state=1, solver='saga')\n",
    "\n",
    "log.fit(scaled_x_train,y_smote)\n",
    "pred=log.predict(scaled_x_test)\n",
    "\n",
    "#Model evaluation\n",
    "print(confusion_matrix(y_test,pred))\n",
    "print(classification_report(y_test,pred))\n",
    "print(accuracy_score(y_test,pred))"
   ]
  },
  {
   "cell_type": "code",
   "execution_count": 21,
   "id": "a58f500f",
   "metadata": {},
   "outputs": [],
   "source": [
    "#for tree based algorithms,will use the unscaled data since scaling is not mandatory for these models"
   ]
  },
  {
   "cell_type": "markdown",
   "id": "ec7d5d1b",
   "metadata": {},
   "source": [
    "## Random forest classifier"
   ]
  },
  {
   "cell_type": "code",
   "execution_count": 22,
   "id": "e1c8da89",
   "metadata": {},
   "outputs": [
    {
     "name": "stdout",
     "output_type": "stream",
     "text": [
      "Fitting 10 folds for each of 5 candidates, totalling 50 fits\n"
     ]
    },
    {
     "data": {
      "text/plain": [
       "RandomizedSearchCV(cv=10, estimator=RandomForestClassifier(), n_iter=5,\n",
       "                   n_jobs=-1,\n",
       "                   param_distributions={'criterion': ['entropy', 'gini'],\n",
       "                                        'max_depth': [10, 120, 200, 340, 450],\n",
       "                                        'max_features': ['auto', 'sqrt',\n",
       "                                                         'log2'],\n",
       "                                        'min_samples_leaf': [2, 4, 6, 8],\n",
       "                                        'min_samples_split': [2, 3, 5, 7, 9],\n",
       "                                        'n_estimators': [100, 200, 300, 400]},\n",
       "                   scoring='accuracy', verbose=3)"
      ]
     },
     "execution_count": 22,
     "metadata": {},
     "output_type": "execute_result"
    }
   ],
   "source": [
    "#Hyper parameter tuning\n",
    "\n",
    "params={'n_estimators':[100,200,300,400],\n",
    "        'max_features':['auto','sqrt','log2'],\n",
    "        'max_depth':[10,120,200,340,450],\n",
    "        'min_samples_split':[2,3,5,7,9],\n",
    "        'criterion':['entropy','gini'],\n",
    "        'min_samples_leaf':[2,4,6,8]}\n",
    "rf=RandomForestClassifier()\n",
    "rand=RandomizedSearchCV(rf,params,cv=10,scoring='accuracy',n_jobs=-1,n_iter=5,verbose=3)\n",
    "rand.fit(x_smote,y_smote)"
   ]
  },
  {
   "cell_type": "code",
   "execution_count": 23,
   "id": "29826323",
   "metadata": {},
   "outputs": [
    {
     "data": {
      "text/plain": [
       "RandomForestClassifier(max_depth=450, max_features='sqrt', min_samples_leaf=6,\n",
       "                       min_samples_split=7, n_estimators=400)"
      ]
     },
     "execution_count": 23,
     "metadata": {},
     "output_type": "execute_result"
    }
   ],
   "source": [
    "rand.best_estimator_"
   ]
  },
  {
   "cell_type": "code",
   "execution_count": 24,
   "id": "0a59fef0",
   "metadata": {},
   "outputs": [
    {
     "data": {
      "text/plain": [
       "0.9010600706713779"
      ]
     },
     "execution_count": 24,
     "metadata": {},
     "output_type": "execute_result"
    }
   ],
   "source": [
    "rand.best_score_"
   ]
  },
  {
   "cell_type": "code",
   "execution_count": 25,
   "id": "d0bcff36",
   "metadata": {},
   "outputs": [
    {
     "name": "stdout",
     "output_type": "stream",
     "text": [
      "[[25  0  5  0  0  2 10  2  1  0]\n",
      " [ 0  5  0  0  0  0  0  0  0  0]\n",
      " [ 3  0 97  1  1  6  5  6  0  2]\n",
      " [ 0  0  0  4  0  0  0  0  0  0]\n",
      " [ 0  0  4  1 24  2  5  0  1  0]\n",
      " [ 4  0  7  3  2 65  5  0  0  0]\n",
      " [ 3  0 11  0  3 14 83  1  1  0]\n",
      " [ 0  0  3  0  2  0  0 16  0  0]\n",
      " [ 0  0  0  0  0  0  0  0  6  0]\n",
      " [ 0  0  0  0  0  0  0  0  1  2]]\n",
      "              precision    recall  f1-score   support\n",
      "\n",
      "        Acer       0.71      0.56      0.63        45\n",
      "       Apple       1.00      1.00      1.00         5\n",
      "        Asus       0.76      0.80      0.78       121\n",
      "       Avita       0.44      1.00      0.62         4\n",
      "        Dell       0.75      0.65      0.70        37\n",
      "          HP       0.73      0.76      0.74        86\n",
      "      Lenovo       0.77      0.72      0.74       116\n",
      "         MSI       0.64      0.76      0.70        21\n",
      "   Microsoft       0.60      1.00      0.75         6\n",
      "     Samsung       0.50      0.67      0.57         3\n",
      "\n",
      "    accuracy                           0.74       444\n",
      "   macro avg       0.69      0.79      0.72       444\n",
      "weighted avg       0.74      0.74      0.74       444\n",
      "\n",
      "0.7364864864864865\n"
     ]
    }
   ],
   "source": [
    "#Model training\n",
    "rf=RandomForestClassifier(max_depth=450, max_features='sqrt', min_samples_leaf=6,\n",
    "                       min_samples_split=7, n_estimators=400)\n",
    "rf.fit(x_smote,y_smote)\n",
    "pred=rf.predict(x_test_final2)\n",
    "\n",
    "#Model evaluation\n",
    "print(confusion_matrix(y_test,pred))\n",
    "print(classification_report(y_test,pred))\n",
    "print(accuracy_score(y_test,pred))"
   ]
  },
  {
   "cell_type": "markdown",
   "id": "1a72fec0",
   "metadata": {},
   "source": [
    "## XGBoost Classifier"
   ]
  },
  {
   "cell_type": "code",
   "execution_count": 26,
   "id": "cfe4664d",
   "metadata": {},
   "outputs": [
    {
     "name": "stdout",
     "output_type": "stream",
     "text": [
      "Fitting 10 folds for each of 5 candidates, totalling 50 fits\n"
     ]
    },
    {
     "name": "stderr",
     "output_type": "stream",
     "text": [
      "C:\\Users\\pc\\anaconda3\\envs\\laptopclassifier\\lib\\site-packages\\xgboost\\sklearn.py:1146: UserWarning: The use of label encoder in XGBClassifier is deprecated and will be removed in a future release. To remove this warning, do the following: 1) Pass option use_label_encoder=False when constructing XGBClassifier object; and 2) Encode your labels (y) as integers starting with 0, i.e. 0, 1, 2, ..., [num_class - 1].\n",
      "  warnings.warn(label_encoder_deprecation_msg, UserWarning)\n"
     ]
    },
    {
     "name": "stdout",
     "output_type": "stream",
     "text": [
      "[01:15:28] WARNING: C:/Users/Administrator/workspace/xgboost-win64_release_1.4.0/src/learner.cc:1095: Starting in XGBoost 1.3.0, the default evaluation metric used with the objective 'multi:softprob' was changed from 'merror' to 'mlogloss'. Explicitly set eval_metric if you'd like to restore the old behavior.\n"
     ]
    },
    {
     "data": {
      "text/plain": [
       "RandomizedSearchCV(cv=10,\n",
       "                   estimator=XGBClassifier(base_score=None, booster=None,\n",
       "                                           colsample_bylevel=None,\n",
       "                                           colsample_bynode=None,\n",
       "                                           colsample_bytree=None, gamma=None,\n",
       "                                           gpu_id=None, importance_type='gain',\n",
       "                                           interaction_constraints=None,\n",
       "                                           learning_rate=None,\n",
       "                                           max_delta_step=None, max_depth=None,\n",
       "                                           min_child_weight=None, missing=nan,\n",
       "                                           monotone_constraints=None,\n",
       "                                           n_estimators=100...\n",
       "                                           scale_pos_weight=None,\n",
       "                                           subsample=None, tree_method=None,\n",
       "                                           validate_parameters=None,\n",
       "                                           verbosity=None),\n",
       "                   n_iter=5, n_jobs=-1,\n",
       "                   param_distributions={'colsample_bytree': [0.3, 0.4, 0.5, 0.7,\n",
       "                                                             0.8],\n",
       "                                        'eta': [0.01, 0.05, 0.2, 0.8, 1, 1.4],\n",
       "                                        'gamma': [0, 0.1, 0.2, 0.3, 0.4],\n",
       "                                        'learning_rate': [0.05, 0.15, 0.2, 0.25,\n",
       "                                                          0.3],\n",
       "                                        'max_depth': [3, 4, 5, 6, 7, 12, 15],\n",
       "                                        'min_child_weight': [1, 3, 5, 7]},\n",
       "                   scoring='accuracy', verbose=3)"
      ]
     },
     "execution_count": 26,
     "metadata": {},
     "output_type": "execute_result"
    }
   ],
   "source": [
    "#Hyper parameter tuning\n",
    "\n",
    "paramsxg={\n",
    "    'learning_rate':[0.05,0.15,0.2,0.25,0.3],\n",
    "    'max_depth':[3,4,5,6,7,12,15],\n",
    "    'min_child_weight':[1,3,5,7],\n",
    "    'gamma':[0,0.1,0.2,0.3,0.4],\n",
    "    'eta':[0.01,0.05,0.2,0.8,1,1.4],\n",
    "    'colsample_bytree':[0.3,0.4,0.5,0.7,0.8]}\n",
    "xg=XGBClassifier()\n",
    "randomer=RandomizedSearchCV(xg,param_distributions=paramsxg,n_iter=5,n_jobs=-1,verbose=3,cv=10,scoring='accuracy')\n",
    "randomer.fit(x_smote,y_smote)"
   ]
  },
  {
   "cell_type": "code",
   "execution_count": 27,
   "id": "6e0471e9",
   "metadata": {},
   "outputs": [
    {
     "data": {
      "text/plain": [
       "XGBClassifier(base_score=0.5, booster='gbtree', colsample_bylevel=1,\n",
       "              colsample_bynode=1, colsample_bytree=0.3, eta=0.2, gamma=0.3,\n",
       "              gpu_id=-1, importance_type='gain', interaction_constraints='',\n",
       "              learning_rate=0.2, max_delta_step=0, max_depth=15,\n",
       "              min_child_weight=7, missing=nan, monotone_constraints='()',\n",
       "              n_estimators=100, n_jobs=2, num_parallel_tree=1,\n",
       "              objective='multi:softprob', random_state=0, reg_alpha=0,\n",
       "              reg_lambda=1, scale_pos_weight=None, subsample=1,\n",
       "              tree_method='exact', validate_parameters=1, verbosity=None)"
      ]
     },
     "execution_count": 27,
     "metadata": {},
     "output_type": "execute_result"
    }
   ],
   "source": [
    "randomer.best_estimator_"
   ]
  },
  {
   "cell_type": "code",
   "execution_count": 28,
   "id": "a17051be",
   "metadata": {},
   "outputs": [
    {
     "data": {
      "text/plain": [
       "0.9441696113074205"
      ]
     },
     "execution_count": 28,
     "metadata": {},
     "output_type": "execute_result"
    }
   ],
   "source": [
    "randomer.best_score_"
   ]
  },
  {
   "cell_type": "code",
   "execution_count": 29,
   "id": "bd87913a",
   "metadata": {},
   "outputs": [
    {
     "name": "stdout",
     "output_type": "stream",
     "text": [
      "[01:17:13] WARNING: C:/Users/Administrator/workspace/xgboost-win64_release_1.4.0/src/learner.cc:1095: Starting in XGBoost 1.3.0, the default evaluation metric used with the objective 'multi:softprob' was changed from 'merror' to 'mlogloss'. Explicitly set eval_metric if you'd like to restore the old behavior.\n",
      "[[ 35   0   2   0   0   1   5   1   1   0]\n",
      " [  0   5   0   0   0   0   0   0   0   0]\n",
      " [  2   0 112   0   0   1   5   1   0   0]\n",
      " [  0   0   0   3   0   0   1   0   0   0]\n",
      " [  1   0   3   0  26   1   6   0   0   0]\n",
      " [  1   0   3   1   1  78   2   0   0   0]\n",
      " [  2   0   5   0   1   7 100   0   1   0]\n",
      " [  0   0   2   0   1   0   0  18   0   0]\n",
      " [  0   0   0   0   0   0   0   0   6   0]\n",
      " [  0   0   1   0   0   0   0   0   0   2]]\n",
      "              precision    recall  f1-score   support\n",
      "\n",
      "        Acer       0.85      0.78      0.81        45\n",
      "       Apple       1.00      1.00      1.00         5\n",
      "        Asus       0.88      0.93      0.90       121\n",
      "       Avita       0.75      0.75      0.75         4\n",
      "        Dell       0.90      0.70      0.79        37\n",
      "          HP       0.89      0.91      0.90        86\n",
      "      Lenovo       0.84      0.86      0.85       116\n",
      "         MSI       0.90      0.86      0.88        21\n",
      "   Microsoft       0.75      1.00      0.86         6\n",
      "     Samsung       1.00      0.67      0.80         3\n",
      "\n",
      "    accuracy                           0.87       444\n",
      "   macro avg       0.88      0.84      0.85       444\n",
      "weighted avg       0.87      0.87      0.87       444\n",
      "\n",
      "0.8671171171171171\n"
     ]
    }
   ],
   "source": [
    "#Model training\n",
    "xg = XGBClassifier(base_score=0.5, booster='gbtree', colsample_bylevel=1,\n",
    "              colsample_bynode=1, colsample_bytree=0.3, eta=0.2, gamma=0.3,\n",
    "              gpu_id=-1, importance_type='gain', interaction_constraints='',\n",
    "              learning_rate=0.2, max_delta_step=0, max_depth=15,\n",
    "              min_child_weight=7, monotone_constraints='()',\n",
    "              n_estimators=100, n_jobs=2, num_parallel_tree=1,\n",
    "              objective='multi:softprob', random_state=0, reg_alpha=0,\n",
    "              reg_lambda=1, scale_pos_weight=None, subsample=1,\n",
    "              tree_method='exact', validate_parameters=1, verbosity=None)\n",
    "xg.fit(x_smote,y_smote)\n",
    "pred=xg.predict(x_test_final2)\n",
    "\n",
    "#Model evaluation\n",
    "print(confusion_matrix(y_test,pred))\n",
    "print(classification_report(y_test,pred))\n",
    "print(accuracy_score(y_test,pred))"
   ]
  },
  {
   "cell_type": "code",
   "execution_count": 31,
   "id": "f71f7a98",
   "metadata": {},
   "outputs": [],
   "source": [
    "#The xgboost clearly is the best model for this case with an accuracy of 86.7%."
   ]
  },
  {
   "cell_type": "code",
   "execution_count": 32,
   "id": "98fd7a90",
   "metadata": {},
   "outputs": [
    {
     "data": {
      "text/plain": [
       "<AxesSubplot:>"
      ]
     },
     "execution_count": 32,
     "metadata": {},
     "output_type": "execute_result"
    },
    {
     "data": {
      "image/png": "[encoded data removed]",
      "text/plain": [
       "<Figure size 432x288 with 1 Axes>"
      ]
     },
     "metadata": {
      "needs_background": "light"
     },
     "output_type": "display_data"
    }
   ],
   "source": [
    "# Top 10 Feature importance rank using xgboost classifier\n",
    "rank=pd.Series(xg.feature_importances_,index=x_train_final.columns)\n",
    "rank.nlargest(10).plot(kind='barh')"
   ]
  },
  {
   "cell_type": "markdown",
   "id": "3bce8eea",
   "metadata": {},
   "source": [
    "## Conclusion"
   ]
  },
  {
   "cell_type": "code",
   "execution_count": 33,
   "id": "4bb96548",
   "metadata": {},
   "outputs": [],
   "source": [
    "#The operating system,Touchscreen,screen pixel density,display_type and harddrive capacity seem to rank high as laptop features \n",
    "# that differentiate brands. This shows that there is not a lot of technological differences that set aside these brands from  \n",
    "#each other.This is due to the fact that every laptop can have different operating system installed in it after being purchased,\n",
    "#nowadays external harddrives compensate for low internal harddrive capacity, only leaving display type,screen pixel density \n",
    "#and touch screen technology. If perfomance is the objective then almost any brand can provide that optimal perfomance but if\n",
    "#screen technology is the priority then certain brands have better technology for those needs such as Apple and microsoft."
   ]
  },
  {
   "cell_type": "code",
   "execution_count": null,
   "id": "bb128163",
   "metadata": {},
   "outputs": [],
   "source": []
  }
 ],
 "metadata": {
  "kernelspec": {
   "display_name": "Python 3 (ipykernel)",
   "language": "python",
   "name": "python3"
  },
  "language_info": {
   "codemirror_mode": {
    "name": "ipython",
    "version": 3
   },
   "file_extension": ".py",
   "mimetype": "text/x-python",
   "name": "python",
   "nbconvert_exporter": "python",
   "pygments_lexer": "ipython3",
   "version": "3.8.11"
  }
 },
 "nbformat": 4,
 "nbformat_minor": 5
}
