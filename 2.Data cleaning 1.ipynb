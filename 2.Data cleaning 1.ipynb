{
 "cells": [
  {
   "cell_type": "code",
   "execution_count": 1,
   "id": "678bf206",
   "metadata": {},
   "outputs": [],
   "source": [
    "import pandas as pd\n",
    "import numpy as np"
   ]
  },
  {
   "cell_type": "code",
   "execution_count": 2,
   "id": "2a100fcc",
   "metadata": {},
   "outputs": [
    {
     "data": {
      "text/html": [
       "<div>\n",
       "<style scoped>\n",
       "    .dataframe tbody tr th:only-of-type {\n",
       "        vertical-align: middle;\n",
       "    }\n",
       "\n",
       "    .dataframe tbody tr th {\n",
       "        vertical-align: top;\n",
       "    }\n",
       "\n",
       "    .dataframe thead th {\n",
       "        text-align: right;\n",
       "    }\n",
       "</style>\n",
       "<table border=\"1\" class=\"dataframe\">\n",
       "  <thead>\n",
       "    <tr style=\"text-align: right;\">\n",
       "      <th></th>\n",
       "      <th>Rating</th>\n",
       "      <th>No_of_ratings</th>\n",
       "      <th>Name</th>\n",
       "      <th>specs0</th>\n",
       "      <th>specs1</th>\n",
       "      <th>specs2</th>\n",
       "      <th>specs3</th>\n",
       "      <th>specs4</th>\n",
       "      <th>specs5</th>\n",
       "      <th>specs6</th>\n",
       "      <th>...</th>\n",
       "      <th>specs26</th>\n",
       "      <th>specs27</th>\n",
       "      <th>specs28</th>\n",
       "      <th>specs29</th>\n",
       "      <th>specs30</th>\n",
       "      <th>specs31</th>\n",
       "      <th>specs32</th>\n",
       "      <th>specs33</th>\n",
       "      <th>specs34</th>\n",
       "      <th>specs35</th>\n",
       "    </tr>\n",
       "  </thead>\n",
       "  <tbody>\n",
       "    <tr>\n",
       "      <th>0</th>\n",
       "      <td>3.7</td>\n",
       "      <td>21 Ratings</td>\n",
       "      <td>Key Specs &amp; Features of HP 15-ec0101AX (167W1P...</td>\n",
       "      <td>Windows 10 Home Basic</td>\n",
       "      <td>15.6 inch(39.62 cm)</td>\n",
       "      <td>1920 x 1080 pixels</td>\n",
       "      <td>LED</td>\n",
       "      <td>Diagonal IPS anti-glare micro-edge WLED-backl...</td>\n",
       "      <td>No</td>\n",
       "      <td>AMD Quad-Core Ryzen 5</td>\n",
       "      <td>...</td>\n",
       "      <td>No</td>\n",
       "      <td>Yes, 1</td>\n",
       "      <td>Headphone + Microphone Combo Jack</td>\n",
       "      <td>52.5 W AC Adapter W</td>\n",
       "      <td>3 Cell</td>\n",
       "      <td>Li-Ion</td>\n",
       "      <td>NaN</td>\n",
       "      <td>HP Imagepad with Multi-Touch Gesture Support</td>\n",
       "      <td>Gaming Backlit Keyboard</td>\n",
       "      <td>No</td>\n",
       "    </tr>\n",
       "    <tr>\n",
       "      <th>1</th>\n",
       "      <td>4.0</td>\n",
       "      <td>3,674 Ratings</td>\n",
       "      <td>Key Specs &amp; Features of HP 15s-dy3001TU (360L7...</td>\n",
       "      <td>Windows 10 Home Basic</td>\n",
       "      <td>15.6 inch(39.62 cm)</td>\n",
       "      <td>1920 x 1080 pixels</td>\n",
       "      <td>LED</td>\n",
       "      <td>Diagonal IPS, micro-edge, anti-glare, 250 nit...</td>\n",
       "      <td>No</td>\n",
       "      <td>Intel Pentium Dual-Core</td>\n",
       "      <td>...</td>\n",
       "      <td>No</td>\n",
       "      <td>Yes, 1</td>\n",
       "      <td>Headphone + Microphone Combo Jack</td>\n",
       "      <td>65 W AC Adapter W</td>\n",
       "      <td>3 Cell</td>\n",
       "      <td>Li-Ion</td>\n",
       "      <td>NaN</td>\n",
       "      <td>Touchpad with Multi-Touch Gestures Enabled</td>\n",
       "      <td>Full-size, jet black keyboard with numeric ke...</td>\n",
       "      <td>No</td>\n",
       "    </tr>\n",
       "    <tr>\n",
       "      <th>2</th>\n",
       "      <td>3.8</td>\n",
       "      <td>464 Ratings</td>\n",
       "      <td>Key Specs &amp; Features of HP 15s-du3032TU (309J0...</td>\n",
       "      <td>Windows 10 Home Basic</td>\n",
       "      <td>15.6 inch(39.62 cm)</td>\n",
       "      <td>1920 x 1080 pixels</td>\n",
       "      <td>LED</td>\n",
       "      <td>Diagonal IPS, micro-edge, anti-glare, 250 nit...</td>\n",
       "      <td>No</td>\n",
       "      <td>Intel Core i5 (11th Gen)</td>\n",
       "      <td>...</td>\n",
       "      <td>No</td>\n",
       "      <td>Yes, 1</td>\n",
       "      <td>Headphone + Microphone Combo Jack</td>\n",
       "      <td>65 W AC Adapter W</td>\n",
       "      <td>3 Cell</td>\n",
       "      <td>Li-Ion</td>\n",
       "      <td>NaN</td>\n",
       "      <td>Touchpad with multi-touch gesture support; Pr...</td>\n",
       "      <td>Full-size, natural silver keyboard with numer...</td>\n",
       "      <td>No</td>\n",
       "    </tr>\n",
       "    <tr>\n",
       "      <th>3</th>\n",
       "      <td>3.9</td>\n",
       "      <td>452 Ratings</td>\n",
       "      <td>Key Specs &amp; Features of HP 14q-cs0014TU (7EF94...</td>\n",
       "      <td>Windows 10 Home Basic</td>\n",
       "      <td>14 inch(35.56 cm)</td>\n",
       "      <td>1366 x 768 pixels</td>\n",
       "      <td>LED</td>\n",
       "      <td>Diagonal SVA BrightView Micro-Edge WLED-Backl...</td>\n",
       "      <td>No</td>\n",
       "      <td>Intel Core i3 (7th Gen)</td>\n",
       "      <td>...</td>\n",
       "      <td>No</td>\n",
       "      <td>No</td>\n",
       "      <td>Headphone + Microphone Combo Jack</td>\n",
       "      <td>41 W AC Adapter W</td>\n",
       "      <td>3 Cell</td>\n",
       "      <td>Li-Ion</td>\n",
       "      <td>NaN</td>\n",
       "      <td>Touchpad with Multi-Touch Gestures Enabled</td>\n",
       "      <td>Standard Notebook Keyboard</td>\n",
       "      <td>No</td>\n",
       "    </tr>\n",
       "    <tr>\n",
       "      <th>4</th>\n",
       "      <td>4.1</td>\n",
       "      <td>502 Ratings</td>\n",
       "      <td>Key Specs &amp; Features of HP 15-ec1024AX (183J8P...</td>\n",
       "      <td>Windows 10 Home Basic</td>\n",
       "      <td>15.6 inch(39.62 cm)</td>\n",
       "      <td>1920 x 1080 pixels</td>\n",
       "      <td>LED</td>\n",
       "      <td>Diagonal IPS anti-glare micro-edge WLED-backl...</td>\n",
       "      <td>No</td>\n",
       "      <td>AMD Hexa-Core Ryzen 5</td>\n",
       "      <td>...</td>\n",
       "      <td>No</td>\n",
       "      <td>Yes, 1</td>\n",
       "      <td>Headphone + Microphone Combo Jack</td>\n",
       "      <td>150 W AC Adapter W</td>\n",
       "      <td>3 Cell</td>\n",
       "      <td>Li-Ion</td>\n",
       "      <td>NaN</td>\n",
       "      <td>Touchpad with Multi-Touch Gestures Enabled</td>\n",
       "      <td>Gaming Backlit Keyboard</td>\n",
       "      <td>No</td>\n",
       "    </tr>\n",
       "  </tbody>\n",
       "</table>\n",
       "<p>5 rows × 39 columns</p>\n",
       "</div>"
      ],
      "text/plain": [
       "   Rating  No_of_ratings                                               Name  \\\n",
       "0     3.7     21 Ratings  Key Specs & Features of HP 15-ec0101AX (167W1P...   \n",
       "1     4.0  3,674 Ratings  Key Specs & Features of HP 15s-dy3001TU (360L7...   \n",
       "2     3.8    464 Ratings  Key Specs & Features of HP 15s-du3032TU (309J0...   \n",
       "3     3.9    452 Ratings  Key Specs & Features of HP 14q-cs0014TU (7EF94...   \n",
       "4     4.1    502 Ratings  Key Specs & Features of HP 15-ec1024AX (183J8P...   \n",
       "\n",
       "                    specs0                 specs1                specs2  \\\n",
       "0   Windows 10 Home Basic    15.6 inch(39.62 cm)    1920 x 1080 pixels    \n",
       "1   Windows 10 Home Basic    15.6 inch(39.62 cm)    1920 x 1080 pixels    \n",
       "2   Windows 10 Home Basic    15.6 inch(39.62 cm)    1920 x 1080 pixels    \n",
       "3   Windows 10 Home Basic      14 inch(35.56 cm)     1366 x 768 pixels    \n",
       "4   Windows 10 Home Basic    15.6 inch(39.62 cm)    1920 x 1080 pixels    \n",
       "\n",
       "  specs3                                             specs4 specs5  \\\n",
       "0   LED    Diagonal IPS anti-glare micro-edge WLED-backl...    No    \n",
       "1   LED    Diagonal IPS, micro-edge, anti-glare, 250 nit...    No    \n",
       "2   LED    Diagonal IPS, micro-edge, anti-glare, 250 nit...    No    \n",
       "3   LED    Diagonal SVA BrightView Micro-Edge WLED-Backl...    No    \n",
       "4   LED    Diagonal IPS anti-glare micro-edge WLED-backl...    No    \n",
       "\n",
       "                       specs6  ... specs26   specs27  \\\n",
       "0      AMD Quad-Core Ryzen 5   ...     No    Yes, 1    \n",
       "1    Intel Pentium Dual-Core   ...     No    Yes, 1    \n",
       "2   Intel Core i5 (11th Gen)   ...     No    Yes, 1    \n",
       "3    Intel Core i3 (7th Gen)   ...     No        No    \n",
       "4      AMD Hexa-Core Ryzen 5   ...     No    Yes, 1    \n",
       "\n",
       "                               specs28                specs29   specs30  \\\n",
       "0   Headphone + Microphone Combo Jack    52.5 W AC Adapter W    3 Cell    \n",
       "1   Headphone + Microphone Combo Jack      65 W AC Adapter W    3 Cell    \n",
       "2   Headphone + Microphone Combo Jack      65 W AC Adapter W    3 Cell    \n",
       "3   Headphone + Microphone Combo Jack      41 W AC Adapter W    3 Cell    \n",
       "4   Headphone + Microphone Combo Jack     150 W AC Adapter W    3 Cell    \n",
       "\n",
       "    specs31 specs32                                            specs33  \\\n",
       "0   Li-Ion      NaN      HP Imagepad with Multi-Touch Gesture Support    \n",
       "1   Li-Ion      NaN        Touchpad with Multi-Touch Gestures Enabled    \n",
       "2   Li-Ion      NaN   Touchpad with multi-touch gesture support; Pr...   \n",
       "3   Li-Ion      NaN        Touchpad with Multi-Touch Gestures Enabled    \n",
       "4   Li-Ion      NaN        Touchpad with Multi-Touch Gestures Enabled    \n",
       "\n",
       "                                             specs34 specs35  \n",
       "0                           Gaming Backlit Keyboard      No   \n",
       "1   Full-size, jet black keyboard with numeric ke...     No   \n",
       "2   Full-size, natural silver keyboard with numer...     No   \n",
       "3                        Standard Notebook Keyboard      No   \n",
       "4                           Gaming Backlit Keyboard      No   \n",
       "\n",
       "[5 rows x 39 columns]"
      ]
     },
     "execution_count": 2,
     "metadata": {},
     "output_type": "execute_result"
    }
   ],
   "source": [
    "data1 = pd.read_csv('laptopdata1.csv')\n",
    "data1.head()"
   ]
  },
  {
   "cell_type": "code",
   "execution_count": 3,
   "id": "823d6315",
   "metadata": {},
   "outputs": [
    {
     "data": {
      "text/plain": [
       "Rating           float64\n",
       "No_of_ratings     object\n",
       "Name              object\n",
       "specs0            object\n",
       "specs1            object\n",
       "specs2            object\n",
       "specs3            object\n",
       "specs4            object\n",
       "specs5            object\n",
       "specs6            object\n",
       "specs7            object\n",
       "specs8            object\n",
       "specs9            object\n",
       "specs10           object\n",
       "specs11           object\n",
       "specs12           object\n",
       "specs13           object\n",
       "specs14           object\n",
       "specs15           object\n",
       "specs16           object\n",
       "specs17           object\n",
       "specs18           object\n",
       "specs19           object\n",
       "specs20           object\n",
       "specs21           object\n",
       "specs22           object\n",
       "specs23           object\n",
       "specs24           object\n",
       "specs25           object\n",
       "specs26           object\n",
       "specs27           object\n",
       "specs28           object\n",
       "specs29           object\n",
       "specs30           object\n",
       "specs31           object\n",
       "specs32           object\n",
       "specs33           object\n",
       "specs34           object\n",
       "specs35           object\n",
       "dtype: object"
      ]
     },
     "execution_count": 3,
     "metadata": {},
     "output_type": "execute_result"
    }
   ],
   "source": [
    "#Checking datatypes of the data\n",
    "data1.dtypes"
   ]
  },
  {
   "cell_type": "code",
   "execution_count": 4,
   "id": "af1a12f2",
   "metadata": {},
   "outputs": [
    {
     "data": {
      "text/html": [
       "<div>\n",
       "<style scoped>\n",
       "    .dataframe tbody tr th:only-of-type {\n",
       "        vertical-align: middle;\n",
       "    }\n",
       "\n",
       "    .dataframe tbody tr th {\n",
       "        vertical-align: top;\n",
       "    }\n",
       "\n",
       "    .dataframe thead th {\n",
       "        text-align: right;\n",
       "    }\n",
       "</style>\n",
       "<table border=\"1\" class=\"dataframe\">\n",
       "  <thead>\n",
       "    <tr style=\"text-align: right;\">\n",
       "      <th></th>\n",
       "      <th>Rating</th>\n",
       "      <th>No_of_ratings</th>\n",
       "      <th>Name</th>\n",
       "      <th>specs0</th>\n",
       "      <th>specs1</th>\n",
       "      <th>specs2</th>\n",
       "      <th>specs3</th>\n",
       "      <th>specs4</th>\n",
       "      <th>specs5</th>\n",
       "      <th>specs6</th>\n",
       "      <th>...</th>\n",
       "      <th>specs26</th>\n",
       "      <th>specs27</th>\n",
       "      <th>specs28</th>\n",
       "      <th>specs29</th>\n",
       "      <th>specs30</th>\n",
       "      <th>specs31</th>\n",
       "      <th>specs32</th>\n",
       "      <th>specs33</th>\n",
       "      <th>specs34</th>\n",
       "      <th>specs35</th>\n",
       "    </tr>\n",
       "  </thead>\n",
       "  <tbody>\n",
       "    <tr>\n",
       "      <th>0</th>\n",
       "      <td>NaN</td>\n",
       "      <td>NaN</td>\n",
       "      <td>Key Specs &amp; Features of Asus FX505DT-AL202T (R...</td>\n",
       "      <td>Windows 10 Home Basic</td>\n",
       "      <td>15.6 inch(39.62 cm)</td>\n",
       "      <td>1920 x 1080 pixels</td>\n",
       "      <td>LED</td>\n",
       "      <td>LED Backlit Anti-Glare Display</td>\n",
       "      <td>No</td>\n",
       "      <td>AMD Quad-Core Ryzen 5</td>\n",
       "      <td>...</td>\n",
       "      <td>No</td>\n",
       "      <td>NaN</td>\n",
       "      <td>Headphone + Microphone Combo Jack</td>\n",
       "      <td>48 W AC Adapter W</td>\n",
       "      <td>3 Cell</td>\n",
       "      <td>Li-Po</td>\n",
       "      <td>NaN</td>\n",
       "      <td>Touchpad with Multi-Touch Gestures Enabled</td>\n",
       "      <td>Gaming RGB Backlit Keyboard</td>\n",
       "      <td>No</td>\n",
       "    </tr>\n",
       "    <tr>\n",
       "      <th>1</th>\n",
       "      <td>4.3</td>\n",
       "      <td>169 Ratings</td>\n",
       "      <td>Key Specs &amp; Features of Asus X413EP-EK511TS (I...</td>\n",
       "      <td>Windows 10 Home Basic</td>\n",
       "      <td>14 inch(35.56 cm)</td>\n",
       "      <td>1920 x 1080 pixels</td>\n",
       "      <td>LED</td>\n",
       "      <td>LED Backlit Anti-glare Display (16:9 Aspect R...</td>\n",
       "      <td>No</td>\n",
       "      <td>Intel Core i5 (11th Gen)</td>\n",
       "      <td>...</td>\n",
       "      <td>NaN</td>\n",
       "      <td>Yes, 1</td>\n",
       "      <td>Headphone + Microphone Combo Jack</td>\n",
       "      <td>65 W AC Adapter W</td>\n",
       "      <td>3 Cell</td>\n",
       "      <td>Li-Ion</td>\n",
       "      <td>NaN</td>\n",
       "      <td>Touchpad with Multi-Touch Gestures Enabled</td>\n",
       "      <td>Backlit Chiclet Keyboard</td>\n",
       "      <td>Yes</td>\n",
       "    </tr>\n",
       "    <tr>\n",
       "      <th>2</th>\n",
       "      <td>3.7</td>\n",
       "      <td>249 Ratings</td>\n",
       "      <td>Key Specs &amp; Features of Dell 15 3593 (D560236W...</td>\n",
       "      <td>Windows 10 Home Basic</td>\n",
       "      <td>15.6 inch(39.62 cm)</td>\n",
       "      <td>1920 x 1080 pixels</td>\n",
       "      <td>LED</td>\n",
       "      <td>LED Backlit Anti-glare Display</td>\n",
       "      <td>No</td>\n",
       "      <td>Intel Core i3 (10th Gen)</td>\n",
       "      <td>...</td>\n",
       "      <td>Yes</td>\n",
       "      <td>NaN</td>\n",
       "      <td>Headphone + Microphone Combo Jack</td>\n",
       "      <td>NaN</td>\n",
       "      <td>3 Cell</td>\n",
       "      <td>Li-Ion</td>\n",
       "      <td>6 Hrs</td>\n",
       "      <td>Touchpad with Multi-Touch Gestures Enabled</td>\n",
       "      <td>English International Non Backlit Keyboard</td>\n",
       "      <td>NaN</td>\n",
       "    </tr>\n",
       "    <tr>\n",
       "      <th>3</th>\n",
       "      <td>3.8</td>\n",
       "      <td>75 Ratings</td>\n",
       "      <td>Key Specs &amp; Features of Dell 15 3593 (D591457W...</td>\n",
       "      <td>Windows 10 Home Basic</td>\n",
       "      <td>15.6 inch(39.62 cm)</td>\n",
       "      <td>1920 x 1080 pixels</td>\n",
       "      <td>LED</td>\n",
       "      <td>LED Backlit Anti-glare Display</td>\n",
       "      <td>No</td>\n",
       "      <td>Intel Core i3 (10th Gen)</td>\n",
       "      <td>...</td>\n",
       "      <td>No</td>\n",
       "      <td>Yes</td>\n",
       "      <td>Headphone + Microphone Combo Jack</td>\n",
       "      <td>NaN</td>\n",
       "      <td>3 Cell</td>\n",
       "      <td>Li-Ion</td>\n",
       "      <td>NaN</td>\n",
       "      <td>Touchpad with Multi-Touch Gestures Enabled</td>\n",
       "      <td>English International Non Backlit Keyboard</td>\n",
       "      <td>No</td>\n",
       "    </tr>\n",
       "    <tr>\n",
       "      <th>4</th>\n",
       "      <td>NaN</td>\n",
       "      <td>NaN</td>\n",
       "      <td>Key Specs &amp; Features of Acer CB3-431 (NX.GC2AA...</td>\n",
       "      <td>Google Chrome</td>\n",
       "      <td>14 inch</td>\n",
       "      <td>1366 x 768 pixels</td>\n",
       "      <td>LED</td>\n",
       "      <td>Active Matrix TFT Color LCD LED Backlight Dis...</td>\n",
       "      <td>No</td>\n",
       "      <td>Intel Celeron Dual-Core</td>\n",
       "      <td>...</td>\n",
       "      <td>NaN</td>\n",
       "      <td>NaN</td>\n",
       "      <td>Headphone + Microphone Combo Jack</td>\n",
       "      <td>45 W AC Adapter W</td>\n",
       "      <td>3 Cell</td>\n",
       "      <td>Li-Po</td>\n",
       "      <td>NaN</td>\n",
       "      <td>Touchpad with Multi-touch Gestures support</td>\n",
       "      <td>Acer FineTip Keyboard with Numeric Keypad</td>\n",
       "      <td>No</td>\n",
       "    </tr>\n",
       "  </tbody>\n",
       "</table>\n",
       "<p>5 rows × 39 columns</p>\n",
       "</div>"
      ],
      "text/plain": [
       "   Rating No_of_ratings                                               Name  \\\n",
       "0     NaN           NaN  Key Specs & Features of Asus FX505DT-AL202T (R...   \n",
       "1     4.3   169 Ratings  Key Specs & Features of Asus X413EP-EK511TS (I...   \n",
       "2     3.7   249 Ratings  Key Specs & Features of Dell 15 3593 (D560236W...   \n",
       "3     3.8    75 Ratings  Key Specs & Features of Dell 15 3593 (D591457W...   \n",
       "4     NaN           NaN  Key Specs & Features of Acer CB3-431 (NX.GC2AA...   \n",
       "\n",
       "                    specs0                 specs1                specs2  \\\n",
       "0   Windows 10 Home Basic    15.6 inch(39.62 cm)    1920 x 1080 pixels    \n",
       "1   Windows 10 Home Basic      14 inch(35.56 cm)    1920 x 1080 pixels    \n",
       "2   Windows 10 Home Basic    15.6 inch(39.62 cm)    1920 x 1080 pixels    \n",
       "3   Windows 10 Home Basic    15.6 inch(39.62 cm)    1920 x 1080 pixels    \n",
       "4           Google Chrome                14 inch     1366 x 768 pixels    \n",
       "\n",
       "  specs3                                             specs4 specs5  \\\n",
       "0   LED                     LED Backlit Anti-Glare Display     No    \n",
       "1   LED    LED Backlit Anti-glare Display (16:9 Aspect R...    No    \n",
       "2   LED                     LED Backlit Anti-glare Display     No    \n",
       "3   LED                     LED Backlit Anti-glare Display     No    \n",
       "4   LED    Active Matrix TFT Color LCD LED Backlight Dis...    No    \n",
       "\n",
       "                       specs6  ... specs26   specs27  \\\n",
       "0      AMD Quad-Core Ryzen 5   ...     No        NaN   \n",
       "1   Intel Core i5 (11th Gen)   ...     NaN   Yes, 1    \n",
       "2   Intel Core i3 (10th Gen)   ...    Yes        NaN   \n",
       "3   Intel Core i3 (10th Gen)   ...     No       Yes    \n",
       "4    Intel Celeron Dual-Core   ...     NaN       NaN   \n",
       "\n",
       "                               specs28              specs29   specs30  \\\n",
       "0   Headphone + Microphone Combo Jack    48 W AC Adapter W    3 Cell    \n",
       "1   Headphone + Microphone Combo Jack    65 W AC Adapter W    3 Cell    \n",
       "2   Headphone + Microphone Combo Jack                   NaN   3 Cell    \n",
       "3   Headphone + Microphone Combo Jack                   NaN   3 Cell    \n",
       "4   Headphone + Microphone Combo Jack    45 W AC Adapter W    3 Cell    \n",
       "\n",
       "    specs31  specs32                                       specs33  \\\n",
       "0    Li-Po       NaN   Touchpad with Multi-Touch Gestures Enabled    \n",
       "1   Li-Ion       NaN   Touchpad with Multi-Touch Gestures Enabled    \n",
       "2   Li-Ion    6 Hrs    Touchpad with Multi-Touch Gestures Enabled    \n",
       "3   Li-Ion       NaN   Touchpad with Multi-Touch Gestures Enabled    \n",
       "4    Li-Po       NaN   Touchpad with Multi-touch Gestures support    \n",
       "\n",
       "                                        specs34 specs35  \n",
       "0                  Gaming RGB Backlit Keyboard      No   \n",
       "1                     Backlit Chiclet Keyboard     Yes   \n",
       "2   English International Non Backlit Keyboard      NaN  \n",
       "3   English International Non Backlit Keyboard      No   \n",
       "4    Acer FineTip Keyboard with Numeric Keypad      No   \n",
       "\n",
       "[5 rows x 39 columns]"
      ]
     },
     "execution_count": 4,
     "metadata": {},
     "output_type": "execute_result"
    }
   ],
   "source": [
    "data2 = pd.read_csv('laptopdata2.csv')\n",
    "data2.head()"
   ]
  },
  {
   "cell_type": "code",
   "execution_count": 5,
   "id": "7c3b3a68",
   "metadata": {},
   "outputs": [
    {
     "data": {
      "text/html": [
       "<div>\n",
       "<style scoped>\n",
       "    .dataframe tbody tr th:only-of-type {\n",
       "        vertical-align: middle;\n",
       "    }\n",
       "\n",
       "    .dataframe tbody tr th {\n",
       "        vertical-align: top;\n",
       "    }\n",
       "\n",
       "    .dataframe thead th {\n",
       "        text-align: right;\n",
       "    }\n",
       "</style>\n",
       "<table border=\"1\" class=\"dataframe\">\n",
       "  <thead>\n",
       "    <tr style=\"text-align: right;\">\n",
       "      <th></th>\n",
       "      <th>Rating</th>\n",
       "      <th>No_of_ratings</th>\n",
       "      <th>Name</th>\n",
       "      <th>specs0</th>\n",
       "      <th>specs1</th>\n",
       "      <th>specs2</th>\n",
       "      <th>specs3</th>\n",
       "      <th>specs4</th>\n",
       "      <th>specs5</th>\n",
       "      <th>specs6</th>\n",
       "      <th>...</th>\n",
       "      <th>specs26</th>\n",
       "      <th>specs27</th>\n",
       "      <th>specs28</th>\n",
       "      <th>specs29</th>\n",
       "      <th>specs30</th>\n",
       "      <th>specs31</th>\n",
       "      <th>specs32</th>\n",
       "      <th>specs33</th>\n",
       "      <th>specs34</th>\n",
       "      <th>specs35</th>\n",
       "    </tr>\n",
       "  </thead>\n",
       "  <tbody>\n",
       "    <tr>\n",
       "      <th>0</th>\n",
       "      <td>3.7</td>\n",
       "      <td>21 Ratings</td>\n",
       "      <td>Key Specs &amp; Features of HP 15-ec0101AX (167W1P...</td>\n",
       "      <td>Windows 10 Home Basic</td>\n",
       "      <td>15.6 inch(39.62 cm)</td>\n",
       "      <td>1920 x 1080 pixels</td>\n",
       "      <td>LED</td>\n",
       "      <td>Diagonal IPS anti-glare micro-edge WLED-backl...</td>\n",
       "      <td>No</td>\n",
       "      <td>AMD Quad-Core Ryzen 5</td>\n",
       "      <td>...</td>\n",
       "      <td>No</td>\n",
       "      <td>Yes, 1</td>\n",
       "      <td>Headphone + Microphone Combo Jack</td>\n",
       "      <td>52.5 W AC Adapter W</td>\n",
       "      <td>3 Cell</td>\n",
       "      <td>Li-Ion</td>\n",
       "      <td>NaN</td>\n",
       "      <td>HP Imagepad with Multi-Touch Gesture Support</td>\n",
       "      <td>Gaming Backlit Keyboard</td>\n",
       "      <td>No</td>\n",
       "    </tr>\n",
       "    <tr>\n",
       "      <th>1</th>\n",
       "      <td>4.0</td>\n",
       "      <td>3,674 Ratings</td>\n",
       "      <td>Key Specs &amp; Features of HP 15s-dy3001TU (360L7...</td>\n",
       "      <td>Windows 10 Home Basic</td>\n",
       "      <td>15.6 inch(39.62 cm)</td>\n",
       "      <td>1920 x 1080 pixels</td>\n",
       "      <td>LED</td>\n",
       "      <td>Diagonal IPS, micro-edge, anti-glare, 250 nit...</td>\n",
       "      <td>No</td>\n",
       "      <td>Intel Pentium Dual-Core</td>\n",
       "      <td>...</td>\n",
       "      <td>No</td>\n",
       "      <td>Yes, 1</td>\n",
       "      <td>Headphone + Microphone Combo Jack</td>\n",
       "      <td>65 W AC Adapter W</td>\n",
       "      <td>3 Cell</td>\n",
       "      <td>Li-Ion</td>\n",
       "      <td>NaN</td>\n",
       "      <td>Touchpad with Multi-Touch Gestures Enabled</td>\n",
       "      <td>Full-size, jet black keyboard with numeric ke...</td>\n",
       "      <td>No</td>\n",
       "    </tr>\n",
       "    <tr>\n",
       "      <th>2</th>\n",
       "      <td>3.8</td>\n",
       "      <td>464 Ratings</td>\n",
       "      <td>Key Specs &amp; Features of HP 15s-du3032TU (309J0...</td>\n",
       "      <td>Windows 10 Home Basic</td>\n",
       "      <td>15.6 inch(39.62 cm)</td>\n",
       "      <td>1920 x 1080 pixels</td>\n",
       "      <td>LED</td>\n",
       "      <td>Diagonal IPS, micro-edge, anti-glare, 250 nit...</td>\n",
       "      <td>No</td>\n",
       "      <td>Intel Core i5 (11th Gen)</td>\n",
       "      <td>...</td>\n",
       "      <td>No</td>\n",
       "      <td>Yes, 1</td>\n",
       "      <td>Headphone + Microphone Combo Jack</td>\n",
       "      <td>65 W AC Adapter W</td>\n",
       "      <td>3 Cell</td>\n",
       "      <td>Li-Ion</td>\n",
       "      <td>NaN</td>\n",
       "      <td>Touchpad with multi-touch gesture support; Pr...</td>\n",
       "      <td>Full-size, natural silver keyboard with numer...</td>\n",
       "      <td>No</td>\n",
       "    </tr>\n",
       "    <tr>\n",
       "      <th>3</th>\n",
       "      <td>3.9</td>\n",
       "      <td>452 Ratings</td>\n",
       "      <td>Key Specs &amp; Features of HP 14q-cs0014TU (7EF94...</td>\n",
       "      <td>Windows 10 Home Basic</td>\n",
       "      <td>14 inch(35.56 cm)</td>\n",
       "      <td>1366 x 768 pixels</td>\n",
       "      <td>LED</td>\n",
       "      <td>Diagonal SVA BrightView Micro-Edge WLED-Backl...</td>\n",
       "      <td>No</td>\n",
       "      <td>Intel Core i3 (7th Gen)</td>\n",
       "      <td>...</td>\n",
       "      <td>No</td>\n",
       "      <td>No</td>\n",
       "      <td>Headphone + Microphone Combo Jack</td>\n",
       "      <td>41 W AC Adapter W</td>\n",
       "      <td>3 Cell</td>\n",
       "      <td>Li-Ion</td>\n",
       "      <td>NaN</td>\n",
       "      <td>Touchpad with Multi-Touch Gestures Enabled</td>\n",
       "      <td>Standard Notebook Keyboard</td>\n",
       "      <td>No</td>\n",
       "    </tr>\n",
       "    <tr>\n",
       "      <th>4</th>\n",
       "      <td>4.1</td>\n",
       "      <td>502 Ratings</td>\n",
       "      <td>Key Specs &amp; Features of HP 15-ec1024AX (183J8P...</td>\n",
       "      <td>Windows 10 Home Basic</td>\n",
       "      <td>15.6 inch(39.62 cm)</td>\n",
       "      <td>1920 x 1080 pixels</td>\n",
       "      <td>LED</td>\n",
       "      <td>Diagonal IPS anti-glare micro-edge WLED-backl...</td>\n",
       "      <td>No</td>\n",
       "      <td>AMD Hexa-Core Ryzen 5</td>\n",
       "      <td>...</td>\n",
       "      <td>No</td>\n",
       "      <td>Yes, 1</td>\n",
       "      <td>Headphone + Microphone Combo Jack</td>\n",
       "      <td>150 W AC Adapter W</td>\n",
       "      <td>3 Cell</td>\n",
       "      <td>Li-Ion</td>\n",
       "      <td>NaN</td>\n",
       "      <td>Touchpad with Multi-Touch Gestures Enabled</td>\n",
       "      <td>Gaming Backlit Keyboard</td>\n",
       "      <td>No</td>\n",
       "    </tr>\n",
       "  </tbody>\n",
       "</table>\n",
       "<p>5 rows × 39 columns</p>\n",
       "</div>"
      ],
      "text/plain": [
       "   Rating  No_of_ratings                                               Name  \\\n",
       "0     3.7     21 Ratings  Key Specs & Features of HP 15-ec0101AX (167W1P...   \n",
       "1     4.0  3,674 Ratings  Key Specs & Features of HP 15s-dy3001TU (360L7...   \n",
       "2     3.8    464 Ratings  Key Specs & Features of HP 15s-du3032TU (309J0...   \n",
       "3     3.9    452 Ratings  Key Specs & Features of HP 14q-cs0014TU (7EF94...   \n",
       "4     4.1    502 Ratings  Key Specs & Features of HP 15-ec1024AX (183J8P...   \n",
       "\n",
       "                    specs0                 specs1                specs2  \\\n",
       "0   Windows 10 Home Basic    15.6 inch(39.62 cm)    1920 x 1080 pixels    \n",
       "1   Windows 10 Home Basic    15.6 inch(39.62 cm)    1920 x 1080 pixels    \n",
       "2   Windows 10 Home Basic    15.6 inch(39.62 cm)    1920 x 1080 pixels    \n",
       "3   Windows 10 Home Basic      14 inch(35.56 cm)     1366 x 768 pixels    \n",
       "4   Windows 10 Home Basic    15.6 inch(39.62 cm)    1920 x 1080 pixels    \n",
       "\n",
       "  specs3                                             specs4 specs5  \\\n",
       "0   LED    Diagonal IPS anti-glare micro-edge WLED-backl...    No    \n",
       "1   LED    Diagonal IPS, micro-edge, anti-glare, 250 nit...    No    \n",
       "2   LED    Diagonal IPS, micro-edge, anti-glare, 250 nit...    No    \n",
       "3   LED    Diagonal SVA BrightView Micro-Edge WLED-Backl...    No    \n",
       "4   LED    Diagonal IPS anti-glare micro-edge WLED-backl...    No    \n",
       "\n",
       "                       specs6  ... specs26   specs27  \\\n",
       "0      AMD Quad-Core Ryzen 5   ...     No    Yes, 1    \n",
       "1    Intel Pentium Dual-Core   ...     No    Yes, 1    \n",
       "2   Intel Core i5 (11th Gen)   ...     No    Yes, 1    \n",
       "3    Intel Core i3 (7th Gen)   ...     No        No    \n",
       "4      AMD Hexa-Core Ryzen 5   ...     No    Yes, 1    \n",
       "\n",
       "                               specs28                specs29   specs30  \\\n",
       "0   Headphone + Microphone Combo Jack    52.5 W AC Adapter W    3 Cell    \n",
       "1   Headphone + Microphone Combo Jack      65 W AC Adapter W    3 Cell    \n",
       "2   Headphone + Microphone Combo Jack      65 W AC Adapter W    3 Cell    \n",
       "3   Headphone + Microphone Combo Jack      41 W AC Adapter W    3 Cell    \n",
       "4   Headphone + Microphone Combo Jack     150 W AC Adapter W    3 Cell    \n",
       "\n",
       "    specs31 specs32                                            specs33  \\\n",
       "0   Li-Ion      NaN      HP Imagepad with Multi-Touch Gesture Support    \n",
       "1   Li-Ion      NaN        Touchpad with Multi-Touch Gestures Enabled    \n",
       "2   Li-Ion      NaN   Touchpad with multi-touch gesture support; Pr...   \n",
       "3   Li-Ion      NaN        Touchpad with Multi-Touch Gestures Enabled    \n",
       "4   Li-Ion      NaN        Touchpad with Multi-Touch Gestures Enabled    \n",
       "\n",
       "                                             specs34 specs35  \n",
       "0                           Gaming Backlit Keyboard      No   \n",
       "1   Full-size, jet black keyboard with numeric ke...     No   \n",
       "2   Full-size, natural silver keyboard with numer...     No   \n",
       "3                        Standard Notebook Keyboard      No   \n",
       "4                           Gaming Backlit Keyboard      No   \n",
       "\n",
       "[5 rows x 39 columns]"
      ]
     },
     "execution_count": 5,
     "metadata": {},
     "output_type": "execute_result"
    }
   ],
   "source": [
    "#concatinating the 2 dataframes\n",
    "full_data = pd.concat([data1,data2],ignore_index=True)\n",
    "full_data.head()"
   ]
  },
  {
   "cell_type": "code",
   "execution_count": 6,
   "id": "021498cb",
   "metadata": {},
   "outputs": [
    {
     "data": {
      "text/html": [
       "<div>\n",
       "<style scoped>\n",
       "    .dataframe tbody tr th:only-of-type {\n",
       "        vertical-align: middle;\n",
       "    }\n",
       "\n",
       "    .dataframe tbody tr th {\n",
       "        vertical-align: top;\n",
       "    }\n",
       "\n",
       "    .dataframe thead th {\n",
       "        text-align: right;\n",
       "    }\n",
       "</style>\n",
       "<table border=\"1\" class=\"dataframe\">\n",
       "  <thead>\n",
       "    <tr style=\"text-align: right;\">\n",
       "      <th></th>\n",
       "      <th>Rating</th>\n",
       "    </tr>\n",
       "  </thead>\n",
       "  <tbody>\n",
       "    <tr>\n",
       "      <th>count</th>\n",
       "      <td>847.000000</td>\n",
       "    </tr>\n",
       "    <tr>\n",
       "      <th>mean</th>\n",
       "      <td>4.171783</td>\n",
       "    </tr>\n",
       "    <tr>\n",
       "      <th>std</th>\n",
       "      <td>0.374411</td>\n",
       "    </tr>\n",
       "    <tr>\n",
       "      <th>min</th>\n",
       "      <td>3.300000</td>\n",
       "    </tr>\n",
       "    <tr>\n",
       "      <th>25%</th>\n",
       "      <td>4.000000</td>\n",
       "    </tr>\n",
       "    <tr>\n",
       "      <th>50%</th>\n",
       "      <td>4.200000</td>\n",
       "    </tr>\n",
       "    <tr>\n",
       "      <th>75%</th>\n",
       "      <td>4.400000</td>\n",
       "    </tr>\n",
       "    <tr>\n",
       "      <th>max</th>\n",
       "      <td>5.000000</td>\n",
       "    </tr>\n",
       "  </tbody>\n",
       "</table>\n",
       "</div>"
      ],
      "text/plain": [
       "           Rating\n",
       "count  847.000000\n",
       "mean     4.171783\n",
       "std      0.374411\n",
       "min      3.300000\n",
       "25%      4.000000\n",
       "50%      4.200000\n",
       "75%      4.400000\n",
       "max      5.000000"
      ]
     },
     "execution_count": 6,
     "metadata": {},
     "output_type": "execute_result"
    }
   ],
   "source": [
    "full_data.describe()"
   ]
  },
  {
   "cell_type": "code",
   "execution_count": 7,
   "id": "ec0e3869",
   "metadata": {},
   "outputs": [
    {
     "data": {
      "text/plain": [
       "(1518, 39)"
      ]
     },
     "execution_count": 7,
     "metadata": {},
     "output_type": "execute_result"
    }
   ],
   "source": [
    "full_data.shape"
   ]
  },
  {
   "cell_type": "markdown",
   "id": "37a78886",
   "metadata": {},
   "source": [
    "# Data Cleaning and Feature Engineering"
   ]
  },
  {
   "cell_type": "code",
   "execution_count": 8,
   "id": "f88c56b8",
   "metadata": {},
   "outputs": [],
   "source": [
    "# Renaming the features\n",
    "full_data.columns = ['Ratings','No_of_ratings','Brand','Operating_system','Screen_size(inches)','Screen_resolution','Display_type',\n",
    "                    'Display_features','Touchscreen','Processor','Processor_model','Processor_speed(GHz)','Cache_memory(MBs)',\n",
    "                     'Graphics_processor','RAM(Gig)','RAM_max','Memory_slots','RAM_type','RAM_speed(MHz)','Harddrive_type',\n",
    "                     'Harddrive_capacity(Gig)','Weight(kg)','Dimensions(mm)','Colour','Warranty','Sale_package','USB_2.0',\n",
    "                    'Wifi','Bluetooth','Optical_Drive','USB_typeC','Multimedia_input','Adapter(watts)','Battery_cells','Battery_type',\n",
    "                    'Battery_life(Hrs)','Pointing_device','Keyboard','Fingerprint']"
   ]
  },
  {
   "cell_type": "code",
   "execution_count": 9,
   "id": "296e8463",
   "metadata": {},
   "outputs": [
    {
     "data": {
      "text/html": [
       "<div>\n",
       "<style scoped>\n",
       "    .dataframe tbody tr th:only-of-type {\n",
       "        vertical-align: middle;\n",
       "    }\n",
       "\n",
       "    .dataframe tbody tr th {\n",
       "        vertical-align: top;\n",
       "    }\n",
       "\n",
       "    .dataframe thead th {\n",
       "        text-align: right;\n",
       "    }\n",
       "</style>\n",
       "<table border=\"1\" class=\"dataframe\">\n",
       "  <thead>\n",
       "    <tr style=\"text-align: right;\">\n",
       "      <th></th>\n",
       "      <th>Ratings</th>\n",
       "      <th>No_of_ratings</th>\n",
       "      <th>Brand</th>\n",
       "      <th>Operating_system</th>\n",
       "      <th>Screen_size(inches)</th>\n",
       "      <th>Screen_resolution</th>\n",
       "      <th>Display_type</th>\n",
       "      <th>Display_features</th>\n",
       "      <th>Touchscreen</th>\n",
       "      <th>Processor</th>\n",
       "      <th>...</th>\n",
       "      <th>Optical_Drive</th>\n",
       "      <th>USB_typeC</th>\n",
       "      <th>Multimedia_input</th>\n",
       "      <th>Adapter(watts)</th>\n",
       "      <th>Battery_cells</th>\n",
       "      <th>Battery_type</th>\n",
       "      <th>Battery_life(Hrs)</th>\n",
       "      <th>Pointing_device</th>\n",
       "      <th>Keyboard</th>\n",
       "      <th>Fingerprint</th>\n",
       "    </tr>\n",
       "  </thead>\n",
       "  <tbody>\n",
       "    <tr>\n",
       "      <th>0</th>\n",
       "      <td>3.7</td>\n",
       "      <td>21 Ratings</td>\n",
       "      <td>Key Specs &amp; Features of HP 15-ec0101AX (167W1P...</td>\n",
       "      <td>Windows 10 Home Basic</td>\n",
       "      <td>15.6 inch(39.62 cm)</td>\n",
       "      <td>1920 x 1080 pixels</td>\n",
       "      <td>LED</td>\n",
       "      <td>Diagonal IPS anti-glare micro-edge WLED-backl...</td>\n",
       "      <td>No</td>\n",
       "      <td>AMD Quad-Core Ryzen 5</td>\n",
       "      <td>...</td>\n",
       "      <td>No</td>\n",
       "      <td>Yes, 1</td>\n",
       "      <td>Headphone + Microphone Combo Jack</td>\n",
       "      <td>52.5 W AC Adapter W</td>\n",
       "      <td>3 Cell</td>\n",
       "      <td>Li-Ion</td>\n",
       "      <td>NaN</td>\n",
       "      <td>HP Imagepad with Multi-Touch Gesture Support</td>\n",
       "      <td>Gaming Backlit Keyboard</td>\n",
       "      <td>No</td>\n",
       "    </tr>\n",
       "    <tr>\n",
       "      <th>1</th>\n",
       "      <td>4.0</td>\n",
       "      <td>3,674 Ratings</td>\n",
       "      <td>Key Specs &amp; Features of HP 15s-dy3001TU (360L7...</td>\n",
       "      <td>Windows 10 Home Basic</td>\n",
       "      <td>15.6 inch(39.62 cm)</td>\n",
       "      <td>1920 x 1080 pixels</td>\n",
       "      <td>LED</td>\n",
       "      <td>Diagonal IPS, micro-edge, anti-glare, 250 nit...</td>\n",
       "      <td>No</td>\n",
       "      <td>Intel Pentium Dual-Core</td>\n",
       "      <td>...</td>\n",
       "      <td>No</td>\n",
       "      <td>Yes, 1</td>\n",
       "      <td>Headphone + Microphone Combo Jack</td>\n",
       "      <td>65 W AC Adapter W</td>\n",
       "      <td>3 Cell</td>\n",
       "      <td>Li-Ion</td>\n",
       "      <td>NaN</td>\n",
       "      <td>Touchpad with Multi-Touch Gestures Enabled</td>\n",
       "      <td>Full-size, jet black keyboard with numeric ke...</td>\n",
       "      <td>No</td>\n",
       "    </tr>\n",
       "    <tr>\n",
       "      <th>2</th>\n",
       "      <td>3.8</td>\n",
       "      <td>464 Ratings</td>\n",
       "      <td>Key Specs &amp; Features of HP 15s-du3032TU (309J0...</td>\n",
       "      <td>Windows 10 Home Basic</td>\n",
       "      <td>15.6 inch(39.62 cm)</td>\n",
       "      <td>1920 x 1080 pixels</td>\n",
       "      <td>LED</td>\n",
       "      <td>Diagonal IPS, micro-edge, anti-glare, 250 nit...</td>\n",
       "      <td>No</td>\n",
       "      <td>Intel Core i5 (11th Gen)</td>\n",
       "      <td>...</td>\n",
       "      <td>No</td>\n",
       "      <td>Yes, 1</td>\n",
       "      <td>Headphone + Microphone Combo Jack</td>\n",
       "      <td>65 W AC Adapter W</td>\n",
       "      <td>3 Cell</td>\n",
       "      <td>Li-Ion</td>\n",
       "      <td>NaN</td>\n",
       "      <td>Touchpad with multi-touch gesture support; Pr...</td>\n",
       "      <td>Full-size, natural silver keyboard with numer...</td>\n",
       "      <td>No</td>\n",
       "    </tr>\n",
       "    <tr>\n",
       "      <th>3</th>\n",
       "      <td>3.9</td>\n",
       "      <td>452 Ratings</td>\n",
       "      <td>Key Specs &amp; Features of HP 14q-cs0014TU (7EF94...</td>\n",
       "      <td>Windows 10 Home Basic</td>\n",
       "      <td>14 inch(35.56 cm)</td>\n",
       "      <td>1366 x 768 pixels</td>\n",
       "      <td>LED</td>\n",
       "      <td>Diagonal SVA BrightView Micro-Edge WLED-Backl...</td>\n",
       "      <td>No</td>\n",
       "      <td>Intel Core i3 (7th Gen)</td>\n",
       "      <td>...</td>\n",
       "      <td>No</td>\n",
       "      <td>No</td>\n",
       "      <td>Headphone + Microphone Combo Jack</td>\n",
       "      <td>41 W AC Adapter W</td>\n",
       "      <td>3 Cell</td>\n",
       "      <td>Li-Ion</td>\n",
       "      <td>NaN</td>\n",
       "      <td>Touchpad with Multi-Touch Gestures Enabled</td>\n",
       "      <td>Standard Notebook Keyboard</td>\n",
       "      <td>No</td>\n",
       "    </tr>\n",
       "    <tr>\n",
       "      <th>4</th>\n",
       "      <td>4.1</td>\n",
       "      <td>502 Ratings</td>\n",
       "      <td>Key Specs &amp; Features of HP 15-ec1024AX (183J8P...</td>\n",
       "      <td>Windows 10 Home Basic</td>\n",
       "      <td>15.6 inch(39.62 cm)</td>\n",
       "      <td>1920 x 1080 pixels</td>\n",
       "      <td>LED</td>\n",
       "      <td>Diagonal IPS anti-glare micro-edge WLED-backl...</td>\n",
       "      <td>No</td>\n",
       "      <td>AMD Hexa-Core Ryzen 5</td>\n",
       "      <td>...</td>\n",
       "      <td>No</td>\n",
       "      <td>Yes, 1</td>\n",
       "      <td>Headphone + Microphone Combo Jack</td>\n",
       "      <td>150 W AC Adapter W</td>\n",
       "      <td>3 Cell</td>\n",
       "      <td>Li-Ion</td>\n",
       "      <td>NaN</td>\n",
       "      <td>Touchpad with Multi-Touch Gestures Enabled</td>\n",
       "      <td>Gaming Backlit Keyboard</td>\n",
       "      <td>No</td>\n",
       "    </tr>\n",
       "  </tbody>\n",
       "</table>\n",
       "<p>5 rows × 39 columns</p>\n",
       "</div>"
      ],
      "text/plain": [
       "   Ratings  No_of_ratings                                              Brand  \\\n",
       "0      3.7     21 Ratings  Key Specs & Features of HP 15-ec0101AX (167W1P...   \n",
       "1      4.0  3,674 Ratings  Key Specs & Features of HP 15s-dy3001TU (360L7...   \n",
       "2      3.8    464 Ratings  Key Specs & Features of HP 15s-du3032TU (309J0...   \n",
       "3      3.9    452 Ratings  Key Specs & Features of HP 14q-cs0014TU (7EF94...   \n",
       "4      4.1    502 Ratings  Key Specs & Features of HP 15-ec1024AX (183J8P...   \n",
       "\n",
       "          Operating_system    Screen_size(inches)     Screen_resolution  \\\n",
       "0   Windows 10 Home Basic    15.6 inch(39.62 cm)    1920 x 1080 pixels    \n",
       "1   Windows 10 Home Basic    15.6 inch(39.62 cm)    1920 x 1080 pixels    \n",
       "2   Windows 10 Home Basic    15.6 inch(39.62 cm)    1920 x 1080 pixels    \n",
       "3   Windows 10 Home Basic      14 inch(35.56 cm)     1366 x 768 pixels    \n",
       "4   Windows 10 Home Basic    15.6 inch(39.62 cm)    1920 x 1080 pixels    \n",
       "\n",
       "  Display_type                                   Display_features Touchscreen  \\\n",
       "0         LED    Diagonal IPS anti-glare micro-edge WLED-backl...         No    \n",
       "1         LED    Diagonal IPS, micro-edge, anti-glare, 250 nit...         No    \n",
       "2         LED    Diagonal IPS, micro-edge, anti-glare, 250 nit...         No    \n",
       "3         LED    Diagonal SVA BrightView Micro-Edge WLED-Backl...         No    \n",
       "4         LED    Diagonal IPS anti-glare micro-edge WLED-backl...         No    \n",
       "\n",
       "                    Processor  ... Optical_Drive USB_typeC  \\\n",
       "0      AMD Quad-Core Ryzen 5   ...           No    Yes, 1    \n",
       "1    Intel Pentium Dual-Core   ...           No    Yes, 1    \n",
       "2   Intel Core i5 (11th Gen)   ...           No    Yes, 1    \n",
       "3    Intel Core i3 (7th Gen)   ...           No        No    \n",
       "4      AMD Hexa-Core Ryzen 5   ...           No    Yes, 1    \n",
       "\n",
       "                      Multimedia_input         Adapter(watts) Battery_cells  \\\n",
       "0   Headphone + Microphone Combo Jack    52.5 W AC Adapter W        3 Cell    \n",
       "1   Headphone + Microphone Combo Jack      65 W AC Adapter W        3 Cell    \n",
       "2   Headphone + Microphone Combo Jack      65 W AC Adapter W        3 Cell    \n",
       "3   Headphone + Microphone Combo Jack      41 W AC Adapter W        3 Cell    \n",
       "4   Headphone + Microphone Combo Jack     150 W AC Adapter W        3 Cell    \n",
       "\n",
       "  Battery_type Battery_life(Hrs)  \\\n",
       "0      Li-Ion                NaN   \n",
       "1      Li-Ion                NaN   \n",
       "2      Li-Ion                NaN   \n",
       "3      Li-Ion                NaN   \n",
       "4      Li-Ion                NaN   \n",
       "\n",
       "                                     Pointing_device  \\\n",
       "0      HP Imagepad with Multi-Touch Gesture Support    \n",
       "1        Touchpad with Multi-Touch Gestures Enabled    \n",
       "2   Touchpad with multi-touch gesture support; Pr...   \n",
       "3        Touchpad with Multi-Touch Gestures Enabled    \n",
       "4        Touchpad with Multi-Touch Gestures Enabled    \n",
       "\n",
       "                                            Keyboard Fingerprint  \n",
       "0                           Gaming Backlit Keyboard          No   \n",
       "1   Full-size, jet black keyboard with numeric ke...         No   \n",
       "2   Full-size, natural silver keyboard with numer...         No   \n",
       "3                        Standard Notebook Keyboard          No   \n",
       "4                           Gaming Backlit Keyboard          No   \n",
       "\n",
       "[5 rows x 39 columns]"
      ]
     },
     "execution_count": 9,
     "metadata": {},
     "output_type": "execute_result"
    }
   ],
   "source": [
    "full_data.head()"
   ]
  },
  {
   "cell_type": "markdown",
   "id": "a6931cb4",
   "metadata": {},
   "source": [
    "## No_of_ratings column"
   ]
  },
  {
   "cell_type": "code",
   "execution_count": 10,
   "id": "fe0a9887",
   "metadata": {},
   "outputs": [],
   "source": [
    "#Converting the whole column to string\n",
    "full_data['No_of_ratings'] = full_data.No_of_ratings.astype(str)\n",
    "\n",
    "#Removing unwanted strings\n",
    "full_data['No_of_ratings'] = full_data['No_of_ratings'].apply(lambda x:x.replace('\\xa0',' '))\n",
    "\n",
    "#Removing ',' in figures in the thousands\n",
    "full_data['No_of_ratings'] = full_data['No_of_ratings'].apply(lambda x:x.replace(',',''))\n",
    "\n",
    "#Removing the string 'Ratings'\n",
    "full_data['No_of_ratings'] = full_data['No_of_ratings'].apply(lambda x:x.split(' ')[0])\n",
    "\n",
    "#Transforming the column to float\n",
    "full_data['No_of_ratings'] = full_data.No_of_ratings.astype(float)"
   ]
  },
  {
   "cell_type": "code",
   "execution_count": 11,
   "id": "132a31c0",
   "metadata": {},
   "outputs": [
    {
     "data": {
      "text/plain": [
       "0         21.0\n",
       "1       3674.0\n",
       "2        464.0\n",
       "3        452.0\n",
       "4        502.0\n",
       "         ...  \n",
       "1513       1.0\n",
       "1514       1.0\n",
       "1515       NaN\n",
       "1516      96.0\n",
       "1517     180.0\n",
       "Name: No_of_ratings, Length: 1518, dtype: float64"
      ]
     },
     "execution_count": 11,
     "metadata": {},
     "output_type": "execute_result"
    }
   ],
   "source": [
    "full_data['No_of_ratings']"
   ]
  },
  {
   "cell_type": "code",
   "execution_count": 12,
   "id": "ded4769c",
   "metadata": {},
   "outputs": [
    {
     "data": {
      "text/html": [
       "<div>\n",
       "<style scoped>\n",
       "    .dataframe tbody tr th:only-of-type {\n",
       "        vertical-align: middle;\n",
       "    }\n",
       "\n",
       "    .dataframe tbody tr th {\n",
       "        vertical-align: top;\n",
       "    }\n",
       "\n",
       "    .dataframe thead th {\n",
       "        text-align: right;\n",
       "    }\n",
       "</style>\n",
       "<table border=\"1\" class=\"dataframe\">\n",
       "  <thead>\n",
       "    <tr style=\"text-align: right;\">\n",
       "      <th></th>\n",
       "      <th>Ratings</th>\n",
       "      <th>No_of_ratings</th>\n",
       "      <th>Brand</th>\n",
       "      <th>Operating_system</th>\n",
       "      <th>Screen_size(inches)</th>\n",
       "      <th>Screen_resolution</th>\n",
       "      <th>Display_type</th>\n",
       "      <th>Display_features</th>\n",
       "      <th>Touchscreen</th>\n",
       "      <th>Processor</th>\n",
       "      <th>...</th>\n",
       "      <th>Optical_Drive</th>\n",
       "      <th>USB_typeC</th>\n",
       "      <th>Multimedia_input</th>\n",
       "      <th>Adapter(watts)</th>\n",
       "      <th>Battery_cells</th>\n",
       "      <th>Battery_type</th>\n",
       "      <th>Battery_life(Hrs)</th>\n",
       "      <th>Pointing_device</th>\n",
       "      <th>Keyboard</th>\n",
       "      <th>Fingerprint</th>\n",
       "    </tr>\n",
       "  </thead>\n",
       "  <tbody>\n",
       "    <tr>\n",
       "      <th>0</th>\n",
       "      <td>3.7</td>\n",
       "      <td>21.0</td>\n",
       "      <td>Key Specs &amp; Features of HP 15-ec0101AX (167W1P...</td>\n",
       "      <td>Windows 10 Home Basic</td>\n",
       "      <td>15.6 inch(39.62 cm)</td>\n",
       "      <td>1920 x 1080 pixels</td>\n",
       "      <td>LED</td>\n",
       "      <td>Diagonal IPS anti-glare micro-edge WLED-backl...</td>\n",
       "      <td>No</td>\n",
       "      <td>AMD Quad-Core Ryzen 5</td>\n",
       "      <td>...</td>\n",
       "      <td>No</td>\n",
       "      <td>Yes, 1</td>\n",
       "      <td>Headphone + Microphone Combo Jack</td>\n",
       "      <td>52.5 W AC Adapter W</td>\n",
       "      <td>3 Cell</td>\n",
       "      <td>Li-Ion</td>\n",
       "      <td>NaN</td>\n",
       "      <td>HP Imagepad with Multi-Touch Gesture Support</td>\n",
       "      <td>Gaming Backlit Keyboard</td>\n",
       "      <td>No</td>\n",
       "    </tr>\n",
       "    <tr>\n",
       "      <th>1</th>\n",
       "      <td>4.0</td>\n",
       "      <td>3674.0</td>\n",
       "      <td>Key Specs &amp; Features of HP 15s-dy3001TU (360L7...</td>\n",
       "      <td>Windows 10 Home Basic</td>\n",
       "      <td>15.6 inch(39.62 cm)</td>\n",
       "      <td>1920 x 1080 pixels</td>\n",
       "      <td>LED</td>\n",
       "      <td>Diagonal IPS, micro-edge, anti-glare, 250 nit...</td>\n",
       "      <td>No</td>\n",
       "      <td>Intel Pentium Dual-Core</td>\n",
       "      <td>...</td>\n",
       "      <td>No</td>\n",
       "      <td>Yes, 1</td>\n",
       "      <td>Headphone + Microphone Combo Jack</td>\n",
       "      <td>65 W AC Adapter W</td>\n",
       "      <td>3 Cell</td>\n",
       "      <td>Li-Ion</td>\n",
       "      <td>NaN</td>\n",
       "      <td>Touchpad with Multi-Touch Gestures Enabled</td>\n",
       "      <td>Full-size, jet black keyboard with numeric ke...</td>\n",
       "      <td>No</td>\n",
       "    </tr>\n",
       "    <tr>\n",
       "      <th>2</th>\n",
       "      <td>3.8</td>\n",
       "      <td>464.0</td>\n",
       "      <td>Key Specs &amp; Features of HP 15s-du3032TU (309J0...</td>\n",
       "      <td>Windows 10 Home Basic</td>\n",
       "      <td>15.6 inch(39.62 cm)</td>\n",
       "      <td>1920 x 1080 pixels</td>\n",
       "      <td>LED</td>\n",
       "      <td>Diagonal IPS, micro-edge, anti-glare, 250 nit...</td>\n",
       "      <td>No</td>\n",
       "      <td>Intel Core i5 (11th Gen)</td>\n",
       "      <td>...</td>\n",
       "      <td>No</td>\n",
       "      <td>Yes, 1</td>\n",
       "      <td>Headphone + Microphone Combo Jack</td>\n",
       "      <td>65 W AC Adapter W</td>\n",
       "      <td>3 Cell</td>\n",
       "      <td>Li-Ion</td>\n",
       "      <td>NaN</td>\n",
       "      <td>Touchpad with multi-touch gesture support; Pr...</td>\n",
       "      <td>Full-size, natural silver keyboard with numer...</td>\n",
       "      <td>No</td>\n",
       "    </tr>\n",
       "    <tr>\n",
       "      <th>3</th>\n",
       "      <td>3.9</td>\n",
       "      <td>452.0</td>\n",
       "      <td>Key Specs &amp; Features of HP 14q-cs0014TU (7EF94...</td>\n",
       "      <td>Windows 10 Home Basic</td>\n",
       "      <td>14 inch(35.56 cm)</td>\n",
       "      <td>1366 x 768 pixels</td>\n",
       "      <td>LED</td>\n",
       "      <td>Diagonal SVA BrightView Micro-Edge WLED-Backl...</td>\n",
       "      <td>No</td>\n",
       "      <td>Intel Core i3 (7th Gen)</td>\n",
       "      <td>...</td>\n",
       "      <td>No</td>\n",
       "      <td>No</td>\n",
       "      <td>Headphone + Microphone Combo Jack</td>\n",
       "      <td>41 W AC Adapter W</td>\n",
       "      <td>3 Cell</td>\n",
       "      <td>Li-Ion</td>\n",
       "      <td>NaN</td>\n",
       "      <td>Touchpad with Multi-Touch Gestures Enabled</td>\n",
       "      <td>Standard Notebook Keyboard</td>\n",
       "      <td>No</td>\n",
       "    </tr>\n",
       "    <tr>\n",
       "      <th>4</th>\n",
       "      <td>4.1</td>\n",
       "      <td>502.0</td>\n",
       "      <td>Key Specs &amp; Features of HP 15-ec1024AX (183J8P...</td>\n",
       "      <td>Windows 10 Home Basic</td>\n",
       "      <td>15.6 inch(39.62 cm)</td>\n",
       "      <td>1920 x 1080 pixels</td>\n",
       "      <td>LED</td>\n",
       "      <td>Diagonal IPS anti-glare micro-edge WLED-backl...</td>\n",
       "      <td>No</td>\n",
       "      <td>AMD Hexa-Core Ryzen 5</td>\n",
       "      <td>...</td>\n",
       "      <td>No</td>\n",
       "      <td>Yes, 1</td>\n",
       "      <td>Headphone + Microphone Combo Jack</td>\n",
       "      <td>150 W AC Adapter W</td>\n",
       "      <td>3 Cell</td>\n",
       "      <td>Li-Ion</td>\n",
       "      <td>NaN</td>\n",
       "      <td>Touchpad with Multi-Touch Gestures Enabled</td>\n",
       "      <td>Gaming Backlit Keyboard</td>\n",
       "      <td>No</td>\n",
       "    </tr>\n",
       "  </tbody>\n",
       "</table>\n",
       "<p>5 rows × 39 columns</p>\n",
       "</div>"
      ],
      "text/plain": [
       "   Ratings  No_of_ratings                                              Brand  \\\n",
       "0      3.7           21.0  Key Specs & Features of HP 15-ec0101AX (167W1P...   \n",
       "1      4.0         3674.0  Key Specs & Features of HP 15s-dy3001TU (360L7...   \n",
       "2      3.8          464.0  Key Specs & Features of HP 15s-du3032TU (309J0...   \n",
       "3      3.9          452.0  Key Specs & Features of HP 14q-cs0014TU (7EF94...   \n",
       "4      4.1          502.0  Key Specs & Features of HP 15-ec1024AX (183J8P...   \n",
       "\n",
       "          Operating_system    Screen_size(inches)     Screen_resolution  \\\n",
       "0   Windows 10 Home Basic    15.6 inch(39.62 cm)    1920 x 1080 pixels    \n",
       "1   Windows 10 Home Basic    15.6 inch(39.62 cm)    1920 x 1080 pixels    \n",
       "2   Windows 10 Home Basic    15.6 inch(39.62 cm)    1920 x 1080 pixels    \n",
       "3   Windows 10 Home Basic      14 inch(35.56 cm)     1366 x 768 pixels    \n",
       "4   Windows 10 Home Basic    15.6 inch(39.62 cm)    1920 x 1080 pixels    \n",
       "\n",
       "  Display_type                                   Display_features Touchscreen  \\\n",
       "0         LED    Diagonal IPS anti-glare micro-edge WLED-backl...         No    \n",
       "1         LED    Diagonal IPS, micro-edge, anti-glare, 250 nit...         No    \n",
       "2         LED    Diagonal IPS, micro-edge, anti-glare, 250 nit...         No    \n",
       "3         LED    Diagonal SVA BrightView Micro-Edge WLED-Backl...         No    \n",
       "4         LED    Diagonal IPS anti-glare micro-edge WLED-backl...         No    \n",
       "\n",
       "                    Processor  ... Optical_Drive USB_typeC  \\\n",
       "0      AMD Quad-Core Ryzen 5   ...           No    Yes, 1    \n",
       "1    Intel Pentium Dual-Core   ...           No    Yes, 1    \n",
       "2   Intel Core i5 (11th Gen)   ...           No    Yes, 1    \n",
       "3    Intel Core i3 (7th Gen)   ...           No        No    \n",
       "4      AMD Hexa-Core Ryzen 5   ...           No    Yes, 1    \n",
       "\n",
       "                      Multimedia_input         Adapter(watts) Battery_cells  \\\n",
       "0   Headphone + Microphone Combo Jack    52.5 W AC Adapter W        3 Cell    \n",
       "1   Headphone + Microphone Combo Jack      65 W AC Adapter W        3 Cell    \n",
       "2   Headphone + Microphone Combo Jack      65 W AC Adapter W        3 Cell    \n",
       "3   Headphone + Microphone Combo Jack      41 W AC Adapter W        3 Cell    \n",
       "4   Headphone + Microphone Combo Jack     150 W AC Adapter W        3 Cell    \n",
       "\n",
       "  Battery_type Battery_life(Hrs)  \\\n",
       "0      Li-Ion                NaN   \n",
       "1      Li-Ion                NaN   \n",
       "2      Li-Ion                NaN   \n",
       "3      Li-Ion                NaN   \n",
       "4      Li-Ion                NaN   \n",
       "\n",
       "                                     Pointing_device  \\\n",
       "0      HP Imagepad with Multi-Touch Gesture Support    \n",
       "1        Touchpad with Multi-Touch Gestures Enabled    \n",
       "2   Touchpad with multi-touch gesture support; Pr...   \n",
       "3        Touchpad with Multi-Touch Gestures Enabled    \n",
       "4        Touchpad with Multi-Touch Gestures Enabled    \n",
       "\n",
       "                                            Keyboard Fingerprint  \n",
       "0                           Gaming Backlit Keyboard          No   \n",
       "1   Full-size, jet black keyboard with numeric ke...         No   \n",
       "2   Full-size, natural silver keyboard with numer...         No   \n",
       "3                        Standard Notebook Keyboard          No   \n",
       "4                           Gaming Backlit Keyboard          No   \n",
       "\n",
       "[5 rows x 39 columns]"
      ]
     },
     "execution_count": 12,
     "metadata": {},
     "output_type": "execute_result"
    }
   ],
   "source": [
    "full_data.head()"
   ]
  },
  {
   "cell_type": "markdown",
   "id": "f3bbcf04",
   "metadata": {},
   "source": [
    "## Brand column"
   ]
  },
  {
   "cell_type": "code",
   "execution_count": 13,
   "id": "a376e734",
   "metadata": {},
   "outputs": [],
   "source": [
    "#Removing unwanted strings\n",
    "full_data['Brand'] = full_data['Brand'].apply(lambda x:x.replace('Key Specs & Features of ',''))\n",
    "#separating the brand name from other strings\n",
    "full_data['Brand'] = full_data['Brand'].apply(lambda x:x.split(' ')[0])"
   ]
  },
  {
   "cell_type": "code",
   "execution_count": 14,
   "id": "d30eb5d1",
   "metadata": {},
   "outputs": [
    {
     "data": {
      "text/plain": [
       "array(['HP', 'Lenovo', 'Asus', 'Dell', 'MSI', 'Acer', 'Xiaomi', 'Avita',\n",
       "       'iBall', 'Microsoft', 'Apple', 'Realme', 'Lava', 'Razer', 'RDP',\n",
       "       'Nokia', 'Samsung', 'Micromax', 'LG', 'Vaio', 'Fujitsu', 'Huawei',\n",
       "       'Nexstgo'], dtype=object)"
      ]
     },
     "execution_count": 14,
     "metadata": {},
     "output_type": "execute_result"
    }
   ],
   "source": [
    "full_data['Brand'].unique()"
   ]
  },
  {
   "cell_type": "markdown",
   "id": "3782e322",
   "metadata": {},
   "source": [
    "## Operating system column"
   ]
  },
  {
   "cell_type": "code",
   "execution_count": 15,
   "id": "405e50e8",
   "metadata": {},
   "outputs": [],
   "source": [
    "#grouping all windows system variations to one\n",
    "full_data['Operating_system'] = full_data['Operating_system'].apply(lambda x:'Windows' if 'Windows' in x else x)\n",
    "\n",
    "#grouping all MAC system variations to one\n",
    "full_data['Operating_system'] = full_data['Operating_system'].apply(lambda x:'MAC' if 'mac' in x.lower() else x)"
   ]
  },
  {
   "cell_type": "code",
   "execution_count": 16,
   "id": "d32a4a50",
   "metadata": {},
   "outputs": [
    {
     "data": {
      "text/plain": [
       "array(['Windows', ' DOS ', ' Google Chrome ', 'MAC', ' Linux ',\n",
       "       ' Ubuntu '], dtype=object)"
      ]
     },
     "execution_count": 16,
     "metadata": {},
     "output_type": "execute_result"
    }
   ],
   "source": [
    "full_data['Operating_system'].unique()"
   ]
  },
  {
   "cell_type": "markdown",
   "id": "157b1f49",
   "metadata": {},
   "source": [
    "## Screen_size column"
   ]
  },
  {
   "cell_type": "code",
   "execution_count": 17,
   "id": "00deb3ee",
   "metadata": {},
   "outputs": [
    {
     "data": {
      "text/plain": [
       "0     15.6 inch(39.62 cm) \n",
       "1     15.6 inch(39.62 cm) \n",
       "2     15.6 inch(39.62 cm) \n",
       "3       14 inch(35.56 cm) \n",
       "4     15.6 inch(39.62 cm) \n",
       "Name: Screen_size(inches), dtype: object"
      ]
     },
     "execution_count": 17,
     "metadata": {},
     "output_type": "execute_result"
    }
   ],
   "source": [
    "full_data['Screen_size(inches)'].head()"
   ]
  },
  {
   "cell_type": "code",
   "execution_count": 18,
   "id": "57438324",
   "metadata": {},
   "outputs": [],
   "source": [
    "#splitting the data to only take inches\n",
    "full_data['Screen_size(inches)'] = full_data['Screen_size(inches)'].apply(lambda x:x.replace('inch',' '))\n",
    "full_data['Screen_size(inches)'] = full_data['Screen_size(inches)'].apply(lambda x:x.split(' ')[1])\n",
    "#converting the column to float datatype\n",
    "full_data['Screen_size(inches)'] = full_data['Screen_size(inches)'].astype('float')"
   ]
  },
  {
   "cell_type": "code",
   "execution_count": 19,
   "id": "14fd76ca",
   "metadata": {},
   "outputs": [
    {
     "data": {
      "text/plain": [
       "array([15.6, 14. , 14.1, 15. , 11.6, 13.3, 17.3, 13.4, 12.5, 13.5, 10.5,\n",
       "       13. , 12.4, 14.5, 16.1, 12.3, 17. , 16.9, 16. , 12. , 10.1, 13.9,\n",
       "       15.2, 15.4])"
      ]
     },
     "execution_count": 19,
     "metadata": {},
     "output_type": "execute_result"
    }
   ],
   "source": [
    "full_data['Screen_size(inches)'].unique()"
   ]
  },
  {
   "cell_type": "markdown",
   "id": "ed7ae710",
   "metadata": {},
   "source": [
    "## screen_resolution column"
   ]
  },
  {
   "cell_type": "code",
   "execution_count": 20,
   "id": "fab937a1",
   "metadata": {},
   "outputs": [
    {
     "data": {
      "text/plain": [
       "0     1920 x 1080 pixels \n",
       "1     1920 x 1080 pixels \n",
       "2     1920 x 1080 pixels \n",
       "3      1366 x 768 pixels \n",
       "4     1920 x 1080 pixels \n",
       "Name: Screen_resolution, dtype: object"
      ]
     },
     "execution_count": 20,
     "metadata": {},
     "output_type": "execute_result"
    }
   ],
   "source": [
    "full_data['Screen_resolution'].head()"
   ]
  },
  {
   "cell_type": "code",
   "execution_count": 21,
   "id": "86f8cc9f",
   "metadata": {},
   "outputs": [],
   "source": [
    "#Removing spaces to allign the data\n",
    "full_data['Screen_resolution'] = full_data['Screen_resolution'].apply(lambda x:x.replace(' ',''))\n",
    "\n",
    "#Removing string 'pixels'\n",
    "full_data['Screen_resolution'] = full_data['Screen_resolution'].apply(lambda x:x.replace('pixels',''))\n",
    "\n",
    "#Removing string('x')\n",
    "full_data['Screen_resolution'] = full_data['Screen_resolution'].apply(lambda x:x.replace('x',' '))\n",
    "\n",
    "#Creating new column for width or horizontal and vertical or height screen pixel density\n",
    "full_data['Screen_pixel_density(width)'] = full_data['Screen_resolution'].apply(lambda x:x.split(' ')[0])\n",
    "full_data['Screen_pixel_density(height)'] = full_data['Screen_resolution'].apply(lambda x:x.split(' ')[1])"
   ]
  },
  {
   "cell_type": "code",
   "execution_count": 22,
   "id": "1241d654",
   "metadata": {},
   "outputs": [],
   "source": [
    "#Converting the new columns to integers\n",
    "full_data['Screen_pixel_density(width)'] = full_data['Screen_pixel_density(width)'].astype('int')\n",
    "full_data['Screen_pixel_density(height)'] = full_data['Screen_pixel_density(height)'].astype('int')"
   ]
  },
  {
   "cell_type": "code",
   "execution_count": 23,
   "id": "f731b74f",
   "metadata": {},
   "outputs": [
    {
     "data": {
      "text/plain": [
       "array([' LED ', ' OLED ', ' LCD ', ' AMOLED ', ' QLED '], dtype=object)"
      ]
     },
     "execution_count": 23,
     "metadata": {},
     "output_type": "execute_result"
    }
   ],
   "source": [
    "full_data['Display_type'].unique()"
   ]
  },
  {
   "cell_type": "markdown",
   "id": "10459f86",
   "metadata": {},
   "source": [
    "## processor column"
   ]
  },
  {
   "cell_type": "code",
   "execution_count": 24,
   "id": "1f94dabd",
   "metadata": {},
   "outputs": [
    {
     "data": {
      "text/plain": [
       "0           AMD Quad-Core Ryzen 5 \n",
       "1         Intel Pentium Dual-Core \n",
       "2        Intel Core i5 (11th Gen) \n",
       "3         Intel Core i3 (7th Gen) \n",
       "4           AMD Hexa-Core Ryzen 5 \n",
       "                   ...            \n",
       "1513      Intel Core i5 (7th Gen) \n",
       "1514      Intel Core i7 (4th Gen) \n",
       "1515      Intel Core i3 (6th Gen) \n",
       "1516      Intel Core i5 (7th Gen) \n",
       "1517      Intel Core i5 (7th Gen) \n",
       "Name: Processor, Length: 1518, dtype: object"
      ]
     },
     "execution_count": 24,
     "metadata": {},
     "output_type": "execute_result"
    }
   ],
   "source": [
    "full_data['Processor']"
   ]
  },
  {
   "cell_type": "code",
   "execution_count": 25,
   "id": "5b50dad1",
   "metadata": {},
   "outputs": [
    {
     "data": {
      "text/plain": [
       "60"
      ]
     },
     "execution_count": 25,
     "metadata": {},
     "output_type": "execute_result"
    }
   ],
   "source": [
    "full_data['Processor'].nunique()"
   ]
  },
  {
   "cell_type": "code",
   "execution_count": 26,
   "id": "51a4e6ed",
   "metadata": {},
   "outputs": [
    {
     "data": {
      "text/plain": [
       "array([' AMD Quad-Core Ryzen 5 ', ' Intel Pentium Dual-Core ',\n",
       "       ' Intel Core i5 (11th Gen) ', ' Intel Core i3 (7th Gen) ',\n",
       "       ' AMD Hexa-Core Ryzen 5 ', ' Intel Core i3 (10th Gen) ',\n",
       "       ' Intel Core i5 (10th Gen) ', ' Intel Core i5 (8th Gen) ',\n",
       "       ' Intel Core i5 (9th Gen) ', ' Intel Core i7 (8th Gen) ',\n",
       "       ' AMD Dual-Core Ryzen 3 ', ' AMD Dual-Core APU ',\n",
       "       ' Intel Core i5 (7th Gen) ', ' Intel Core i7 (10th Gen) ',\n",
       "       ' AMD Dual-Core A6 APU ', ' Intel Pentium Gold ',\n",
       "       ' Intel Core i3 (11th Gen) ', ' Intel Celeron Dual-Core ',\n",
       "       ' AMD Octa-Core Ryzen 7 ', ' Intel Core i7 (11th Gen) ',\n",
       "       ' AMD Octa-Core Ryzen 9 ', ' Intel Core i3 (8th Gen) ',\n",
       "       ' AMD Quad-Core Ryzen 3 ', ' Intel Core M5 (6th Gen) ', nan,\n",
       "       ' Intel Core i9 (10th Gen) ', ' Intel HM370 ', ' AMD Soc ',\n",
       "       ' Intel SoC ', ' Intel Core i7 (9th Gen) ',\n",
       "       ' Intel Integrated SoC ', ' AMD Quad-Core Ryzen 7 ',\n",
       "       ' Intel Core i5 (1st Gen) ', ' Intel Core i3 (6th Gen) ',\n",
       "       ' Intel Core i7 (7th Gen) ', ' Intel Atom Quad-Core ',\n",
       "       ' AMD Dual-Core A9 APU ', ' AMD Dual-Core Athlon ',\n",
       "       ' Intel HM470 ', ' AMD Quad-Core A8 APU ',\n",
       "       ' AMD Dual-Core E1 APU ', ' MediaTek Octa-core ',\n",
       "       ' Intel Celeron Quad-Core ', ' Apple M1 ',\n",
       "       ' Intel Pentium Quad-Core ', ' Intel Core i5 (5th Gen) ',\n",
       "       ' Intel Core M3 (6th Gen) ', ' Intel Core i3 (5th Gen) ',\n",
       "       ' AMD Dual-Core A4 APU ', ' Intel Core i9 (8th Gen) ',\n",
       "       ' Intel Core i9 (11th Gen) ', ' Intel Core i7 (4th Gen) ',\n",
       "       ' Intel Core i5 (6th Gen) ', ' Intel UHD ',\n",
       "       ' AMD Quad-Core E2 APU ', ' Intel Core M ',\n",
       "       ' Qualcomm Snapdragon Octa-Core ', ' Intel Core i3 (4th Gen) ',\n",
       "       ' Intel Core i5 (3rd Gen) ', ' AMD Quad-Core A10 APU ',\n",
       "       ' Intel Core i5 (4th Gen) '], dtype=object)"
      ]
     },
     "execution_count": 26,
     "metadata": {},
     "output_type": "execute_result"
    }
   ],
   "source": [
    "full_data['Processor'].unique()"
   ]
  },
  {
   "cell_type": "code",
   "execution_count": 27,
   "id": "883f32ca",
   "metadata": {},
   "outputs": [],
   "source": [
    "def processorbrand(processor):\n",
    "    ''' this function looks for processor brand names in a string and returns the brand name'''\n",
    "    if 'amd' in processor.lower():\n",
    "        return 'AMD'\n",
    "    elif 'intel' in processor.lower():\n",
    "        return 'Intel'\n",
    "    elif 'qualcomm' in processor.lower():\n",
    "        return 'Qualcomm'\n",
    "    elif 'mediatek' in processor.lower():\n",
    "        return 'MediaTek'\n",
    "    elif 'apple' in processor.lower():\n",
    "        return 'Apple'\n",
    "    else:\n",
    "        return processor"
   ]
  },
  {
   "cell_type": "code",
   "execution_count": 28,
   "id": "a7c5ba0d",
   "metadata": {},
   "outputs": [],
   "source": [
    "# creating a new column 'processor_brand'\n",
    "full_data['Processor'] = full_data['Processor'].astype('str')\n",
    "full_data['Processor_brand'] = full_data['Processor'].apply(processorbrand)"
   ]
  },
  {
   "cell_type": "code",
   "execution_count": 29,
   "id": "4aa25e1b",
   "metadata": {},
   "outputs": [
    {
     "data": {
      "text/plain": [
       "array(['AMD', 'Intel', 'nan', 'MediaTek', 'Apple', 'Qualcomm'],\n",
       "      dtype=object)"
      ]
     },
     "execution_count": 29,
     "metadata": {},
     "output_type": "execute_result"
    }
   ],
   "source": [
    "full_data['Processor_brand'].unique()"
   ]
  },
  {
   "cell_type": "code",
   "execution_count": 30,
   "id": "05bb58ca",
   "metadata": {},
   "outputs": [],
   "source": [
    "def cores(processor):\n",
    "    '''This function returns number of processing cores based on processor specifications'''\n",
    "    if 'Quad-Core' in processor:\n",
    "        return 4\n",
    "    elif 'Core i5 (11th Gen)' in processor:\n",
    "        return 6\n",
    "    elif 'Hexa-Core' in processor:\n",
    "        return 6\n",
    "    elif 'Core i5 (10th Gen)' in processor:\n",
    "        return 6\n",
    "    elif 'Core i5 (9th Gen)' in processor:\n",
    "        return 6\n",
    "    elif 'Dual-Core' in processor:\n",
    "        return 2\n",
    "    elif 'Core i5 (7th Gen)' in processor:\n",
    "        return 4\n",
    "    elif 'Core i3 (11th Gen)' in processor:\n",
    "        return 4\n",
    "    elif 'Octa-Core' in processor:\n",
    "        return 8\n",
    "    elif 'Core i9 (10th Gen)' in processor:\n",
    "        return 10\n",
    "    elif 'Core i7 (9th Gen)' in processor:\n",
    "        return 8\n",
    "    elif 'Core i5 (1st Gen)' in processor:\n",
    "        return 2\n",
    "    elif 'Core i7 (7th Gen)' in processor:\n",
    "        return 4\n",
    "    elif 'Core M3 (6th Gen)' in processor:\n",
    "        return 2\n",
    "    elif 'Core i9 (11th Gen)' in processor:\n",
    "        return 8\n",
    "    elif 'Core i5 (6th Gen)' in processor:\n",
    "        return 4\n",
    "    elif 'Core i5 (3rd Gen)' in processor:\n",
    "        return 4\n",
    "    elif 'Core i5 (4th Gen)' in processor:\n",
    "        return 4\n",
    "    elif 'Core i3 (7th Gen)' in processor:\n",
    "        return 2\n",
    "    elif 'Core i3 (10th Gen)' in processor:\n",
    "        return 4\n",
    "    elif 'Core i5 (8th Gen)' in processor:\n",
    "        return 6\n",
    "    elif 'Core i7 (8th Gen)' in processor:\n",
    "        return 6\n",
    "    elif 'Core i7 (10th Gen)' in processor:\n",
    "        return 8\n",
    "    elif 'Pentium Gold' in processor:\n",
    "        return 2\n",
    "    elif 'Core i3 (8th Gen)' in processor:\n",
    "        return 4\n",
    "    elif 'Core M5 (6th Gen)' in processor:\n",
    "        return 2\n",
    "    elif 'HM370' in processor:\n",
    "        return 4\n",
    "    elif 'Core i3 (6th Gen)' in processor:\n",
    "        return 2\n",
    "    elif 'Apple M1' in processor:\n",
    "        return 8\n",
    "    elif 'Core i5 (5th Gen)' in processor:\n",
    "        return 4\n",
    "    elif 'Core i3 (5th Gen)' in processor:\n",
    "        return 2\n",
    "    elif 'Core i9 (8th Gen)' in processor:\n",
    "        return 6\n",
    "    elif 'Core i7 (4th Gen)' in processor:\n",
    "        return 4\n",
    "    elif 'Core M' in processor:\n",
    "        return 2\n",
    "    elif 'Core i3 (4th Gen)' in processor:\n",
    "        return 2\n",
    "    else: \n",
    "        return 'nan'\n",
    "    "
   ]
  },
  {
   "cell_type": "code",
   "execution_count": 31,
   "id": "32337e1e",
   "metadata": {},
   "outputs": [],
   "source": [
    "#creating new column by applying function above\n",
    "full_data['Processor_cores'] = full_data['Processor'].apply(cores)"
   ]
  },
  {
   "cell_type": "code",
   "execution_count": 32,
   "id": "197de82e",
   "metadata": {},
   "outputs": [],
   "source": [
    "#converting column to float datatype\n",
    "full_data['Processor_cores'] = full_data['Processor_cores'].astype('float')"
   ]
  },
  {
   "cell_type": "markdown",
   "id": "9cdd5920",
   "metadata": {},
   "source": [
    "## Processor Speed column"
   ]
  },
  {
   "cell_type": "code",
   "execution_count": 33,
   "id": "74a54edd",
   "metadata": {},
   "outputs": [
    {
     "data": {
      "text/plain": [
       "0        2.1GHz \n",
       "1        3.0GHz \n",
       "2        4.2GHz \n",
       "3        2.3GHz \n",
       "4        3.0GHz \n",
       "          ...   \n",
       "1513     2.5GHz \n",
       "1514     2.0GHz \n",
       "1515     2.0GHz \n",
       "1516     2.5GHz \n",
       "1517     2.5GHz \n",
       "Name: Processor_speed(GHz), Length: 1518, dtype: object"
      ]
     },
     "execution_count": 33,
     "metadata": {},
     "output_type": "execute_result"
    }
   ],
   "source": [
    "full_data['Processor_speed(GHz)']"
   ]
  },
  {
   "cell_type": "code",
   "execution_count": 34,
   "id": "45143e56",
   "metadata": {},
   "outputs": [],
   "source": [
    "#removing GHZ\n",
    "full_data['Processor_speed(GHz)'] = full_data['Processor_speed(GHz)'].astype('str')\n",
    "full_data['Processor_speed(GHz)'] = full_data['Processor_speed(GHz)'].apply(lambda x:x.replace('GHz',''))\n",
    "\n",
    "#converting the column to float datatype\n",
    "full_data['Processor_speed(GHz)'] = full_data['Processor_speed(GHz)'].astype('float')"
   ]
  },
  {
   "cell_type": "markdown",
   "id": "34ce7365",
   "metadata": {},
   "source": [
    "## Cache column"
   ]
  },
  {
   "cell_type": "code",
   "execution_count": 35,
   "id": "f1b95576",
   "metadata": {},
   "outputs": [
    {
     "data": {
      "text/plain": [
       "0             6 MB \n",
       "1             4 MB \n",
       "2             8 MB \n",
       "3             3 MB \n",
       "4             3 MB \n",
       "           ...     \n",
       "1513     3MB L2 MB \n",
       "1514          4 MB \n",
       "1515          3 MB \n",
       "1516          3 MB \n",
       "1517          6 MB \n",
       "Name: Cache_memory(MBs), Length: 1518, dtype: object"
      ]
     },
     "execution_count": 35,
     "metadata": {},
     "output_type": "execute_result"
    }
   ],
   "source": [
    "\n",
    "full_data['Cache_memory(MBs)']"
   ]
  },
  {
   "cell_type": "code",
   "execution_count": 36,
   "id": "9c5621b0",
   "metadata": {},
   "outputs": [],
   "source": [
    "#converting to string datatype and replacing empty strings in the column\n",
    "full_data['Cache_memory(MBs)'] = full_data['Cache_memory(MBs)'].astype('str')\n",
    "full_data['Cache_memory(MBs)'] = full_data['Cache_memory(MBs)'].apply(lambda x:x.replace(' ',''))\n",
    "\n",
    "#splitting the data to grap the first item in the data\n",
    "full_data['Cache_memory(MBs)'] = full_data['Cache_memory(MBs)'].apply(lambda x:x.split('M')[0])\n",
    "\n",
    "#converting the data to float data type\n",
    "full_data['Cache_memory(MBs)'] = full_data['Cache_memory(MBs)'].astype('float')"
   ]
  },
  {
   "cell_type": "markdown",
   "id": "d19a1eb4",
   "metadata": {},
   "source": [
    "## graphics processor column"
   ]
  },
  {
   "cell_type": "code",
   "execution_count": 37,
   "id": "3840a3c7",
   "metadata": {},
   "outputs": [
    {
     "data": {
      "text/plain": [
       "0          NVIDIA Geforce GTX 1650 \n",
       "1                        Intel UHD \n",
       "2                     Intel Iris X \n",
       "3                     Intel HD 620 \n",
       "4          NVIDIA Geforce GTX 1650 \n",
       "                   ...             \n",
       "1513                 Intel HD 6000 \n",
       "1514                 Intel HD 4400 \n",
       "1515         Intel HD Graphics 520 \n",
       "1516          NVIDIA Geforce MX130 \n",
       "1517     NVIDIA Geforce GTX 1050Ti \n",
       "Name: Graphics_processor, Length: 1518, dtype: object"
      ]
     },
     "execution_count": 37,
     "metadata": {},
     "output_type": "execute_result"
    }
   ],
   "source": [
    "full_data['Graphics_processor']"
   ]
  },
  {
   "cell_type": "code",
   "execution_count": 38,
   "id": "bd6fb6b6",
   "metadata": {},
   "outputs": [],
   "source": [
    "def graphics(graphicsprocessor):\n",
    "    '''This function looks for and returns processor brand names in a string'''\n",
    "    if 'nvidia' in graphicsprocessor.lower():\n",
    "        return 'NVIDIA'\n",
    "    elif 'intel' in graphicsprocessor.lower():\n",
    "        return 'Intel Graphics'\n",
    "    elif 'amd' in graphicsprocessor.lower():\n",
    "        return 'AMD Graphics'\n",
    "    elif 'qualcomm' in graphicsprocessor.lower():\n",
    "        return 'Qualcomm Graphics'\n",
    "    elif 'arm' in graphicsprocessor.lower():\n",
    "        return 'ARM Graphics'\n",
    "    elif 'mediatek' in graphicsprocessor.lower():\n",
    "        return 'MediaTek Graphics'\n",
    "    elif 'powervr' in graphicsprocessor.lower():\n",
    "        return 'PowerVR Graphics' \n",
    "    elif 'ati' in graphicsprocessor.lower():\n",
    "        return 'AMD Graphics'\n",
    "    elif 'hd' in graphicsprocessor.lower():\n",
    "        return 'Intel Graphics'\n",
    "    elif 'radeon' in graphicsprocessor.lower():\n",
    "        return 'AMD Graphics'\n",
    "    else:\n",
    "        return graphicsprocessor"
   ]
  },
  {
   "cell_type": "code",
   "execution_count": 39,
   "id": "8399c725",
   "metadata": {},
   "outputs": [],
   "source": [
    "# converting the data to string datatype and applying the function\n",
    "full_data['Graphics_processor'] = full_data['Graphics_processor'].astype('str')\n",
    "full_data['Graphics_brand'] = full_data['Graphics_processor'].apply(graphics)"
   ]
  },
  {
   "cell_type": "code",
   "execution_count": 40,
   "id": "6b80a9c2",
   "metadata": {},
   "outputs": [
    {
     "data": {
      "text/plain": [
       "array(['NVIDIA', 'Intel Graphics', 'AMD Graphics', 'nan',\n",
       "       'PowerVR Graphics', 'MediaTek Graphics', 'ARM Graphics',\n",
       "       'Qualcomm Graphics'], dtype=object)"
      ]
     },
     "execution_count": 40,
     "metadata": {},
     "output_type": "execute_result"
    }
   ],
   "source": [
    "full_data['Graphics_brand'].unique()"
   ]
  },
  {
   "cell_type": "markdown",
   "id": "1f42e57d",
   "metadata": {},
   "source": [
    "## RAM column"
   ]
  },
  {
   "cell_type": "code",
   "execution_count": 41,
   "id": "d706fb1c",
   "metadata": {},
   "outputs": [
    {
     "data": {
      "text/plain": [
       "0        4 GB \n",
       "1         8GB \n",
       "2         8GB \n",
       "3         4GB \n",
       "4        4 GB \n",
       "         ...  \n",
       "1513      4GB \n",
       "1514      8GB \n",
       "1515      4GB \n",
       "1516     2 GB \n",
       "1517     4 GB \n",
       "Name: RAM(Gig), Length: 1518, dtype: object"
      ]
     },
     "execution_count": 41,
     "metadata": {},
     "output_type": "execute_result"
    }
   ],
   "source": [
    "full_data['RAM(Gig)']"
   ]
  },
  {
   "cell_type": "code",
   "execution_count": 42,
   "id": "819cdb6b",
   "metadata": {},
   "outputs": [],
   "source": [
    "#converting to string datatype and replacing strings in the column\n",
    "full_data['RAM(Gig)'] = full_data['RAM(Gig)'].astype('str')\n",
    "full_data['RAM(Gig)'] = full_data['RAM(Gig)'].apply(lambda x:x.replace(' ',''))\n",
    "full_data['RAM(Gig)'] = full_data['RAM(Gig)'].apply(lambda x:x.replace('GB',''))\n",
    "\n",
    "#converting the data to float data type\n",
    "full_data['RAM(Gig)'] = full_data['RAM(Gig)'].astype('float')"
   ]
  },
  {
   "cell_type": "markdown",
   "id": "42daa1b2",
   "metadata": {},
   "source": [
    "## RAM_max column"
   ]
  },
  {
   "cell_type": "code",
   "execution_count": 43,
   "id": "5cdabfdc",
   "metadata": {},
   "outputs": [
    {
     "data": {
      "text/plain": [
       "0               8GB \n",
       "1        Up to 16GB \n",
       "2                NaN\n",
       "3                NaN\n",
       "4               8GB \n",
       "            ...     \n",
       "1513     Up to 16GB \n",
       "1514             NaN\n",
       "1515             NaN\n",
       "1516     Up to 16GB \n",
       "1517     Up to 32GB \n",
       "Name: RAM_max, Length: 1518, dtype: object"
      ]
     },
     "execution_count": 43,
     "metadata": {},
     "output_type": "execute_result"
    }
   ],
   "source": [
    "full_data['RAM_max']"
   ]
  },
  {
   "cell_type": "code",
   "execution_count": 44,
   "id": "06f49272",
   "metadata": {},
   "outputs": [],
   "source": [
    "#converting to string datatype and replacing strings in the column\n",
    "full_data['RAM_max'] = full_data['RAM_max'].astype('str')\n",
    "full_data['RAM_max'] = full_data['RAM_max'].apply(lambda x:x.replace(' ',''))\n",
    "full_data['RAM_max'] = full_data['RAM_max'].apply(lambda x:x.replace('Upto',''))\n",
    "full_data['RAM_max'] = full_data['RAM_max'].apply(lambda x:x.replace('GB',''))\n",
    "\n",
    "#converting the data to float data type\n",
    "full_data['RAM_max'] = full_data['RAM_max'].astype(float)"
   ]
  },
  {
   "cell_type": "markdown",
   "id": "7fb31c03",
   "metadata": {},
   "source": [
    "## RAM_speed column"
   ]
  },
  {
   "cell_type": "code",
   "execution_count": 45,
   "id": "8e8cc332",
   "metadata": {},
   "outputs": [
    {
     "data": {
      "text/plain": [
       "array([' 2400MHz ', ' 2666MHz ', ' 2133MHz ', ' 3200MHz ', ' 2933MHz ',\n",
       "       ' 1866MHz ', nan, ' 3733MHz ', ' 1600MHz ', ' 4266MHz ',\n",
       "       ' 2667MHz ', '2666', ' 4267MHz ', ' 3200 MT/s ', ' 2566MHz ',\n",
       "       ' 2144MHz '], dtype=object)"
      ]
     },
     "execution_count": 45,
     "metadata": {},
     "output_type": "execute_result"
    }
   ],
   "source": [
    "full_data['RAM_speed(MHz)'].unique()"
   ]
  },
  {
   "cell_type": "code",
   "execution_count": 46,
   "id": "1e2a0d25",
   "metadata": {},
   "outputs": [],
   "source": [
    "#converting to string datatype and replacing strings in the data\n",
    "full_data['RAM_speed(MHz)'] = full_data['RAM_speed(MHz)'].astype('str')\n",
    "full_data['RAM_speed(MHz)'] = full_data['RAM_speed(MHz)'].apply(lambda x:x.replace(' ',''))\n",
    "full_data['RAM_speed(MHz)'] = full_data['RAM_speed(MHz)'].apply(lambda x:x.replace('MHz',''))\n",
    "full_data['RAM_speed(MHz)'] = full_data['RAM_speed(MHz)'].apply(lambda x:x.replace('MT/s',''))\n",
    "\n",
    "#converting the data to float data type\n",
    "full_data['RAM_speed(MHz)'] = full_data['RAM_speed(MHz)'].astype('float')"
   ]
  },
  {
   "cell_type": "markdown",
   "id": "9a8edbda",
   "metadata": {},
   "source": [
    "## Memory_slots column"
   ]
  },
  {
   "cell_type": "code",
   "execution_count": 47,
   "id": "d9a0037d",
   "metadata": {},
   "outputs": [
    {
     "data": {
      "text/plain": [
       "array(['1', '2', ' 2 SO-DIMM ', ' 1 DIMM ', ' 2 DIMM ', nan, ' 2 SODIMM ',\n",
       "       ' 1 SO-DIMM ', ' 1 SODIMM '], dtype=object)"
      ]
     },
     "execution_count": 47,
     "metadata": {},
     "output_type": "execute_result"
    }
   ],
   "source": [
    "full_data['Memory_slots'].unique()"
   ]
  },
  {
   "cell_type": "code",
   "execution_count": 48,
   "id": "08063e6e",
   "metadata": {},
   "outputs": [],
   "source": [
    "#converting to string datatype and replacing strings in the column\n",
    "full_data['Memory_slots'] = full_data['Memory_slots'].astype('str')\n",
    "full_data['Memory_slots'] = full_data['Memory_slots'].apply(lambda x:x.replace(' ',''))\n",
    "full_data['Memory_slots'] = full_data['Memory_slots'].apply(lambda x:x.replace('DIMM',''))\n",
    "full_data['Memory_slots'] = full_data['Memory_slots'].apply(lambda x:x.replace('SO-',''))\n",
    "full_data['Memory_slots'] = full_data['Memory_slots'].apply(lambda x:x.replace('SO',''))\n",
    "\n",
    "#converting the data to float data type\n",
    "full_data['Memory_slots'] = full_data['Memory_slots'].astype('float')"
   ]
  },
  {
   "cell_type": "markdown",
   "id": "bac85008",
   "metadata": {},
   "source": [
    "## Harddrive_type column"
   ]
  },
  {
   "cell_type": "code",
   "execution_count": 49,
   "id": "43d4af7c",
   "metadata": {},
   "outputs": [
    {
     "data": {
      "text/plain": [
       "array([' HDD SATA ', nan, ' SSD M.2/Optane '], dtype=object)"
      ]
     },
     "execution_count": 49,
     "metadata": {},
     "output_type": "execute_result"
    }
   ],
   "source": [
    "full_data['Harddrive_type'].unique()"
   ]
  },
  {
   "cell_type": "code",
   "execution_count": 50,
   "id": "060ef974",
   "metadata": {},
   "outputs": [],
   "source": [
    "#converting to string datatype and replacing strings in the column\n",
    "full_data['Harddrive_type'] = full_data['Harddrive_type'].astype('str')\n",
    "full_data['Harddrive_type'] = full_data['Harddrive_type'].apply(lambda x:x.replace(' ',''))\n",
    "full_data['Harddrive_type'] = full_data['Harddrive_type'].apply(lambda x:x.replace('SATA',''))\n",
    "full_data['Harddrive_type'] = full_data['Harddrive_type'].apply(lambda x:x.replace('M.2/Optane',''))"
   ]
  },
  {
   "cell_type": "markdown",
   "id": "2e478cc1",
   "metadata": {},
   "source": [
    "## Harddrive_capacity column"
   ]
  },
  {
   "cell_type": "code",
   "execution_count": 51,
   "id": "7159dc0d",
   "metadata": {},
   "outputs": [
    {
     "data": {
      "text/plain": [
       "array([' 1TB ', ' 2TB ', ' 500GB ', ' 512GB ', ' 64GB ', ' 256GB ',\n",
       "       ' 32GB ', ' 16GB ', ' 128GB ', '512', ' 1GB ', nan], dtype=object)"
      ]
     },
     "execution_count": 51,
     "metadata": {},
     "output_type": "execute_result"
    }
   ],
   "source": [
    "full_data['Harddrive_capacity(Gig)'].unique()"
   ]
  },
  {
   "cell_type": "code",
   "execution_count": 52,
   "id": "aababd12",
   "metadata": {},
   "outputs": [],
   "source": [
    "#converting to string datatype and replacing strings in the column\n",
    "full_data['Harddrive_capacity(Gig)'] = full_data['Harddrive_capacity(Gig)'].astype('str')\n",
    "full_data['Harddrive_capacity(Gig)'] = full_data['Harddrive_capacity(Gig)'].apply(lambda x:x.replace(' ',''))\n",
    "full_data['Harddrive_capacity(Gig)'] = full_data['Harddrive_capacity(Gig)'].apply(lambda x:x.replace('TB','000'))\n",
    "full_data['Harddrive_capacity(Gig)'] = full_data['Harddrive_capacity(Gig)'].apply(lambda x:x.replace('GB',''))\n",
    "\n",
    "#converting the column to float datatype\n",
    "full_data['Harddrive_capacity(Gig)'] = full_data['Harddrive_capacity(Gig)'].astype('float')"
   ]
  },
  {
   "cell_type": "markdown",
   "id": "13efc03b",
   "metadata": {},
   "source": [
    "## Weight column"
   ]
  },
  {
   "cell_type": "code",
   "execution_count": 53,
   "id": "58184b30",
   "metadata": {},
   "outputs": [
    {
     "data": {
      "text/plain": [
       "0        2.04 Kg \n",
       "1        1.75 Kg \n",
       "2        1.75 Kg \n",
       "3        1.47 Kg \n",
       "4        1.98 Kg \n",
       "          ...    \n",
       "1513      1.9 Kg \n",
       "1514      2.1 Kg \n",
       "1515      2.2 Kg \n",
       "1516      2.1 Kg \n",
       "1517      2.7 Kg \n",
       "Name: Weight(kg), Length: 1518, dtype: object"
      ]
     },
     "execution_count": 53,
     "metadata": {},
     "output_type": "execute_result"
    }
   ],
   "source": [
    "full_data['Weight(kg)']"
   ]
  },
  {
   "cell_type": "code",
   "execution_count": 54,
   "id": "ef007b84",
   "metadata": {},
   "outputs": [],
   "source": [
    "#converting to string datatype and replacing strings in the column\n",
    "full_data['Weight(kg)'] = full_data['Weight(kg)'].astype('str')\n",
    "full_data['Weight(kg)'] = full_data['Weight(kg)'].apply(lambda x:x.replace(' ',''))\n",
    "full_data['Weight(kg)'] = full_data['Weight(kg)'].apply(lambda x:x.replace('Kg',''))\n",
    "\n",
    "#converting the column to float datatype\n",
    "full_data['Weight(kg)'] = full_data['Weight(kg)'].astype('float')"
   ]
  },
  {
   "cell_type": "markdown",
   "id": "2713e640",
   "metadata": {},
   "source": [
    "## Dimensions column"
   ]
  },
  {
   "cell_type": "code",
   "execution_count": 55,
   "id": "f3a226e3",
   "metadata": {},
   "outputs": [
    {
     "data": {
      "text/plain": [
       "0          360 x 257 x 23.5 \n",
       "1        358.5 x 242 x 19.9 \n",
       "2        358.5 x 242 x 19.9 \n",
       "3          335 x 234 x 19.9 \n",
       "4          360 x 257 x 23.5 \n",
       "                ...         \n",
       "1513       339 x 245 x 25.0 \n",
       "1514         384 x 264 x 25 \n",
       "1515       379 x 260 x 22.9 \n",
       "1516     381.6 x 263 x 20.9 \n",
       "1517       390 x 266 x 26.7 \n",
       "Name: Dimensions(mm), Length: 1518, dtype: object"
      ]
     },
     "execution_count": 55,
     "metadata": {},
     "output_type": "execute_result"
    }
   ],
   "source": [
    "full_data['Dimensions(mm)']"
   ]
  },
  {
   "cell_type": "code",
   "execution_count": 56,
   "id": "10720ee2",
   "metadata": {},
   "outputs": [],
   "source": [
    "#converting to string datatype and replacing empty strings in the column\n",
    "full_data['Dimensions(mm)'] = full_data['Dimensions(mm)'].astype('str')\n",
    "full_data['Dimensions(mm)'] = full_data['Dimensions(mm)'].apply(lambda x:x.replace(' ',''))"
   ]
  },
  {
   "cell_type": "code",
   "execution_count": 57,
   "id": "176fed25",
   "metadata": {},
   "outputs": [],
   "source": [
    "def length(dimensions):\n",
    "    '''This function grabs the first item from split string '''\n",
    "    if 'x' in dimensions:\n",
    "        return float(dimensions.split('x')[0])\n",
    "    else:\n",
    "        return dimensions\n",
    "    \n",
    "def width(dimensions):\n",
    "    '''This function grabs the second item from split string '''\n",
    "    if 'x' in dimensions:\n",
    "        return float(dimensions.split('x')[1])\n",
    "    else:\n",
    "        return dimensions\n",
    "    \n",
    "def height(dimensions):\n",
    "    '''This function grabs the third item from split string '''\n",
    "    if 'x' in dimensions:\n",
    "        return float(dimensions.split('x')[2])\n",
    "    else:\n",
    "        return dimensions"
   ]
  },
  {
   "cell_type": "code",
   "execution_count": 58,
   "id": "a13ba616",
   "metadata": {},
   "outputs": [],
   "source": [
    "#creating new columns by applying the above functions\n",
    "full_data['Length(mm)'] = full_data['Dimensions(mm)'].apply(length)\n",
    "full_data['Width(mm)'] = full_data['Dimensions(mm)'].apply(width)\n",
    "full_data['Height(mm)'] = full_data['Dimensions(mm)'].apply(height)"
   ]
  },
  {
   "cell_type": "code",
   "execution_count": 59,
   "id": "49dbd59e",
   "metadata": {},
   "outputs": [],
   "source": [
    "#converting columns to float datatype\n",
    "full_data['Length(mm)'] = full_data['Length(mm)'].astype('float')\n",
    "full_data['Width(mm)'] = full_data['Width(mm)'].astype('float')\n",
    "full_data['Height(mm)'] = full_data['Height(mm)'].astype('float')"
   ]
  },
  {
   "cell_type": "markdown",
   "id": "126eca33",
   "metadata": {},
   "source": [
    "## Warranty column"
   ]
  },
  {
   "cell_type": "code",
   "execution_count": 60,
   "id": "23363217",
   "metadata": {},
   "outputs": [
    {
     "data": {
      "text/plain": [
       "array([' 1 Year ', '1', nan, '4', ' 3 Years ', ' 1.5 Year ', ' 2 Years '],\n",
       "      dtype=object)"
      ]
     },
     "execution_count": 60,
     "metadata": {},
     "output_type": "execute_result"
    }
   ],
   "source": [
    "full_data['Warranty'].unique()"
   ]
  },
  {
   "cell_type": "code",
   "execution_count": 61,
   "id": "9929916e",
   "metadata": {},
   "outputs": [],
   "source": [
    "#converting to string datatype and replacing strings in the column\n",
    "full_data['Warranty'] = full_data['Warranty'].astype('str')\n",
    "full_data['Warranty'] = full_data['Warranty'].apply(lambda x:x.replace(' ',''))\n",
    "full_data['Warranty'] = full_data['Warranty'].apply(lambda x:x.replace('Years',''))\n",
    "full_data['Warranty'] = full_data['Warranty'].apply(lambda x:x.replace('Year',''))\n",
    "\n",
    "#converting the column to float datatype\n",
    "full_data['Warranty'] = full_data['Warranty'].astype('float')"
   ]
  },
  {
   "cell_type": "markdown",
   "id": "8be60210",
   "metadata": {},
   "source": [
    "## USB_2.0 column"
   ]
  },
  {
   "cell_type": "code",
   "execution_count": 62,
   "id": "243def26",
   "metadata": {},
   "outputs": [
    {
     "data": {
      "text/plain": [
       "array([' Yes, 1 ', ' Yes, 2 ', ' Yes, 4 ', ' Yes, 3 ', nan], dtype=object)"
      ]
     },
     "execution_count": 62,
     "metadata": {},
     "output_type": "execute_result"
    }
   ],
   "source": [
    "full_data['USB_2.0'].unique()"
   ]
  },
  {
   "cell_type": "code",
   "execution_count": 63,
   "id": "e2d7f5b7",
   "metadata": {},
   "outputs": [],
   "source": [
    "#converting to string datatype and replacing empty strings in the column\n",
    "full_data['USB_2.0'] = full_data['USB_2.0'].astype('str')\n",
    "full_data['USB_2.0'] = full_data['USB_2.0'].apply(lambda x:x.replace(' ',''))"
   ]
  },
  {
   "cell_type": "code",
   "execution_count": 64,
   "id": "f72fef9a",
   "metadata": {},
   "outputs": [],
   "source": [
    "def USB(info):\n",
    "    '''This function grabs the first item from split string '''\n",
    "    if ',' in info:\n",
    "        return info.split(',')[0]\n",
    "    else:\n",
    "        return info\n",
    "\n",
    "def USB_ports(info):\n",
    "    '''This function grabs the second item from split string '''\n",
    "    if ',' in info:\n",
    "        return float(info.split(',')[1])\n",
    "    else:\n",
    "        return info"
   ]
  },
  {
   "cell_type": "code",
   "execution_count": 65,
   "id": "67bf5099",
   "metadata": {},
   "outputs": [],
   "source": [
    "#creating new columns by applying above functions\n",
    "full_data['USB(2.0)'] = full_data['USB_2.0'].apply(USB)\n",
    "full_data['USB(2.0)_ports'] = full_data['USB_2.0'].apply(USB_ports)"
   ]
  },
  {
   "cell_type": "code",
   "execution_count": 66,
   "id": "c4b307d1",
   "metadata": {},
   "outputs": [],
   "source": [
    "#converting column to float datatype\n",
    "full_data['USB(2.0)_ports'] = full_data['USB(2.0)_ports'].astype('float')"
   ]
  },
  {
   "cell_type": "markdown",
   "id": "8aff184a",
   "metadata": {},
   "source": [
    "## Bluetooth column"
   ]
  },
  {
   "cell_type": "code",
   "execution_count": 67,
   "id": "fa02cb6d",
   "metadata": {},
   "outputs": [
    {
     "data": {
      "text/plain": [
       "array([' Yes, 5.0 ', ' Yes, 4.2 ', ' Yes, 5.1 ', ' Yes, 4.1 ',\n",
       "       ' Yes, 5.2 ', ' Yes, 4.0 ', ' Yes, 6.0 ', ' Yes ', nan, ' No '],\n",
       "      dtype=object)"
      ]
     },
     "execution_count": 67,
     "metadata": {},
     "output_type": "execute_result"
    }
   ],
   "source": [
    "full_data['Bluetooth'].unique()"
   ]
  },
  {
   "cell_type": "code",
   "execution_count": 68,
   "id": "f3f48c0e",
   "metadata": {},
   "outputs": [],
   "source": [
    "#converting to string datatype and replacing empty strings in the column\n",
    "full_data['Bluetooth'] = full_data['Bluetooth'].astype('str')\n",
    "full_data['Bluetooth'] = full_data['Bluetooth'].apply(lambda x:x.replace(' ',''))"
   ]
  },
  {
   "cell_type": "code",
   "execution_count": 69,
   "id": "5825ffc0",
   "metadata": {},
   "outputs": [],
   "source": [
    "def bluetooth(info):\n",
    "    '''This function grabs the first item from split string '''\n",
    "    if ',' in info:\n",
    "        return info.split(',')[0]\n",
    "    else:\n",
    "        return info\n",
    "\n",
    "def version(info):\n",
    "    '''This function grabs the second item from split string '''\n",
    "    if ',' in info:\n",
    "        return float(info.split(',')[1])\n",
    "    else:\n",
    "        return 'nan'"
   ]
  },
  {
   "cell_type": "code",
   "execution_count": 70,
   "id": "27af6097",
   "metadata": {},
   "outputs": [],
   "source": [
    "#creating new columns by applying above functions\n",
    "full_data['Bluetooth_'] = full_data['Bluetooth'].apply(bluetooth)\n",
    "full_data['Bluetooth_version'] = full_data['Bluetooth'].apply(version)"
   ]
  },
  {
   "cell_type": "code",
   "execution_count": 71,
   "id": "d4cd45dd",
   "metadata": {},
   "outputs": [],
   "source": [
    "#converting column to float datatype\n",
    "full_data['Bluetooth_version'] = full_data['Bluetooth_version'].astype('float')"
   ]
  },
  {
   "cell_type": "markdown",
   "id": "911780eb",
   "metadata": {},
   "source": [
    "## optical drive colum"
   ]
  },
  {
   "cell_type": "code",
   "execution_count": 72,
   "id": "93751a75",
   "metadata": {},
   "outputs": [
    {
     "data": {
      "text/plain": [
       "array([' No ', ' Yes', ' Yes ', nan], dtype=object)"
      ]
     },
     "execution_count": 72,
     "metadata": {},
     "output_type": "execute_result"
    }
   ],
   "source": [
    "full_data['Optical_Drive'].unique()"
   ]
  },
  {
   "cell_type": "code",
   "execution_count": 73,
   "id": "b888b09f",
   "metadata": {},
   "outputs": [],
   "source": [
    "#converting to string datatype and replacing empty strings in the column\n",
    "full_data['Optical_Drive'] = full_data['Optical_Drive'].astype('str')\n",
    "full_data['Optical_Drive'] = full_data['Optical_Drive'].apply(lambda x:x.replace(' ',''))"
   ]
  },
  {
   "cell_type": "markdown",
   "id": "1743f11a",
   "metadata": {},
   "source": [
    "## USB_typeC column"
   ]
  },
  {
   "cell_type": "code",
   "execution_count": 74,
   "id": "6fa391b1",
   "metadata": {},
   "outputs": [
    {
     "data": {
      "text/plain": [
       "array([' Yes, 1 ', ' No ', ' Yes ', ' Yes, 2 ', nan, ' DVD Writer ',\n",
       "       ' Yes, 3 ', ' Yes, 4 '], dtype=object)"
      ]
     },
     "execution_count": 74,
     "metadata": {},
     "output_type": "execute_result"
    }
   ],
   "source": [
    "full_data['USB_typeC'].unique()"
   ]
  },
  {
   "cell_type": "code",
   "execution_count": 75,
   "id": "763b2465",
   "metadata": {},
   "outputs": [],
   "source": [
    "#converting to string datatype and replacing empty strings in the column\n",
    "full_data['USB_typeC'] = full_data['USB_typeC'].astype('str')\n",
    "full_data['USB_typeC'] = full_data['USB_typeC'].apply(lambda x:x.replace(' ',''))"
   ]
  },
  {
   "cell_type": "code",
   "execution_count": 76,
   "id": "e826d68f",
   "metadata": {},
   "outputs": [],
   "source": [
    "def usbtypec(info):\n",
    "    '''This function grabs the first item from split string'''\n",
    "    if ',' in info:\n",
    "        return info.split(',')[0]\n",
    "    else:\n",
    "        return info\n",
    "\n",
    "def ports(info):\n",
    "    '''This function grabs the second item from split string '''\n",
    "    if ',' in info:\n",
    "        return float(info.split(',')[1])\n",
    "    else:\n",
    "        return 'nan'"
   ]
  },
  {
   "cell_type": "code",
   "execution_count": 77,
   "id": "8a65ccdf",
   "metadata": {},
   "outputs": [],
   "source": [
    "#creating new columns by applying above functions\n",
    "full_data['USB(typeC)'] = full_data['USB_typeC'].apply(usbtypec)\n",
    "full_data['USB(typeC)_ports'] = full_data['USB_typeC'].apply(ports)\n",
    "\n",
    "#Replacing an out of place data input\n",
    "full_data['USB(typeC)'] = full_data['USB(typeC)'].apply(lambda x:x.replace('DVDWriter','nan'))"
   ]
  },
  {
   "cell_type": "code",
   "execution_count": 78,
   "id": "ce609cab",
   "metadata": {},
   "outputs": [],
   "source": [
    "#converting column to float datatype\n",
    "full_data['USB(typeC)_ports'] = full_data['USB(typeC)_ports'].astype('float')"
   ]
  },
  {
   "cell_type": "markdown",
   "id": "9d80ab30",
   "metadata": {},
   "source": [
    "## Adapter column"
   ]
  },
  {
   "cell_type": "code",
   "execution_count": 79,
   "id": "af72e7b5",
   "metadata": {},
   "outputs": [
    {
     "data": {
      "text/plain": [
       "0        52.5 W AC Adapter W \n",
       "1          65 W AC Adapter W \n",
       "2          65 W AC Adapter W \n",
       "3          41 W AC Adapter W \n",
       "4         150 W AC Adapter W \n",
       "                ...          \n",
       "1513                      NaN\n",
       "1514                      NaN\n",
       "1515                     null\n",
       "1516       65 W AC Adapter W \n",
       "1517      135 W AC Adapter W \n",
       "Name: Adapter(watts), Length: 1518, dtype: object"
      ]
     },
     "execution_count": 79,
     "metadata": {},
     "output_type": "execute_result"
    }
   ],
   "source": [
    "full_data['Adapter(watts)']"
   ]
  },
  {
   "cell_type": "code",
   "execution_count": 80,
   "id": "51dc232b",
   "metadata": {},
   "outputs": [],
   "source": [
    "#converting to string datatype and replacing strings in the column\n",
    "full_data['Adapter(watts)'] = full_data['Adapter(watts)'].astype('str')\n",
    "full_data['Adapter(watts)'] = full_data['Adapter(watts)'].apply(lambda x:x.replace(' ',''))\n",
    "full_data['Adapter(watts)'] = full_data['Adapter(watts)'].apply(lambda x:x.replace('null','nan'))\n",
    "#replacing out of place data input\n",
    "full_data['Adapter(watts)'] = full_data['Adapter(watts)'].apply(lambda x:x.replace('Yes','nan'))\n",
    "#splitting the string to grab first item\n",
    "full_data['Adapter(watts)'] = full_data['Adapter(watts)'].apply(lambda x:x.split('W')[0])\n",
    "\n",
    "#converting the column to float datatype\n",
    "full_data['Adapter(watts)'] = full_data['Adapter(watts)'].astype('float')"
   ]
  },
  {
   "cell_type": "markdown",
   "id": "efe16387",
   "metadata": {},
   "source": [
    "## Battery_cells column"
   ]
  },
  {
   "cell_type": "code",
   "execution_count": 81,
   "id": "bbbc3716",
   "metadata": {},
   "outputs": [
    {
     "data": {
      "text/plain": [
       "array([' 3 Cell ', nan, ' 4 Cell ', ' 2 Cell ', ' 6 Cell ', ' null',\n",
       "       'null ', ' 8 Cell ', '4 Cell '], dtype=object)"
      ]
     },
     "execution_count": 81,
     "metadata": {},
     "output_type": "execute_result"
    }
   ],
   "source": [
    "full_data['Battery_cells'].unique()"
   ]
  },
  {
   "cell_type": "code",
   "execution_count": 82,
   "id": "a7061d1f",
   "metadata": {},
   "outputs": [],
   "source": [
    "#converting to string datatype and replacing strings in the column\n",
    "full_data['Battery_cells'] = full_data['Battery_cells'].astype('str')\n",
    "full_data['Battery_cells'] = full_data['Battery_cells'].apply(lambda x:x.replace(' ',''))\n",
    "full_data['Battery_cells'] = full_data['Battery_cells'].apply(lambda x:x.replace('null','nan'))\n",
    "full_data['Battery_cells'] = full_data['Battery_cells'].apply(lambda x:x.replace('Cell',''))\n",
    "\n",
    "#converting the column to float datatype\n",
    "full_data['Battery_cells'] = full_data['Battery_cells'].astype('float')"
   ]
  },
  {
   "cell_type": "markdown",
   "id": "9b5a61c0",
   "metadata": {},
   "source": [
    "## Battery_type column"
   ]
  },
  {
   "cell_type": "code",
   "execution_count": 83,
   "id": "4433a7a7",
   "metadata": {},
   "outputs": [
    {
     "data": {
      "text/plain": [
       "array([' Li-Ion ', ' Li-Po ', nan], dtype=object)"
      ]
     },
     "execution_count": 83,
     "metadata": {},
     "output_type": "execute_result"
    }
   ],
   "source": [
    "full_data['Battery_type'].unique()"
   ]
  },
  {
   "cell_type": "code",
   "execution_count": 84,
   "id": "de74d395",
   "metadata": {},
   "outputs": [],
   "source": [
    "#converting to string datatype and replacing empty strings in the column\n",
    "full_data['Battery_type'] = full_data['Battery_type'].astype('str')\n",
    "full_data['Battery_type'] = full_data['Battery_type'].apply(lambda x:x.replace(' ',''))"
   ]
  },
  {
   "cell_type": "markdown",
   "id": "ac060d3f",
   "metadata": {},
   "source": [
    "## Battery_life column"
   ]
  },
  {
   "cell_type": "code",
   "execution_count": 85,
   "id": "ef90a9e4",
   "metadata": {},
   "outputs": [
    {
     "data": {
      "text/plain": [
       "array([nan, ' 14 Hrs ', ' 7 Hrs ', ' 10 Hrs ', ' 11 Hrs ', ' 13 Hrs ',\n",
       "       ' 17 Hrs ', ' 5.5 Hrs ', ' 9 Hrs ', ' 6.7 Hrs ', ' 8 Hrs ',\n",
       "       ' 9.5 Hrs ', ' 6 Hrs ', ' 10.8 Hrs ', ' 10.5 Hrs ', ' 11.5 Hrs ',\n",
       "       ' 16 Hrs ', ' 12.5 Hrs ', ' 7.5 Hrs ', ' 15 Hrs ', ' 13.5 Hrs ',\n",
       "       ' 5 Hrs ', ' 12 Hrs ', ' 8.5 Hrs ', ' 7.3 Hrs ', ' 14.5 Hrs ',\n",
       "       ' 22 Hrs ', ' 3.5 Hrs ', ' 12.3 Hrs ', ' 4 Hrs ', ' 23 Hrs ',\n",
       "       ' 6.5 Hrs ', ' 12.8 Hrs ', ' 9.6 Hrs ', ' 4.5 Hrs ', ' 8.4 Hrs ',\n",
       "       ' 17.6 Hrs ', ' 17.3 Hrs '], dtype=object)"
      ]
     },
     "execution_count": 85,
     "metadata": {},
     "output_type": "execute_result"
    }
   ],
   "source": [
    "full_data['Battery_life(Hrs)'].unique()"
   ]
  },
  {
   "cell_type": "code",
   "execution_count": 86,
   "id": "87f81cfe",
   "metadata": {},
   "outputs": [],
   "source": [
    "#converting to string datatype and replacing strings in the column\n",
    "full_data['Battery_life(Hrs)'] = full_data['Battery_life(Hrs)'].astype('str')\n",
    "full_data['Battery_life(Hrs)'] = full_data['Battery_life(Hrs)'].apply(lambda x:x.replace(' ',''))\n",
    "full_data['Battery_life(Hrs)'] = full_data['Battery_life(Hrs)'].apply(lambda x:x.replace('Hrs',''))\n",
    "\n",
    "#converting the column to float datatype\n",
    "full_data['Battery_life(Hrs)'] = full_data['Battery_life(Hrs)'].astype('float')"
   ]
  },
  {
   "cell_type": "markdown",
   "id": "baf2ad8e",
   "metadata": {},
   "source": [
    "## Fingerprint column"
   ]
  },
  {
   "cell_type": "code",
   "execution_count": 87,
   "id": "38d44c36",
   "metadata": {},
   "outputs": [
    {
     "data": {
      "text/plain": [
       "array([' No ', nan, ' Yes ', ' Yes'], dtype=object)"
      ]
     },
     "execution_count": 87,
     "metadata": {},
     "output_type": "execute_result"
    }
   ],
   "source": [
    "full_data['Fingerprint'].unique()"
   ]
  },
  {
   "cell_type": "code",
   "execution_count": 88,
   "id": "5338b09e",
   "metadata": {},
   "outputs": [],
   "source": [
    "#converting to string datatype and replacing empty strings in the column\n",
    "full_data['Fingerprint'] = full_data['Fingerprint'].astype('str')\n",
    "full_data['Fingerprint'] = full_data['Fingerprint'].apply(lambda x:x.replace(' ',''))"
   ]
  },
  {
   "cell_type": "code",
   "execution_count": 89,
   "id": "9ae5ed41",
   "metadata": {},
   "outputs": [
    {
     "data": {
      "text/plain": [
       "array(['No', 'nan', 'Yes'], dtype=object)"
      ]
     },
     "execution_count": 89,
     "metadata": {},
     "output_type": "execute_result"
    }
   ],
   "source": [
    "full_data['Fingerprint'].unique()"
   ]
  },
  {
   "cell_type": "markdown",
   "id": "19b0563f",
   "metadata": {},
   "source": [
    "## keyboard column"
   ]
  },
  {
   "cell_type": "code",
   "execution_count": 90,
   "id": "b3534d75",
   "metadata": {},
   "outputs": [
    {
     "data": {
      "text/plain": [
       "0                                Gaming Backlit Keyboard \n",
       "1        Full-size, jet black keyboard with numeric ke...\n",
       "2        Full-size, natural silver keyboard with numer...\n",
       "3                             Standard Notebook Keyboard \n",
       "4                                Gaming Backlit Keyboard \n",
       "                              ...                        \n",
       "1513                                   Standard Keyboard \n",
       "1514                                Non-Backlit Keyboard \n",
       "1515                          Standard Notebook Keyboard \n",
       "1516                                                  NaN\n",
       "1517                          Standard Notebook Keyboard \n",
       "Name: Keyboard, Length: 1518, dtype: object"
      ]
     },
     "execution_count": 90,
     "metadata": {},
     "output_type": "execute_result"
    }
   ],
   "source": [
    "full_data['Keyboard']"
   ]
  },
  {
   "cell_type": "code",
   "execution_count": 91,
   "id": "d4b0f20e",
   "metadata": {},
   "outputs": [],
   "source": [
    "#converting column to string datatype\n",
    "full_data['Keyboard'] = full_data['Keyboard'].astype('str')"
   ]
  },
  {
   "cell_type": "code",
   "execution_count": 92,
   "id": "b036171d",
   "metadata": {},
   "outputs": [],
   "source": [
    "def backlit(info):\n",
    "    '''This function looks for backlit and returns boolean'''\n",
    "    if 'non-backlit' in info.lower():\n",
    "        return 'no'\n",
    "    if 'backlit' in info.lower():\n",
    "        return 'yes'\n",
    "    else:\n",
    "        'no'"
   ]
  },
  {
   "cell_type": "code",
   "execution_count": 93,
   "id": "da8909c3",
   "metadata": {},
   "outputs": [],
   "source": [
    "#creating new column\n",
    "full_data['Keyboard_backlit'] = full_data['Keyboard'].apply(backlit)"
   ]
  },
  {
   "cell_type": "code",
   "execution_count": 94,
   "id": "952c9bf9",
   "metadata": {},
   "outputs": [
    {
     "data": {
      "text/plain": [
       "0        yes\n",
       "1       None\n",
       "2       None\n",
       "3       None\n",
       "4        yes\n",
       "        ... \n",
       "1513    None\n",
       "1514      no\n",
       "1515    None\n",
       "1516    None\n",
       "1517    None\n",
       "Name: Keyboard_backlit, Length: 1518, dtype: object"
      ]
     },
     "execution_count": 94,
     "metadata": {},
     "output_type": "execute_result"
    }
   ],
   "source": [
    "full_data['Keyboard_backlit']"
   ]
  },
  {
   "cell_type": "code",
   "execution_count": 95,
   "id": "94c4dca3",
   "metadata": {},
   "outputs": [
    {
     "data": {
      "text/html": [
       "<div>\n",
       "<style scoped>\n",
       "    .dataframe tbody tr th:only-of-type {\n",
       "        vertical-align: middle;\n",
       "    }\n",
       "\n",
       "    .dataframe tbody tr th {\n",
       "        vertical-align: top;\n",
       "    }\n",
       "\n",
       "    .dataframe thead th {\n",
       "        text-align: right;\n",
       "    }\n",
       "</style>\n",
       "<table border=\"1\" class=\"dataframe\">\n",
       "  <thead>\n",
       "    <tr style=\"text-align: right;\">\n",
       "      <th></th>\n",
       "      <th>Ratings</th>\n",
       "      <th>No_of_ratings</th>\n",
       "      <th>Screen_size(inches)</th>\n",
       "      <th>Processor_speed(GHz)</th>\n",
       "      <th>Cache_memory(MBs)</th>\n",
       "      <th>RAM(Gig)</th>\n",
       "      <th>RAM_max</th>\n",
       "      <th>Memory_slots</th>\n",
       "      <th>RAM_speed(MHz)</th>\n",
       "      <th>Harddrive_capacity(Gig)</th>\n",
       "      <th>...</th>\n",
       "      <th>Battery_life(Hrs)</th>\n",
       "      <th>Screen_pixel_density(width)</th>\n",
       "      <th>Screen_pixel_density(height)</th>\n",
       "      <th>Processor_cores</th>\n",
       "      <th>Length(mm)</th>\n",
       "      <th>Width(mm)</th>\n",
       "      <th>Height(mm)</th>\n",
       "      <th>USB(2.0)_ports</th>\n",
       "      <th>Bluetooth_version</th>\n",
       "      <th>USB(typeC)_ports</th>\n",
       "    </tr>\n",
       "  </thead>\n",
       "  <tbody>\n",
       "    <tr>\n",
       "      <th>count</th>\n",
       "      <td>847.000000</td>\n",
       "      <td>914.00000</td>\n",
       "      <td>1518.000000</td>\n",
       "      <td>1401.000000</td>\n",
       "      <td>1476.000000</td>\n",
       "      <td>1515.000000</td>\n",
       "      <td>779.00000</td>\n",
       "      <td>1501.000000</td>\n",
       "      <td>1066.000000</td>\n",
       "      <td>1517.000000</td>\n",
       "      <td>...</td>\n",
       "      <td>347.000000</td>\n",
       "      <td>1518.000000</td>\n",
       "      <td>1518.000000</td>\n",
       "      <td>1427.000000</td>\n",
       "      <td>1440.000000</td>\n",
       "      <td>1440.000000</td>\n",
       "      <td>1440.000000</td>\n",
       "      <td>1160.000000</td>\n",
       "      <td>1501.000000</td>\n",
       "      <td>894.000000</td>\n",
       "    </tr>\n",
       "    <tr>\n",
       "      <th>mean</th>\n",
       "      <td>4.171783</td>\n",
       "      <td>560.90372</td>\n",
       "      <td>14.806851</td>\n",
       "      <td>2.188794</td>\n",
       "      <td>11.467615</td>\n",
       "      <td>6.524752</td>\n",
       "      <td>18.17715</td>\n",
       "      <td>1.175883</td>\n",
       "      <td>2650.045028</td>\n",
       "      <td>704.348715</td>\n",
       "      <td>...</td>\n",
       "      <td>9.245245</td>\n",
       "      <td>1893.907773</td>\n",
       "      <td>1073.760211</td>\n",
       "      <td>5.332866</td>\n",
       "      <td>345.805003</td>\n",
       "      <td>239.548332</td>\n",
       "      <td>20.300042</td>\n",
       "      <td>1.460345</td>\n",
       "      <td>4.669953</td>\n",
       "      <td>1.154362</td>\n",
       "    </tr>\n",
       "    <tr>\n",
       "      <th>std</th>\n",
       "      <td>0.374411</td>\n",
       "      <td>1584.69890</td>\n",
       "      <td>1.136222</td>\n",
       "      <td>0.750673</td>\n",
       "      <td>117.555968</td>\n",
       "      <td>3.877570</td>\n",
       "      <td>10.93587</td>\n",
       "      <td>0.380847</td>\n",
       "      <td>510.773073</td>\n",
       "      <td>343.343033</td>\n",
       "      <td>...</td>\n",
       "      <td>3.295206</td>\n",
       "      <td>370.578648</td>\n",
       "      <td>229.762034</td>\n",
       "      <td>1.879409</td>\n",
       "      <td>27.453901</td>\n",
       "      <td>56.139889</td>\n",
       "      <td>4.120641</td>\n",
       "      <td>0.616271</td>\n",
       "      <td>0.458487</td>\n",
       "      <td>0.408063</td>\n",
       "    </tr>\n",
       "    <tr>\n",
       "      <th>min</th>\n",
       "      <td>3.300000</td>\n",
       "      <td>1.00000</td>\n",
       "      <td>10.100000</td>\n",
       "      <td>1.000000</td>\n",
       "      <td>1.000000</td>\n",
       "      <td>2.000000</td>\n",
       "      <td>4.00000</td>\n",
       "      <td>1.000000</td>\n",
       "      <td>1600.000000</td>\n",
       "      <td>1.000000</td>\n",
       "      <td>...</td>\n",
       "      <td>3.500000</td>\n",
       "      <td>1280.000000</td>\n",
       "      <td>768.000000</td>\n",
       "      <td>2.000000</td>\n",
       "      <td>212.000000</td>\n",
       "      <td>19.280000</td>\n",
       "      <td>7.620000</td>\n",
       "      <td>1.000000</td>\n",
       "      <td>4.000000</td>\n",
       "      <td>1.000000</td>\n",
       "    </tr>\n",
       "    <tr>\n",
       "      <th>25%</th>\n",
       "      <td>4.000000</td>\n",
       "      <td>13.00000</td>\n",
       "      <td>14.000000</td>\n",
       "      <td>1.600000</td>\n",
       "      <td>4.000000</td>\n",
       "      <td>4.000000</td>\n",
       "      <td>8.00000</td>\n",
       "      <td>1.000000</td>\n",
       "      <td>2400.000000</td>\n",
       "      <td>512.000000</td>\n",
       "      <td>...</td>\n",
       "      <td>7.000000</td>\n",
       "      <td>1920.000000</td>\n",
       "      <td>1080.000000</td>\n",
       "      <td>4.000000</td>\n",
       "      <td>324.000000</td>\n",
       "      <td>222.000000</td>\n",
       "      <td>17.900000</td>\n",
       "      <td>1.000000</td>\n",
       "      <td>4.200000</td>\n",
       "      <td>1.000000</td>\n",
       "    </tr>\n",
       "    <tr>\n",
       "      <th>50%</th>\n",
       "      <td>4.200000</td>\n",
       "      <td>81.00000</td>\n",
       "      <td>15.600000</td>\n",
       "      <td>2.200000</td>\n",
       "      <td>6.000000</td>\n",
       "      <td>6.000000</td>\n",
       "      <td>16.00000</td>\n",
       "      <td>1.000000</td>\n",
       "      <td>2666.000000</td>\n",
       "      <td>512.000000</td>\n",
       "      <td>...</td>\n",
       "      <td>9.000000</td>\n",
       "      <td>1920.000000</td>\n",
       "      <td>1080.000000</td>\n",
       "      <td>6.000000</td>\n",
       "      <td>358.000000</td>\n",
       "      <td>241.000000</td>\n",
       "      <td>19.900000</td>\n",
       "      <td>1.000000</td>\n",
       "      <td>5.000000</td>\n",
       "      <td>1.000000</td>\n",
       "    </tr>\n",
       "    <tr>\n",
       "      <th>75%</th>\n",
       "      <td>4.400000</td>\n",
       "      <td>362.75000</td>\n",
       "      <td>15.600000</td>\n",
       "      <td>2.600000</td>\n",
       "      <td>8.000000</td>\n",
       "      <td>8.000000</td>\n",
       "      <td>32.00000</td>\n",
       "      <td>1.000000</td>\n",
       "      <td>3200.000000</td>\n",
       "      <td>1000.000000</td>\n",
       "      <td>...</td>\n",
       "      <td>11.000000</td>\n",
       "      <td>1920.000000</td>\n",
       "      <td>1080.000000</td>\n",
       "      <td>6.000000</td>\n",
       "      <td>362.200000</td>\n",
       "      <td>255.000000</td>\n",
       "      <td>22.900000</td>\n",
       "      <td>2.000000</td>\n",
       "      <td>5.000000</td>\n",
       "      <td>1.000000</td>\n",
       "    </tr>\n",
       "    <tr>\n",
       "      <th>max</th>\n",
       "      <td>5.000000</td>\n",
       "      <td>17698.00000</td>\n",
       "      <td>17.300000</td>\n",
       "      <td>4.800000</td>\n",
       "      <td>3200.000000</td>\n",
       "      <td>32.000000</td>\n",
       "      <td>64.00000</td>\n",
       "      <td>2.000000</td>\n",
       "      <td>4267.000000</td>\n",
       "      <td>2000.000000</td>\n",
       "      <td>...</td>\n",
       "      <td>23.000000</td>\n",
       "      <td>3840.000000</td>\n",
       "      <td>2400.000000</td>\n",
       "      <td>10.000000</td>\n",
       "      <td>490.000000</td>\n",
       "      <td>2111.590000</td>\n",
       "      <td>80.000000</td>\n",
       "      <td>4.000000</td>\n",
       "      <td>6.000000</td>\n",
       "      <td>4.000000</td>\n",
       "    </tr>\n",
       "  </tbody>\n",
       "</table>\n",
       "<p>8 rows × 24 columns</p>\n",
       "</div>"
      ],
      "text/plain": [
       "          Ratings  No_of_ratings  Screen_size(inches)  Processor_speed(GHz)  \\\n",
       "count  847.000000      914.00000          1518.000000           1401.000000   \n",
       "mean     4.171783      560.90372            14.806851              2.188794   \n",
       "std      0.374411     1584.69890             1.136222              0.750673   \n",
       "min      3.300000        1.00000            10.100000              1.000000   \n",
       "25%      4.000000       13.00000            14.000000              1.600000   \n",
       "50%      4.200000       81.00000            15.600000              2.200000   \n",
       "75%      4.400000      362.75000            15.600000              2.600000   \n",
       "max      5.000000    17698.00000            17.300000              4.800000   \n",
       "\n",
       "       Cache_memory(MBs)     RAM(Gig)    RAM_max  Memory_slots  \\\n",
       "count        1476.000000  1515.000000  779.00000   1501.000000   \n",
       "mean           11.467615     6.524752   18.17715      1.175883   \n",
       "std           117.555968     3.877570   10.93587      0.380847   \n",
       "min             1.000000     2.000000    4.00000      1.000000   \n",
       "25%             4.000000     4.000000    8.00000      1.000000   \n",
       "50%             6.000000     6.000000   16.00000      1.000000   \n",
       "75%             8.000000     8.000000   32.00000      1.000000   \n",
       "max          3200.000000    32.000000   64.00000      2.000000   \n",
       "\n",
       "       RAM_speed(MHz)  Harddrive_capacity(Gig)  ...  Battery_life(Hrs)  \\\n",
       "count     1066.000000              1517.000000  ...         347.000000   \n",
       "mean      2650.045028               704.348715  ...           9.245245   \n",
       "std        510.773073               343.343033  ...           3.295206   \n",
       "min       1600.000000                 1.000000  ...           3.500000   \n",
       "25%       2400.000000               512.000000  ...           7.000000   \n",
       "50%       2666.000000               512.000000  ...           9.000000   \n",
       "75%       3200.000000              1000.000000  ...          11.000000   \n",
       "max       4267.000000              2000.000000  ...          23.000000   \n",
       "\n",
       "       Screen_pixel_density(width)  Screen_pixel_density(height)  \\\n",
       "count                  1518.000000                   1518.000000   \n",
       "mean                   1893.907773                   1073.760211   \n",
       "std                     370.578648                    229.762034   \n",
       "min                    1280.000000                    768.000000   \n",
       "25%                    1920.000000                   1080.000000   \n",
       "50%                    1920.000000                   1080.000000   \n",
       "75%                    1920.000000                   1080.000000   \n",
       "max                    3840.000000                   2400.000000   \n",
       "\n",
       "       Processor_cores   Length(mm)    Width(mm)   Height(mm)  USB(2.0)_ports  \\\n",
       "count      1427.000000  1440.000000  1440.000000  1440.000000     1160.000000   \n",
       "mean          5.332866   345.805003   239.548332    20.300042        1.460345   \n",
       "std           1.879409    27.453901    56.139889     4.120641        0.616271   \n",
       "min           2.000000   212.000000    19.280000     7.620000        1.000000   \n",
       "25%           4.000000   324.000000   222.000000    17.900000        1.000000   \n",
       "50%           6.000000   358.000000   241.000000    19.900000        1.000000   \n",
       "75%           6.000000   362.200000   255.000000    22.900000        2.000000   \n",
       "max          10.000000   490.000000  2111.590000    80.000000        4.000000   \n",
       "\n",
       "       Bluetooth_version  USB(typeC)_ports  \n",
       "count        1501.000000        894.000000  \n",
       "mean            4.669953          1.154362  \n",
       "std             0.458487          0.408063  \n",
       "min             4.000000          1.000000  \n",
       "25%             4.200000          1.000000  \n",
       "50%             5.000000          1.000000  \n",
       "75%             5.000000          1.000000  \n",
       "max             6.000000          4.000000  \n",
       "\n",
       "[8 rows x 24 columns]"
      ]
     },
     "execution_count": 95,
     "metadata": {},
     "output_type": "execute_result"
    }
   ],
   "source": [
    "full_data.describe()"
   ]
  },
  {
   "cell_type": "code",
   "execution_count": 96,
   "id": "edb9cc55",
   "metadata": {},
   "outputs": [
    {
     "data": {
      "text/plain": [
       "Index(['Ratings', 'No_of_ratings', 'Brand', 'Operating_system',\n",
       "       'Screen_size(inches)', 'Screen_resolution', 'Display_type',\n",
       "       'Display_features', 'Touchscreen', 'Processor', 'Processor_model',\n",
       "       'Processor_speed(GHz)', 'Cache_memory(MBs)', 'Graphics_processor',\n",
       "       'RAM(Gig)', 'RAM_max', 'Memory_slots', 'RAM_type', 'RAM_speed(MHz)',\n",
       "       'Harddrive_type', 'Harddrive_capacity(Gig)', 'Weight(kg)',\n",
       "       'Dimensions(mm)', 'Colour', 'Warranty', 'Sale_package', 'USB_2.0',\n",
       "       'Wifi', 'Bluetooth', 'Optical_Drive', 'USB_typeC', 'Multimedia_input',\n",
       "       'Adapter(watts)', 'Battery_cells', 'Battery_type', 'Battery_life(Hrs)',\n",
       "       'Pointing_device', 'Keyboard', 'Fingerprint',\n",
       "       'Screen_pixel_density(width)', 'Screen_pixel_density(height)',\n",
       "       'Processor_brand', 'Processor_cores', 'Graphics_brand', 'Length(mm)',\n",
       "       'Width(mm)', 'Height(mm)', 'USB(2.0)', 'USB(2.0)_ports', 'Bluetooth_',\n",
       "       'Bluetooth_version', 'USB(typeC)', 'USB(typeC)_ports',\n",
       "       'Keyboard_backlit'],\n",
       "      dtype='object')"
      ]
     },
     "execution_count": 96,
     "metadata": {},
     "output_type": "execute_result"
    }
   ],
   "source": [
    "full_data.columns"
   ]
  },
  {
   "cell_type": "code",
   "execution_count": 97,
   "id": "57bcbf60",
   "metadata": {},
   "outputs": [],
   "source": [
    "#Removing irrelevent features and features with less variability\n",
    "\n",
    "final_data = full_data.drop(['Screen_resolution','Processor','Graphics_processor','Dimensions(mm)','USB_2.0','Bluetooth',\n",
    "                            'USB_typeC','Display_features','Processor_model','RAM_type','Colour','Sale_package','Wifi',\n",
    "                            'Multimedia_input','Pointing_device','Keyboard'],axis=1)"
   ]
  },
  {
   "cell_type": "code",
   "execution_count": 98,
   "id": "3faef309",
   "metadata": {},
   "outputs": [
    {
     "data": {
      "text/plain": [
       "Index(['Ratings', 'No_of_ratings', 'Brand', 'Operating_system',\n",
       "       'Screen_size(inches)', 'Display_type', 'Touchscreen',\n",
       "       'Processor_speed(GHz)', 'Cache_memory(MBs)', 'RAM(Gig)', 'RAM_max',\n",
       "       'Memory_slots', 'RAM_speed(MHz)', 'Harddrive_type',\n",
       "       'Harddrive_capacity(Gig)', 'Weight(kg)', 'Warranty', 'Optical_Drive',\n",
       "       'Adapter(watts)', 'Battery_cells', 'Battery_type', 'Battery_life(Hrs)',\n",
       "       'Fingerprint', 'Screen_pixel_density(width)',\n",
       "       'Screen_pixel_density(height)', 'Processor_brand', 'Processor_cores',\n",
       "       'Graphics_brand', 'Length(mm)', 'Width(mm)', 'Height(mm)', 'USB(2.0)',\n",
       "       'USB(2.0)_ports', 'Bluetooth_', 'Bluetooth_version', 'USB(typeC)',\n",
       "       'USB(typeC)_ports', 'Keyboard_backlit'],\n",
       "      dtype='object')"
      ]
     },
     "execution_count": 98,
     "metadata": {},
     "output_type": "execute_result"
    }
   ],
   "source": [
    "final_data.columns"
   ]
  },
  {
   "cell_type": "code",
   "execution_count": 99,
   "id": "7dfe1079",
   "metadata": {},
   "outputs": [
    {
     "data": {
      "text/plain": [
       "array(['HP', 'Lenovo', 'Asus', 'Dell', 'MSI', 'Acer', 'Xiaomi', 'Avita',\n",
       "       'iBall', 'Microsoft', 'Apple', 'Realme', 'Lava', 'Razer', 'RDP',\n",
       "       'Nokia', 'Samsung', 'Micromax', 'LG', 'Vaio', 'Fujitsu', 'Huawei',\n",
       "       'Nexstgo'], dtype=object)"
      ]
     },
     "execution_count": 99,
     "metadata": {},
     "output_type": "execute_result"
    }
   ],
   "source": [
    "final_data['Brand'].unique()"
   ]
  },
  {
   "cell_type": "code",
   "execution_count": 100,
   "id": "848099ba",
   "metadata": {},
   "outputs": [],
   "source": [
    "brand = ['HP', 'Lenovo', 'Asus', 'Dell', 'MSI', 'Acer', 'Xiaomi', 'Avita',\n",
    "       'iBall', 'Microsoft', 'Apple', 'Realme', 'Lava', 'Razer', 'RDP',\n",
    "       'Nokia', 'Samsung', 'Micromax', 'LG', 'Vaio', 'Fujitsu', 'Huawei',\n",
    "       'Nexstgo']"
   ]
  },
  {
   "cell_type": "code",
   "execution_count": 101,
   "id": "c232881f",
   "metadata": {},
   "outputs": [
    {
     "name": "stdout",
     "output_type": "stream",
     "text": [
      "HP has 288 datapoints.\n",
      "Lenovo has 385 datapoints.\n",
      "Asus has 404 datapoints.\n",
      "Dell has 122 datapoints.\n",
      "MSI has 71 datapoints.\n",
      "Acer has 150 datapoints.\n",
      "Xiaomi has 6 datapoints.\n",
      "Avita has 14 datapoints.\n",
      "iBall has 3 datapoints.\n",
      "Microsoft has 20 datapoints.\n",
      "Apple has 16 datapoints.\n",
      "Realme has 3 datapoints.\n",
      "Lava has 2 datapoints.\n",
      "Razer has 4 datapoints.\n",
      "RDP has 1 datapoints.\n",
      "Nokia has 1 datapoints.\n",
      "Samsung has 10 datapoints.\n",
      "Micromax has 2 datapoints.\n",
      "LG has 3 datapoints.\n",
      "Vaio has 2 datapoints.\n",
      "Fujitsu has 6 datapoints.\n",
      "Huawei has 4 datapoints.\n",
      "Nexstgo has 1 datapoints.\n"
     ]
    }
   ],
   "source": [
    "#checking if we have a balanced dataset or not\n",
    "for i in brand:\n",
    "    rows = final_data[final_data['Brand']== i].shape[0]\n",
    "    print(f'{i} has {rows} datapoints.')"
   ]
  },
  {
   "cell_type": "code",
   "execution_count": 102,
   "id": "2f32834d",
   "metadata": {},
   "outputs": [],
   "source": [
    "#Due to lack of data, I will remove the brands with less than 10 datapoints as it will reduce our model's accuracy\n",
    "for i in brand:\n",
    "    rows = final_data[final_data['Brand']== i].shape[0]\n",
    "    if rows < 10:\n",
    "        final_data.drop(index=final_data[final_data['Brand'] == i].index, inplace=True)"
   ]
  },
  {
   "cell_type": "code",
   "execution_count": 103,
   "id": "3ba9651a",
   "metadata": {},
   "outputs": [
    {
     "data": {
      "text/plain": [
       "array(['HP', 'Lenovo', 'Asus', 'Dell', 'MSI', 'Acer', 'Avita',\n",
       "       'Microsoft', 'Apple', 'Samsung'], dtype=object)"
      ]
     },
     "execution_count": 103,
     "metadata": {},
     "output_type": "execute_result"
    }
   ],
   "source": [
    "final_data['Brand'].unique()"
   ]
  },
  {
   "cell_type": "code",
   "execution_count": 104,
   "id": "65faadbc",
   "metadata": {},
   "outputs": [
    {
     "data": {
      "text/html": [
       "<div>\n",
       "<style scoped>\n",
       "    .dataframe tbody tr th:only-of-type {\n",
       "        vertical-align: middle;\n",
       "    }\n",
       "\n",
       "    .dataframe tbody tr th {\n",
       "        vertical-align: top;\n",
       "    }\n",
       "\n",
       "    .dataframe thead th {\n",
       "        text-align: right;\n",
       "    }\n",
       "</style>\n",
       "<table border=\"1\" class=\"dataframe\">\n",
       "  <thead>\n",
       "    <tr style=\"text-align: right;\">\n",
       "      <th></th>\n",
       "      <th>Ratings</th>\n",
       "      <th>No_of_ratings</th>\n",
       "      <th>Screen_size(inches)</th>\n",
       "      <th>Processor_speed(GHz)</th>\n",
       "      <th>Cache_memory(MBs)</th>\n",
       "      <th>RAM(Gig)</th>\n",
       "      <th>RAM_max</th>\n",
       "      <th>Memory_slots</th>\n",
       "      <th>RAM_speed(MHz)</th>\n",
       "      <th>Harddrive_capacity(Gig)</th>\n",
       "      <th>...</th>\n",
       "      <th>Battery_life(Hrs)</th>\n",
       "      <th>Screen_pixel_density(width)</th>\n",
       "      <th>Screen_pixel_density(height)</th>\n",
       "      <th>Processor_cores</th>\n",
       "      <th>Length(mm)</th>\n",
       "      <th>Width(mm)</th>\n",
       "      <th>Height(mm)</th>\n",
       "      <th>USB(2.0)_ports</th>\n",
       "      <th>Bluetooth_version</th>\n",
       "      <th>USB(typeC)_ports</th>\n",
       "    </tr>\n",
       "  </thead>\n",
       "  <tbody>\n",
       "    <tr>\n",
       "      <th>count</th>\n",
       "      <td>828.000000</td>\n",
       "      <td>893.000000</td>\n",
       "      <td>1480.000000</td>\n",
       "      <td>1366.000000</td>\n",
       "      <td>1438.000000</td>\n",
       "      <td>1477.000000</td>\n",
       "      <td>766.000000</td>\n",
       "      <td>1466.000000</td>\n",
       "      <td>1038.000000</td>\n",
       "      <td>1479.000000</td>\n",
       "      <td>...</td>\n",
       "      <td>332.000000</td>\n",
       "      <td>1480.000000</td>\n",
       "      <td>1480.000000</td>\n",
       "      <td>1391.000000</td>\n",
       "      <td>1404.000000</td>\n",
       "      <td>1404.000000</td>\n",
       "      <td>1404.000000</td>\n",
       "      <td>1131.000000</td>\n",
       "      <td>1463.000000</td>\n",
       "      <td>869.000000</td>\n",
       "    </tr>\n",
       "    <tr>\n",
       "      <th>mean</th>\n",
       "      <td>4.172705</td>\n",
       "      <td>554.100784</td>\n",
       "      <td>14.833716</td>\n",
       "      <td>2.197657</td>\n",
       "      <td>11.603060</td>\n",
       "      <td>6.509817</td>\n",
       "      <td>18.015666</td>\n",
       "      <td>1.180082</td>\n",
       "      <td>2646.265896</td>\n",
       "      <td>712.763354</td>\n",
       "      <td>...</td>\n",
       "      <td>9.162952</td>\n",
       "      <td>1891.483784</td>\n",
       "      <td>1071.270270</td>\n",
       "      <td>5.329978</td>\n",
       "      <td>346.429561</td>\n",
       "      <td>239.773075</td>\n",
       "      <td>20.379103</td>\n",
       "      <td>1.463307</td>\n",
       "      <td>4.668148</td>\n",
       "      <td>1.143843</td>\n",
       "    </tr>\n",
       "    <tr>\n",
       "      <th>std</th>\n",
       "      <td>0.375365</td>\n",
       "      <td>1587.340834</td>\n",
       "      <td>1.122596</td>\n",
       "      <td>0.753401</td>\n",
       "      <td>119.096384</td>\n",
       "      <td>3.855372</td>\n",
       "      <td>10.603231</td>\n",
       "      <td>0.384387</td>\n",
       "      <td>494.395986</td>\n",
       "      <td>341.479250</td>\n",
       "      <td>...</td>\n",
       "      <td>3.307985</td>\n",
       "      <td>367.362779</td>\n",
       "      <td>226.265773</td>\n",
       "      <td>1.890442</td>\n",
       "      <td>27.246587</td>\n",
       "      <td>56.480447</td>\n",
       "      <td>4.114890</td>\n",
       "      <td>0.614880</td>\n",
       "      <td>0.458359</td>\n",
       "      <td>0.400201</td>\n",
       "    </tr>\n",
       "    <tr>\n",
       "      <th>min</th>\n",
       "      <td>3.300000</td>\n",
       "      <td>1.000000</td>\n",
       "      <td>10.100000</td>\n",
       "      <td>1.000000</td>\n",
       "      <td>1.000000</td>\n",
       "      <td>2.000000</td>\n",
       "      <td>4.000000</td>\n",
       "      <td>1.000000</td>\n",
       "      <td>1600.000000</td>\n",
       "      <td>1.000000</td>\n",
       "      <td>...</td>\n",
       "      <td>3.500000</td>\n",
       "      <td>1280.000000</td>\n",
       "      <td>768.000000</td>\n",
       "      <td>2.000000</td>\n",
       "      <td>212.000000</td>\n",
       "      <td>19.280000</td>\n",
       "      <td>7.620000</td>\n",
       "      <td>1.000000</td>\n",
       "      <td>4.000000</td>\n",
       "      <td>1.000000</td>\n",
       "    </tr>\n",
       "    <tr>\n",
       "      <th>25%</th>\n",
       "      <td>4.000000</td>\n",
       "      <td>13.000000</td>\n",
       "      <td>14.000000</td>\n",
       "      <td>1.600000</td>\n",
       "      <td>4.000000</td>\n",
       "      <td>4.000000</td>\n",
       "      <td>8.000000</td>\n",
       "      <td>1.000000</td>\n",
       "      <td>2400.000000</td>\n",
       "      <td>512.000000</td>\n",
       "      <td>...</td>\n",
       "      <td>6.700000</td>\n",
       "      <td>1920.000000</td>\n",
       "      <td>1080.000000</td>\n",
       "      <td>4.000000</td>\n",
       "      <td>324.000000</td>\n",
       "      <td>222.000000</td>\n",
       "      <td>17.900000</td>\n",
       "      <td>1.000000</td>\n",
       "      <td>4.200000</td>\n",
       "      <td>1.000000</td>\n",
       "    </tr>\n",
       "    <tr>\n",
       "      <th>50%</th>\n",
       "      <td>4.200000</td>\n",
       "      <td>79.000000</td>\n",
       "      <td>15.600000</td>\n",
       "      <td>2.300000</td>\n",
       "      <td>6.000000</td>\n",
       "      <td>6.000000</td>\n",
       "      <td>16.000000</td>\n",
       "      <td>1.000000</td>\n",
       "      <td>2666.000000</td>\n",
       "      <td>512.000000</td>\n",
       "      <td>...</td>\n",
       "      <td>9.000000</td>\n",
       "      <td>1920.000000</td>\n",
       "      <td>1080.000000</td>\n",
       "      <td>6.000000</td>\n",
       "      <td>358.500000</td>\n",
       "      <td>241.000000</td>\n",
       "      <td>19.900000</td>\n",
       "      <td>1.000000</td>\n",
       "      <td>5.000000</td>\n",
       "      <td>1.000000</td>\n",
       "    </tr>\n",
       "    <tr>\n",
       "      <th>75%</th>\n",
       "      <td>4.400000</td>\n",
       "      <td>350.000000</td>\n",
       "      <td>15.600000</td>\n",
       "      <td>2.600000</td>\n",
       "      <td>8.000000</td>\n",
       "      <td>8.000000</td>\n",
       "      <td>32.000000</td>\n",
       "      <td>1.000000</td>\n",
       "      <td>3133.250000</td>\n",
       "      <td>1000.000000</td>\n",
       "      <td>...</td>\n",
       "      <td>10.850000</td>\n",
       "      <td>1920.000000</td>\n",
       "      <td>1080.000000</td>\n",
       "      <td>6.000000</td>\n",
       "      <td>362.400000</td>\n",
       "      <td>255.000000</td>\n",
       "      <td>22.900000</td>\n",
       "      <td>2.000000</td>\n",
       "      <td>5.000000</td>\n",
       "      <td>1.000000</td>\n",
       "    </tr>\n",
       "    <tr>\n",
       "      <th>max</th>\n",
       "      <td>5.000000</td>\n",
       "      <td>17698.000000</td>\n",
       "      <td>17.300000</td>\n",
       "      <td>4.800000</td>\n",
       "      <td>3200.000000</td>\n",
       "      <td>32.000000</td>\n",
       "      <td>64.000000</td>\n",
       "      <td>2.000000</td>\n",
       "      <td>4267.000000</td>\n",
       "      <td>2000.000000</td>\n",
       "      <td>...</td>\n",
       "      <td>23.000000</td>\n",
       "      <td>3840.000000</td>\n",
       "      <td>2400.000000</td>\n",
       "      <td>10.000000</td>\n",
       "      <td>490.000000</td>\n",
       "      <td>2111.590000</td>\n",
       "      <td>80.000000</td>\n",
       "      <td>4.000000</td>\n",
       "      <td>6.000000</td>\n",
       "      <td>4.000000</td>\n",
       "    </tr>\n",
       "  </tbody>\n",
       "</table>\n",
       "<p>8 rows × 24 columns</p>\n",
       "</div>"
      ],
      "text/plain": [
       "          Ratings  No_of_ratings  Screen_size(inches)  Processor_speed(GHz)  \\\n",
       "count  828.000000     893.000000          1480.000000           1366.000000   \n",
       "mean     4.172705     554.100784            14.833716              2.197657   \n",
       "std      0.375365    1587.340834             1.122596              0.753401   \n",
       "min      3.300000       1.000000            10.100000              1.000000   \n",
       "25%      4.000000      13.000000            14.000000              1.600000   \n",
       "50%      4.200000      79.000000            15.600000              2.300000   \n",
       "75%      4.400000     350.000000            15.600000              2.600000   \n",
       "max      5.000000   17698.000000            17.300000              4.800000   \n",
       "\n",
       "       Cache_memory(MBs)     RAM(Gig)     RAM_max  Memory_slots  \\\n",
       "count        1438.000000  1477.000000  766.000000   1466.000000   \n",
       "mean           11.603060     6.509817   18.015666      1.180082   \n",
       "std           119.096384     3.855372   10.603231      0.384387   \n",
       "min             1.000000     2.000000    4.000000      1.000000   \n",
       "25%             4.000000     4.000000    8.000000      1.000000   \n",
       "50%             6.000000     6.000000   16.000000      1.000000   \n",
       "75%             8.000000     8.000000   32.000000      1.000000   \n",
       "max          3200.000000    32.000000   64.000000      2.000000   \n",
       "\n",
       "       RAM_speed(MHz)  Harddrive_capacity(Gig)  ...  Battery_life(Hrs)  \\\n",
       "count     1038.000000              1479.000000  ...         332.000000   \n",
       "mean      2646.265896               712.763354  ...           9.162952   \n",
       "std        494.395986               341.479250  ...           3.307985   \n",
       "min       1600.000000                 1.000000  ...           3.500000   \n",
       "25%       2400.000000               512.000000  ...           6.700000   \n",
       "50%       2666.000000               512.000000  ...           9.000000   \n",
       "75%       3133.250000              1000.000000  ...          10.850000   \n",
       "max       4267.000000              2000.000000  ...          23.000000   \n",
       "\n",
       "       Screen_pixel_density(width)  Screen_pixel_density(height)  \\\n",
       "count                  1480.000000                   1480.000000   \n",
       "mean                   1891.483784                   1071.270270   \n",
       "std                     367.362779                    226.265773   \n",
       "min                    1280.000000                    768.000000   \n",
       "25%                    1920.000000                   1080.000000   \n",
       "50%                    1920.000000                   1080.000000   \n",
       "75%                    1920.000000                   1080.000000   \n",
       "max                    3840.000000                   2400.000000   \n",
       "\n",
       "       Processor_cores   Length(mm)    Width(mm)   Height(mm)  USB(2.0)_ports  \\\n",
       "count      1391.000000  1404.000000  1404.000000  1404.000000     1131.000000   \n",
       "mean          5.329978   346.429561   239.773075    20.379103        1.463307   \n",
       "std           1.890442    27.246587    56.480447     4.114890        0.614880   \n",
       "min           2.000000   212.000000    19.280000     7.620000        1.000000   \n",
       "25%           4.000000   324.000000   222.000000    17.900000        1.000000   \n",
       "50%           6.000000   358.500000   241.000000    19.900000        1.000000   \n",
       "75%           6.000000   362.400000   255.000000    22.900000        2.000000   \n",
       "max          10.000000   490.000000  2111.590000    80.000000        4.000000   \n",
       "\n",
       "       Bluetooth_version  USB(typeC)_ports  \n",
       "count        1463.000000        869.000000  \n",
       "mean            4.668148          1.143843  \n",
       "std             0.458359          0.400201  \n",
       "min             4.000000          1.000000  \n",
       "25%             4.200000          1.000000  \n",
       "50%             5.000000          1.000000  \n",
       "75%             5.000000          1.000000  \n",
       "max             6.000000          4.000000  \n",
       "\n",
       "[8 rows x 24 columns]"
      ]
     },
     "execution_count": 104,
     "metadata": {},
     "output_type": "execute_result"
    }
   ],
   "source": [
    "final_data.describe()"
   ]
  },
  {
   "cell_type": "code",
   "execution_count": 105,
   "id": "11b454a2",
   "metadata": {},
   "outputs": [],
   "source": [
    "##splitting the data to train test split before further data preprocessing to avoid data leakage\n",
    "# will create a holdout set\n",
    "from sklearn.model_selection import train_test_split"
   ]
  },
  {
   "cell_type": "code",
   "execution_count": 106,
   "id": "82c20288",
   "metadata": {},
   "outputs": [],
   "source": [
    "x=final_data.drop('Brand',axis=1)\n",
    "y=final_data['Brand']"
   ]
  },
  {
   "cell_type": "code",
   "execution_count": 107,
   "id": "e08714c3",
   "metadata": {},
   "outputs": [],
   "source": [
    "x_train, x_test, y_train, y_test = train_test_split(x, y, test_size=0.3, random_state=42, stratify = y)"
   ]
  },
  {
   "cell_type": "code",
   "execution_count": 108,
   "id": "c43ec8c4",
   "metadata": {},
   "outputs": [
    {
     "data": {
      "text/html": [
       "<div>\n",
       "<style scoped>\n",
       "    .dataframe tbody tr th:only-of-type {\n",
       "        vertical-align: middle;\n",
       "    }\n",
       "\n",
       "    .dataframe tbody tr th {\n",
       "        vertical-align: top;\n",
       "    }\n",
       "\n",
       "    .dataframe thead th {\n",
       "        text-align: right;\n",
       "    }\n",
       "</style>\n",
       "<table border=\"1\" class=\"dataframe\">\n",
       "  <thead>\n",
       "    <tr style=\"text-align: right;\">\n",
       "      <th></th>\n",
       "      <th>Ratings</th>\n",
       "      <th>No_of_ratings</th>\n",
       "      <th>Operating_system</th>\n",
       "      <th>Screen_size(inches)</th>\n",
       "      <th>Display_type</th>\n",
       "      <th>Touchscreen</th>\n",
       "      <th>Processor_speed(GHz)</th>\n",
       "      <th>Cache_memory(MBs)</th>\n",
       "      <th>RAM(Gig)</th>\n",
       "      <th>RAM_max</th>\n",
       "      <th>...</th>\n",
       "      <th>Width(mm)</th>\n",
       "      <th>Height(mm)</th>\n",
       "      <th>USB(2.0)</th>\n",
       "      <th>USB(2.0)_ports</th>\n",
       "      <th>Bluetooth_</th>\n",
       "      <th>Bluetooth_version</th>\n",
       "      <th>USB(typeC)</th>\n",
       "      <th>USB(typeC)_ports</th>\n",
       "      <th>Keyboard_backlit</th>\n",
       "      <th>Brand</th>\n",
       "    </tr>\n",
       "  </thead>\n",
       "  <tbody>\n",
       "    <tr>\n",
       "      <th>0</th>\n",
       "      <td>NaN</td>\n",
       "      <td>NaN</td>\n",
       "      <td>Windows</td>\n",
       "      <td>15.6</td>\n",
       "      <td>LED</td>\n",
       "      <td>No</td>\n",
       "      <td>1.1</td>\n",
       "      <td>4.0</td>\n",
       "      <td>4.0</td>\n",
       "      <td>NaN</td>\n",
       "      <td>...</td>\n",
       "      <td>253.40</td>\n",
       "      <td>19.9</td>\n",
       "      <td>Yes</td>\n",
       "      <td>1.0</td>\n",
       "      <td>Yes</td>\n",
       "      <td>5.0</td>\n",
       "      <td>nan</td>\n",
       "      <td>NaN</td>\n",
       "      <td>None</td>\n",
       "      <td>Lenovo</td>\n",
       "    </tr>\n",
       "    <tr>\n",
       "      <th>1</th>\n",
       "      <td>NaN</td>\n",
       "      <td>NaN</td>\n",
       "      <td>Windows</td>\n",
       "      <td>14.0</td>\n",
       "      <td>LED</td>\n",
       "      <td>No</td>\n",
       "      <td>1.6</td>\n",
       "      <td>6.0</td>\n",
       "      <td>16.0</td>\n",
       "      <td>NaN</td>\n",
       "      <td>...</td>\n",
       "      <td>227.00</td>\n",
       "      <td>18.0</td>\n",
       "      <td>nan</td>\n",
       "      <td>NaN</td>\n",
       "      <td>Yes</td>\n",
       "      <td>5.0</td>\n",
       "      <td>Yes</td>\n",
       "      <td>2.0</td>\n",
       "      <td>None</td>\n",
       "      <td>Lenovo</td>\n",
       "    </tr>\n",
       "    <tr>\n",
       "      <th>2</th>\n",
       "      <td>NaN</td>\n",
       "      <td>NaN</td>\n",
       "      <td>Windows</td>\n",
       "      <td>13.3</td>\n",
       "      <td>LED</td>\n",
       "      <td>No</td>\n",
       "      <td>1.3</td>\n",
       "      <td>4.0</td>\n",
       "      <td>8.0</td>\n",
       "      <td>NaN</td>\n",
       "      <td>...</td>\n",
       "      <td>229.61</td>\n",
       "      <td>9.9</td>\n",
       "      <td>Yes</td>\n",
       "      <td>2.0</td>\n",
       "      <td>Yes</td>\n",
       "      <td>4.1</td>\n",
       "      <td>No</td>\n",
       "      <td>NaN</td>\n",
       "      <td>None</td>\n",
       "      <td>Acer</td>\n",
       "    </tr>\n",
       "    <tr>\n",
       "      <th>3</th>\n",
       "      <td>NaN</td>\n",
       "      <td>NaN</td>\n",
       "      <td>Windows</td>\n",
       "      <td>14.0</td>\n",
       "      <td>LED</td>\n",
       "      <td>No</td>\n",
       "      <td>1.6</td>\n",
       "      <td>6.0</td>\n",
       "      <td>2.0</td>\n",
       "      <td>16.0</td>\n",
       "      <td>...</td>\n",
       "      <td>NaN</td>\n",
       "      <td>NaN</td>\n",
       "      <td>Yes</td>\n",
       "      <td>1.0</td>\n",
       "      <td>Yes</td>\n",
       "      <td>4.1</td>\n",
       "      <td>No</td>\n",
       "      <td>NaN</td>\n",
       "      <td>None</td>\n",
       "      <td>Lenovo</td>\n",
       "    </tr>\n",
       "    <tr>\n",
       "      <th>4</th>\n",
       "      <td>4.5</td>\n",
       "      <td>1977.0</td>\n",
       "      <td>Windows</td>\n",
       "      <td>14.0</td>\n",
       "      <td>LED</td>\n",
       "      <td>No</td>\n",
       "      <td>2.1</td>\n",
       "      <td>6.0</td>\n",
       "      <td>8.0</td>\n",
       "      <td>NaN</td>\n",
       "      <td>...</td>\n",
       "      <td>225.00</td>\n",
       "      <td>19.9</td>\n",
       "      <td>nan</td>\n",
       "      <td>NaN</td>\n",
       "      <td>Yes</td>\n",
       "      <td>4.2</td>\n",
       "      <td>Yes</td>\n",
       "      <td>1.0</td>\n",
       "      <td>None</td>\n",
       "      <td>HP</td>\n",
       "    </tr>\n",
       "  </tbody>\n",
       "</table>\n",
       "<p>5 rows × 38 columns</p>\n",
       "</div>"
      ],
      "text/plain": [
       "   Ratings  No_of_ratings Operating_system  Screen_size(inches) Display_type  \\\n",
       "0      NaN            NaN          Windows                 15.6         LED    \n",
       "1      NaN            NaN          Windows                 14.0         LED    \n",
       "2      NaN            NaN          Windows                 13.3         LED    \n",
       "3      NaN            NaN          Windows                 14.0         LED    \n",
       "4      4.5         1977.0          Windows                 14.0         LED    \n",
       "\n",
       "  Touchscreen  Processor_speed(GHz)  Cache_memory(MBs)  RAM(Gig)  RAM_max  \\\n",
       "0         No                    1.1                4.0       4.0      NaN   \n",
       "1         No                    1.6                6.0      16.0      NaN   \n",
       "2         No                    1.3                4.0       8.0      NaN   \n",
       "3         No                    1.6                6.0       2.0     16.0   \n",
       "4         No                    2.1                6.0       8.0      NaN   \n",
       "\n",
       "   ...  Width(mm)  Height(mm) USB(2.0)  USB(2.0)_ports  Bluetooth_  \\\n",
       "0  ...     253.40        19.9      Yes             1.0         Yes   \n",
       "1  ...     227.00        18.0      nan             NaN         Yes   \n",
       "2  ...     229.61         9.9      Yes             2.0         Yes   \n",
       "3  ...        NaN         NaN      Yes             1.0         Yes   \n",
       "4  ...     225.00        19.9      nan             NaN         Yes   \n",
       "\n",
       "   Bluetooth_version USB(typeC)  USB(typeC)_ports  Keyboard_backlit   Brand  \n",
       "0                5.0        nan               NaN              None  Lenovo  \n",
       "1                5.0        Yes               2.0              None  Lenovo  \n",
       "2                4.1         No               NaN              None    Acer  \n",
       "3                4.1         No               NaN              None  Lenovo  \n",
       "4                4.2        Yes               1.0              None      HP  \n",
       "\n",
       "[5 rows x 38 columns]"
      ]
     },
     "execution_count": 108,
     "metadata": {},
     "output_type": "execute_result"
    }
   ],
   "source": [
    "#Joining x-train and y_train\n",
    "Train_data = (x_train.join(y_train)).reset_index(drop=True)\n",
    "Train_data.head()"
   ]
  },
  {
   "cell_type": "code",
   "execution_count": 109,
   "id": "83c65aa3",
   "metadata": {},
   "outputs": [
    {
     "data": {
      "text/html": [
       "<div>\n",
       "<style scoped>\n",
       "    .dataframe tbody tr th:only-of-type {\n",
       "        vertical-align: middle;\n",
       "    }\n",
       "\n",
       "    .dataframe tbody tr th {\n",
       "        vertical-align: top;\n",
       "    }\n",
       "\n",
       "    .dataframe thead th {\n",
       "        text-align: right;\n",
       "    }\n",
       "</style>\n",
       "<table border=\"1\" class=\"dataframe\">\n",
       "  <thead>\n",
       "    <tr style=\"text-align: right;\">\n",
       "      <th></th>\n",
       "      <th>Ratings</th>\n",
       "      <th>No_of_ratings</th>\n",
       "      <th>Operating_system</th>\n",
       "      <th>Screen_size(inches)</th>\n",
       "      <th>Display_type</th>\n",
       "      <th>Touchscreen</th>\n",
       "      <th>Processor_speed(GHz)</th>\n",
       "      <th>Cache_memory(MBs)</th>\n",
       "      <th>RAM(Gig)</th>\n",
       "      <th>RAM_max</th>\n",
       "      <th>...</th>\n",
       "      <th>Width(mm)</th>\n",
       "      <th>Height(mm)</th>\n",
       "      <th>USB(2.0)</th>\n",
       "      <th>USB(2.0)_ports</th>\n",
       "      <th>Bluetooth_</th>\n",
       "      <th>Bluetooth_version</th>\n",
       "      <th>USB(typeC)</th>\n",
       "      <th>USB(typeC)_ports</th>\n",
       "      <th>Keyboard_backlit</th>\n",
       "      <th>Brand</th>\n",
       "    </tr>\n",
       "  </thead>\n",
       "  <tbody>\n",
       "    <tr>\n",
       "      <th>0</th>\n",
       "      <td>4.1</td>\n",
       "      <td>31.0</td>\n",
       "      <td>Windows</td>\n",
       "      <td>14.0</td>\n",
       "      <td>LED</td>\n",
       "      <td>No</td>\n",
       "      <td>2.2</td>\n",
       "      <td>4.0</td>\n",
       "      <td>4.0</td>\n",
       "      <td>NaN</td>\n",
       "      <td>...</td>\n",
       "      <td>234.0</td>\n",
       "      <td>18.9</td>\n",
       "      <td>Yes</td>\n",
       "      <td>2.0</td>\n",
       "      <td>Yes</td>\n",
       "      <td>4.1</td>\n",
       "      <td>Yes</td>\n",
       "      <td>1.0</td>\n",
       "      <td>None</td>\n",
       "      <td>Lenovo</td>\n",
       "    </tr>\n",
       "    <tr>\n",
       "      <th>1</th>\n",
       "      <td>4.3</td>\n",
       "      <td>32.0</td>\n",
       "      <td>Windows</td>\n",
       "      <td>15.6</td>\n",
       "      <td>LED</td>\n",
       "      <td>No</td>\n",
       "      <td>4.2</td>\n",
       "      <td>NaN</td>\n",
       "      <td>8.0</td>\n",
       "      <td>NaN</td>\n",
       "      <td>...</td>\n",
       "      <td>238.0</td>\n",
       "      <td>17.9</td>\n",
       "      <td>Yes</td>\n",
       "      <td>1.0</td>\n",
       "      <td>Yes</td>\n",
       "      <td>5.0</td>\n",
       "      <td>Yes</td>\n",
       "      <td>1.0</td>\n",
       "      <td>yes</td>\n",
       "      <td>Acer</td>\n",
       "    </tr>\n",
       "    <tr>\n",
       "      <th>2</th>\n",
       "      <td>3.8</td>\n",
       "      <td>3.0</td>\n",
       "      <td>Windows</td>\n",
       "      <td>14.0</td>\n",
       "      <td>LED</td>\n",
       "      <td>Yes</td>\n",
       "      <td>3.0</td>\n",
       "      <td>8.0</td>\n",
       "      <td>16.0</td>\n",
       "      <td>NaN</td>\n",
       "      <td>...</td>\n",
       "      <td>216.4</td>\n",
       "      <td>16.5</td>\n",
       "      <td>nan</td>\n",
       "      <td>NaN</td>\n",
       "      <td>Yes</td>\n",
       "      <td>5.1</td>\n",
       "      <td>Yes</td>\n",
       "      <td>2.0</td>\n",
       "      <td>yes</td>\n",
       "      <td>Lenovo</td>\n",
       "    </tr>\n",
       "    <tr>\n",
       "      <th>3</th>\n",
       "      <td>NaN</td>\n",
       "      <td>NaN</td>\n",
       "      <td>Windows</td>\n",
       "      <td>15.6</td>\n",
       "      <td>LED</td>\n",
       "      <td>No</td>\n",
       "      <td>NaN</td>\n",
       "      <td>4.0</td>\n",
       "      <td>6.0</td>\n",
       "      <td>16.0</td>\n",
       "      <td>...</td>\n",
       "      <td>NaN</td>\n",
       "      <td>NaN</td>\n",
       "      <td>nan</td>\n",
       "      <td>NaN</td>\n",
       "      <td>Yes</td>\n",
       "      <td>5.1</td>\n",
       "      <td>Yes</td>\n",
       "      <td>2.0</td>\n",
       "      <td>yes</td>\n",
       "      <td>Lenovo</td>\n",
       "    </tr>\n",
       "    <tr>\n",
       "      <th>4</th>\n",
       "      <td>4.0</td>\n",
       "      <td>66.0</td>\n",
       "      <td>Windows</td>\n",
       "      <td>14.0</td>\n",
       "      <td>LED</td>\n",
       "      <td>No</td>\n",
       "      <td>4.0</td>\n",
       "      <td>6.0</td>\n",
       "      <td>4.0</td>\n",
       "      <td>NaN</td>\n",
       "      <td>...</td>\n",
       "      <td>222.0</td>\n",
       "      <td>19.0</td>\n",
       "      <td>nan</td>\n",
       "      <td>NaN</td>\n",
       "      <td>Yes</td>\n",
       "      <td>5.0</td>\n",
       "      <td>Yes</td>\n",
       "      <td>1.0</td>\n",
       "      <td>yes</td>\n",
       "      <td>Dell</td>\n",
       "    </tr>\n",
       "  </tbody>\n",
       "</table>\n",
       "<p>5 rows × 38 columns</p>\n",
       "</div>"
      ],
      "text/plain": [
       "   Ratings  No_of_ratings Operating_system  Screen_size(inches) Display_type  \\\n",
       "0      4.1           31.0          Windows                 14.0         LED    \n",
       "1      4.3           32.0          Windows                 15.6         LED    \n",
       "2      3.8            3.0          Windows                 14.0         LED    \n",
       "3      NaN            NaN          Windows                 15.6         LED    \n",
       "4      4.0           66.0          Windows                 14.0         LED    \n",
       "\n",
       "  Touchscreen  Processor_speed(GHz)  Cache_memory(MBs)  RAM(Gig)  RAM_max  \\\n",
       "0         No                    2.2                4.0       4.0      NaN   \n",
       "1         No                    4.2                NaN       8.0      NaN   \n",
       "2        Yes                    3.0                8.0      16.0      NaN   \n",
       "3         No                    NaN                4.0       6.0     16.0   \n",
       "4         No                    4.0                6.0       4.0      NaN   \n",
       "\n",
       "   ...  Width(mm)  Height(mm) USB(2.0)  USB(2.0)_ports  Bluetooth_  \\\n",
       "0  ...      234.0        18.9      Yes             2.0         Yes   \n",
       "1  ...      238.0        17.9      Yes             1.0         Yes   \n",
       "2  ...      216.4        16.5      nan             NaN         Yes   \n",
       "3  ...        NaN         NaN      nan             NaN         Yes   \n",
       "4  ...      222.0        19.0      nan             NaN         Yes   \n",
       "\n",
       "   Bluetooth_version USB(typeC)  USB(typeC)_ports  Keyboard_backlit   Brand  \n",
       "0                4.1        Yes               1.0              None  Lenovo  \n",
       "1                5.0        Yes               1.0               yes    Acer  \n",
       "2                5.1        Yes               2.0               yes  Lenovo  \n",
       "3                5.1        Yes               2.0               yes  Lenovo  \n",
       "4                5.0        Yes               1.0               yes    Dell  \n",
       "\n",
       "[5 rows x 38 columns]"
      ]
     },
     "execution_count": 109,
     "metadata": {},
     "output_type": "execute_result"
    }
   ],
   "source": [
    "#Joining x-test and y-test\n",
    "Holdout_dataset=(x_test.join(y_test)).reset_index(drop=True)\n",
    "Holdout_dataset.head()"
   ]
  },
  {
   "cell_type": "code",
   "execution_count": 116,
   "id": "a8156cc5",
   "metadata": {},
   "outputs": [],
   "source": [
    "#saving the train and holdout dataset\n",
    "Train_data.to_csv(r'D:\\xul\\laptops\\Train_data.csv',index=False)\n",
    "Holdout_dataset.to_csv(r'D:\\xul\\laptops\\Holdout_dataset.csv',index=False)"
   ]
  },
  {
   "cell_type": "code",
   "execution_count": null,
   "id": "ab84b216",
   "metadata": {},
   "outputs": [],
   "source": []
  }
 ],
 "metadata": {
  "kernelspec": {
   "display_name": "Python 3 (ipykernel)",
   "language": "python",
   "name": "python3"
  },
  "language_info": {
   "codemirror_mode": {
    "name": "ipython",
    "version": 3
   },
   "file_extension": ".py",
   "mimetype": "text/x-python",
   "name": "python",
   "nbconvert_exporter": "python",
   "pygments_lexer": "ipython3",
   "version": "3.8.11"
  }
 },
 "nbformat": 4,
 "nbformat_minor": 5
}
